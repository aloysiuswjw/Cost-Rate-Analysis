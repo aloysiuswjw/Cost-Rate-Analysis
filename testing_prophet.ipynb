{
 "cells": [
  {
   "cell_type": "code",
   "execution_count": 45,
   "metadata": {},
   "outputs": [],
   "source": [
    "# import cmdstanpy \n",
    "# cmdstanpy.install_cmdstan() \n",
    "# cmdstanpy.install_cmdstan(compiler=True)"
   ]
  },
  {
   "attachments": {},
   "cell_type": "markdown",
   "metadata": {},
   "source": [
    "https://facebook.github.io/prophet/docs/quick_start.html#python-api"
   ]
  },
  {
   "cell_type": "code",
   "execution_count": 46,
   "metadata": {},
   "outputs": [
    {
     "name": "stdout",
     "output_type": "stream",
     "text": [
      "<class 'pandas.core.frame.DataFrame'>\n",
      "RangeIndex: 6375 entries, 0 to 6374\n",
      "Data columns (total 2 columns):\n",
      " #   Column  Non-Null Count  Dtype         \n",
      "---  ------  --------------  -----         \n",
      " 0   POD     6375 non-null   datetime64[ns]\n",
      " 1   RATE    6375 non-null   float64       \n",
      "dtypes: datetime64[ns](1), float64(1)\n",
      "memory usage: 99.7 KB\n",
      "Dataset size: (6375, 2)\n"
     ]
    }
   ],
   "source": [
    "import pandas as pd\n",
    "from prophet import Prophet\n",
    "from prophet.plot import plot_plotly, plot_components_plotly\n",
    "\n",
    "df = pd.read_csv('CR_FC_PREP_0522.csv')\n",
    "df['POD'] = pd.to_datetime(df['POD'])\n",
    "\n",
    "df.head()\n",
    "df.info()\n",
    "print(f'Dataset size: {df.shape}')"
   ]
  },
  {
   "cell_type": "code",
   "execution_count": 47,
   "metadata": {},
   "outputs": [
    {
     "data": {
      "text/html": [
       "<div>\n",
       "<style scoped>\n",
       "    .dataframe tbody tr th:only-of-type {\n",
       "        vertical-align: middle;\n",
       "    }\n",
       "\n",
       "    .dataframe tbody tr th {\n",
       "        vertical-align: top;\n",
       "    }\n",
       "\n",
       "    .dataframe thead th {\n",
       "        text-align: right;\n",
       "    }\n",
       "</style>\n",
       "<table border=\"1\" class=\"dataframe\">\n",
       "  <thead>\n",
       "    <tr style=\"text-align: right;\">\n",
       "      <th></th>\n",
       "      <th>ds</th>\n",
       "      <th>y</th>\n",
       "    </tr>\n",
       "  </thead>\n",
       "  <tbody>\n",
       "    <tr>\n",
       "      <th>0</th>\n",
       "      <td>2005-07-19</td>\n",
       "      <td>2200.0</td>\n",
       "    </tr>\n",
       "    <tr>\n",
       "      <th>1</th>\n",
       "      <td>2005-07-20</td>\n",
       "      <td>2250.0</td>\n",
       "    </tr>\n",
       "    <tr>\n",
       "      <th>2</th>\n",
       "      <td>2005-07-21</td>\n",
       "      <td>2300.0</td>\n",
       "    </tr>\n",
       "    <tr>\n",
       "      <th>3</th>\n",
       "      <td>2005-07-22</td>\n",
       "      <td>2280.0</td>\n",
       "    </tr>\n",
       "    <tr>\n",
       "      <th>4</th>\n",
       "      <td>2005-07-23</td>\n",
       "      <td>2260.0</td>\n",
       "    </tr>\n",
       "  </tbody>\n",
       "</table>\n",
       "</div>"
      ],
      "text/plain": [
       "          ds       y\n",
       "0 2005-07-19  2200.0\n",
       "1 2005-07-20  2250.0\n",
       "2 2005-07-21  2300.0\n",
       "3 2005-07-22  2280.0\n",
       "4 2005-07-23  2260.0"
      ]
     },
     "execution_count": 47,
     "metadata": {},
     "output_type": "execute_result"
    }
   ],
   "source": [
    "df = df.rename(columns={'POD': 'ds', 'RATE': 'y'})\n",
    "df.head()"
   ]
  },
  {
   "cell_type": "code",
   "execution_count": 48,
   "metadata": {},
   "outputs": [
    {
     "name": "stderr",
     "output_type": "stream",
     "text": [
      "INFO:cmdstanpy:start chain 1\n",
      "INFO:cmdstanpy:finish chain 1\n",
      "WARNING:prophet.models:Optimization terminated abnormally. Falling back to Newton.\n",
      "INFO:cmdstanpy:start chain 1\n",
      "INFO:cmdstanpy:finish chain 1\n"
     ]
    },
    {
     "ename": "RuntimeError",
     "evalue": "Error during optimizing, error code 3221225785",
     "output_type": "error",
     "traceback": [
      "\u001b[1;31m---------------------------------------------------------------------------\u001b[0m",
      "\u001b[1;31mRuntimeError\u001b[0m                              Traceback (most recent call last)",
      "File \u001b[1;32mc:\\Users\\it1\\AppData\\Local\\Programs\\Python\\Python310\\lib\\site-packages\\prophet\\models.py:96\u001b[0m, in \u001b[0;36mCmdStanPyBackend.fit\u001b[1;34m(self, stan_init, stan_data, **kwargs)\u001b[0m\n\u001b[0;32m     95\u001b[0m \u001b[39mtry\u001b[39;00m:\n\u001b[1;32m---> 96\u001b[0m     \u001b[39mself\u001b[39m\u001b[39m.\u001b[39mstan_fit \u001b[39m=\u001b[39m \u001b[39mself\u001b[39m\u001b[39m.\u001b[39mmodel\u001b[39m.\u001b[39moptimize(\u001b[39m*\u001b[39m\u001b[39m*\u001b[39margs)\n\u001b[0;32m     97\u001b[0m \u001b[39mexcept\u001b[39;00m \u001b[39mRuntimeError\u001b[39;00m \u001b[39mas\u001b[39;00m e:\n\u001b[0;32m     98\u001b[0m     \u001b[39m# Fall back on Newton\u001b[39;00m\n",
      "File \u001b[1;32mc:\\Users\\it1\\AppData\\Local\\Programs\\Python\\Python310\\lib\\site-packages\\cmdstanpy\\model.py:396\u001b[0m, in \u001b[0;36mCmdStanModel.optimize\u001b[1;34m(self, data, seed, inits, output_dir, save_diagnostics, algorithm, init_alpha, iter)\u001b[0m\n\u001b[0;32m    393\u001b[0m         msg \u001b[39m=\u001b[39m \u001b[39m'\u001b[39m\u001b[39m{}\u001b[39;00m\u001b[39m, error code \u001b[39m\u001b[39m{}\u001b[39;00m\u001b[39m'\u001b[39m\u001b[39m.\u001b[39mformat(\n\u001b[0;32m    394\u001b[0m             msg, runset\u001b[39m.\u001b[39m_retcode(dummy_chain_id)\n\u001b[0;32m    395\u001b[0m         )\n\u001b[1;32m--> 396\u001b[0m         \u001b[39mraise\u001b[39;00m \u001b[39mRuntimeError\u001b[39;00m(msg)\n\u001b[0;32m    397\u001b[0m mle \u001b[39m=\u001b[39m CmdStanMLE(runset)\n",
      "\u001b[1;31mRuntimeError\u001b[0m: Error during optimizing, error code 3221225785",
      "\nDuring handling of the above exception, another exception occurred:\n",
      "\u001b[1;31mRuntimeError\u001b[0m                              Traceback (most recent call last)",
      "Cell \u001b[1;32mIn[48], line 2\u001b[0m\n\u001b[0;32m      1\u001b[0m m \u001b[39m=\u001b[39m Prophet(daily_seasonality\u001b[39m=\u001b[39m\u001b[39mTrue\u001b[39;00m)\n\u001b[1;32m----> 2\u001b[0m m\u001b[39m.\u001b[39;49mfit(df)\n",
      "File \u001b[1;32mc:\\Users\\it1\\AppData\\Local\\Programs\\Python\\Python310\\lib\\site-packages\\prophet\\forecaster.py:1181\u001b[0m, in \u001b[0;36mProphet.fit\u001b[1;34m(self, df, **kwargs)\u001b[0m\n\u001b[0;32m   1179\u001b[0m     \u001b[39mself\u001b[39m\u001b[39m.\u001b[39mparams \u001b[39m=\u001b[39m \u001b[39mself\u001b[39m\u001b[39m.\u001b[39mstan_backend\u001b[39m.\u001b[39msampling(stan_init, dat, \u001b[39mself\u001b[39m\u001b[39m.\u001b[39mmcmc_samples, \u001b[39m*\u001b[39m\u001b[39m*\u001b[39mkwargs)\n\u001b[0;32m   1180\u001b[0m \u001b[39melse\u001b[39;00m:\n\u001b[1;32m-> 1181\u001b[0m     \u001b[39mself\u001b[39m\u001b[39m.\u001b[39mparams \u001b[39m=\u001b[39m \u001b[39mself\u001b[39m\u001b[39m.\u001b[39mstan_backend\u001b[39m.\u001b[39mfit(stan_init, dat, \u001b[39m*\u001b[39m\u001b[39m*\u001b[39mkwargs)\n\u001b[0;32m   1183\u001b[0m \u001b[39mself\u001b[39m\u001b[39m.\u001b[39mstan_fit \u001b[39m=\u001b[39m \u001b[39mself\u001b[39m\u001b[39m.\u001b[39mstan_backend\u001b[39m.\u001b[39mstan_fit\n\u001b[0;32m   1184\u001b[0m \u001b[39m# If no changepoints were requested, replace delta with 0s\u001b[39;00m\n",
      "File \u001b[1;32mc:\\Users\\it1\\AppData\\Local\\Programs\\Python\\Python310\\lib\\site-packages\\prophet\\models.py:103\u001b[0m, in \u001b[0;36mCmdStanPyBackend.fit\u001b[1;34m(self, stan_init, stan_data, **kwargs)\u001b[0m\n\u001b[0;32m    101\u001b[0m     logger\u001b[39m.\u001b[39mwarning(\u001b[39m'\u001b[39m\u001b[39mOptimization terminated abnormally. Falling back to Newton.\u001b[39m\u001b[39m'\u001b[39m)\n\u001b[0;32m    102\u001b[0m     args[\u001b[39m'\u001b[39m\u001b[39malgorithm\u001b[39m\u001b[39m'\u001b[39m] \u001b[39m=\u001b[39m \u001b[39m'\u001b[39m\u001b[39mNewton\u001b[39m\u001b[39m'\u001b[39m\n\u001b[1;32m--> 103\u001b[0m     \u001b[39mself\u001b[39m\u001b[39m.\u001b[39mstan_fit \u001b[39m=\u001b[39m \u001b[39mself\u001b[39m\u001b[39m.\u001b[39mmodel\u001b[39m.\u001b[39moptimize(\u001b[39m*\u001b[39m\u001b[39m*\u001b[39margs)\n\u001b[0;32m    104\u001b[0m params \u001b[39m=\u001b[39m \u001b[39mself\u001b[39m\u001b[39m.\u001b[39mstan_to_dict_numpy(\n\u001b[0;32m    105\u001b[0m     \u001b[39mself\u001b[39m\u001b[39m.\u001b[39mstan_fit\u001b[39m.\u001b[39mcolumn_names, \u001b[39mself\u001b[39m\u001b[39m.\u001b[39mstan_fit\u001b[39m.\u001b[39moptimized_params_np)\n\u001b[0;32m    106\u001b[0m \u001b[39mfor\u001b[39;00m par \u001b[39min\u001b[39;00m params:\n",
      "File \u001b[1;32mc:\\Users\\it1\\AppData\\Local\\Programs\\Python\\Python310\\lib\\site-packages\\cmdstanpy\\model.py:396\u001b[0m, in \u001b[0;36mCmdStanModel.optimize\u001b[1;34m(self, data, seed, inits, output_dir, save_diagnostics, algorithm, init_alpha, iter)\u001b[0m\n\u001b[0;32m    392\u001b[0m     \u001b[39mif\u001b[39;00m runset\u001b[39m.\u001b[39m_retcode(dummy_chain_id) \u001b[39m!=\u001b[39m \u001b[39m0\u001b[39m:\n\u001b[0;32m    393\u001b[0m         msg \u001b[39m=\u001b[39m \u001b[39m'\u001b[39m\u001b[39m{}\u001b[39;00m\u001b[39m, error code \u001b[39m\u001b[39m{}\u001b[39;00m\u001b[39m'\u001b[39m\u001b[39m.\u001b[39mformat(\n\u001b[0;32m    394\u001b[0m             msg, runset\u001b[39m.\u001b[39m_retcode(dummy_chain_id)\n\u001b[0;32m    395\u001b[0m         )\n\u001b[1;32m--> 396\u001b[0m         \u001b[39mraise\u001b[39;00m \u001b[39mRuntimeError\u001b[39;00m(msg)\n\u001b[0;32m    397\u001b[0m mle \u001b[39m=\u001b[39m CmdStanMLE(runset)\n\u001b[0;32m    398\u001b[0m mle\u001b[39m.\u001b[39m_set_mle_attrs(runset\u001b[39m.\u001b[39mcsv_files[\u001b[39m0\u001b[39m])\n",
      "\u001b[1;31mRuntimeError\u001b[0m: Error during optimizing, error code 3221225785"
     ]
    }
   ],
   "source": [
    "m = Prophet(daily_seasonality=True)\n",
    "m.fit(df)"
   ]
  },
  {
   "cell_type": "code",
   "execution_count": null,
   "metadata": {},
   "outputs": [],
   "source": [
    "future = m.make_future_dataframe(periods=52)\n",
    "future.tail()"
   ]
  },
  {
   "cell_type": "code",
   "execution_count": null,
   "metadata": {},
   "outputs": [],
   "source": [
    "forecast = m.predict(future)\n",
    "forecast[['ds', 'yhat', 'yhat_lower', 'yhat_upper']].tail()"
   ]
  },
  {
   "cell_type": "code",
   "execution_count": null,
   "metadata": {},
   "outputs": [],
   "source": [
    "fig1 = m.plot(forecast)"
   ]
  },
  {
   "cell_type": "code",
   "execution_count": null,
   "metadata": {},
   "outputs": [],
   "source": [
    "fig2 = m.plot_components(forecast)"
   ]
  },
  {
   "cell_type": "code",
   "execution_count": null,
   "metadata": {},
   "outputs": [],
   "source": [
    "plot_plotly(m, forecast)"
   ]
  },
  {
   "cell_type": "code",
   "execution_count": null,
   "metadata": {},
   "outputs": [],
   "source": [
    "plot_components_plotly(m, forecast)"
   ]
  }
 ],
 "metadata": {
  "kernelspec": {
   "display_name": "Python 3",
   "language": "python",
   "name": "python3"
  },
  "language_info": {
   "codemirror_mode": {
    "name": "ipython",
    "version": 3
   },
   "file_extension": ".py",
   "mimetype": "text/x-python",
   "name": "python",
   "nbconvert_exporter": "python",
   "pygments_lexer": "ipython3",
   "version": "3.10.9"
  },
  "orig_nbformat": 4
 },
 "nbformat": 4,
 "nbformat_minor": 2
}
