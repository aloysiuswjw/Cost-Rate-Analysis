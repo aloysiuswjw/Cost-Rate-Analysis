{
 "cells": [
  {
   "cell_type": "code",
   "execution_count": 1,
   "metadata": {},
   "outputs": [
    {
     "name": "stdout",
     "output_type": "stream",
     "text": [
      "<class 'pandas.core.frame.DataFrame'>\n",
      "RangeIndex: 6375 entries, 0 to 6374\n",
      "Data columns (total 2 columns):\n",
      " #   Column  Non-Null Count  Dtype  \n",
      "---  ------  --------------  -----  \n",
      " 0   POD     6375 non-null   object \n",
      " 1   RATE    6375 non-null   float64\n",
      "dtypes: float64(1), object(1)\n",
      "memory usage: 99.7+ KB\n",
      "Dataset size: (6375, 2)\n"
     ]
    }
   ],
   "source": [
    "import numpy as np\n",
    "import pandas as pd\n",
    "import seaborn as sns\n",
    "import matplotlib.pyplot as plt\n",
    "import numpy as np\n",
    "import pandas as pd\n",
    "from IPython.core.interactiveshell import InteractiveShell\n",
    "InteractiveShell.ast_node_interactivity = \"all\"\n",
    "%matplotlib inline\n",
    "sns.set()\n",
    "pd.options.display.max_rows = 100\n",
    "\n",
    "df = pd.read_csv('CR_FC_PREP_0522.csv')\n",
    "\n",
    "df.head()\n",
    "df.info()\n",
    "print(f'Dataset size: {df.shape}')"
   ]
  },
  {
   "cell_type": "code",
   "execution_count": 2,
   "metadata": {},
   "outputs": [
    {
     "name": "stdout",
     "output_type": "stream",
     "text": [
      "<class 'pandas.core.frame.DataFrame'>\n",
      "RangeIndex: 6375 entries, 0 to 6374\n",
      "Data columns (total 2 columns):\n",
      " #   Column  Non-Null Count  Dtype         \n",
      "---  ------  --------------  -----         \n",
      " 0   POD     6375 non-null   datetime64[ns]\n",
      " 1   RATE    6375 non-null   float64       \n",
      "dtypes: datetime64[ns](1), float64(1)\n",
      "memory usage: 99.7 KB\n"
     ]
    }
   ],
   "source": [
    "df['POD'] = pd.to_datetime(df['POD'])\n",
    "df.info()"
   ]
  },
  {
   "cell_type": "code",
   "execution_count": 3,
   "metadata": {},
   "outputs": [],
   "source": [
    "from sklearn.linear_model import LinearRegression\n",
    "from sklearn.metrics import mean_squared_error, r2_score\n",
    "\n",
    "# Linear Regression \n",
    "def findLR(X_train, X_test, y_train, y_test):\n",
    "    # Create a linear regression model\n",
    "    model = LinearRegression()\n",
    "\n",
    "    # Fit the model on the training data\n",
    "    model.fit(X_train, y_train)\n",
    "\n",
    "    # Make predictions on the testing data\n",
    "    y_pred = model.predict(X_test)\n",
    "\n",
    "    # Calculate the root mean squared error\n",
    "    rmse = np.sqrt(mean_squared_error(y_test, y_pred))\n",
    "\n",
    "    # Calculate the R-squared value\n",
    "    r2 = r2_score(y_test, y_pred)\n",
    "\n",
    "    # Calculate accuracy of your model in percentage\n",
    "    accuracy = r2 * 100\n",
    "    \n",
    "    # Print the results\n",
    "    print('Root Mean Squared Error:', round(rmse, 3))\n",
    "    print('R-squared:', round(r2, 3))\n",
    "    print(f\"Accuracy: {accuracy:.2f}%\")"
   ]
  },
  {
   "attachments": {},
   "cell_type": "markdown",
   "metadata": {},
   "source": [
    "<p>The script for linear regression is using R-squared as the metric to calculate the accuracy of the model. R-squared measures the proportion of the variance in the dependent variable that is explained by the independent variable(s) in the model. It ranges from 0 to 1, with 1 indicating a perfect fit of the model to the data. Therefore, to convert the R-squared value to a percentage, we multiply it by 100.</p>"
   ]
  },
  {
   "cell_type": "code",
   "execution_count": 4,
   "metadata": {},
   "outputs": [],
   "source": [
    "from sklearn.tree import DecisionTreeRegressor\n",
    "\n",
    "def findDT(X_train, X_test, y_train, y_test):\n",
    "    # Train the model\n",
    "    model = DecisionTreeRegressor()\n",
    "    model.fit(X_train, y_train)\n",
    "\n",
    "    # Make predictions on test data\n",
    "    predictions = model.predict(X_test)\n",
    "\n",
    "    # Calculate mean squared error between actual and predicted values\n",
    "    mse = mean_squared_error(y_test, predictions)\n",
    "\n",
    "    # Calculate root mean squared error\n",
    "    rmse = np.sqrt(mse)\n",
    "\n",
    "    # Calculate R-squared value\n",
    "    r2 = r2_score(y_test, predictions)\n",
    "\n",
    "    # Calculate mean value of your actual data\n",
    "    mean = np.mean(y_test)\n",
    "\n",
    "    # Calculate accuracy of your model in percentage\n",
    "    accuracy = (1 - rmse/mean) * 100\n",
    "\n",
    "    print('Root Mean Squared Error:', round(rmse, 3))\n",
    "    print('R-squared:', round(r2, 3))\n",
    "    print(f\"Accuracy: {accuracy:.2f}%\")"
   ]
  },
  {
   "attachments": {},
   "cell_type": "markdown",
   "metadata": {},
   "source": [
    "<p>The script for decision trees is using RMSE (root mean squared error) to calculate the accuracy of the model. RMSE is a measure of the differences between predicted and actual values, and it is expressed in the same units as the dependent variable. To convert RMSE to a percentage, we use the formula (1 - RMSE/mean) * 100. This formula calculates the percentage of variance in the dependent variable that is explained by the model.</p>"
   ]
  },
  {
   "cell_type": "code",
   "execution_count": 5,
   "metadata": {},
   "outputs": [],
   "source": [
    "from sklearn.ensemble import RandomForestRegressor\n",
    "\n",
    "def findRF(X_train, X_test, y_train, y_test):\n",
    "    # Build the random forest model\n",
    "    rf_model = RandomForestRegressor(n_estimators=100, random_state=42)\n",
    "    rf_model.fit(X_train, y_train)\n",
    "\n",
    "    # Predict the test data\n",
    "    y_pred = rf_model.predict(X_test)\n",
    "\n",
    "    # Calculate the root mean squared error\n",
    "    rmse = mean_squared_error(y_test, y_pred, squared=False)\n",
    "    \n",
    "    # Calculate the R-squared value\n",
    "    r2 = r2_score(y_test, y_pred)\n",
    "\n",
    "    # Calculate the accuracy score in percentage\n",
    "    mean = y_test.mean()\n",
    "    accuracy = (1 - rmse/mean) * 100\n",
    "\n",
    "    print(\"Root Mean Squared Error:\", round(rmse, 3))\n",
    "    print(\"R-squared Value:\", round(r2, 3))\n",
    "    print(\"Accuracy Score:\", round(accuracy, 2), \"%\")"
   ]
  },
  {
   "cell_type": "code",
   "execution_count": 6,
   "metadata": {},
   "outputs": [],
   "source": [
    "from sklearn.svm import SVR\n",
    "def findSVM(X_train, X_test, y_train, y_test):\n",
    "    # Create and train SVM model\n",
    "    model = SVR(kernel='linear')\n",
    "    model.fit(X_train, y_train)\n",
    "\n",
    "    # Make predictions on test data\n",
    "    y_pred = model.predict(X_test)\n",
    "\n",
    "    # Calculate root mean squared error and r-squared value\n",
    "    rmse = np.sqrt(mean_squared_error(y_test, y_pred))\n",
    "    r2 = r2_score(y_test, y_pred)\n",
    "\n",
    "    # Calculate mean value of your actual data\n",
    "    mean = np.mean(y_test)\n",
    "\n",
    "    # Calculate accuracy of your model in percentage\n",
    "    accuracy = (1 - rmse/mean) * 100\n",
    "\n",
    "    # Print results\n",
    "    print(f\"Root Mean Squared Error: {rmse:.3f}\")\n",
    "    print(f\"R-Squared Value: {r2:.3f}\")\n",
    "    print(f\"Accuracy: {accuracy:.2f}%\")"
   ]
  },
  {
   "cell_type": "code",
   "execution_count": 7,
   "metadata": {},
   "outputs": [],
   "source": [
    "from tensorflow.keras.models import Sequential\n",
    "from tensorflow.keras.layers import Dense\n",
    "\n",
    "def findNN(X_train, X_test, y_train, y_test):\n",
    "    # Define the model architecture\n",
    "    model = Sequential()\n",
    "    model.add(Dense(64, activation='relu', input_dim=X_train.shape[1]))\n",
    "    model.add(Dense(32, activation='relu'))\n",
    "    model.add(Dense(1, activation='linear'))\n",
    "\n",
    "    # Compile the model\n",
    "    model.compile(loss='mean_squared_error', optimizer='adam')\n",
    "\n",
    "    # Fit the model\n",
    "    history = model.fit(X_train, y_train, epochs=100, batch_size=32, validation_split=0.2)\n",
    "\n",
    "    # Make predictions on test set\n",
    "    y_pred = model.predict(X_test)\n",
    "\n",
    "    # Calculate root mean squared error (RMSE) and R-squared value\n",
    "    rmse = np.sqrt(mean_squared_error(y_test, y_pred))\n",
    "    r2 = r2_score(y_test, y_pred)\n",
    "\n",
    "    # Calculate accuracy of the model in percentage\n",
    "    mean = np.mean(y_test)\n",
    "    accuracy = (1 - rmse/mean) * 100\n",
    "\n",
    "    # Print RMSE, R-squared value, and accuracy score\n",
    "    print(\"Root Mean Squared Error (RMSE): {:.2f}\".format(rmse))\n",
    "    print(\"R-squared Value: {:.2f}\".format(r2))\n",
    "    print(\"Accuracy: {:.2f}%\".format(accuracy))"
   ]
  },
  {
   "cell_type": "code",
   "execution_count": 8,
   "metadata": {},
   "outputs": [],
   "source": [
    "from tensorflow.keras.models import Sequential\n",
    "from tensorflow.keras.layers import LSTM\n",
    "import numpy as np\n",
    "\n",
    "def findLSTM(X_train, X_test, y_train, y_test):\n",
    "    # Reshape the data to fit LSTM model\n",
    "    X_train = np.reshape(X_train, (X_train.shape[0], 1, X_train.shape[1]))\n",
    "    X_test = np.reshape(X_test, (X_test.shape[0], 1, X_test.shape[1]))\n",
    "    \n",
    "    # Create and fit the LSTM model\n",
    "    model = Sequential()\n",
    "    model.add(LSTM(64, input_shape=(1, X_train.shape[2])))\n",
    "    model.add(Dense(1))\n",
    "    model.compile(loss='mean_squared_error', optimizer='adam')\n",
    "    model.fit(X_train, y_train, epochs=50, batch_size=16, verbose=0)\n",
    "    \n",
    "    # Make predictions on test set\n",
    "    y_pred = model.predict(X_test)\n",
    "    \n",
    "    # Calculate root mean squared error\n",
    "    mse = mean_squared_error(y_test, y_pred)\n",
    "    rmse = np.sqrt(mse)\n",
    "    \n",
    "    # Calculate R-squared value\n",
    "    r2 = r2_score(y_test, y_pred)\n",
    "    \n",
    "    # Calculate accuracy of your model in percentage\n",
    "    accuracy = (1 - rmse/np.mean(y_test)) * 100\n",
    "    \n",
    "    # Print the results\n",
    "    print(\"Root Mean Squared Error (RMSE): {:.3f}\".format(rmse))\n",
    "    print(\"R-Squared Value: {:.3f}\".format(r2))\n",
    "    print(\"Accuracy: {:.2f}%\".format(accuracy))\n"
   ]
  },
  {
   "attachments": {},
   "cell_type": "markdown",
   "metadata": {},
   "source": [
    "<p>LSTM (Long Short-Term Memory): This is a type of recurrent neural network that is well-suited for time series data. It is capable of capturing long-term dependencies in the data, which makes it a good choice for forecasting cost rates.</p>"
   ]
  },
  {
   "attachments": {},
   "cell_type": "markdown",
   "metadata": {},
   "source": [
    "<h3>Testing Algo</h3>"
   ]
  },
  {
   "cell_type": "code",
   "execution_count": 9,
   "metadata": {},
   "outputs": [],
   "source": [
    "from sklearn.preprocessing import StandardScaler\n",
    "from sklearn.model_selection import train_test_split\n",
    "\n",
    "# Y is the target\n",
    "Y = df.pop('RATE') \n",
    "X = df\n",
    "\n",
    "#normalise\n",
    "sc = StandardScaler()\n",
    "X = sc.fit_transform(X)\n",
    "X_train, X_test, y_train, y_test = train_test_split(X, Y, test_size=0.3)"
   ]
  },
  {
   "cell_type": "code",
   "execution_count": 10,
   "metadata": {},
   "outputs": [
    {
     "name": "stdout",
     "output_type": "stream",
     "text": [
      "Root Mean Squared Error: 1827.858\n",
      "R-squared: 0.16\n",
      "Accuracy: 16.00%\n"
     ]
    }
   ],
   "source": [
    "findLR(X_train, X_test, y_train, y_test)"
   ]
  },
  {
   "cell_type": "code",
   "execution_count": 11,
   "metadata": {},
   "outputs": [
    {
     "name": "stdout",
     "output_type": "stream",
     "text": [
      "Decision Tree Model Results:\n",
      "Root Mean Squared Error: 114.509\n",
      "R-squared: 0.997\n",
      "Accuracy: 92.82%\n"
     ]
    }
   ],
   "source": [
    "# Decision Tree\n",
    "print(\"Decision Tree Model Results:\")\n",
    "findDT(X_train, X_test, y_train, y_test)"
   ]
  },
  {
   "cell_type": "code",
   "execution_count": 12,
   "metadata": {},
   "outputs": [
    {
     "name": "stdout",
     "output_type": "stream",
     "text": [
      "Random Forest Model Results:\n",
      "Root Mean Squared Error: 102.977\n",
      "R-squared Value: 0.997\n",
      "Accuracy Score: 93.54 %\n"
     ]
    }
   ],
   "source": [
    "# Random Forest\n",
    "print(\"Random Forest Model Results:\")\n",
    "findRF(X_train, X_test, y_train, y_test)"
   ]
  },
  {
   "cell_type": "code",
   "execution_count": 13,
   "metadata": {},
   "outputs": [
    {
     "name": "stdout",
     "output_type": "stream",
     "text": [
      "Support Vector Machines(SVM) Model Results:\n",
      "Root Mean Squared Error: 2165.241\n",
      "R-Squared Value: -0.179\n",
      "Accuracy: -35.85%\n"
     ]
    }
   ],
   "source": [
    "# Support Vector Machines(SVM)\n",
    "print(\"Support Vector Machines(SVM) Model Results:\")\n",
    "findSVM(X_train, X_test, y_train, y_test)"
   ]
  },
  {
   "cell_type": "code",
   "execution_count": 14,
   "metadata": {},
   "outputs": [
    {
     "name": "stdout",
     "output_type": "stream",
     "text": [
      "Neural Network Model Results:\n",
      "Epoch 1/100\n",
      "112/112 [==============================] - 1s 3ms/step - loss: 6750518.0000 - val_loss: 6742050.0000\n",
      "Epoch 2/100\n",
      "112/112 [==============================] - 0s 1ms/step - loss: 6675294.5000 - val_loss: 6583153.0000\n",
      "Epoch 3/100\n",
      "112/112 [==============================] - 0s 1ms/step - loss: 6386425.0000 - val_loss: 6139872.5000\n",
      "Epoch 4/100\n",
      "112/112 [==============================] - 0s 1ms/step - loss: 5787136.5000 - val_loss: 5396191.5000\n",
      "Epoch 5/100\n",
      "112/112 [==============================] - 0s 1ms/step - loss: 4983204.0000 - val_loss: 4583334.5000\n",
      "Epoch 6/100\n",
      "112/112 [==============================] - 0s 1ms/step - loss: 4230018.5000 - val_loss: 3917218.2500\n",
      "Epoch 7/100\n",
      "112/112 [==============================] - 0s 1ms/step - loss: 3667849.5000 - val_loss: 3445873.2500\n",
      "Epoch 8/100\n",
      "112/112 [==============================] - 0s 2ms/step - loss: 3277277.7500 - val_loss: 3135532.2500\n",
      "Epoch 9/100\n",
      "112/112 [==============================] - 0s 1ms/step - loss: 3042486.2500 - val_loss: 2962076.2500\n",
      "Epoch 10/100\n",
      "112/112 [==============================] - 0s 1ms/step - loss: 2923777.2500 - val_loss: 2880140.5000\n",
      "Epoch 11/100\n",
      "112/112 [==============================] - 0s 1ms/step - loss: 2863733.7500 - val_loss: 2832037.0000\n",
      "Epoch 12/100\n",
      "112/112 [==============================] - 0s 1ms/step - loss: 2827549.2500 - val_loss: 2802792.7500\n",
      "Epoch 13/100\n",
      "112/112 [==============================] - 0s 1ms/step - loss: 2802468.0000 - val_loss: 2777059.0000\n",
      "Epoch 14/100\n",
      "112/112 [==============================] - 0s 1ms/step - loss: 2778558.7500 - val_loss: 2757664.5000\n",
      "Epoch 15/100\n",
      "112/112 [==============================] - 0s 1ms/step - loss: 2758630.2500 - val_loss: 2738742.0000\n",
      "Epoch 16/100\n",
      "112/112 [==============================] - 0s 1ms/step - loss: 2740273.2500 - val_loss: 2720569.5000\n",
      "Epoch 17/100\n",
      "112/112 [==============================] - 0s 1ms/step - loss: 2722300.7500 - val_loss: 2703567.2500\n",
      "Epoch 18/100\n",
      "112/112 [==============================] - 0s 1ms/step - loss: 2705887.2500 - val_loss: 2687170.0000\n",
      "Epoch 19/100\n",
      "112/112 [==============================] - 0s 1ms/step - loss: 2691797.0000 - val_loss: 2672437.0000\n",
      "Epoch 20/100\n",
      "112/112 [==============================] - 0s 2ms/step - loss: 2675084.2500 - val_loss: 2657175.0000\n",
      "Epoch 21/100\n",
      "112/112 [==============================] - 0s 1ms/step - loss: 2660905.2500 - val_loss: 2642750.7500\n",
      "Epoch 22/100\n",
      "112/112 [==============================] - 0s 1ms/step - loss: 2645019.5000 - val_loss: 2627729.0000\n",
      "Epoch 23/100\n",
      "112/112 [==============================] - 0s 1ms/step - loss: 2630084.2500 - val_loss: 2612075.7500\n",
      "Epoch 24/100\n",
      "112/112 [==============================] - 0s 1ms/step - loss: 2613302.0000 - val_loss: 2596683.7500\n",
      "Epoch 25/100\n",
      "112/112 [==============================] - 0s 1ms/step - loss: 2595680.5000 - val_loss: 2580399.2500\n",
      "Epoch 26/100\n",
      "112/112 [==============================] - 0s 1ms/step - loss: 2577688.5000 - val_loss: 2563011.5000\n",
      "Epoch 27/100\n",
      "112/112 [==============================] - 0s 1ms/step - loss: 2558480.0000 - val_loss: 2545456.5000\n",
      "Epoch 28/100\n",
      "112/112 [==============================] - 0s 1ms/step - loss: 2538545.0000 - val_loss: 2525634.2500\n",
      "Epoch 29/100\n",
      "112/112 [==============================] - 0s 1ms/step - loss: 2517254.2500 - val_loss: 2506046.7500\n",
      "Epoch 30/100\n",
      "112/112 [==============================] - 0s 1ms/step - loss: 2496101.2500 - val_loss: 2484844.7500\n",
      "Epoch 31/100\n",
      "112/112 [==============================] - 0s 1ms/step - loss: 2472602.0000 - val_loss: 2463238.0000\n",
      "Epoch 32/100\n",
      "112/112 [==============================] - 0s 1ms/step - loss: 2449454.0000 - val_loss: 2439655.2500\n",
      "Epoch 33/100\n",
      "112/112 [==============================] - 0s 1ms/step - loss: 2424089.2500 - val_loss: 2416375.0000\n",
      "Epoch 34/100\n",
      "112/112 [==============================] - 0s 1ms/step - loss: 2398302.2500 - val_loss: 2390885.2500\n",
      "Epoch 35/100\n",
      "112/112 [==============================] - 0s 1ms/step - loss: 2371661.0000 - val_loss: 2364214.5000\n",
      "Epoch 36/100\n",
      "112/112 [==============================] - 0s 1ms/step - loss: 2345139.5000 - val_loss: 2337073.7500\n",
      "Epoch 37/100\n",
      "112/112 [==============================] - 0s 1ms/step - loss: 2315743.7500 - val_loss: 2308442.5000\n",
      "Epoch 38/100\n",
      "112/112 [==============================] - 0s 1ms/step - loss: 2286290.2500 - val_loss: 2280497.7500\n",
      "Epoch 39/100\n",
      "112/112 [==============================] - 0s 1ms/step - loss: 2257481.2500 - val_loss: 2251186.5000\n",
      "Epoch 40/100\n",
      "112/112 [==============================] - 0s 1ms/step - loss: 2227437.2500 - val_loss: 2221744.2500\n",
      "Epoch 41/100\n",
      "112/112 [==============================] - 0s 1ms/step - loss: 2199280.7500 - val_loss: 2192579.5000\n",
      "Epoch 42/100\n",
      "112/112 [==============================] - 0s 1ms/step - loss: 2168748.5000 - val_loss: 2163292.5000\n",
      "Epoch 43/100\n",
      "112/112 [==============================] - 0s 1ms/step - loss: 2139296.2500 - val_loss: 2134482.5000\n",
      "Epoch 44/100\n",
      "112/112 [==============================] - 0s 1ms/step - loss: 2108950.7500 - val_loss: 2104498.2500\n",
      "Epoch 45/100\n",
      "112/112 [==============================] - 0s 2ms/step - loss: 2080478.2500 - val_loss: 2075881.5000\n",
      "Epoch 46/100\n",
      "112/112 [==============================] - 0s 1ms/step - loss: 2049991.7500 - val_loss: 2045963.3750\n",
      "Epoch 47/100\n",
      "112/112 [==============================] - 0s 1ms/step - loss: 2021890.1250 - val_loss: 2017200.6250\n",
      "Epoch 48/100\n",
      "112/112 [==============================] - 0s 1ms/step - loss: 1991726.0000 - val_loss: 1987983.3750\n",
      "Epoch 49/100\n",
      "112/112 [==============================] - 0s 1ms/step - loss: 1962548.7500 - val_loss: 1959272.3750\n",
      "Epoch 50/100\n",
      "112/112 [==============================] - 0s 1ms/step - loss: 1932618.5000 - val_loss: 1930793.8750\n",
      "Epoch 51/100\n",
      "112/112 [==============================] - 0s 1ms/step - loss: 1904134.7500 - val_loss: 1901872.6250\n",
      "Epoch 52/100\n",
      "112/112 [==============================] - 0s 1ms/step - loss: 1876303.0000 - val_loss: 1873332.5000\n",
      "Epoch 53/100\n",
      "112/112 [==============================] - 0s 1ms/step - loss: 1846539.0000 - val_loss: 1845253.6250\n",
      "Epoch 54/100\n",
      "112/112 [==============================] - 0s 1ms/step - loss: 1818850.6250 - val_loss: 1817056.0000\n",
      "Epoch 55/100\n",
      "112/112 [==============================] - 0s 1ms/step - loss: 1790427.0000 - val_loss: 1789268.2500\n",
      "Epoch 56/100\n",
      "112/112 [==============================] - 0s 1ms/step - loss: 1763474.5000 - val_loss: 1762155.1250\n",
      "Epoch 57/100\n",
      "112/112 [==============================] - 0s 1ms/step - loss: 1736053.7500 - val_loss: 1735129.7500\n",
      "Epoch 58/100\n",
      "112/112 [==============================] - 0s 1ms/step - loss: 1710498.1250 - val_loss: 1709781.1250\n",
      "Epoch 59/100\n",
      "112/112 [==============================] - 0s 1ms/step - loss: 1683082.1250 - val_loss: 1684035.0000\n",
      "Epoch 60/100\n",
      "112/112 [==============================] - 0s 1ms/step - loss: 1658228.0000 - val_loss: 1658090.8750\n",
      "Epoch 61/100\n",
      "112/112 [==============================] - 0s 2ms/step - loss: 1632207.6250 - val_loss: 1633743.7500\n",
      "Epoch 62/100\n",
      "112/112 [==============================] - 0s 1ms/step - loss: 1606648.5000 - val_loss: 1608942.3750\n",
      "Epoch 63/100\n",
      "112/112 [==============================] - 0s 1ms/step - loss: 1582322.0000 - val_loss: 1585151.0000\n",
      "Epoch 64/100\n",
      "112/112 [==============================] - 0s 1ms/step - loss: 1558880.6250 - val_loss: 1560306.0000\n",
      "Epoch 65/100\n",
      "112/112 [==============================] - 0s 1ms/step - loss: 1534758.0000 - val_loss: 1538081.0000\n",
      "Epoch 66/100\n",
      "112/112 [==============================] - 0s 1ms/step - loss: 1510854.5000 - val_loss: 1514564.7500\n",
      "Epoch 67/100\n",
      "112/112 [==============================] - 0s 1ms/step - loss: 1487418.3750 - val_loss: 1492882.8750\n",
      "Epoch 68/100\n",
      "112/112 [==============================] - 0s 1ms/step - loss: 1465311.3750 - val_loss: 1469714.3750\n",
      "Epoch 69/100\n",
      "112/112 [==============================] - 0s 1ms/step - loss: 1442677.3750 - val_loss: 1448937.8750\n",
      "Epoch 70/100\n",
      "112/112 [==============================] - 0s 1ms/step - loss: 1421036.8750 - val_loss: 1428045.8750\n",
      "Epoch 71/100\n",
      "112/112 [==============================] - 0s 1ms/step - loss: 1401750.7500 - val_loss: 1407142.0000\n",
      "Epoch 72/100\n",
      "112/112 [==============================] - 0s 1ms/step - loss: 1378682.2500 - val_loss: 1386834.1250\n",
      "Epoch 73/100\n",
      "112/112 [==============================] - 0s 1ms/step - loss: 1358217.2500 - val_loss: 1367314.2500\n",
      "Epoch 74/100\n",
      "112/112 [==============================] - 0s 1ms/step - loss: 1337748.1250 - val_loss: 1347182.1250\n",
      "Epoch 75/100\n",
      "112/112 [==============================] - 0s 1ms/step - loss: 1318838.1250 - val_loss: 1327713.3750\n",
      "Epoch 76/100\n",
      "112/112 [==============================] - 0s 2ms/step - loss: 1299584.2500 - val_loss: 1309744.5000\n",
      "Epoch 77/100\n",
      "112/112 [==============================] - 0s 1ms/step - loss: 1282379.5000 - val_loss: 1290369.0000\n",
      "Epoch 78/100\n",
      "112/112 [==============================] - 0s 1ms/step - loss: 1262155.6250 - val_loss: 1273407.2500\n",
      "Epoch 79/100\n",
      "112/112 [==============================] - 0s 1ms/step - loss: 1244502.3750 - val_loss: 1254851.7500\n",
      "Epoch 80/100\n",
      "112/112 [==============================] - 0s 1ms/step - loss: 1226543.3750 - val_loss: 1236951.8750\n",
      "Epoch 81/100\n",
      "112/112 [==============================] - 0s 1ms/step - loss: 1208855.1250 - val_loss: 1218971.1250\n",
      "Epoch 82/100\n",
      "112/112 [==============================] - 0s 1ms/step - loss: 1191786.2500 - val_loss: 1202182.6250\n",
      "Epoch 83/100\n",
      "112/112 [==============================] - 0s 1ms/step - loss: 1174802.2500 - val_loss: 1185565.5000\n",
      "Epoch 84/100\n",
      "112/112 [==============================] - 0s 1ms/step - loss: 1158575.3750 - val_loss: 1168666.5000\n",
      "Epoch 85/100\n",
      "112/112 [==============================] - 0s 1ms/step - loss: 1142648.1250 - val_loss: 1152416.2500\n",
      "Epoch 86/100\n",
      "112/112 [==============================] - 0s 1ms/step - loss: 1126803.2500 - val_loss: 1137376.5000\n",
      "Epoch 87/100\n",
      "112/112 [==============================] - 0s 1ms/step - loss: 1112607.6250 - val_loss: 1122037.0000\n",
      "Epoch 88/100\n",
      "112/112 [==============================] - 0s 1ms/step - loss: 1096489.8750 - val_loss: 1106812.3750\n",
      "Epoch 89/100\n",
      "112/112 [==============================] - 0s 1ms/step - loss: 1084116.5000 - val_loss: 1092157.3750\n",
      "Epoch 90/100\n",
      "112/112 [==============================] - 0s 1ms/step - loss: 1069195.6250 - val_loss: 1077693.6250\n",
      "Epoch 91/100\n",
      "112/112 [==============================] - 0s 1ms/step - loss: 1055085.6250 - val_loss: 1064007.6250\n",
      "Epoch 92/100\n",
      "112/112 [==============================] - 0s 1ms/step - loss: 1041275.0625 - val_loss: 1051459.5000\n",
      "Epoch 93/100\n",
      "112/112 [==============================] - 0s 1ms/step - loss: 1028647.2500 - val_loss: 1037804.6250\n",
      "Epoch 94/100\n",
      "112/112 [==============================] - 0s 1ms/step - loss: 1016823.1250 - val_loss: 1024921.8125\n",
      "Epoch 95/100\n",
      "112/112 [==============================] - 0s 1ms/step - loss: 1004875.8125 - val_loss: 1012740.5000\n",
      "Epoch 96/100\n",
      "112/112 [==============================] - 0s 1ms/step - loss: 994148.3750 - val_loss: 1001058.0625\n",
      "Epoch 97/100\n",
      "112/112 [==============================] - 0s 1ms/step - loss: 983288.3750 - val_loss: 989981.9375\n",
      "Epoch 98/100\n",
      "112/112 [==============================] - 0s 1ms/step - loss: 972030.0000 - val_loss: 979904.1875\n",
      "Epoch 99/100\n",
      "112/112 [==============================] - 0s 1ms/step - loss: 963187.7500 - val_loss: 969194.3750\n",
      "Epoch 100/100\n",
      "112/112 [==============================] - 0s 1ms/step - loss: 954061.6250 - val_loss: 959921.1875\n",
      "60/60 [==============================] - 0s 797us/step\n",
      "Root Mean Squared Error (RMSE): 911.70\n",
      "R-squared Value: 0.79\n",
      "Accuracy: 42.80%\n"
     ]
    }
   ],
   "source": [
    "# Neural Network\n",
    "print(\"Neural Network Model Results:\")\n",
    "findNN(X_train, X_test, y_train, y_test)"
   ]
  },
  {
   "cell_type": "code",
   "execution_count": 15,
   "metadata": {},
   "outputs": [
    {
     "name": "stdout",
     "output_type": "stream",
     "text": [
      "60/60 [==============================] - 0s 1ms/step\n",
      "Root Mean Squared Error (RMSE): 2196.326\n",
      "R-Squared Value: -0.213\n",
      "Accuracy: -37.80%\n"
     ]
    }
   ],
   "source": [
    "findLSTM(X_train, X_test, y_train, y_test)"
   ]
  }
 ],
 "metadata": {
  "kernelspec": {
   "display_name": "Python 3",
   "language": "python",
   "name": "python3"
  },
  "language_info": {
   "codemirror_mode": {
    "name": "ipython",
    "version": 3
   },
   "file_extension": ".py",
   "mimetype": "text/x-python",
   "name": "python",
   "nbconvert_exporter": "python",
   "pygments_lexer": "ipython3",
   "version": "3.9.13"
  },
  "orig_nbformat": 4
 },
 "nbformat": 4,
 "nbformat_minor": 2
}
