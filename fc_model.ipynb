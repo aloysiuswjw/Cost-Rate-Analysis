{
 "cells": [
  {
   "cell_type": "code",
   "execution_count": 50,
   "metadata": {},
   "outputs": [
    {
     "data": {
      "text/html": [
       "<div>\n",
       "<style scoped>\n",
       "    .dataframe tbody tr th:only-of-type {\n",
       "        vertical-align: middle;\n",
       "    }\n",
       "\n",
       "    .dataframe tbody tr th {\n",
       "        vertical-align: top;\n",
       "    }\n",
       "\n",
       "    .dataframe thead th {\n",
       "        text-align: right;\n",
       "    }\n",
       "</style>\n",
       "<table border=\"1\" class=\"dataframe\">\n",
       "  <thead>\n",
       "    <tr style=\"text-align: right;\">\n",
       "      <th></th>\n",
       "      <th>POD</th>\n",
       "      <th>RATE</th>\n",
       "    </tr>\n",
       "  </thead>\n",
       "  <tbody>\n",
       "    <tr>\n",
       "      <th>0</th>\n",
       "      <td>2005-07-19</td>\n",
       "      <td>2200.0</td>\n",
       "    </tr>\n",
       "    <tr>\n",
       "      <th>1</th>\n",
       "      <td>2005-07-20</td>\n",
       "      <td>2250.0</td>\n",
       "    </tr>\n",
       "    <tr>\n",
       "      <th>2</th>\n",
       "      <td>2005-07-21</td>\n",
       "      <td>2300.0</td>\n",
       "    </tr>\n",
       "    <tr>\n",
       "      <th>3</th>\n",
       "      <td>2005-07-22</td>\n",
       "      <td>2280.0</td>\n",
       "    </tr>\n",
       "    <tr>\n",
       "      <th>4</th>\n",
       "      <td>2005-07-23</td>\n",
       "      <td>2260.0</td>\n",
       "    </tr>\n",
       "  </tbody>\n",
       "</table>\n",
       "</div>"
      ],
      "text/plain": [
       "          POD    RATE\n",
       "0  2005-07-19  2200.0\n",
       "1  2005-07-20  2250.0\n",
       "2  2005-07-21  2300.0\n",
       "3  2005-07-22  2280.0\n",
       "4  2005-07-23  2260.0"
      ]
     },
     "execution_count": 50,
     "metadata": {},
     "output_type": "execute_result"
    },
    {
     "name": "stdout",
     "output_type": "stream",
     "text": [
      "<class 'pandas.core.frame.DataFrame'>\n",
      "RangeIndex: 6375 entries, 0 to 6374\n",
      "Data columns (total 2 columns):\n",
      " #   Column  Non-Null Count  Dtype  \n",
      "---  ------  --------------  -----  \n",
      " 0   POD     6375 non-null   object \n",
      " 1   RATE    6375 non-null   float64\n",
      "dtypes: float64(1), object(1)\n",
      "memory usage: 99.7+ KB\n",
      "Dataset size: (6375, 2)\n"
     ]
    }
   ],
   "source": [
    "import numpy as np\n",
    "import pandas as pd\n",
    "import seaborn as sns\n",
    "import matplotlib.pyplot as plt\n",
    "import numpy as np\n",
    "import pandas as pd\n",
    "from IPython.core.interactiveshell import InteractiveShell\n",
    "InteractiveShell.ast_node_interactivity = \"all\"\n",
    "%matplotlib inline\n",
    "sns.set()\n",
    "pd.options.display.max_rows = 100\n",
    "\n",
    "df = pd.read_csv('CR_FC_PREP_0522.csv')\n",
    "\n",
    "df.head()\n",
    "df.info()\n",
    "print(f'Dataset size: {df.shape}')"
   ]
  },
  {
   "cell_type": "code",
   "execution_count": 51,
   "metadata": {},
   "outputs": [
    {
     "name": "stdout",
     "output_type": "stream",
     "text": [
      "<class 'pandas.core.frame.DataFrame'>\n",
      "RangeIndex: 6375 entries, 0 to 6374\n",
      "Data columns (total 2 columns):\n",
      " #   Column  Non-Null Count  Dtype         \n",
      "---  ------  --------------  -----         \n",
      " 0   POD     6375 non-null   datetime64[ns]\n",
      " 1   RATE    6375 non-null   float64       \n",
      "dtypes: datetime64[ns](1), float64(1)\n",
      "memory usage: 99.7 KB\n"
     ]
    }
   ],
   "source": [
    "df['POD'] = pd.to_datetime(df['POD'])\n",
    "df.info()"
   ]
  },
  {
   "cell_type": "code",
   "execution_count": 52,
   "metadata": {},
   "outputs": [
    {
     "name": "stdout",
     "output_type": "stream",
     "text": [
      "Skewness of RATE column:  2.661237498037452\n",
      "The RATE column is positively skewed\n"
     ]
    }
   ],
   "source": [
    "from scipy.stats import skew\n",
    "skewness = skew(df['RATE'])\n",
    "\n",
    "# print the skewness value\n",
    "print(\"Skewness of RATE column: \", skewness)\n",
    "\n",
    "# check if the skewness is positive or negative\n",
    "if skewness > 0:\n",
    "    print(\"The RATE column is positively skewed\")\n",
    "elif skewness < 0:\n",
    "    print(\"The RATE column is negatively skewed\")\n",
    "else:\n",
    "    print(\"The RATE column is symmetric\")"
   ]
  },
  {
   "attachments": {},
   "cell_type": "markdown",
   "metadata": {},
   "source": [
    "Rate is positively skewed, it means that there are more values towards the lower end of the distribution, and fewer values towards the higher end."
   ]
  },
  {
   "cell_type": "code",
   "execution_count": 53,
   "metadata": {},
   "outputs": [],
   "source": [
    "from sklearn.linear_model import LinearRegression\n",
    "from sklearn.metrics import mean_squared_error, r2_score,accuracy_score\n",
    "\n",
    "# Linear Regression \n",
    "def findLR(X_train, X_test, y_train, y_test):\n",
    "    # Create a linear regression model\n",
    "    model = LinearRegression()\n",
    "\n",
    "    # Fit the model on the training data\n",
    "    model.fit(X_train, y_train)\n",
    "\n",
    "    # Make predictions on the testing data\n",
    "    y_pred = model.predict(X_test)\n",
    "\n",
    "    # Calculate the root mean squared error\n",
    "    rmse = np.sqrt(mean_squared_error(y_test, y_pred))\n",
    "\n",
    "    # Calculate the R-squared value\n",
    "    r2 = r2_score(y_test, y_pred)\n",
    "\n",
    "    # Calculate accuracy of your model in percentage\n",
    "    accuracy = r2 * 100\n",
    "    \n",
    "    # Print the results\n",
    "    print('Root Mean Squared Error:', round(rmse, 3))\n",
    "    print('R-squared:', round(r2, 3))\n",
    "    print(f\"Accuracy: {accuracy:.2f}%\")"
   ]
  },
  {
   "attachments": {},
   "cell_type": "markdown",
   "metadata": {},
   "source": [
    "<p>The script for linear regression is using R-squared as the metric to calculate the accuracy of the model. R-squared measures the proportion of the variance in the dependent variable that is explained by the independent variable(s) in the model. It ranges from 0 to 1, with 1 indicating a perfect fit of the model to the data. Therefore, to convert the R-squared value to a percentage, we multiply it by 100.</p>"
   ]
  },
  {
   "cell_type": "code",
   "execution_count": 54,
   "metadata": {},
   "outputs": [],
   "source": [
    "from sklearn.tree import DecisionTreeRegressor\n",
    "\n",
    "def findDT(X_train, X_test, y_train, y_test):\n",
    "    # Train the model\n",
    "    model = DecisionTreeRegressor()\n",
    "    model.fit(X_train, y_train)\n",
    "\n",
    "    # Make predictions on test data\n",
    "    predictions = model.predict(X_test)\n",
    "\n",
    "    # Calculate mean squared error between actual and predicted values\n",
    "    mse = mean_squared_error(y_test, predictions)\n",
    "\n",
    "    # Calculate root mean squared error\n",
    "    rmse = np.sqrt(mse)\n",
    "\n",
    "    # Calculate R-squared value\n",
    "    r2 = r2_score(y_test, predictions)\n",
    "\n",
    "    # Calculate mean value of your actual data\n",
    "    mean = np.mean(y_test)\n",
    "\n",
    "    # Calculate accuracy of your model in percentage\n",
    "    accuracy = (1 - rmse/mean) * 100\n",
    "\n",
    "    print('Root Mean Squared Error:', round(rmse, 3))\n",
    "    print('R-squared:', round(r2, 3))\n",
    "    print(f\"Accuracy: {accuracy:.2f}%\")"
   ]
  },
  {
   "attachments": {},
   "cell_type": "markdown",
   "metadata": {},
   "source": [
    "<p>The script for decision trees is using RMSE (root mean squared error) to calculate the accuracy of the model. RMSE is a measure of the differences between predicted and actual values, and it is expressed in the same units as the dependent variable. To convert RMSE to a percentage, we use the formula (1 - RMSE/mean) * 100. This formula calculates the percentage of variance in the dependent variable that is explained by the model.</p>"
   ]
  },
  {
   "cell_type": "code",
   "execution_count": 55,
   "metadata": {},
   "outputs": [],
   "source": [
    "from sklearn.ensemble import RandomForestRegressor\n",
    "\n",
    "def findRF(X_train, X_test, y_train, y_test):\n",
    "    # Build the random forest model\n",
    "    rf_model = RandomForestRegressor(n_estimators=100, random_state=42)\n",
    "    rf_model.fit(X_train, y_train)\n",
    "\n",
    "    # Predict the test data\n",
    "    y_pred = rf_model.predict(X_test)\n",
    "\n",
    "    # Calculate the root mean squared error\n",
    "    rmse = mean_squared_error(y_test, y_pred, squared=False)\n",
    "    \n",
    "    # Calculate the R-squared value\n",
    "    r2 = r2_score(y_test, y_pred)\n",
    "\n",
    "    # Calculate the accuracy score in percentage\n",
    "    mean = y_test.mean()\n",
    "    accuracy = (1 - rmse/mean) * 100\n",
    "\n",
    "    print(\"Root Mean Squared Error:\", round(rmse, 3))\n",
    "    print(\"R-squared Value:\", round(r2, 3))\n",
    "    print(\"Accuracy Score:\", round(accuracy, 2), \"%\")"
   ]
  },
  {
   "cell_type": "code",
   "execution_count": 56,
   "metadata": {},
   "outputs": [],
   "source": [
    "from sklearn.svm import SVR\n",
    "def findSVM(X_train, X_test, y_train, y_test):\n",
    "    # Create and train SVM model\n",
    "    model = SVR(kernel='linear')\n",
    "    model.fit(X_train, y_train)\n",
    "\n",
    "    # Make predictions on test data\n",
    "    y_pred = model.predict(X_test)\n",
    "\n",
    "    # Calculate root mean squared error and r-squared value\n",
    "    rmse = np.sqrt(mean_squared_error(y_test, y_pred))\n",
    "    r2 = r2_score(y_test, y_pred)\n",
    "\n",
    "    # Calculate mean value of your actual data\n",
    "    mean = np.mean(y_test)\n",
    "\n",
    "    # Calculate accuracy of your model in percentage\n",
    "    accuracy = (1 - rmse/mean) * 100\n",
    "\n",
    "    # Print results\n",
    "    print(f\"Root Mean Squared Error: {rmse:.3f}\")\n",
    "    print(f\"R-Squared Value: {r2:.3f}\")\n",
    "    print(f\"Accuracy: {accuracy:.2f}%\")"
   ]
  },
  {
   "cell_type": "code",
   "execution_count": 57,
   "metadata": {},
   "outputs": [],
   "source": [
    "from tensorflow.keras.models import Sequential\n",
    "from tensorflow.keras.layers import Dense\n",
    "\n",
    "def findNN(X_train, X_test, y_train, y_test):\n",
    "    # Define the model architecture\n",
    "    model = Sequential()\n",
    "    model.add(Dense(64, activation='relu', input_dim=X_train.shape[1]))\n",
    "    model.add(Dense(32, activation='relu'))\n",
    "    model.add(Dense(1, activation='linear'))\n",
    "\n",
    "    # Compile the model\n",
    "    model.compile(loss='mean_squared_error', optimizer='adam')\n",
    "\n",
    "    # Fit the model\n",
    "    history = model.fit(X_train, y_train, epochs=100, batch_size=32, validation_split=0.2)\n",
    "\n",
    "    # Make predictions on test set\n",
    "    y_pred = model.predict(X_test)\n",
    "\n",
    "    # Calculate root mean squared error and r-squared value\n",
    "    rmse = np.sqrt(mean_squared_error(y_test, y_pred))\n",
    "    r2 = r2_score(y_test, y_pred)\n",
    "\n",
    "    # Calculate mean value of your actual data\n",
    "    mean = np.mean(y_test)\n",
    "\n",
    "    # Calculate accuracy of your model in percentage\n",
    "    accuracy = (1 - rmse/mean) * 100\n",
    "\n",
    "    # Print results\n",
    "    print(f\"Root Mean Squared Error: {rmse:.3f}\")\n",
    "    print(f\"R-Squared Value: {r2:.3f}\")\n",
    "    print(f\"Accuracy: {accuracy:.2f}%\")"
   ]
  },
  {
   "cell_type": "code",
   "execution_count": 58,
   "metadata": {},
   "outputs": [],
   "source": [
    "from tensorflow.keras.models import Sequential\n",
    "from tensorflow.keras.layers import LSTM\n",
    "import numpy as np\n",
    "\n",
    "def findLSTM(X_train, X_test, y_train, y_test):\n",
    "    # Reshape the data to fit LSTM model\n",
    "    X_train = np.reshape(X_train, (X_train.shape[0], 1, X_train.shape[1]))\n",
    "    X_test = np.reshape(X_test, (X_test.shape[0], 1, X_test.shape[1]))\n",
    "    \n",
    "    # Create and fit the LSTM model\n",
    "    model = Sequential()\n",
    "    model.add(LSTM(64, input_shape=(1, X_train.shape[2])))\n",
    "    model.add(Dense(1))\n",
    "    model.compile(loss='mean_squared_error', optimizer='adam')\n",
    "    model.fit(X_train, y_train, epochs=50, batch_size=16, verbose=0)\n",
    "    \n",
    "    # Make predictions on test set\n",
    "    y_pred = model.predict(X_test)\n",
    "    \n",
    "    # Calculate root mean squared error\n",
    "    mse = mean_squared_error(y_test, y_pred)\n",
    "    rmse = np.sqrt(mse)\n",
    "    \n",
    "    # Calculate R-squared value\n",
    "    r2 = r2_score(y_test, y_pred)\n",
    "    \n",
    "    # Calculate accuracy of your model in percentage\n",
    "    accuracy = (1 - rmse/np.mean(y_test)) * 100\n",
    "    \n",
    "    # Print the results\n",
    "    print(\"Root Mean Squared Error (RMSE): {:.3f}\".format(rmse))\n",
    "    print(\"R-Squared Value: {:.3f}\".format(r2))\n",
    "    print(\"Accuracy: {:.2f}%\".format(accuracy))\n"
   ]
  },
  {
   "attachments": {},
   "cell_type": "markdown",
   "metadata": {},
   "source": [
    "<p>LSTM (Long Short-Term Memory): This is a type of recurrent neural network that is well-suited for time series data. It is capable of capturing long-term dependencies in the data, which makes it a good choice for forecasting cost rates.</p>"
   ]
  },
  {
   "attachments": {},
   "cell_type": "markdown",
   "metadata": {},
   "source": [
    "<h3>Testing Algo</h3>"
   ]
  },
  {
   "cell_type": "code",
   "execution_count": 60,
   "metadata": {},
   "outputs": [],
   "source": [
    "from sklearn.preprocessing import StandardScaler\n",
    "from sklearn.model_selection import train_test_split\n",
    "\n",
    "# Y is the target\n",
    "Y = df.pop('RATE') \n",
    "X = df\n",
    "\n",
    "#normalise\n",
    "sc = StandardScaler()\n",
    "X = sc.fit_transform(X)\n",
    "X_train, X_test, y_train, y_test = train_test_split(X, Y, test_size=0.3)"
   ]
  },
  {
   "cell_type": "code",
   "execution_count": 61,
   "metadata": {},
   "outputs": [
    {
     "name": "stdout",
     "output_type": "stream",
     "text": [
      "Root Mean Squared Error: 1817.503\n",
      "R-squared: 0.157\n",
      "Accuracy: 15.65%\n"
     ]
    }
   ],
   "source": [
    "findLR(X_train, X_test, y_train, y_test)"
   ]
  },
  {
   "cell_type": "code",
   "execution_count": 62,
   "metadata": {},
   "outputs": [
    {
     "name": "stdout",
     "output_type": "stream",
     "text": [
      "Decision Tree Model Results:\n",
      "Root Mean Squared Error: 115.842\n",
      "R-squared: 0.997\n",
      "Accuracy: 92.73%\n"
     ]
    }
   ],
   "source": [
    "# Decision Tree Regressor\n",
    "print(\"Decision Tree Model Results:\")\n",
    "findDT(X_train, X_test, y_train, y_test)"
   ]
  },
  {
   "cell_type": "code",
   "execution_count": 63,
   "metadata": {},
   "outputs": [
    {
     "name": "stdout",
     "output_type": "stream",
     "text": [
      "Random Forest Model Results:\n",
      "Root Mean Squared Error: 105.527\n",
      "R-squared Value: 0.997\n",
      "Accuracy Score: 93.38 %\n"
     ]
    }
   ],
   "source": [
    "# Random Forest Regressor\n",
    "print(\"Random Forest Model Results:\")\n",
    "findRF(X_train, X_test, y_train, y_test)"
   ]
  },
  {
   "cell_type": "code",
   "execution_count": 64,
   "metadata": {},
   "outputs": [
    {
     "name": "stdout",
     "output_type": "stream",
     "text": [
      "Support Vector Machines(SVM) Model Results:\n",
      "Root Mean Squared Error: 2152.886\n",
      "R-Squared Value: -0.184\n",
      "Accuracy: -35.02%\n"
     ]
    }
   ],
   "source": [
    "# Support Vector Machines(SVM)\n",
    "print(\"Support Vector Machines(SVM) Model Results:\")\n",
    "findSVM(X_train, X_test, y_train, y_test)"
   ]
  },
  {
   "cell_type": "code",
   "execution_count": 65,
   "metadata": {},
   "outputs": [
    {
     "name": "stdout",
     "output_type": "stream",
     "text": [
      "Neural Network Model Results:\n",
      "Epoch 1/100\n",
      "112/112 [==============================] - 1s 2ms/step - loss: 6840206.5000 - val_loss: 6464201.0000\n",
      "Epoch 2/100\n",
      "112/112 [==============================] - 0s 1ms/step - loss: 6713797.5000 - val_loss: 6214892.0000\n",
      "Epoch 3/100\n",
      "112/112 [==============================] - 0s 923us/step - loss: 6252617.0000 - val_loss: 5553794.0000\n",
      "Epoch 4/100\n",
      "112/112 [==============================] - 0s 933us/step - loss: 5380101.0000 - val_loss: 4589199.0000\n",
      "Epoch 5/100\n",
      "112/112 [==============================] - 0s 925us/step - loss: 4381875.5000 - val_loss: 3719560.5000\n",
      "Epoch 6/100\n",
      "112/112 [==============================] - 0s 916us/step - loss: 3623120.5000 - val_loss: 3165881.5000\n",
      "Epoch 7/100\n",
      "112/112 [==============================] - 0s 923us/step - loss: 3199248.5000 - val_loss: 2889714.5000\n",
      "Epoch 8/100\n",
      "112/112 [==============================] - 0s 958us/step - loss: 2998562.0000 - val_loss: 2757753.2500\n",
      "Epoch 9/100\n",
      "112/112 [==============================] - 0s 934us/step - loss: 2911340.2500 - val_loss: 2696672.5000\n",
      "Epoch 10/100\n",
      "112/112 [==============================] - 0s 976us/step - loss: 2865698.0000 - val_loss: 2661181.0000\n",
      "Epoch 11/100\n",
      "112/112 [==============================] - 0s 943us/step - loss: 2833004.5000 - val_loss: 2628865.7500\n",
      "Epoch 12/100\n",
      "112/112 [==============================] - 0s 934us/step - loss: 2804303.5000 - val_loss: 2601144.0000\n",
      "Epoch 13/100\n",
      "112/112 [==============================] - 0s 934us/step - loss: 2779869.7500 - val_loss: 2577941.0000\n",
      "Epoch 14/100\n",
      "112/112 [==============================] - 0s 915us/step - loss: 2756893.2500 - val_loss: 2556795.0000\n",
      "Epoch 15/100\n",
      "112/112 [==============================] - 0s 934us/step - loss: 2737069.7500 - val_loss: 2536831.0000\n",
      "Epoch 16/100\n",
      "112/112 [==============================] - 0s 988us/step - loss: 2718288.5000 - val_loss: 2517682.0000\n",
      "Epoch 17/100\n",
      "112/112 [==============================] - 0s 944us/step - loss: 2699168.5000 - val_loss: 2498413.2500\n",
      "Epoch 18/100\n",
      "112/112 [==============================] - 0s 1ms/step - loss: 2679995.7500 - val_loss: 2479097.7500\n",
      "Epoch 19/100\n",
      "112/112 [==============================] - 0s 2ms/step - loss: 2661085.0000 - val_loss: 2459084.0000\n",
      "Epoch 20/100\n",
      "112/112 [==============================] - 0s 2ms/step - loss: 2641358.0000 - val_loss: 2437879.7500\n",
      "Epoch 21/100\n",
      "112/112 [==============================] - 0s 1ms/step - loss: 2620144.5000 - val_loss: 2415543.2500\n",
      "Epoch 22/100\n",
      "112/112 [==============================] - 0s 1ms/step - loss: 2599374.7500 - val_loss: 2392710.0000\n",
      "Epoch 23/100\n",
      "112/112 [==============================] - 0s 1ms/step - loss: 2576375.7500 - val_loss: 2368978.2500\n",
      "Epoch 24/100\n",
      "112/112 [==============================] - 0s 1ms/step - loss: 2551343.0000 - val_loss: 2342676.2500\n",
      "Epoch 25/100\n",
      "112/112 [==============================] - 0s 2ms/step - loss: 2525086.2500 - val_loss: 2314434.2500\n",
      "Epoch 26/100\n",
      "112/112 [==============================] - 0s 1ms/step - loss: 2496616.5000 - val_loss: 2283807.7500\n",
      "Epoch 27/100\n",
      "112/112 [==============================] - 0s 961us/step - loss: 2469394.7500 - val_loss: 2254450.0000\n",
      "Epoch 28/100\n",
      "112/112 [==============================] - 0s 916us/step - loss: 2437487.0000 - val_loss: 2221208.7500\n",
      "Epoch 29/100\n",
      "112/112 [==============================] - 0s 909us/step - loss: 2407452.0000 - val_loss: 2188051.2500\n",
      "Epoch 30/100\n",
      "112/112 [==============================] - 0s 1ms/step - loss: 2372532.0000 - val_loss: 2148902.7500\n",
      "Epoch 31/100\n",
      "112/112 [==============================] - 0s 1ms/step - loss: 2339249.5000 - val_loss: 2115164.0000\n",
      "Epoch 32/100\n",
      "112/112 [==============================] - 0s 1ms/step - loss: 2303130.0000 - val_loss: 2078999.8750\n",
      "Epoch 33/100\n",
      "112/112 [==============================] - 0s 1ms/step - loss: 2267851.5000 - val_loss: 2042941.6250\n",
      "Epoch 34/100\n",
      "112/112 [==============================] - 0s 1ms/step - loss: 2231476.5000 - val_loss: 2006468.0000\n",
      "Epoch 35/100\n",
      "112/112 [==============================] - 0s 1ms/step - loss: 2194303.0000 - val_loss: 1969439.3750\n",
      "Epoch 36/100\n",
      "112/112 [==============================] - 0s 1ms/step - loss: 2158254.2500 - val_loss: 1933620.5000\n",
      "Epoch 37/100\n",
      "112/112 [==============================] - 0s 1ms/step - loss: 2121311.5000 - val_loss: 1897049.1250\n",
      "Epoch 38/100\n",
      "112/112 [==============================] - 0s 1ms/step - loss: 2083699.3750 - val_loss: 1861167.2500\n",
      "Epoch 39/100\n",
      "112/112 [==============================] - 0s 1ms/step - loss: 2047751.2500 - val_loss: 1826928.1250\n",
      "Epoch 40/100\n",
      "112/112 [==============================] - 0s 1ms/step - loss: 2011023.2500 - val_loss: 1788375.0000\n",
      "Epoch 41/100\n",
      "112/112 [==============================] - 0s 1ms/step - loss: 1974277.0000 - val_loss: 1756291.8750\n",
      "Epoch 42/100\n",
      "112/112 [==============================] - 0s 1ms/step - loss: 1938074.5000 - val_loss: 1718806.6250\n",
      "Epoch 43/100\n",
      "112/112 [==============================] - 0s 1ms/step - loss: 1902775.0000 - val_loss: 1686504.2500\n",
      "Epoch 44/100\n",
      "112/112 [==============================] - 0s 1ms/step - loss: 1866858.5000 - val_loss: 1654321.6250\n",
      "Epoch 45/100\n",
      "112/112 [==============================] - 0s 1ms/step - loss: 1833085.6250 - val_loss: 1621417.1250\n",
      "Epoch 46/100\n",
      "112/112 [==============================] - 0s 1ms/step - loss: 1797516.0000 - val_loss: 1587975.6250\n",
      "Epoch 47/100\n",
      "112/112 [==============================] - 0s 1ms/step - loss: 1763539.7500 - val_loss: 1555027.8750\n",
      "Epoch 48/100\n",
      "112/112 [==============================] - 0s 1ms/step - loss: 1729990.0000 - val_loss: 1523437.5000\n",
      "Epoch 49/100\n",
      "112/112 [==============================] - 0s 1ms/step - loss: 1697510.5000 - val_loss: 1493623.8750\n",
      "Epoch 50/100\n",
      "112/112 [==============================] - 0s 1ms/step - loss: 1664622.0000 - val_loss: 1464295.3750\n",
      "Epoch 51/100\n",
      "112/112 [==============================] - 0s 1ms/step - loss: 1634354.1250 - val_loss: 1434993.2500\n",
      "Epoch 52/100\n",
      "112/112 [==============================] - 0s 1ms/step - loss: 1602480.3750 - val_loss: 1405609.3750\n",
      "Epoch 53/100\n",
      "112/112 [==============================] - 0s 1ms/step - loss: 1573230.0000 - val_loss: 1381778.3750\n",
      "Epoch 54/100\n",
      "112/112 [==============================] - 0s 1ms/step - loss: 1545198.2500 - val_loss: 1353319.3750\n",
      "Epoch 55/100\n",
      "112/112 [==============================] - 0s 1ms/step - loss: 1516251.5000 - val_loss: 1325089.0000\n",
      "Epoch 56/100\n",
      "112/112 [==============================] - 0s 1ms/step - loss: 1488839.5000 - val_loss: 1298359.7500\n",
      "Epoch 57/100\n",
      "112/112 [==============================] - 0s 1ms/step - loss: 1461703.2500 - val_loss: 1279916.8750\n",
      "Epoch 58/100\n",
      "112/112 [==============================] - 0s 1ms/step - loss: 1436849.3750 - val_loss: 1254093.8750\n",
      "Epoch 59/100\n",
      "112/112 [==============================] - 0s 1ms/step - loss: 1410853.1250 - val_loss: 1230933.3750\n",
      "Epoch 60/100\n",
      "112/112 [==============================] - 0s 1ms/step - loss: 1385869.3750 - val_loss: 1207406.2500\n",
      "Epoch 61/100\n",
      "112/112 [==============================] - 0s 1ms/step - loss: 1362249.6250 - val_loss: 1184038.7500\n",
      "Epoch 62/100\n",
      "112/112 [==============================] - 0s 1ms/step - loss: 1338648.1250 - val_loss: 1166749.1250\n",
      "Epoch 63/100\n",
      "112/112 [==============================] - 0s 2ms/step - loss: 1314915.1250 - val_loss: 1147724.8750\n",
      "Epoch 64/100\n",
      "112/112 [==============================] - 0s 1ms/step - loss: 1291933.1250 - val_loss: 1122046.6250\n",
      "Epoch 65/100\n",
      "112/112 [==============================] - 0s 1ms/step - loss: 1268637.7500 - val_loss: 1103888.7500\n",
      "Epoch 66/100\n",
      "112/112 [==============================] - 0s 1ms/step - loss: 1248055.6250 - val_loss: 1085832.1250\n",
      "Epoch 67/100\n",
      "112/112 [==============================] - 0s 1ms/step - loss: 1225572.5000 - val_loss: 1063810.3750\n",
      "Epoch 68/100\n",
      "112/112 [==============================] - 0s 1ms/step - loss: 1204290.7500 - val_loss: 1048385.1250\n",
      "Epoch 69/100\n",
      "112/112 [==============================] - 0s 1ms/step - loss: 1182523.7500 - val_loss: 1024857.2500\n",
      "Epoch 70/100\n",
      "112/112 [==============================] - 0s 1ms/step - loss: 1163568.0000 - val_loss: 1008962.5000\n",
      "Epoch 71/100\n",
      "112/112 [==============================] - 0s 1ms/step - loss: 1144568.3750 - val_loss: 994477.3125\n",
      "Epoch 72/100\n",
      "112/112 [==============================] - 0s 1ms/step - loss: 1124702.5000 - val_loss: 978824.0000\n",
      "Epoch 73/100\n",
      "112/112 [==============================] - 0s 2ms/step - loss: 1106766.5000 - val_loss: 963568.3750\n",
      "Epoch 74/100\n",
      "112/112 [==============================] - 0s 1ms/step - loss: 1086486.2500 - val_loss: 941934.7500\n",
      "Epoch 75/100\n",
      "112/112 [==============================] - 0s 1ms/step - loss: 1070214.6250 - val_loss: 929623.3125\n",
      "Epoch 76/100\n",
      "112/112 [==============================] - 0s 1ms/step - loss: 1052391.0000 - val_loss: 909125.0625\n",
      "Epoch 77/100\n",
      "112/112 [==============================] - 0s 1ms/step - loss: 1037258.1250 - val_loss: 896380.9375\n",
      "Epoch 78/100\n",
      "112/112 [==============================] - 0s 1ms/step - loss: 1021567.3750 - val_loss: 883385.8125\n",
      "Epoch 79/100\n",
      "112/112 [==============================] - 0s 1ms/step - loss: 1005405.1875 - val_loss: 870789.2500\n",
      "Epoch 80/100\n",
      "112/112 [==============================] - 0s 1ms/step - loss: 992498.5625 - val_loss: 859626.6875\n",
      "Epoch 81/100\n",
      "112/112 [==============================] - 0s 1ms/step - loss: 977819.8125 - val_loss: 845086.9375\n",
      "Epoch 82/100\n",
      "112/112 [==============================] - 0s 1ms/step - loss: 965819.8125 - val_loss: 837113.2500\n",
      "Epoch 83/100\n",
      "112/112 [==============================] - 0s 1ms/step - loss: 953766.0625 - val_loss: 830642.1875\n",
      "Epoch 84/100\n",
      "112/112 [==============================] - 0s 1ms/step - loss: 942763.3125 - val_loss: 821372.5000\n",
      "Epoch 85/100\n",
      "112/112 [==============================] - 0s 1ms/step - loss: 933014.5000 - val_loss: 812420.0625\n",
      "Epoch 86/100\n",
      "112/112 [==============================] - 0s 1ms/step - loss: 921612.6875 - val_loss: 799946.8750\n",
      "Epoch 87/100\n",
      "112/112 [==============================] - 0s 1ms/step - loss: 914454.7500 - val_loss: 793076.7500\n",
      "Epoch 88/100\n",
      "112/112 [==============================] - 0s 2ms/step - loss: 907201.8750 - val_loss: 784304.9375\n",
      "Epoch 89/100\n",
      "112/112 [==============================] - 0s 1ms/step - loss: 897849.6250 - val_loss: 779756.7500\n",
      "Epoch 90/100\n",
      "112/112 [==============================] - 0s 1ms/step - loss: 888345.3125 - val_loss: 767659.1875\n",
      "Epoch 91/100\n",
      "112/112 [==============================] - 0s 1ms/step - loss: 884423.0625 - val_loss: 764876.3750\n",
      "Epoch 92/100\n",
      "112/112 [==============================] - 0s 1ms/step - loss: 875568.5000 - val_loss: 765892.5625\n",
      "Epoch 93/100\n",
      "112/112 [==============================] - 0s 1ms/step - loss: 869793.1250 - val_loss: 756416.5625\n",
      "Epoch 94/100\n",
      "112/112 [==============================] - 0s 1ms/step - loss: 863138.1875 - val_loss: 748940.6875\n",
      "Epoch 95/100\n",
      "112/112 [==============================] - 0s 1ms/step - loss: 860770.1875 - val_loss: 748509.3750\n",
      "Epoch 96/100\n",
      "112/112 [==============================] - 0s 1ms/step - loss: 853334.7500 - val_loss: 746375.0000\n",
      "Epoch 97/100\n",
      "112/112 [==============================] - 0s 1ms/step - loss: 849045.6250 - val_loss: 736932.6875\n",
      "Epoch 98/100\n",
      "112/112 [==============================] - 0s 1ms/step - loss: 847187.9375 - val_loss: 731932.1250\n",
      "Epoch 99/100\n",
      "112/112 [==============================] - 0s 1ms/step - loss: 842399.9375 - val_loss: 729194.3750\n",
      "Epoch 100/100\n",
      "112/112 [==============================] - 0s 1ms/step - loss: 837401.8125 - val_loss: 731997.2500\n",
      "60/60 [==============================] - 0s 647us/step\n",
      "Root Mean Squared Error: 864.734\n",
      "R-Squared Value: 0.809\n",
      "Accuracy: 45.77%\n"
     ]
    }
   ],
   "source": [
    "# Neural Network\n",
    "print(\"Neural Network Model Results:\")\n",
    "findNN(X_train, X_test, y_train, y_test)"
   ]
  },
  {
   "cell_type": "code",
   "execution_count": 66,
   "metadata": {},
   "outputs": [
    {
     "name": "stdout",
     "output_type": "stream",
     "text": [
      "60/60 [==============================] - 0s 1ms/step\n",
      "Root Mean Squared Error (RMSE): 2182.192\n",
      "R-Squared Value: -0.216\n",
      "Accuracy: -36.86%\n"
     ]
    }
   ],
   "source": [
    "findLSTM(X_train, X_test, y_train, y_test)"
   ]
  },
  {
   "attachments": {},
   "cell_type": "markdown",
   "metadata": {},
   "source": [
    "<p>From the above Random Forest has the highest accuracy of 92.90%. While, decision tree also have a high accuracy of 91.75%</p>"
   ]
  }
 ],
 "metadata": {
  "kernelspec": {
   "display_name": "Python 3",
   "language": "python",
   "name": "python3"
  },
  "language_info": {
   "codemirror_mode": {
    "name": "ipython",
    "version": 3
   },
   "file_extension": ".py",
   "mimetype": "text/x-python",
   "name": "python",
   "nbconvert_exporter": "python",
   "pygments_lexer": "ipython3",
   "version": "3.9.13"
  },
  "orig_nbformat": 4
 },
 "nbformat": 4,
 "nbformat_minor": 2
}
