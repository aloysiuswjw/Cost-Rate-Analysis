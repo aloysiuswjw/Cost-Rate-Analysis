{
 "cells": [
  {
   "attachments": {},
   "cell_type": "markdown",
   "metadata": {},
   "source": [
    "<h3>Time Series Algorithms</h3>"
   ]
  },
  {
   "cell_type": "code",
   "execution_count": null,
   "metadata": {},
   "outputs": [],
   "source": [
    "from sklearn.model_selection import train_test_split\n",
    "from sklearn.metrics import mean_squared_error\n",
    "import math  # for rounding up values\n",
    "import seaborn as sns\n",
    "import matplotlib.pyplot as plt\n",
    "from statsmodels.tsa.stattools import adfuller\n",
    "from statsmodels.graphics.tsaplots import plot_acf, plot_pacf\n",
    "from statsmodels.tsa.seasonal import seasonal_decompose\n",
    "import numpy as np\n",
    "import pandas as pd\n",
    "from IPython.core.interactiveshell import InteractiveShell\n",
    "InteractiveShell.ast_node_interactivity = \"all\"\n",
    "%matplotlib inline\n",
    "sns.set()\n",
    "pd.options.display.max_rows = 100\n",
    "\n",
    "df = pd.read_csv('CR_FC_PREP_0522.csv')\n",
    "df['POD'] = pd.to_datetime(df['POD'])\n",
    "df.set_index('POD', inplace=True)\n",
    "\n",
    "df.head()\n",
    "df.tail()\n",
    "df.info()\n",
    "print(f'Dataset size: {df.shape}')"
   ]
  },
  {
   "cell_type": "code",
   "execution_count": null,
   "metadata": {},
   "outputs": [],
   "source": [
    "# After 2023 data to compare accuracy of forecast\n",
    "df_after = pd.read_csv('CR_FC_PREP_23.csv')\n",
    "df_after['POD'] = pd.to_datetime(df_after['POD'])\n",
    "\n",
    "# df_after.set_index('POD',inplace=True)\n",
    "\n",
    "df_after.head()\n",
    "df_after.tail()\n",
    "df_after.info()\n",
    "print(f'Dataset size: {df_after.shape}')"
   ]
  },
  {
   "cell_type": "code",
   "execution_count": null,
   "metadata": {},
   "outputs": [],
   "source": [
    "df.plot()"
   ]
  },
  {
   "cell_type": "code",
   "execution_count": null,
   "metadata": {},
   "outputs": [],
   "source": [
    "from scipy.stats import skew\n",
    "skewness = skew(df['RATE'])\n",
    "\n",
    "# print the skewness value\n",
    "print(\"Skewness of RATE column: \", skewness)\n",
    "\n",
    "# check if the skewness is positive or negative\n",
    "if skewness > 0:\n",
    "    print(\"The RATE column is positively skewed\")\n",
    "elif skewness < 0:\n",
    "    print(\"The RATE column is negatively skewed\")\n",
    "else:\n",
    "    print(\"The RATE column is symmetric\")"
   ]
  },
  {
   "cell_type": "code",
   "execution_count": null,
   "metadata": {},
   "outputs": [],
   "source": [
    "# Check the stationarity of the time series data\n",
    "result = adfuller(df['RATE'])\n",
    "print('ADF Statistic: %f' % result[0])\n",
    "print('Critical Values:')\n",
    "for key, value in result[4].items():\n",
    "    print(f'\\t{key}: {value}')\n",
    "print('p-value: %f' % result[1])\n",
    "if result[1] > 0.05:\n",
    "    print('The data is non-stationary. Applying first-order differencing.')\n",
    "    df['diff'] = df['RATE'].diff()\n",
    "    df = df.dropna()\n",
    "else:\n",
    "    print('The data is stationary.')"
   ]
  },
  {
   "cell_type": "code",
   "execution_count": null,
   "metadata": {},
   "outputs": [],
   "source": [
    "\n",
    "# Step 3: Determine the appropriate ARIMA parameters\n",
    "# check for stationarity using ADF test\n",
    "# plot ACF and PACF\n",
    "fig, (ax1, ax2) = plt.subplots(2, 1, figsize=(8, 6))\n",
    "plot_acf(df['diff'], ax=ax1, lags=20)\n",
    "plot_pacf(df['diff'], ax=ax2, lags=20)\n",
    "plt.show()\n",
    "\n",
    "# Step 4: Determine the values of p, d, and q\n",
    "p = 1 # number of AR terms (lags) from PACF plot\n",
    "d = 1 # first-order differencing\n",
    "q = 1# number of MA terms (lags) from ACF plot\n",
    "\n",
    "print(f'p: {p}, d: {d}, q: {q}')\n"
   ]
  },
  {
   "cell_type": "code",
   "execution_count": null,
   "metadata": {},
   "outputs": [],
   "source": [
    "# Decompose the time series into its trend, seasonal, and residual components\n",
    "decomposition = seasonal_decompose(df['RATE'], model='additive', period=365)"
   ]
  },
  {
   "attachments": {},
   "cell_type": "markdown",
   "metadata": {},
   "source": [
    "<h4>Transformation to target variable</h4>"
   ]
  },
  {
   "cell_type": "code",
   "execution_count": null,
   "metadata": {},
   "outputs": [],
   "source": [
    "def applyLogTrans(df):\n",
    "    # Apply a logarithmic transformation to the rate variable\n",
    "    return  np.log(df['RATE'])"
   ]
  },
  {
   "cell_type": "code",
   "execution_count": null,
   "metadata": {},
   "outputs": [],
   "source": [
    "df['RATE_LOG'] = applyLogTrans(df)\n",
    "df.head()"
   ]
  },
  {
   "attachments": {},
   "cell_type": "markdown",
   "metadata": {},
   "source": [
    "<h4>Start Performing Time Series Algorithm</h4>"
   ]
  },
  {
   "cell_type": "code",
   "execution_count": 153,
   "metadata": {},
   "outputs": [],
   "source": [
    "from statsmodels.tsa.arima.model import ARIMA\n",
    "import pmdarima as pm\n",
    "\n",
    "def find_AutoARIMA(df):\n",
    "    # Fit the Auto ARIMA model\n",
    "    model = pm.auto_arima(df['RATE_LOG'], seasonal=False, suppress_warnings=True, error_action=\"ignore\", stepwise=True, trace=True, test='adf')\n",
    "    model.summary()\n",
    "\n",
    "    return model"
   ]
  },
  {
   "cell_type": "code",
   "execution_count": null,
   "metadata": {},
   "outputs": [],
   "source": [
    "# Auto Arima\n",
    "arimaModel = find_AutoARIMA(df)"
   ]
  },
  {
   "attachments": {},
   "cell_type": "markdown",
   "metadata": {},
   "source": [
    "<h4>Creating new dates after 52 days with 1 empty column</h4>"
   ]
  },
  {
   "cell_type": "code",
   "execution_count": null,
   "metadata": {},
   "outputs": [],
   "source": [
    "from datetime import timedelta\n",
    "\n",
    "# start_date = df.index[-1] + timedelta(days=1)\n",
    "# print(start_date)\n",
    "n_periods = 52\n",
    "\n",
    "def newDateFrame(df, n_periods):\n",
    "    # Create a data frame for the forecast for the next 24 months\n",
    "    index_of_fc = pd.date_range(start=df.index[-1], periods = n_periods+1, freq='D')\n",
    "    newFrameName = pd.DataFrame(index=index_of_fc[1:],columns=df.columns)\n",
    "    newFrameName.iloc[1:]\n",
    "    newFrameName.shape\n",
    "\n",
    "    return newFrameName"
   ]
  },
  {
   "cell_type": "code",
   "execution_count": null,
   "metadata": {},
   "outputs": [],
   "source": [
    "arima_df = newDateFrame(df, n_periods)\n",
    "arima_df.head()\n",
    "arima_df.tail()\n",
    "arima_df.info()"
   ]
  },
  {
   "attachments": {},
   "cell_type": "markdown",
   "metadata": {},
   "source": [
    "<h4>Forecasting values</h4>"
   ]
  },
  {
   "cell_type": "code",
   "execution_count": null,
   "metadata": {},
   "outputs": [],
   "source": [
    "# Forecast the future values using ARIMA\n",
    "forecast_arima_log = arimaModel.predict(n_periods=n_periods)\n",
    "\n",
    "# Transform the forecasted values back to original scale\n",
    "forecast_arima = np.exp(forecast_arima_log)\n",
    "\n",
    "print(forecast_arima)\n",
    "print(len(forecast_arima))\n",
    "\n",
    "arima_df['RATE'] = forecast_arima\n",
    "arima_df['RATE'] = arima_df['RATE'].apply(lambda x: round(x, 2))\n",
    "\n",
    "# Remove RATE_LOG column to return back to original\n",
    "arima_df = arima_df.drop('RATE_LOG',axis=1)\n",
    "arima_df.head()"
   ]
  },
  {
   "attachments": {},
   "cell_type": "markdown",
   "metadata": {},
   "source": [
    "<h4>Measure accuracy comparing with actual cost rate</h4>"
   ]
  },
  {
   "cell_type": "code",
   "execution_count": null,
   "metadata": {},
   "outputs": [],
   "source": [
    "from sklearn.metrics import r2_score, mean_absolute_error\n",
    "def findACC(forecast_df, actual_df):\n",
    "\n",
    "    # Actual Data\n",
    "    actual_y = actual_df['RATE']\n",
    "\n",
    "    # Forecasted Data\n",
    "    forecast_Y = forecast_df['RATE']\n",
    "\n",
    "    # Calculate the accuracy of the model using mean absolute error and R-squared\n",
    "    mae = mean_absolute_error(actual_y, forecast_Y)\n",
    "    r2 = r2_score(actual_y, forecast_Y)\n",
    "\n",
    "    print(f\"Mean absolute error: {mae:.3f}\")\n",
    "    print(f\"R-squared value: {r2:.3f}\")"
   ]
  },
  {
   "cell_type": "code",
   "execution_count": null,
   "metadata": {},
   "outputs": [],
   "source": [
    "findACC(arima_df, df_after)"
   ]
  },
  {
   "cell_type": "code",
   "execution_count": null,
   "metadata": {},
   "outputs": [],
   "source": [
    "df_after.set_index('POD', inplace=True)"
   ]
  },
  {
   "cell_type": "code",
   "execution_count": null,
   "metadata": {},
   "outputs": [],
   "source": [
    "# Plot the forecast with current dataset\n",
    "plt.figure(figsize=(20, 8))\n",
    "plt.plot(df)\n",
    "plt.plot(arima_df, color='darkgreen')\n",
    "plt.plot(df_after, color='darkred')\n",
    "plt.title(\"Final Forecast of COST_RATE\")\n",
    "plt.show()"
   ]
  }
 ],
 "metadata": {
  "kernelspec": {
   "display_name": "cr_cost",
   "language": "python",
   "name": "python3"
  },
  "language_info": {
   "codemirror_mode": {
    "name": "ipython",
    "version": 3
   },
   "file_extension": ".py",
   "mimetype": "text/x-python",
   "name": "python",
   "nbconvert_exporter": "python",
   "pygments_lexer": "ipython3",
   "version": "3.10.9"
  },
  "orig_nbformat": 4,
  "vscode": {
   "interpreter": {
    "hash": "35c99ecfd3520e8cb362ca49665fad7e5878e4df74c90d86ad8c1e00b47df641"
   }
  }
 },
 "nbformat": 4,
 "nbformat_minor": 2
}
