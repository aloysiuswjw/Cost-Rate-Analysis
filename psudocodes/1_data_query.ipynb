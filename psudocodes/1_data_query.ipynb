{
 "cells": [
  {
   "cell_type": "markdown",
   "metadata": {},
   "source": [
    "```plaintext\n",
    "Procedure QueryDataFromDBMS:\n",
    "    Define A as:\n",
    "        Select \n",
    "            fields: COM_ID, CSL_ID, CNTR_ID, COST_C, COST_DESC, COST_RATE, COST_UNIT, COST_QTY, \n",
    "                    COST_TERM with NULL replaced by 'FP', PARTY_ID, COST_CURR, COST_EX_RATE,\n",
    "                    LOC_AMT, DOC_AMT, DOC_TYPE, DOC_NO, POL_ID, POD_ID, POD, VESSEL, ETD_POL_D,\n",
    "                    ETA_POD_D, CNTR_SIZE, CNTR_TYPE, PARTY_NAME, ETA_ETD_NO\n",
    "        From \n",
    "            Tables: COSTING (aliased as CT), CONSOL (aliased as C), CONSOL_CNTR (aliased as CC), TRADER (aliased as T)\n",
    "        Where \n",
    "            conditions: C.COM_ID is '010', C.JOB_TYPE is 'CS', CT.COM_ID is equal to C.COM_ID,\n",
    "                        CT.CSL_ID is equal to C.CSL_ID, C.COST_CENTER is 'E', CT.COM_ID is equal to CC.COM_ID,\n",
    "                        CT.CNTR_ID is equal to CC.CNTR_ID, CT.PARTY_ID is equal to T.PARTY_ID,\n",
    "                        CT.COST_C is 'OF-E-CT-CR', CT.COST_CURR is 'USD', CT.BKG_NO is NULL\n",
    "\n",
    "    Query:\n",
    "        Select \n",
    "            fields: COM_ID, Maximum of PARTY_ID, Maximum of PARTY_NAME, CSL_ID, ETA_ETD_NO,\n",
    "                    Maximum of POD_ID, Maximum of POD, Maximum of ETD_POL_D, CNTR_ID, Maximum of CNTR_SIZE,\n",
    "                    Maximum of CNTR_TYPE, COST_TERM, Absolute sum of COST_RATE\n",
    "        From\n",
    "            Table: A\n",
    "        Group By \n",
    "            fields: COM_ID, CSL_ID, ETA_ETD_NO, CNTR_ID, COST_TERM\n"
   ]
  },
  {
   "cell_type": "markdown",
   "metadata": {},
   "source": [
    "```plaintext\n",
    "Procedure CreateOrReplaceView:\n",
    "    Create or replace force editionable view \"VW_CR_COST_OAC\" with fields: \n",
    "        \"COM_ID\", \"PARTY_ID\", \"PARTY_NAME\", \"CSL_ID\", \"ETA_ETD_NO\", \"ETD_POL_D\", \n",
    "        \"POD_ID\", \"POD\", \"CNTR_ID\", \"CNTR_SIZE\", \"CNTR_TYPE\", \"COST_TERM\", \"RATE\", \n",
    "        \"ENCODED_TYPE\", \"ENCODED_TERM\", \"POD_ID_EN\", default collation \"USING_NLS_COMP\"\n",
    "    \n",
    "    Define view with:\n",
    "        Select \n",
    "            fields: \"COM_ID\", \"PARTY_ID\", \"PARTY_NAME\", \"CSL_ID\", \"ETA_ETD_NO\", \"ETD_POL_D\",\n",
    "                    \"POD_ID\", \"POD\", \"CNTR_ID\", \"CNTR_SIZE\", \"CNTR_TYPE\", \"COST_TERM\", \"RATE\",\n",
    "                    Case: \n",
    "                        When CNTR_TYPE is 'HC' Then 1\n",
    "                        When CNTR_TYPE is 'GP' Then 2\n",
    "                        When CNTR_TYPE is 'GP (SOC)' Then 3\n",
    "                        When CNTR_TYPE is 'HC NOR' Then 4\n",
    "                        When CNTR_TYPE is 'HC (SOC)' Then 5\n",
    "                        When CNTR_TYPE is 'HC (DG)' Then 6\n",
    "                    End as \"ENCODED_TYPE\",\n",
    "                    Case:\n",
    "                        When COST_TERM is 'FC' Then 1\n",
    "                        When COST_TERM is 'FP' Then 2\n",
    "                    End as \"ENCODED_TERM\",\n",
    "                    ORA_HASH(POD_ID) as \"POD_ID_EN\"\n",
    "        From\n",
    "            Table: OAC_CR_COST"
   ]
  }
 ],
 "metadata": {
  "language_info": {
   "name": "python"
  },
  "orig_nbformat": 4
 },
 "nbformat": 4,
 "nbformat_minor": 2
}
