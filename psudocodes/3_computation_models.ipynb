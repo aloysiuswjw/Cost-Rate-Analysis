{
 "cells": [
  {
   "cell_type": "markdown",
   "metadata": {},
   "source": [
    "# Decision Tree Regressor"
   ]
  },
  {
   "cell_type": "markdown",
   "metadata": {},
   "source": [
    "```plaintext\n",
    "\n",
    "INITIALIZE MinMaxScaler for scaler_X and scaler_y\n",
    "\n",
    "SET X to 'YearMonthWeek' values from agg_df, reshaped to (-1, 1)\n",
    "SET y to 'Rate' values from agg_df, reshaped to (-1, 1)\n",
    "\n",
    "FIT and TRANSFORM X and y with their respective scalers, store the results in X_scaled and y_scaled respectively\n",
    "\n",
    "SET param_grid with range of 'max_depth', 'min_samples_split' and 'min_samples_leaf' values\n",
    "\n",
    "CREATE DecisionTreeRegressor object dt_reg\n",
    "\n",
    "CREATE TimeSeriesSplit object tscv with 5 splits\n",
    "\n",
    "CREATE GridSearchCV object grid with dt_reg, param_grid and tscv, and fit it on X_scaled and y_scaled\n",
    "\n",
    "PRINT best parameters and best RMSE of grid\n",
    "\n",
    "RETRIEVE best model from grid\n",
    "\n",
    "DEFINE FUNCTION compute_accuracy that takes a row:\n",
    "    IF 'RATE_actual' in row equals to 0:\n",
    "        RETURN NaN\n",
    "    ELSE:\n",
    "        CALCULATE error and error_proportion\n",
    "        RETURN (1 - error_proportion) * 100\n",
    "    ENDIF\n",
    "END FUNCTION\n",
    "\n",
    "SET weeks to 12\n",
    "\n",
    "GET max 'YearMonthWeek' from agg_df and STORE it in last_date\n",
    "GENERATE date range from last_date for weeks+1 periods with 'W' frequency, starting from the second date and STORE it in future_dates\n",
    "CONVERT future_dates to ordinal and RESHAPE it to (-1, 1), STORE it in future_dates_ordinal\n",
    "\n",
    "SCALE future_dates_ordinal using scaler_X and STORE it in future_dates_ordinal_scaled\n",
    "\n",
    "PREDICT using best_model on future_dates_ordinal_scaled and STORE it in forecasted_values_scaled\n",
    "\n",
    "INVERSE TRANSFORM forecasted_values_scaled using scaler_y and RESHAPE it to (-1, 1), STORE it in forecasted_values\n",
    "\n",
    "CREATE DataFrame df_forecasted from future_dates and forecasted_values\n",
    "\n",
    "ROUND 'Rate' in df_forecasted to 2 decimal places\n"
   ]
  },
  {
   "cell_type": "markdown",
   "metadata": {},
   "source": [
    "# ARIMA"
   ]
  },
  {
   "cell_type": "markdown",
   "metadata": {},
   "source": []
  }
 ],
 "metadata": {
  "language_info": {
   "name": "python"
  },
  "orig_nbformat": 4
 },
 "nbformat": 4,
 "nbformat_minor": 2
}
