{
 "cells": [
  {
   "cell_type": "markdown",
   "metadata": {},
   "source": [
    "# Decision Tree Regressor"
   ]
  },
  {
   "cell_type": "markdown",
   "metadata": {},
   "source": [
    "```plaintext\n",
    "\n",
    "INITIALIZE MinMaxScaler for scaler_X and scaler_y\n",
    "\n",
    "SET X to 'YearMonthWeek' values from agg_df, reshaped to (-1, 1)\n",
    "SET y to 'Rate' values from agg_df, reshaped to (-1, 1)\n",
    "\n",
    "FIT and TRANSFORM X and y with their respective scalers, store the results in X_scaled and y_scaled respectively\n",
    "\n",
    "SET param_grid with range of 'max_depth', 'min_samples_split' and 'min_samples_leaf' values\n",
    "\n",
    "CREATE DecisionTreeRegressor object dt_reg\n",
    "\n",
    "CREATE TimeSeriesSplit object tscv with 5 splits\n",
    "\n",
    "CREATE GridSearchCV object grid with dt_reg, param_grid and tscv, and fit it on X_scaled and y_scaled\n",
    "\n",
    "PRINT best parameters and best RMSE of grid\n",
    "\n",
    "RETRIEVE best model from grid\n",
    "\n",
    "DEFINE FUNCTION compute_accuracy that takes a row:\n",
    "    IF 'RATE_actual' in row equals to 0:\n",
    "        RETURN NaN\n",
    "    ELSE:\n",
    "        CALCULATE error and error_proportion\n",
    "        RETURN (1 - error_proportion) * 100\n",
    "    ENDIF\n",
    "END FUNCTION\n",
    "\n",
    "SET weeks to 12\n",
    "\n",
    "GET max 'YearMonthWeek' from agg_df and STORE it in last_date\n",
    "GENERATE date range from last_date for weeks+1 periods with 'W' frequency, starting from the second date and STORE it in future_dates\n",
    "CONVERT future_dates to ordinal and RESHAPE it to (-1, 1), STORE it in future_dates_ordinal\n",
    "\n",
    "SCALE future_dates_ordinal using scaler_X and STORE it in future_dates_ordinal_scaled\n",
    "\n",
    "PREDICT using best_model on future_dates_ordinal_scaled and STORE it in forecasted_values_scaled\n",
    "\n",
    "INVERSE TRANSFORM forecasted_values_scaled using scaler_y and RESHAPE it to (-1, 1), STORE it in forecasted_values\n",
    "\n",
    "CREATE DataFrame df_forecasted from future_dates and forecasted_values\n",
    "\n",
    "ROUND 'Rate' in df_forecasted to 2 decimal places\n"
   ]
  },
  {
   "cell_type": "markdown",
   "metadata": {},
   "source": [
    "# ARIMA"
   ]
  },
  {
   "cell_type": "markdown",
   "metadata": {},
   "source": [
    "```plaintext\n",
    "DEFINE FUNCTION calculate_RMSE that takes y_true, y_pred:\n",
    "    RETURN the square root of mean_squared_error of y_true and y_pred\n",
    "END FUNCTION\n",
    "\n",
    "DEFINE FUNCTION ARIMA_Execute that takes data:\n",
    "    # Fit an auto_arima model\n",
    "    SET arima_model to auto_arima with data, trace=True, error_action='ignore', suppress_warnings=True, stepwise=True, alpha=0.07, m=7\n",
    "\n",
    "    # Print the summary of the model\n",
    "    PRINT the summary of arima_model\n",
    "\n",
    "    # Forecast\n",
    "    SET predictions to arima_model's prediction with n_periods equals to the length of data\n",
    "\n",
    "    # Calculate the RMSE\n",
    "    SET RMSE_ARIMA_data to calculate_RMSE with data and predictions\n",
    "    PRINT \"RMSE: %.3f\" % RMSE_ARIMA_data\n",
    "\n",
    "    RETURN arima_model and RMSE_ARIMA_data\n",
    "END FUNCTION\n",
    "\n",
    "# Get the 'Rate' column values\n",
    "SET data to 'Rate' values from agg_df\n",
    "\n",
    "# Run ARIMA model\n",
    "SET model and ARIMA_rmse to ARIMA_Execute with data"
   ]
  }
 ],
 "metadata": {
  "language_info": {
   "name": "python"
  },
  "orig_nbformat": 4
 },
 "nbformat": 4,
 "nbformat_minor": 2
}
