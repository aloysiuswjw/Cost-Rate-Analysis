{
 "cells": [
  {
   "cell_type": "markdown",
   "metadata": {},
   "source": [
    "# Forcasting"
   ]
  },
  {
   "cell_type": "markdown",
   "metadata": {},
   "source": [
    "```plaintext\n",
    "\n",
    "DEFINE FUNCTION compute_accuracy WITH parameter row\n",
    "    IF 'RATE_actual' VALUE in row IS 0 THEN\n",
    "        RETURN Not a Number\n",
    "    ELSE\n",
    "        CALCULATE absolute difference BETWEEN 'RATE_actual' AND 'RATE_forecasted' in row, STORE IN error\n",
    "        CALCULATE error proportion AS error DIVIDED BY 'RATE_actual' in row\n",
    "        RETURN (1 MINUS error_proportion) MULTIPLIED BY 100\n",
    "    END IF\n",
    "END FUNCTION\n",
    "\n",
    "SET weeks AS 12\n",
    "FORECAST next 12 weeks USING ARIMA model AND STORE IN forecasted_values\n",
    "\n",
    "# Ensure that 'YearMonthWeek' is a datetime object\n",
    "CONVERT 'YearMonthWeek' column IN agg_df TO datetime type\n",
    "FIND last_date AS last element IN 'YearMonthWeek' column OF agg_df\n",
    "CREATE forecasted_dates AS date range FROM last_date TO weeks+1 WITH frequency WEEKLY, EXCLUDE first date\n",
    "\n",
    "CREATE df_forecasted DataFrame FROM {\n",
    "    'POD': forecasted_dates,\n",
    "    'RATE': reshaped forecasted_values\n",
    "}\n",
    "\n",
    "ROUND 'RATE' column IN df_forecasted TO 2 decimal places\n",
    "\n",
    "DISPLAY first 5 rows of df_forecasted\n",
    "DISPLAY last 5 rows of df_forecasted\n",
    "DISPLAY information of df_forecasted\n",
    "\n",
    "```"
   ]
  },
  {
   "cell_type": "markdown",
   "metadata": {},
   "source": [
    "# Accuracy Comparison"
   ]
  },
  {
   "cell_type": "markdown",
   "metadata": {},
   "source": [
    "```plaintext\n",
    "CREATE comparison_df AS DataFrame WITH columns 'WeekStart', 'WeekEnd', 'POD_actual', 'RATE_forecasted', 'RATE_actual'\n",
    "ADD 7 days TO 'POD' column in df_forecasted AND STORE in new column 'WeekEnd'\n",
    "\n",
    "FOR each row IN df_forecasted\n",
    "    CREATE mask WHERE 'POD' column of new_dates_df IS GREATER THAN OR EQUAL TO 'POD' column in current row AND 'POD' column of new_dates_df IS LESS THAN 'WeekEnd' column in current row\n",
    "    GET actual_dates_within_week FROM new_dates_df WHERE mask IS TRUE\n",
    "    \n",
    "    FOR each actual_row IN actual_dates_within_week\n",
    "        APPEND {'WeekStart': current row's 'POD', 'WeekEnd': current row's 'WeekEnd', 'POD_actual': actual row's 'POD', 'RATE_forecasted': current row's 'RATE', 'RATE_actual': actual row's 'RATE'} TO comparison_df\n",
    "    END FOR\n",
    "END FOR\n",
    "\n",
    "REMOVE duplicates FROM comparison_df BASED ON subset ['POD_actual', 'RATE_forecasted', 'RATE_actual'] AND RESET index\n",
    "\n",
    "# Compute accuracy\n",
    "ADD 'accuracy' column TO comparison_df APPLYING compute_accuracy FUNCTION across each row\n",
    "REMOVE rows WITH 'NaN' values in 'accuracy' column FROM comparison_df\n",
    "\n",
    "CALCULATE mean of 'accuracy' column of comparison_df AND STORE in total_mean_accuracy\n",
    "PRINT total_mean_accuracy\n",
    "\n",
    "```"
   ]
  }
 ],
 "metadata": {
  "language_info": {
   "name": "python"
  },
  "orig_nbformat": 4
 },
 "nbformat": 4,
 "nbformat_minor": 2
}
