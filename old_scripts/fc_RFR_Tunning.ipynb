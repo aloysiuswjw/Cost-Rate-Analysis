{
 "cells": [
  {
   "cell_type": "code",
   "execution_count": 78,
   "metadata": {},
   "outputs": [
    {
     "data": {
      "text/html": [
       "<div>\n",
       "<style scoped>\n",
       "    .dataframe tbody tr th:only-of-type {\n",
       "        vertical-align: middle;\n",
       "    }\n",
       "\n",
       "    .dataframe tbody tr th {\n",
       "        vertical-align: top;\n",
       "    }\n",
       "\n",
       "    .dataframe thead th {\n",
       "        text-align: right;\n",
       "    }\n",
       "</style>\n",
       "<table border=\"1\" class=\"dataframe\">\n",
       "  <thead>\n",
       "    <tr style=\"text-align: right;\">\n",
       "      <th></th>\n",
       "      <th>POD</th>\n",
       "      <th>RATE</th>\n",
       "    </tr>\n",
       "  </thead>\n",
       "  <tbody>\n",
       "    <tr>\n",
       "      <th>0</th>\n",
       "      <td>2005-07-19</td>\n",
       "      <td>2200.0</td>\n",
       "    </tr>\n",
       "    <tr>\n",
       "      <th>1</th>\n",
       "      <td>2005-07-20</td>\n",
       "      <td>2250.0</td>\n",
       "    </tr>\n",
       "    <tr>\n",
       "      <th>2</th>\n",
       "      <td>2005-07-21</td>\n",
       "      <td>2300.0</td>\n",
       "    </tr>\n",
       "    <tr>\n",
       "      <th>3</th>\n",
       "      <td>2005-07-22</td>\n",
       "      <td>2280.0</td>\n",
       "    </tr>\n",
       "    <tr>\n",
       "      <th>4</th>\n",
       "      <td>2005-07-23</td>\n",
       "      <td>2260.0</td>\n",
       "    </tr>\n",
       "  </tbody>\n",
       "</table>\n",
       "</div>"
      ],
      "text/plain": [
       "          POD    RATE\n",
       "0  2005-07-19  2200.0\n",
       "1  2005-07-20  2250.0\n",
       "2  2005-07-21  2300.0\n",
       "3  2005-07-22  2280.0\n",
       "4  2005-07-23  2260.0"
      ]
     },
     "execution_count": 78,
     "metadata": {},
     "output_type": "execute_result"
    },
    {
     "name": "stdout",
     "output_type": "stream",
     "text": [
      "<class 'pandas.core.frame.DataFrame'>\n",
      "RangeIndex: 6375 entries, 0 to 6374\n",
      "Data columns (total 2 columns):\n",
      " #   Column  Non-Null Count  Dtype  \n",
      "---  ------  --------------  -----  \n",
      " 0   POD     6375 non-null   object \n",
      " 1   RATE    6375 non-null   float64\n",
      "dtypes: float64(1), object(1)\n",
      "memory usage: 99.7+ KB\n",
      "Dataset size: (6375, 2)\n"
     ]
    }
   ],
   "source": [
    "import numpy as np\n",
    "import pandas as pd\n",
    "import seaborn as sns\n",
    "import matplotlib.pyplot as plt\n",
    "import numpy as np\n",
    "import pandas as pd\n",
    "from IPython.core.interactiveshell import InteractiveShell\n",
    "InteractiveShell.ast_node_interactivity = \"all\"\n",
    "%matplotlib inline\n",
    "sns.set()\n",
    "pd.options.display.max_rows = 100\n",
    "\n",
    "df = pd.read_csv('CR_FC_PREP_0522.csv')\n",
    "\n",
    "df.head()\n",
    "df.info()\n",
    "print(f'Dataset size: {df.shape}')"
   ]
  },
  {
   "cell_type": "code",
   "execution_count": 79,
   "metadata": {},
   "outputs": [
    {
     "name": "stdout",
     "output_type": "stream",
     "text": [
      "<class 'pandas.core.frame.DataFrame'>\n",
      "RangeIndex: 6375 entries, 0 to 6374\n",
      "Data columns (total 2 columns):\n",
      " #   Column  Non-Null Count  Dtype         \n",
      "---  ------  --------------  -----         \n",
      " 0   POD     6375 non-null   datetime64[ns]\n",
      " 1   RATE    6375 non-null   float64       \n",
      "dtypes: datetime64[ns](1), float64(1)\n",
      "memory usage: 99.7 KB\n"
     ]
    }
   ],
   "source": [
    "df['POD'] = pd.to_datetime(df['POD'])\n",
    "df.info()"
   ]
  },
  {
   "cell_type": "code",
   "execution_count": 80,
   "metadata": {},
   "outputs": [],
   "source": [
    "from sklearn.preprocessing import StandardScaler\n",
    "from sklearn.model_selection import train_test_split\n",
    "\n",
    "# Y is the target\n",
    "Y = df.pop('RATE') \n",
    "X = df\n",
    "\n",
    "# Normalise and split the data into training and testing sets\n",
    "sc = StandardScaler()\n",
    "X = sc.fit_transform(X)\n",
    "X_train, X_test, y_train, y_test = train_test_split(X, Y, test_size=0.3, random_state=42)\n"
   ]
  },
  {
   "attachments": {},
   "cell_type": "markdown",
   "metadata": {},
   "source": [
    "<h3>Improving Accuracy Scores<h3>"
   ]
  },
  {
   "attachments": {},
   "cell_type": "markdown",
   "metadata": {},
   "source": [
    "Tunning Random Forest </br>\n",
    "\n",
    "<ol>\n",
    "    <li>Grid search: To evaluate the performance of your model with different max_depth values. Train and evaluate your model with max_depth values ranging from 1 to 20 and select the one that gives you the best performance.</li>\n",
    "    <li>Randomized search: Instead of trying every possible max_depth value, randomly sample a subset of values and evaluate the performance of your model with them.</li>\n",
    "    <li>Out-of-bag (OOB) error: In a random forest model, each tree is trained on a subset of the data (known as the bootstrap sample) and uses the remaining data as out-of-bag (OOB) samples. Using OOB samples to estimate the performance of your model for different max_depth values.</li>\n",
    "    <li>Visualization: Plot the performance of your model (e.g., accuracy or AUC) against different max_depth values to see if there is a clear maximum</li>\n",
    "</ol>\n"
   ]
  },
  {
   "cell_type": "code",
   "execution_count": 81,
   "metadata": {},
   "outputs": [],
   "source": [
    "from sklearn.ensemble import RandomForestRegressor\n",
    "def train_ev_RFR(X_train, X_test, y_train, y_test):\n",
    "    # Create an instance of the random forest regressor\n",
    "    rf_regressor = RandomForestRegressor()\n",
    "\n",
    "    # Train the model on the training data\n",
    "    train_acc = []\n",
    "    for i in range(50):\n",
    "        rf_regressor.fit(X_train, y_train)\n",
    "        y_pred = rf_regressor.predict(X_train)\n",
    "        train_acc.append(r2_score(y_train, y_pred))\n",
    "\n",
    "    # Evaluate the model on the testing data\n",
    "    test_acc = []\n",
    "    best_acc = float('-inf')\n",
    "    best_iter = None\n",
    "    for i in range(len(train_acc)):\n",
    "        rf_regressor.fit(X_train, y_train)\n",
    "        y_pred = rf_regressor.predict(X_test)\n",
    "        acc = r2_score(y_test, y_pred)\n",
    "        test_acc.append(acc)\n",
    "        if acc > best_acc:\n",
    "            best_acc = acc\n",
    "            best_iter = i\n",
    "\n",
    "    # Plot the training and testing accuracy as line graphs\n",
    "    x_vals = range(len(train_acc))\n",
    "    plt.plot(x_vals, train_acc, label='Training Accuracy')\n",
    "    plt.plot(x_vals, test_acc, label='Testing Accuracy')\n",
    "    plt.xlabel('Number of Training Iterations')\n",
    "    plt.ylabel('Accuracy')\n",
    "    plt.title('Training and Testing Accuracy of Random Forest Regressor')\n",
    "    plt.legend()\n",
    "    plt.show()\n",
    "\n",
    "    print('Best Testing accuracy:', best_acc, 'at iteration', best_iter)\n",
    "    # return train_acc, test_acc, best_acc, best_iter"
   ]
  },
  {
   "cell_type": "code",
   "execution_count": 82,
   "metadata": {},
   "outputs": [
    {
     "data": {
      "image/png": "[encoded data removed]",
      "text/plain": [
       "<Figure size 640x480 with 1 Axes>"
      ]
     },
     "metadata": {},
     "output_type": "display_data"
    },
    {
     "name": "stdout",
     "output_type": "stream",
     "text": [
      "Best Testing accuracy: 0.9977989852316753 at iteration 2\n"
     ]
    }
   ],
   "source": [
    "train_ev_RFR(X_train, X_test, y_train, y_test)"
   ]
  },
  {
   "attachments": {},
   "cell_type": "markdown",
   "metadata": {},
   "source": [
    "Implement cross-validation: Instead of splitting the data into just a training and testing set, consider implementing a k-fold cross-validation technique to estimate the model's performance more accurately.\n",
    "\n",
    "Hyperparameter tuning: Tune the hyperparameters to obtain better performance using grid search."
   ]
  },
  {
   "cell_type": "code",
   "execution_count": 83,
   "metadata": {},
   "outputs": [],
   "source": [
    "from sklearn.model_selection import cross_val_score, GridSearchCV\n",
    "\n",
    "def train_evaluate_RFR(X_train, X_test, y_train, y_test):\n",
    "    # Define the random forest regressor\n",
    "    rf_regressor = RandomForestRegressor()\n",
    "\n",
    "    # Define the hyperparameters to search over\n",
    "    param_grid = {\n",
    "        'n_estimators': [50, 100, 200, 500],\n",
    "        'max_features': ['auto', 'sqrt'],\n",
    "        'max_depth': [3, 5, 7, 10, 15],\n",
    "        'min_samples_split': [2, 5, 10],\n",
    "        'min_samples_leaf': [1, 2, 4],\n",
    "        'bootstrap': [True, False]\n",
    "    }\n",
    "\n",
    "    # Perform a grid search over the hyperparameters using cross-validation\n",
    "    grid_search = GridSearchCV(rf_regressor, param_grid, cv=5, n_jobs=-1)\n",
    "    grid_search.fit(X_train, y_train)\n",
    "\n",
    "    # Print the best hyperparameters found by the grid search\n",
    "    print('Best hyperparameters:', grid_search.best_params_)\n",
    "\n",
    "    # Calculate the test accuracy of the model with the best hyperparameters\n",
    "    best_model = grid_search.best_estimator_\n",
    "    best_model.fit(X_train, y_train)\n",
    "    test_acc = np.mean(cross_val_score(best_model, X_test, y_test, cv=5))\n",
    "\n",
    "    # Print the test accuracy\n",
    "    print('Test accuracy:', test_acc)\n",
    "\n",
    "    return best_model\n"
   ]
  },
  {
   "cell_type": "code",
   "execution_count": 84,
   "metadata": {},
   "outputs": [
    {
     "name": "stderr",
     "output_type": "stream",
     "text": [
      "c:\\Users\\it1\\AppData\\Local\\Programs\\Python\\Python310\\lib\\site-packages\\sklearn\\ensemble\\_forest.py:413: FutureWarning: `max_features='auto'` has been deprecated in 1.1 and will be removed in 1.3. To keep the past behaviour, explicitly set `max_features=1.0` or remove this parameter as it is also the default value for RandomForestRegressors and ExtraTreesRegressors.\n",
      "  warn(\n"
     ]
    },
    {
     "name": "stdout",
     "output_type": "stream",
     "text": [
      "Best hyperparameters: {'bootstrap': True, 'max_depth': 15, 'max_features': 'auto', 'min_samples_leaf': 1, 'min_samples_split': 2, 'n_estimators': 100}\n"
     ]
    },
    {
     "name": "stderr",
     "output_type": "stream",
     "text": [
      "c:\\Users\\it1\\AppData\\Local\\Programs\\Python\\Python310\\lib\\site-packages\\sklearn\\ensemble\\_forest.py:413: FutureWarning: `max_features='auto'` has been deprecated in 1.1 and will be removed in 1.3. To keep the past behaviour, explicitly set `max_features=1.0` or remove this parameter as it is also the default value for RandomForestRegressors and ExtraTreesRegressors.\n",
      "  warn(\n",
      "c:\\Users\\it1\\AppData\\Local\\Programs\\Python\\Python310\\lib\\site-packages\\sklearn\\ensemble\\_forest.py:413: FutureWarning: `max_features='auto'` has been deprecated in 1.1 and will be removed in 1.3. To keep the past behaviour, explicitly set `max_features=1.0` or remove this parameter as it is also the default value for RandomForestRegressors and ExtraTreesRegressors.\n",
      "  warn(\n",
      "c:\\Users\\it1\\AppData\\Local\\Programs\\Python\\Python310\\lib\\site-packages\\sklearn\\ensemble\\_forest.py:413: FutureWarning: `max_features='auto'` has been deprecated in 1.1 and will be removed in 1.3. To keep the past behaviour, explicitly set `max_features=1.0` or remove this parameter as it is also the default value for RandomForestRegressors and ExtraTreesRegressors.\n",
      "  warn(\n",
      "c:\\Users\\it1\\AppData\\Local\\Programs\\Python\\Python310\\lib\\site-packages\\sklearn\\ensemble\\_forest.py:413: FutureWarning: `max_features='auto'` has been deprecated in 1.1 and will be removed in 1.3. To keep the past behaviour, explicitly set `max_features=1.0` or remove this parameter as it is also the default value for RandomForestRegressors and ExtraTreesRegressors.\n",
      "  warn(\n",
      "c:\\Users\\it1\\AppData\\Local\\Programs\\Python\\Python310\\lib\\site-packages\\sklearn\\ensemble\\_forest.py:413: FutureWarning: `max_features='auto'` has been deprecated in 1.1 and will be removed in 1.3. To keep the past behaviour, explicitly set `max_features=1.0` or remove this parameter as it is also the default value for RandomForestRegressors and ExtraTreesRegressors.\n",
      "  warn(\n",
      "c:\\Users\\it1\\AppData\\Local\\Programs\\Python\\Python310\\lib\\site-packages\\sklearn\\ensemble\\_forest.py:413: FutureWarning: `max_features='auto'` has been deprecated in 1.1 and will be removed in 1.3. To keep the past behaviour, explicitly set `max_features=1.0` or remove this parameter as it is also the default value for RandomForestRegressors and ExtraTreesRegressors.\n",
      "  warn(\n"
     ]
    },
    {
     "name": "stdout",
     "output_type": "stream",
     "text": [
      "Test accuracy: 0.9893959989739567\n",
      "RandomForestRegressor(max_depth=15, max_features='auto')\n"
     ]
    }
   ],
   "source": [
    "best_model = train_evaluate_RFR(X_train, X_test, y_train, y_test)\n",
    "print(best_model)\n",
    "# best_depth = grid_search.best_params_['max_depth']\n",
    "# best_est = grid_search.best_params_['n_estimators']\n",
    "# print(best_depth,best_est)"
   ]
  },
  {
   "attachments": {},
   "cell_type": "markdown",
   "metadata": {},
   "source": [
    "Grid search is a hyperparameter tuning technique used to find the best set of hyperparameters for a given machine learning model. The random forest regressor is a machine learning model that uses an ensemble of decision trees to make predictions.\n",
    "\n",
    "During grid search for a random forest regressor, a grid of possible hyperparameter combinations is created, and the model is trained and evaluated using each combination. The hyperparameters that are typically tuned during grid search for a random forest regressor include:\n",
    "\n",
    "n_estimators: the number of decision trees in the random forest\n",
    "max_features: the maximum number of features considered for splitting a node\n",
    "max_depth: the maximum depth of the decision trees in the random forest\n",
    "min_samples_split: the minimum number of samples required to split an internal node\n",
    "min_samples_leaf: the minimum number of samples required to be at a leaf node\n",
    "For each combination of hyperparameters, the model is trained using the training data and evaluated using a validation set. The performance of the model is measured using a metric such as mean squared error (MSE) or R-squared (R2). The combination of hyperparameters that results in the best performance on the validation set is selected as the optimal set of hyperparameters for the random forest regressor."
   ]
  },
  {
   "cell_type": "code",
   "execution_count": 85,
   "metadata": {},
   "outputs": [],
   "source": [
    "# Attempt to use the hyperparameters to perform Random Forest Regression\n",
    "\n",
    "from sklearn.ensemble import RandomForestRegressor\n",
    "from sklearn.metrics import mean_squared_error, r2_score\n",
    "\n",
    "def evaluate_rf(X_train, X_test, y_train, y_test, best_model):\n",
    "    # Create a random forest regressor with the best hyperparameters\n",
    "    rf = best_model\n",
    "    \n",
    "    # Fit the model on the entire training dataset\n",
    "    rf.fit(X_train, y_train)\n",
    "    \n",
    "    # Make predictions on the test data\n",
    "    y_pred = rf.predict(X_test)\n",
    "    \n",
    "    # Calculate root mean square error, R-squared value, and accuracy\n",
    "    rmse = mean_squared_error(y_test, y_pred, squared=False)\n",
    "    r2 = r2_score(y_test, y_pred)\n",
    "    mean = y_test.mean()\n",
    "    acc = (1 - rmse/mean) * 100\n",
    "    \n",
    "    # Print the results\n",
    "    print(\"Root mean squared error: {:.3f}\".format(rmse))\n",
    "    print(\"R-squared value: {:.3f}\".format(r2))\n",
    "    print(\"Accuracy: {:.2f}%\".format(acc))"
   ]
  },
  {
   "cell_type": "code",
   "execution_count": 86,
   "metadata": {},
   "outputs": [
    {
     "name": "stderr",
     "output_type": "stream",
     "text": [
      "c:\\Users\\it1\\AppData\\Local\\Programs\\Python\\Python310\\lib\\site-packages\\sklearn\\ensemble\\_forest.py:413: FutureWarning: `max_features='auto'` has been deprecated in 1.1 and will be removed in 1.3. To keep the past behaviour, explicitly set `max_features=1.0` or remove this parameter as it is also the default value for RandomForestRegressors and ExtraTreesRegressors.\n",
      "  warn(\n"
     ]
    },
    {
     "name": "stdout",
     "output_type": "stream",
     "text": [
      "Root mean squared error: 99.588\n",
      "R-squared value: 0.997\n",
      "Accuracy: 93.78%\n"
     ]
    }
   ],
   "source": [
    "evaluate_rf(X_train, X_test, y_train, y_test, best_model)"
   ]
  },
  {
   "attachments": {},
   "cell_type": "markdown",
   "metadata": {},
   "source": [
    "It seems like there is a decrease in performace on the test set, compared to default hyper parameters. This is because the default hyperparameters may have been chosen based on their good performance on a specific dataset or task, and so deviating too much from those defaults may not be beneficial in all cases.\n",
    "\n",
    "That being said, the difference in performance between your tuned and untuned models is not very large, and it's possible that the improvement in the tuned model is not statistically significant.\n",
    "\n",
    "Overall, the fact that the difference in performance between tuned and untuned models is relatively small suggests that it already have a good set of hyperparameters with the default values, and that further tuning may not be necessary or useful."
   ]
  }
 ],
 "metadata": {
  "kernelspec": {
   "display_name": "Python 3",
   "language": "python",
   "name": "python3"
  },
  "language_info": {
   "codemirror_mode": {
    "name": "ipython",
    "version": 3
   },
   "file_extension": ".py",
   "mimetype": "text/x-python",
   "name": "python",
   "nbconvert_exporter": "python",
   "pygments_lexer": "ipython3",
   "version": "3.10.9"
  },
  "orig_nbformat": 4
 },
 "nbformat": 4,
 "nbformat_minor": 2
}
