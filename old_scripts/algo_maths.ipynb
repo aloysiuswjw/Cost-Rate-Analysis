{
 "cells": [
  {
   "attachments": {},
   "cell_type": "markdown",
   "metadata": {},
   "source": [
    "\\[\n",
    "\\text{{MSE}} = \\frac{1}{n}\\sum_{i=1}^{n} (y_i - \\hat{y})^2\n",
    "\\]"
   ]
  }
 ],
 "metadata": {
  "language_info": {
   "name": "python"
  },
  "orig_nbformat": 4
 },
 "nbformat": 4,
 "nbformat_minor": 2
}
