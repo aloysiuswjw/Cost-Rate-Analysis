{
 "cells": [
  {
   "attachments": {},
   "cell_type": "markdown",
   "metadata": {},
   "source": [
    "$$\n",
    "\\text{{MSE}} = \\frac{1}{n}\\sum_{i=1}^{n} (y_i - \\hat{y})^2\n",
    "$$"
   ]
  },
  {
   "attachments": {},
   "cell_type": "markdown",
   "metadata": {},
   "source": [
    "ARIMA AND SARIMAX"
   ]
  },
  {
   "attachments": {},
   "cell_type": "markdown",
   "metadata": {},
   "source": [
    "\n",
    "$$\n",
    "\\begin{aligned}\n",
    "% ARIMA Model\n",
    "Y_t &= C + \\Phi_1 Y_{t-1} + \\Phi_2 Y_{t-2} + \\ldots + \\Phi_p Y_{t-p} + \\Theta_1 \\epsilon_{t-1} + \\Theta_2 \\epsilon_{t-2} + \\ldots + \\Theta_q \\epsilon_{t-q} + \\epsilon_t \\\\\n",
    "\\end{aligned}\n",
    "$$\n"
   ]
  },
  {
   "attachments": {},
   "cell_type": "markdown",
   "metadata": {},
   "source": [
    "$$\n",
    "\\begin{aligned}\n",
    "% SARIMAX Model\n",
    "Y_t &= C + \\Phi_1 Y_{t-1} + \\Phi_2 Y_{t-2} + \\ldots + \\Phi_p Y_{t-p} + \\Theta_1 \\epsilon_{t-1} + \\Theta_2 \\epsilon_{t-2} + \\ldots + \\Theta_q \\epsilon_{t-q} + \\epsilon_t \\\\\n",
    "& \\quad + \\phi_1 Y_{t-s} + \\phi_2 Y_{t-2s} + \\ldots + \\phi_P Y_{t-Ps} + \\theta_1 \\epsilon_{t-s} + \\theta_2 \\epsilon_{t-2s} + \\ldots + \\theta_Q \\epsilon_{t-Qs}\n",
    "\\end{aligned}\n",
    "$$\n"
   ]
  },
  {
   "attachments": {},
   "cell_type": "markdown",
   "metadata": {},
   "source": [
    "LSTM and BI-LSTM"
   ]
  },
  {
   "attachments": {},
   "cell_type": "markdown",
   "metadata": {},
   "source": [
    "$$\n",
    "\\begin{align*}\n",
    "% Forget gate\n",
    "f_t = \\sigma(W_f \\cdot [h_{t-1}, x_t] + b_f)\n",
    "\\end{align*}\n",
    "$$"
   ]
  }
 ],
 "metadata": {
  "language_info": {
   "name": "python"
  },
  "orig_nbformat": 4
 },
 "nbformat": 4,
 "nbformat_minor": 2
}
