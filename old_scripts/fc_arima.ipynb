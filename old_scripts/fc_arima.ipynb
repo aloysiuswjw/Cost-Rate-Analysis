{
 "cells": [
  {
   "attachments": {},
   "cell_type": "markdown",
   "metadata": {},
   "source": [
    "<h3>Time Series Algorithms</h3>"
   ]
  },
  {
   "cell_type": "code",
   "execution_count": 165,
   "metadata": {},
   "outputs": [
    {
     "data": {
      "text/html": [
       "<div>\n",
       "<style scoped>\n",
       "    .dataframe tbody tr th:only-of-type {\n",
       "        vertical-align: middle;\n",
       "    }\n",
       "\n",
       "    .dataframe tbody tr th {\n",
       "        vertical-align: top;\n",
       "    }\n",
       "\n",
       "    .dataframe thead th {\n",
       "        text-align: right;\n",
       "    }\n",
       "</style>\n",
       "<table border=\"1\" class=\"dataframe\">\n",
       "  <thead>\n",
       "    <tr style=\"text-align: right;\">\n",
       "      <th></th>\n",
       "      <th>RATE</th>\n",
       "    </tr>\n",
       "    <tr>\n",
       "      <th>POD</th>\n",
       "      <th></th>\n",
       "    </tr>\n",
       "  </thead>\n",
       "  <tbody>\n",
       "    <tr>\n",
       "      <th>2005-07-19</th>\n",
       "      <td>2200.0</td>\n",
       "    </tr>\n",
       "    <tr>\n",
       "      <th>2005-07-20</th>\n",
       "      <td>2250.0</td>\n",
       "    </tr>\n",
       "    <tr>\n",
       "      <th>2005-07-21</th>\n",
       "      <td>2300.0</td>\n",
       "    </tr>\n",
       "    <tr>\n",
       "      <th>2005-07-22</th>\n",
       "      <td>2280.0</td>\n",
       "    </tr>\n",
       "    <tr>\n",
       "      <th>2005-07-23</th>\n",
       "      <td>2260.0</td>\n",
       "    </tr>\n",
       "  </tbody>\n",
       "</table>\n",
       "</div>"
      ],
      "text/plain": [
       "              RATE\n",
       "POD               \n",
       "2005-07-19  2200.0\n",
       "2005-07-20  2250.0\n",
       "2005-07-21  2300.0\n",
       "2005-07-22  2280.0\n",
       "2005-07-23  2260.0"
      ]
     },
     "execution_count": 165,
     "metadata": {},
     "output_type": "execute_result"
    },
    {
     "data": {
      "text/html": [
       "<div>\n",
       "<style scoped>\n",
       "    .dataframe tbody tr th:only-of-type {\n",
       "        vertical-align: middle;\n",
       "    }\n",
       "\n",
       "    .dataframe tbody tr th {\n",
       "        vertical-align: top;\n",
       "    }\n",
       "\n",
       "    .dataframe thead th {\n",
       "        text-align: right;\n",
       "    }\n",
       "</style>\n",
       "<table border=\"1\" class=\"dataframe\">\n",
       "  <thead>\n",
       "    <tr style=\"text-align: right;\">\n",
       "      <th></th>\n",
       "      <th>RATE</th>\n",
       "    </tr>\n",
       "    <tr>\n",
       "      <th>POD</th>\n",
       "      <th></th>\n",
       "    </tr>\n",
       "  </thead>\n",
       "  <tbody>\n",
       "    <tr>\n",
       "      <th>2022-12-27</th>\n",
       "      <td>4121.43</td>\n",
       "    </tr>\n",
       "    <tr>\n",
       "      <th>2022-12-28</th>\n",
       "      <td>4142.86</td>\n",
       "    </tr>\n",
       "    <tr>\n",
       "      <th>2022-12-29</th>\n",
       "      <td>4164.29</td>\n",
       "    </tr>\n",
       "    <tr>\n",
       "      <th>2022-12-30</th>\n",
       "      <td>4185.71</td>\n",
       "    </tr>\n",
       "    <tr>\n",
       "      <th>2022-12-31</th>\n",
       "      <td>4207.14</td>\n",
       "    </tr>\n",
       "  </tbody>\n",
       "</table>\n",
       "</div>"
      ],
      "text/plain": [
       "               RATE\n",
       "POD                \n",
       "2022-12-27  4121.43\n",
       "2022-12-28  4142.86\n",
       "2022-12-29  4164.29\n",
       "2022-12-30  4185.71\n",
       "2022-12-31  4207.14"
      ]
     },
     "execution_count": 165,
     "metadata": {},
     "output_type": "execute_result"
    },
    {
     "name": "stdout",
     "output_type": "stream",
     "text": [
      "<class 'pandas.core.frame.DataFrame'>\n",
      "DatetimeIndex: 6375 entries, 2005-07-19 to 2022-12-31\n",
      "Data columns (total 1 columns):\n",
      " #   Column  Non-Null Count  Dtype  \n",
      "---  ------  --------------  -----  \n",
      " 0   RATE    6375 non-null   float64\n",
      "dtypes: float64(1)\n",
      "memory usage: 99.6 KB\n",
      "Dataset size: (6375, 1)\n"
     ]
    }
   ],
   "source": [
    "from sklearn.model_selection import train_test_split\n",
    "from sklearn.metrics import mean_squared_error\n",
    "import math  # for rounding up values\n",
    "import seaborn as sns\n",
    "import matplotlib.pyplot as plt\n",
    "from statsmodels.tsa.stattools import adfuller\n",
    "from statsmodels.graphics.tsaplots import plot_acf, plot_pacf\n",
    "from statsmodels.tsa.seasonal import seasonal_decompose\n",
    "import numpy as np\n",
    "import pandas as pd\n",
    "from IPython.core.interactiveshell import InteractiveShell\n",
    "InteractiveShell.ast_node_interactivity = \"all\"\n",
    "%matplotlib inline\n",
    "sns.set()\n",
    "pd.options.display.max_rows = 100\n",
    "\n",
    "df = pd.read_csv('CR_FC_PREP_0522.csv')\n",
    "df['POD'] = pd.to_datetime(df['POD'])\n",
    "df.set_index('POD', inplace=True)\n",
    "\n",
    "df.head()\n",
    "df.tail()\n",
    "df.info()\n",
    "print(f'Dataset size: {df.shape}')"
   ]
  },
  {
   "cell_type": "code",
   "execution_count": 166,
   "metadata": {},
   "outputs": [
    {
     "data": {
      "text/html": [
       "<div>\n",
       "<style scoped>\n",
       "    .dataframe tbody tr th:only-of-type {\n",
       "        vertical-align: middle;\n",
       "    }\n",
       "\n",
       "    .dataframe tbody tr th {\n",
       "        vertical-align: top;\n",
       "    }\n",
       "\n",
       "    .dataframe thead th {\n",
       "        text-align: right;\n",
       "    }\n",
       "</style>\n",
       "<table border=\"1\" class=\"dataframe\">\n",
       "  <thead>\n",
       "    <tr style=\"text-align: right;\">\n",
       "      <th></th>\n",
       "      <th>POD</th>\n",
       "      <th>RATE</th>\n",
       "    </tr>\n",
       "  </thead>\n",
       "  <tbody>\n",
       "    <tr>\n",
       "      <th>0</th>\n",
       "      <td>2023-01-01</td>\n",
       "      <td>4228.57</td>\n",
       "    </tr>\n",
       "    <tr>\n",
       "      <th>1</th>\n",
       "      <td>2023-01-02</td>\n",
       "      <td>4250.00</td>\n",
       "    </tr>\n",
       "    <tr>\n",
       "      <th>2</th>\n",
       "      <td>2023-01-03</td>\n",
       "      <td>2800.00</td>\n",
       "    </tr>\n",
       "    <tr>\n",
       "      <th>3</th>\n",
       "      <td>2023-01-04</td>\n",
       "      <td>2800.00</td>\n",
       "    </tr>\n",
       "    <tr>\n",
       "      <th>4</th>\n",
       "      <td>2023-01-05</td>\n",
       "      <td>2800.00</td>\n",
       "    </tr>\n",
       "  </tbody>\n",
       "</table>\n",
       "</div>"
      ],
      "text/plain": [
       "         POD     RATE\n",
       "0 2023-01-01  4228.57\n",
       "1 2023-01-02  4250.00\n",
       "2 2023-01-03  2800.00\n",
       "3 2023-01-04  2800.00\n",
       "4 2023-01-05  2800.00"
      ]
     },
     "execution_count": 166,
     "metadata": {},
     "output_type": "execute_result"
    },
    {
     "data": {
      "text/html": [
       "<div>\n",
       "<style scoped>\n",
       "    .dataframe tbody tr th:only-of-type {\n",
       "        vertical-align: middle;\n",
       "    }\n",
       "\n",
       "    .dataframe tbody tr th {\n",
       "        vertical-align: top;\n",
       "    }\n",
       "\n",
       "    .dataframe thead th {\n",
       "        text-align: right;\n",
       "    }\n",
       "</style>\n",
       "<table border=\"1\" class=\"dataframe\">\n",
       "  <thead>\n",
       "    <tr style=\"text-align: right;\">\n",
       "      <th></th>\n",
       "      <th>POD</th>\n",
       "      <th>RATE</th>\n",
       "    </tr>\n",
       "  </thead>\n",
       "  <tbody>\n",
       "    <tr>\n",
       "      <th>47</th>\n",
       "      <td>2023-02-17</td>\n",
       "      <td>1500.0</td>\n",
       "    </tr>\n",
       "    <tr>\n",
       "      <th>48</th>\n",
       "      <td>2023-02-18</td>\n",
       "      <td>1500.0</td>\n",
       "    </tr>\n",
       "    <tr>\n",
       "      <th>49</th>\n",
       "      <td>2023-02-19</td>\n",
       "      <td>1500.0</td>\n",
       "    </tr>\n",
       "    <tr>\n",
       "      <th>50</th>\n",
       "      <td>2023-02-20</td>\n",
       "      <td>1500.0</td>\n",
       "    </tr>\n",
       "    <tr>\n",
       "      <th>51</th>\n",
       "      <td>2023-02-21</td>\n",
       "      <td>1500.0</td>\n",
       "    </tr>\n",
       "  </tbody>\n",
       "</table>\n",
       "</div>"
      ],
      "text/plain": [
       "          POD    RATE\n",
       "47 2023-02-17  1500.0\n",
       "48 2023-02-18  1500.0\n",
       "49 2023-02-19  1500.0\n",
       "50 2023-02-20  1500.0\n",
       "51 2023-02-21  1500.0"
      ]
     },
     "execution_count": 166,
     "metadata": {},
     "output_type": "execute_result"
    },
    {
     "name": "stdout",
     "output_type": "stream",
     "text": [
      "<class 'pandas.core.frame.DataFrame'>\n",
      "RangeIndex: 52 entries, 0 to 51\n",
      "Data columns (total 2 columns):\n",
      " #   Column  Non-Null Count  Dtype         \n",
      "---  ------  --------------  -----         \n",
      " 0   POD     52 non-null     datetime64[ns]\n",
      " 1   RATE    52 non-null     float64       \n",
      "dtypes: datetime64[ns](1), float64(1)\n",
      "memory usage: 960.0 bytes\n",
      "Dataset size: (52, 2)\n"
     ]
    }
   ],
   "source": [
    "# After 2023 data to compare accuracy of forecast\n",
    "df_after = pd.read_csv('CR_FC_PREP_23.csv')\n",
    "df_after['POD'] = pd.to_datetime(df_after['POD'])\n",
    "\n",
    "# df_after.set_index('POD',inplace=True)\n",
    "\n",
    "df_after.head()\n",
    "df_after.tail()\n",
    "df_after.info()\n",
    "print(f'Dataset size: {df_after.shape}')"
   ]
  },
  {
   "cell_type": "code",
   "execution_count": 167,
   "metadata": {},
   "outputs": [
    {
     "data": {
      "text/plain": [
       "<Axes: xlabel='POD'>"
      ]
     },
     "execution_count": 167,
     "metadata": {},
     "output_type": "execute_result"
    },
    {
     "data": {
      "image/png": "[encoded data removed]",
      "text/plain": [
       "<Figure size 640x480 with 1 Axes>"
      ]
     },
     "metadata": {},
     "output_type": "display_data"
    }
   ],
   "source": [
    "df.plot()"
   ]
  },
  {
   "cell_type": "code",
   "execution_count": 168,
   "metadata": {},
   "outputs": [
    {
     "name": "stdout",
     "output_type": "stream",
     "text": [
      "Skewness of RATE column:  2.661237498037452\n",
      "The RATE column is positively skewed\n"
     ]
    }
   ],
   "source": [
    "from scipy.stats import skew\n",
    "skewness = skew(df['RATE'])\n",
    "\n",
    "# print the skewness value\n",
    "print(\"Skewness of RATE column: \", skewness)\n",
    "\n",
    "# check if the skewness is positive or negative\n",
    "if skewness > 0:\n",
    "    print(\"The RATE column is positively skewed\")\n",
    "elif skewness < 0:\n",
    "    print(\"The RATE column is negatively skewed\")\n",
    "else:\n",
    "    print(\"The RATE column is symmetric\")"
   ]
  },
  {
   "cell_type": "code",
   "execution_count": 169,
   "metadata": {},
   "outputs": [
    {
     "name": "stdout",
     "output_type": "stream",
     "text": [
      "ADF Statistic: -1.013402\n",
      "Critical Values:\n",
      "\t1%: -3.4313818532508247\n",
      "\t5%: -2.8619959887727875\n",
      "\t10%: -2.567012719725542\n",
      "p-value: 0.748345\n",
      "The data is non-stationary. Applying first-order differencing.\n"
     ]
    }
   ],
   "source": [
    "# Check the stationarity of the time series data\n",
    "result = adfuller(df['RATE'])\n",
    "print('ADF Statistic: %f' % result[0])\n",
    "print('Critical Values:')\n",
    "for key, value in result[4].items():\n",
    "    print(f'\\t{key}: {value}')\n",
    "print('p-value: %f' % result[1])\n",
    "if result[1] > 0.05:\n",
    "    print('The data is non-stationary. Applying first-order differencing.')\n",
    "    df['diff'] = df['RATE'].diff()\n",
    "    df = df.dropna()\n",
    "else:\n",
    "    print('The data is stationary.')"
   ]
  },
  {
   "cell_type": "code",
   "execution_count": 170,
   "metadata": {},
   "outputs": [
    {
     "data": {
      "image/png": "[encoded data removed]",
      "text/plain": [
       "<Figure size 800x600 with 2 Axes>"
      ]
     },
     "execution_count": 170,
     "metadata": {},
     "output_type": "execute_result"
    },
    {
     "name": "stderr",
     "output_type": "stream",
     "text": [
      "c:\\Users\\it1\\AppData\\Local\\Programs\\Python\\Python310\\lib\\site-packages\\statsmodels\\graphics\\tsaplots.py:348: FutureWarning: The default method 'yw' can produce PACF values outside of the [-1,1] interval. After 0.13, the default will change tounadjusted Yule-Walker ('ywm'). You can use this method now by setting method='ywm'.\n",
      "  warnings.warn(\n"
     ]
    },
    {
     "data": {
      "image/png": "[encoded data removed]",
      "text/plain": [
       "<Figure size 800x600 with 2 Axes>"
      ]
     },
     "execution_count": 170,
     "metadata": {},
     "output_type": "execute_result"
    },
    {
     "data": {
      "image/png": "[encoded data removed]",
      "text/plain": [
       "<Figure size 800x600 with 2 Axes>"
      ]
     },
     "metadata": {},
     "output_type": "display_data"
    },
    {
     "name": "stdout",
     "output_type": "stream",
     "text": [
      "p: 1, d: 1, q: 1\n"
     ]
    }
   ],
   "source": [
    "\n",
    "# Step 3: Determine the appropriate ARIMA parameters\n",
    "# check for stationarity using ADF test\n",
    "# plot ACF and PACF\n",
    "fig, (ax1, ax2) = plt.subplots(2, 1, figsize=(8, 6))\n",
    "plot_acf(df['diff'], ax=ax1, lags=20)\n",
    "plot_pacf(df['diff'], ax=ax2, lags=20)\n",
    "plt.show()\n",
    "\n",
    "# Step 4: Determine the values of p, d, and q\n",
    "p = 1 # number of AR terms (lags) from PACF plot\n",
    "d = 1 # first-order differencing\n",
    "q = 1# number of MA terms (lags) from ACF plot\n",
    "\n",
    "print(f'p: {p}, d: {d}, q: {q}')\n"
   ]
  },
  {
   "cell_type": "code",
   "execution_count": 171,
   "metadata": {},
   "outputs": [],
   "source": [
    "# Decompose the time series into its trend, seasonal, and residual components\n",
    "decomposition = seasonal_decompose(df['RATE'], model='additive', period=365)"
   ]
  },
  {
   "attachments": {},
   "cell_type": "markdown",
   "metadata": {},
   "source": [
    "<h4>Transformation to target variable</h4>"
   ]
  },
  {
   "cell_type": "code",
   "execution_count": 172,
   "metadata": {},
   "outputs": [],
   "source": [
    "def applyLogTrans(df):\n",
    "    # Apply a logarithmic transformation to the rate variable\n",
    "    return  np.log(df['RATE'])"
   ]
  },
  {
   "cell_type": "code",
   "execution_count": 173,
   "metadata": {},
   "outputs": [
    {
     "name": "stderr",
     "output_type": "stream",
     "text": [
      "C:\\Users\\it1\\AppData\\Local\\Temp\\ipykernel_2916\\428569334.py:1: SettingWithCopyWarning: \n",
      "A value is trying to be set on a copy of a slice from a DataFrame.\n",
      "Try using .loc[row_indexer,col_indexer] = value instead\n",
      "\n",
      "See the caveats in the documentation: https://pandas.pydata.org/pandas-docs/stable/user_guide/indexing.html#returning-a-view-versus-a-copy\n",
      "  df['RATE_LOG'] = applyLogTrans(df)\n"
     ]
    },
    {
     "data": {
      "text/html": [
       "<div>\n",
       "<style scoped>\n",
       "    .dataframe tbody tr th:only-of-type {\n",
       "        vertical-align: middle;\n",
       "    }\n",
       "\n",
       "    .dataframe tbody tr th {\n",
       "        vertical-align: top;\n",
       "    }\n",
       "\n",
       "    .dataframe thead th {\n",
       "        text-align: right;\n",
       "    }\n",
       "</style>\n",
       "<table border=\"1\" class=\"dataframe\">\n",
       "  <thead>\n",
       "    <tr style=\"text-align: right;\">\n",
       "      <th></th>\n",
       "      <th>RATE</th>\n",
       "      <th>diff</th>\n",
       "      <th>RATE_LOG</th>\n",
       "    </tr>\n",
       "    <tr>\n",
       "      <th>POD</th>\n",
       "      <th></th>\n",
       "      <th></th>\n",
       "      <th></th>\n",
       "    </tr>\n",
       "  </thead>\n",
       "  <tbody>\n",
       "    <tr>\n",
       "      <th>2005-07-20</th>\n",
       "      <td>2250.0</td>\n",
       "      <td>50.0</td>\n",
       "      <td>7.718685</td>\n",
       "    </tr>\n",
       "    <tr>\n",
       "      <th>2005-07-21</th>\n",
       "      <td>2300.0</td>\n",
       "      <td>50.0</td>\n",
       "      <td>7.740664</td>\n",
       "    </tr>\n",
       "    <tr>\n",
       "      <th>2005-07-22</th>\n",
       "      <td>2280.0</td>\n",
       "      <td>-20.0</td>\n",
       "      <td>7.731931</td>\n",
       "    </tr>\n",
       "    <tr>\n",
       "      <th>2005-07-23</th>\n",
       "      <td>2260.0</td>\n",
       "      <td>-20.0</td>\n",
       "      <td>7.723120</td>\n",
       "    </tr>\n",
       "    <tr>\n",
       "      <th>2005-07-24</th>\n",
       "      <td>2240.0</td>\n",
       "      <td>-20.0</td>\n",
       "      <td>7.714231</td>\n",
       "    </tr>\n",
       "  </tbody>\n",
       "</table>\n",
       "</div>"
      ],
      "text/plain": [
       "              RATE  diff  RATE_LOG\n",
       "POD                               \n",
       "2005-07-20  2250.0  50.0  7.718685\n",
       "2005-07-21  2300.0  50.0  7.740664\n",
       "2005-07-22  2280.0 -20.0  7.731931\n",
       "2005-07-23  2260.0 -20.0  7.723120\n",
       "2005-07-24  2240.0 -20.0  7.714231"
      ]
     },
     "execution_count": 173,
     "metadata": {},
     "output_type": "execute_result"
    }
   ],
   "source": [
    "df['RATE_LOG'] = applyLogTrans(df)\n",
    "df.head()"
   ]
  },
  {
   "attachments": {},
   "cell_type": "markdown",
   "metadata": {},
   "source": [
    "<h4>Start Performing Time Series Algorithm</h4>"
   ]
  },
  {
   "cell_type": "code",
   "execution_count": 174,
   "metadata": {},
   "outputs": [],
   "source": [
    "from statsmodels.tsa.arima.model import ARIMA\n",
    "import pmdarima as pm\n",
    "\n",
    "def find_AutoARIMA(df):\n",
    "    # Fit the Auto ARIMA model\n",
    "    model = pm.auto_arima(df['RATE_LOG'], seasonal=False, suppress_warnings=True, error_action=\"ignore\", stepwise=True, trace=True, test='adf')\n",
    "    model.summary()\n",
    "\n",
    "    return model"
   ]
  },
  {
   "cell_type": "code",
   "execution_count": 175,
   "metadata": {},
   "outputs": [
    {
     "name": "stdout",
     "output_type": "stream",
     "text": [
      "Performing stepwise search to minimize aic\n",
      " ARIMA(2,1,2)(0,0,0)[0] intercept   : AIC=-11630.683, Time=6.48 sec\n",
      " ARIMA(0,1,0)(0,0,0)[0] intercept   : AIC=-10962.721, Time=0.72 sec\n",
      " ARIMA(1,1,0)(0,0,0)[0] intercept   : AIC=-11041.993, Time=1.00 sec\n",
      " ARIMA(0,1,1)(0,0,0)[0] intercept   : AIC=-11060.112, Time=0.86 sec\n",
      " ARIMA(0,1,0)(0,0,0)[0]             : AIC=-10964.715, Time=0.32 sec\n",
      " ARIMA(1,1,2)(0,0,0)[0] intercept   : AIC=-11431.043, Time=5.20 sec\n",
      " ARIMA(2,1,1)(0,0,0)[0] intercept   : AIC=-11474.664, Time=4.87 sec\n",
      " ARIMA(3,1,2)(0,0,0)[0] intercept   : AIC=inf, Time=6.47 sec\n",
      " ARIMA(2,1,3)(0,0,0)[0] intercept   : AIC=-11458.956, Time=8.38 sec\n",
      " ARIMA(1,1,1)(0,0,0)[0] intercept   : AIC=-11141.191, Time=3.21 sec\n",
      " ARIMA(1,1,3)(0,0,0)[0] intercept   : AIC=-11464.453, Time=9.72 sec\n",
      " ARIMA(3,1,1)(0,0,0)[0] intercept   : AIC=-11500.551, Time=6.70 sec\n",
      " ARIMA(3,1,3)(0,0,0)[0] intercept   : AIC=-11557.699, Time=9.25 sec\n",
      " ARIMA(2,1,2)(0,0,0)[0]             : AIC=-11775.091, Time=3.81 sec\n",
      " ARIMA(1,1,2)(0,0,0)[0]             : AIC=-11433.011, Time=1.87 sec\n",
      " ARIMA(2,1,1)(0,0,0)[0]             : AIC=-11476.641, Time=2.39 sec\n",
      " ARIMA(3,1,2)(0,0,0)[0]             : AIC=-11811.227, Time=5.51 sec\n",
      " ARIMA(3,1,1)(0,0,0)[0]             : AIC=-11502.533, Time=1.50 sec\n",
      " ARIMA(4,1,2)(0,0,0)[0]             : AIC=-12020.508, Time=5.58 sec\n",
      " ARIMA(4,1,1)(0,0,0)[0]             : AIC=-11572.372, Time=1.86 sec\n",
      " ARIMA(5,1,2)(0,0,0)[0]             : AIC=-11632.933, Time=5.65 sec\n",
      " ARIMA(4,1,3)(0,0,0)[0]             : AIC=-11989.881, Time=5.35 sec\n",
      " ARIMA(3,1,3)(0,0,0)[0]             : AIC=-11631.645, Time=4.31 sec\n",
      " ARIMA(5,1,1)(0,0,0)[0]             : AIC=-11653.928, Time=3.58 sec\n",
      " ARIMA(5,1,3)(0,0,0)[0]             : AIC=-12146.080, Time=6.38 sec\n",
      " ARIMA(5,1,4)(0,0,0)[0]             : AIC=-12456.633, Time=6.45 sec\n",
      " ARIMA(4,1,4)(0,0,0)[0]             : AIC=-11967.172, Time=6.24 sec\n",
      " ARIMA(5,1,5)(0,0,0)[0]             : AIC=-12352.702, Time=7.65 sec\n",
      " ARIMA(4,1,5)(0,0,0)[0]             : AIC=-12452.507, Time=6.93 sec\n",
      " ARIMA(5,1,4)(0,0,0)[0] intercept   : AIC=-12353.403, Time=14.31 sec\n",
      "\n",
      "Best model:  ARIMA(5,1,4)(0,0,0)[0]          \n",
      "Total fit time: 152.629 seconds\n"
     ]
    }
   ],
   "source": [
    "# Auto Arima\n",
    "arimaModel = find_AutoARIMA(df)"
   ]
  },
  {
   "attachments": {},
   "cell_type": "markdown",
   "metadata": {},
   "source": [
    "<h4>Creating new dates after 52 days with 1 empty column</h4>"
   ]
  },
  {
   "cell_type": "code",
   "execution_count": 176,
   "metadata": {},
   "outputs": [],
   "source": [
    "from datetime import timedelta\n",
    "\n",
    "# start_date = df.index[-1] + timedelta(days=1)\n",
    "# print(start_date)\n",
    "n_periods = 52\n",
    "\n",
    "def newDateFrame(df, n_periods):\n",
    "    # Create a data frame for the forecast for the next 24 months\n",
    "    index_of_fc = pd.date_range(start=df.index[-1], periods = n_periods+1, freq='D')\n",
    "    newFrameName = pd.DataFrame(index=index_of_fc[1:],columns=df.columns)\n",
    "    newFrameName.iloc[1:]\n",
    "    newFrameName.shape\n",
    "\n",
    "    return newFrameName"
   ]
  },
  {
   "cell_type": "code",
   "execution_count": 177,
   "metadata": {},
   "outputs": [
    {
     "data": {
      "text/html": [
       "<div>\n",
       "<style scoped>\n",
       "    .dataframe tbody tr th:only-of-type {\n",
       "        vertical-align: middle;\n",
       "    }\n",
       "\n",
       "    .dataframe tbody tr th {\n",
       "        vertical-align: top;\n",
       "    }\n",
       "\n",
       "    .dataframe thead th {\n",
       "        text-align: right;\n",
       "    }\n",
       "</style>\n",
       "<table border=\"1\" class=\"dataframe\">\n",
       "  <thead>\n",
       "    <tr style=\"text-align: right;\">\n",
       "      <th></th>\n",
       "      <th>RATE</th>\n",
       "      <th>diff</th>\n",
       "      <th>RATE_LOG</th>\n",
       "    </tr>\n",
       "  </thead>\n",
       "  <tbody>\n",
       "    <tr>\n",
       "      <th>2023-01-01</th>\n",
       "      <td>NaN</td>\n",
       "      <td>NaN</td>\n",
       "      <td>NaN</td>\n",
       "    </tr>\n",
       "    <tr>\n",
       "      <th>2023-01-02</th>\n",
       "      <td>NaN</td>\n",
       "      <td>NaN</td>\n",
       "      <td>NaN</td>\n",
       "    </tr>\n",
       "    <tr>\n",
       "      <th>2023-01-03</th>\n",
       "      <td>NaN</td>\n",
       "      <td>NaN</td>\n",
       "      <td>NaN</td>\n",
       "    </tr>\n",
       "    <tr>\n",
       "      <th>2023-01-04</th>\n",
       "      <td>NaN</td>\n",
       "      <td>NaN</td>\n",
       "      <td>NaN</td>\n",
       "    </tr>\n",
       "    <tr>\n",
       "      <th>2023-01-05</th>\n",
       "      <td>NaN</td>\n",
       "      <td>NaN</td>\n",
       "      <td>NaN</td>\n",
       "    </tr>\n",
       "  </tbody>\n",
       "</table>\n",
       "</div>"
      ],
      "text/plain": [
       "           RATE diff RATE_LOG\n",
       "2023-01-01  NaN  NaN      NaN\n",
       "2023-01-02  NaN  NaN      NaN\n",
       "2023-01-03  NaN  NaN      NaN\n",
       "2023-01-04  NaN  NaN      NaN\n",
       "2023-01-05  NaN  NaN      NaN"
      ]
     },
     "execution_count": 177,
     "metadata": {},
     "output_type": "execute_result"
    },
    {
     "data": {
      "text/html": [
       "<div>\n",
       "<style scoped>\n",
       "    .dataframe tbody tr th:only-of-type {\n",
       "        vertical-align: middle;\n",
       "    }\n",
       "\n",
       "    .dataframe tbody tr th {\n",
       "        vertical-align: top;\n",
       "    }\n",
       "\n",
       "    .dataframe thead th {\n",
       "        text-align: right;\n",
       "    }\n",
       "</style>\n",
       "<table border=\"1\" class=\"dataframe\">\n",
       "  <thead>\n",
       "    <tr style=\"text-align: right;\">\n",
       "      <th></th>\n",
       "      <th>RATE</th>\n",
       "      <th>diff</th>\n",
       "      <th>RATE_LOG</th>\n",
       "    </tr>\n",
       "  </thead>\n",
       "  <tbody>\n",
       "    <tr>\n",
       "      <th>2023-02-17</th>\n",
       "      <td>NaN</td>\n",
       "      <td>NaN</td>\n",
       "      <td>NaN</td>\n",
       "    </tr>\n",
       "    <tr>\n",
       "      <th>2023-02-18</th>\n",
       "      <td>NaN</td>\n",
       "      <td>NaN</td>\n",
       "      <td>NaN</td>\n",
       "    </tr>\n",
       "    <tr>\n",
       "      <th>2023-02-19</th>\n",
       "      <td>NaN</td>\n",
       "      <td>NaN</td>\n",
       "      <td>NaN</td>\n",
       "    </tr>\n",
       "    <tr>\n",
       "      <th>2023-02-20</th>\n",
       "      <td>NaN</td>\n",
       "      <td>NaN</td>\n",
       "      <td>NaN</td>\n",
       "    </tr>\n",
       "    <tr>\n",
       "      <th>2023-02-21</th>\n",
       "      <td>NaN</td>\n",
       "      <td>NaN</td>\n",
       "      <td>NaN</td>\n",
       "    </tr>\n",
       "  </tbody>\n",
       "</table>\n",
       "</div>"
      ],
      "text/plain": [
       "           RATE diff RATE_LOG\n",
       "2023-02-17  NaN  NaN      NaN\n",
       "2023-02-18  NaN  NaN      NaN\n",
       "2023-02-19  NaN  NaN      NaN\n",
       "2023-02-20  NaN  NaN      NaN\n",
       "2023-02-21  NaN  NaN      NaN"
      ]
     },
     "execution_count": 177,
     "metadata": {},
     "output_type": "execute_result"
    },
    {
     "name": "stdout",
     "output_type": "stream",
     "text": [
      "<class 'pandas.core.frame.DataFrame'>\n",
      "DatetimeIndex: 52 entries, 2023-01-01 to 2023-02-21\n",
      "Freq: D\n",
      "Data columns (total 3 columns):\n",
      " #   Column    Non-Null Count  Dtype \n",
      "---  ------    --------------  ----- \n",
      " 0   RATE      0 non-null      object\n",
      " 1   diff      0 non-null      object\n",
      " 2   RATE_LOG  0 non-null      object\n",
      "dtypes: object(3)\n",
      "memory usage: 1.6+ KB\n"
     ]
    }
   ],
   "source": [
    "arima_df = newDateFrame(df, n_periods)\n",
    "arima_df.head()\n",
    "arima_df.tail()\n",
    "arima_df.info()"
   ]
  },
  {
   "attachments": {},
   "cell_type": "markdown",
   "metadata": {},
   "source": [
    "<h4>Forecasting values</h4>"
   ]
  },
  {
   "cell_type": "code",
   "execution_count": 178,
   "metadata": {},
   "outputs": [
    {
     "name": "stdout",
     "output_type": "stream",
     "text": [
      "2023-01-01    4202.081245\n",
      "2023-01-02    4193.034996\n",
      "2023-01-03    4188.107670\n",
      "2023-01-04    4187.453967\n",
      "2023-01-05    4187.467566\n",
      "2023-01-06    4193.679195\n",
      "2023-01-07    4200.407296\n",
      "2023-01-08    4197.838616\n",
      "2023-01-09    4191.440566\n",
      "2023-01-10    4189.832889\n",
      "2023-01-11    4190.131463\n",
      "2023-01-12    4190.431212\n",
      "2023-01-13    4194.076660\n",
      "2023-01-14    4197.469667\n",
      "2023-01-15    4195.124985\n",
      "2023-01-16    4191.345910\n",
      "2023-01-17    4191.071596\n",
      "2023-01-18    4191.639178\n",
      "2023-01-19    4191.850340\n",
      "2023-01-20    4193.946452\n",
      "2023-01-21    4195.597793\n",
      "2023-01-22    4193.782370\n",
      "2023-01-23    4191.645172\n",
      "2023-01-24    4191.911292\n",
      "2023-01-25    4192.415699\n",
      "2023-01-26    4192.499295\n",
      "2023-01-27    4193.685542\n",
      "2023-01-28    4194.458354\n",
      "2023-01-29    4193.167410\n",
      "2023-01-30    4192.012452\n",
      "2023-01-31    4192.428811\n",
      "2023-02-01    4192.784096\n",
      "2023-02-02    4192.777638\n",
      "2023-02-03    4193.445001\n",
      "2023-02-04    4193.789165\n",
      "2023-02-05    4192.918559\n",
      "2023-02-06    4192.326517\n",
      "2023-02-07    4192.723240\n",
      "2023-02-08    4192.939479\n",
      "2023-02-09    4192.887752\n",
      "2023-02-10    4193.265167\n",
      "2023-02-11    4193.407867\n",
      "2023-02-12    4192.841566\n",
      "2023-02-13    4192.558614\n",
      "2023-02-14    4192.877475\n",
      "2023-02-15    4192.992035\n",
      "2023-02-16    4192.926968\n",
      "2023-02-17    4193.144087\n",
      "2023-02-18    4193.196275\n",
      "2023-02-19    4192.837304\n",
      "2023-02-20    4192.716236\n",
      "2023-02-21    4192.950189\n",
      "Freq: D, dtype: float64\n",
      "52\n"
     ]
    },
    {
     "data": {
      "text/html": [
       "<div>\n",
       "<style scoped>\n",
       "    .dataframe tbody tr th:only-of-type {\n",
       "        vertical-align: middle;\n",
       "    }\n",
       "\n",
       "    .dataframe tbody tr th {\n",
       "        vertical-align: top;\n",
       "    }\n",
       "\n",
       "    .dataframe thead th {\n",
       "        text-align: right;\n",
       "    }\n",
       "</style>\n",
       "<table border=\"1\" class=\"dataframe\">\n",
       "  <thead>\n",
       "    <tr style=\"text-align: right;\">\n",
       "      <th></th>\n",
       "      <th>RATE</th>\n",
       "      <th>diff</th>\n",
       "    </tr>\n",
       "  </thead>\n",
       "  <tbody>\n",
       "    <tr>\n",
       "      <th>2023-01-01</th>\n",
       "      <td>4202.08</td>\n",
       "      <td>NaN</td>\n",
       "    </tr>\n",
       "    <tr>\n",
       "      <th>2023-01-02</th>\n",
       "      <td>4193.03</td>\n",
       "      <td>NaN</td>\n",
       "    </tr>\n",
       "    <tr>\n",
       "      <th>2023-01-03</th>\n",
       "      <td>4188.11</td>\n",
       "      <td>NaN</td>\n",
       "    </tr>\n",
       "    <tr>\n",
       "      <th>2023-01-04</th>\n",
       "      <td>4187.45</td>\n",
       "      <td>NaN</td>\n",
       "    </tr>\n",
       "    <tr>\n",
       "      <th>2023-01-05</th>\n",
       "      <td>4187.47</td>\n",
       "      <td>NaN</td>\n",
       "    </tr>\n",
       "  </tbody>\n",
       "</table>\n",
       "</div>"
      ],
      "text/plain": [
       "               RATE diff\n",
       "2023-01-01  4202.08  NaN\n",
       "2023-01-02  4193.03  NaN\n",
       "2023-01-03  4188.11  NaN\n",
       "2023-01-04  4187.45  NaN\n",
       "2023-01-05  4187.47  NaN"
      ]
     },
     "execution_count": 178,
     "metadata": {},
     "output_type": "execute_result"
    }
   ],
   "source": [
    "# Forecast the future values using ARIMA\n",
    "forecast_arima_log = arimaModel.predict(n_periods=n_periods)\n",
    "\n",
    "# Transform the forecasted values back to original scale\n",
    "forecast_arima = np.exp(forecast_arima_log)\n",
    "\n",
    "print(forecast_arima)\n",
    "print(len(forecast_arima))\n",
    "\n",
    "arima_df['RATE'] = forecast_arima\n",
    "arima_df['RATE'] = arima_df['RATE'].apply(lambda x: round(x, 2))\n",
    "\n",
    "# Remove RATE_LOG column to return back to original\n",
    "arima_df = arima_df.drop('RATE_LOG',axis=1)\n",
    "arima_df.head()"
   ]
  },
  {
   "attachments": {},
   "cell_type": "markdown",
   "metadata": {},
   "source": [
    "<h4>Measure accuracy comparing with actual cost rate</h4>"
   ]
  },
  {
   "cell_type": "code",
   "execution_count": 179,
   "metadata": {},
   "outputs": [],
   "source": [
    "from sklearn.metrics import r2_score, mean_absolute_error\n",
    "def findACC(forecast_df, actual_df):\n",
    "\n",
    "    # Actual Data\n",
    "    actual_y = actual_df['RATE']\n",
    "\n",
    "    # Forecasted Data\n",
    "    forecast_Y = forecast_df['RATE']\n",
    "\n",
    "    # Calculate the accuracy of the model using mean absolute error and R-squared\n",
    "    mae = mean_absolute_error(actual_y, forecast_Y)\n",
    "    r2 = r2_score(actual_y, forecast_Y)\n",
    "\n",
    "    print(f\"Mean absolute error: {mae:.3f}\")\n",
    "    print(f\"R-squared value: {r2:.3f}\")"
   ]
  },
  {
   "cell_type": "code",
   "execution_count": 180,
   "metadata": {},
   "outputs": [
    {
     "name": "stdout",
     "output_type": "stream",
     "text": [
      "Mean absolute error: 1851.360\n",
      "R-squared value: -5.255\n"
     ]
    }
   ],
   "source": [
    "findACC(arima_df, df_after)"
   ]
  },
  {
   "cell_type": "code",
   "execution_count": 185,
   "metadata": {},
   "outputs": [
    {
     "ename": "KeyError",
     "evalue": "\"None of ['POD'] are in the columns\"",
     "output_type": "error",
     "traceback": [
      "\u001b[1;31m---------------------------------------------------------------------------\u001b[0m",
      "\u001b[1;31mKeyError\u001b[0m                                  Traceback (most recent call last)",
      "Cell \u001b[1;32mIn[185], line 1\u001b[0m\n\u001b[1;32m----> 1\u001b[0m df_after\u001b[39m.\u001b[39;49mset_index(\u001b[39m'\u001b[39;49m\u001b[39mPOD\u001b[39;49m\u001b[39m'\u001b[39;49m, inplace\u001b[39m=\u001b[39;49m\u001b[39mTrue\u001b[39;49;00m)\n",
      "File \u001b[1;32mc:\\Users\\it1\\AppData\\Local\\Programs\\Python\\Python310\\lib\\site-packages\\pandas\\util\\_decorators.py:331\u001b[0m, in \u001b[0;36mdeprecate_nonkeyword_arguments.<locals>.decorate.<locals>.wrapper\u001b[1;34m(*args, **kwargs)\u001b[0m\n\u001b[0;32m    325\u001b[0m \u001b[39mif\u001b[39;00m \u001b[39mlen\u001b[39m(args) \u001b[39m>\u001b[39m num_allow_args:\n\u001b[0;32m    326\u001b[0m     warnings\u001b[39m.\u001b[39mwarn(\n\u001b[0;32m    327\u001b[0m         msg\u001b[39m.\u001b[39mformat(arguments\u001b[39m=\u001b[39m_format_argument_list(allow_args)),\n\u001b[0;32m    328\u001b[0m         \u001b[39mFutureWarning\u001b[39;00m,\n\u001b[0;32m    329\u001b[0m         stacklevel\u001b[39m=\u001b[39mfind_stack_level(),\n\u001b[0;32m    330\u001b[0m     )\n\u001b[1;32m--> 331\u001b[0m \u001b[39mreturn\u001b[39;00m func(\u001b[39m*\u001b[39margs, \u001b[39m*\u001b[39m\u001b[39m*\u001b[39mkwargs)\n",
      "File \u001b[1;32mc:\\Users\\it1\\AppData\\Local\\Programs\\Python\\Python310\\lib\\site-packages\\pandas\\core\\frame.py:6012\u001b[0m, in \u001b[0;36mDataFrame.set_index\u001b[1;34m(self, keys, drop, append, inplace, verify_integrity)\u001b[0m\n\u001b[0;32m   6009\u001b[0m                 missing\u001b[39m.\u001b[39mappend(col)\n\u001b[0;32m   6011\u001b[0m \u001b[39mif\u001b[39;00m missing:\n\u001b[1;32m-> 6012\u001b[0m     \u001b[39mraise\u001b[39;00m \u001b[39mKeyError\u001b[39;00m(\u001b[39mf\u001b[39m\u001b[39m\"\u001b[39m\u001b[39mNone of \u001b[39m\u001b[39m{\u001b[39;00mmissing\u001b[39m}\u001b[39;00m\u001b[39m are in the columns\u001b[39m\u001b[39m\"\u001b[39m)\n\u001b[0;32m   6014\u001b[0m \u001b[39mif\u001b[39;00m inplace:\n\u001b[0;32m   6015\u001b[0m     frame \u001b[39m=\u001b[39m \u001b[39mself\u001b[39m\n",
      "\u001b[1;31mKeyError\u001b[0m: \"None of ['POD'] are in the columns\""
     ]
    }
   ],
   "source": [
    "# df_after.set_index('POD', inplace=True)"
   ]
  },
  {
   "cell_type": "code",
   "execution_count": 184,
   "metadata": {},
   "outputs": [],
   "source": [
    "# # Plot the forecast with current dataset\n",
    "# plt.figure(figsize=(20, 8))\n",
    "# plt.plot(df)\n",
    "# plt.plot(arima_df, color='darkgreen')\n",
    "# plt.plot(df_after, color='darkred')\n",
    "# plt.title(\"Final Forecast of COST_RATE\")\n",
    "# plt.show()"
   ]
  }
 ],
 "metadata": {
  "kernelspec": {
   "display_name": "cr_cost",
   "language": "python",
   "name": "python3"
  },
  "language_info": {
   "codemirror_mode": {
    "name": "ipython",
    "version": 3
   },
   "file_extension": ".py",
   "mimetype": "text/x-python",
   "name": "python",
   "nbconvert_exporter": "python",
   "pygments_lexer": "ipython3",
   "version": "3.10.9"
  },
  "orig_nbformat": 4,
  "vscode": {
   "interpreter": {
    "hash": "35c99ecfd3520e8cb362ca49665fad7e5878e4df74c90d86ad8c1e00b47df641"
   }
  }
 },
 "nbformat": 4,
 "nbformat_minor": 2
}
