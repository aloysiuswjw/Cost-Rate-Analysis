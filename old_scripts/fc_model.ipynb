{
 "cells": [
  {
   "cell_type": "code",
   "execution_count": 1,
   "metadata": {},
   "outputs": [
    {
     "name": "stdout",
     "output_type": "stream",
     "text": [
      "<class 'pandas.core.frame.DataFrame'>\n",
      "RangeIndex: 6375 entries, 0 to 6374\n",
      "Data columns (total 2 columns):\n",
      " #   Column  Non-Null Count  Dtype  \n",
      "---  ------  --------------  -----  \n",
      " 0   POD     6375 non-null   object \n",
      " 1   RATE    6375 non-null   float64\n",
      "dtypes: float64(1), object(1)\n",
      "memory usage: 99.7+ KB\n",
      "Dataset size: (6375, 2)\n"
     ]
    }
   ],
   "source": [
    "import numpy as np\n",
    "import pandas as pd\n",
    "import seaborn as sns\n",
    "import matplotlib.pyplot as plt\n",
    "import numpy as np\n",
    "import pandas as pd\n",
    "from IPython.core.interactiveshell import InteractiveShell\n",
    "InteractiveShell.ast_node_interactivity = \"all\"\n",
    "%matplotlib inline\n",
    "sns.set()\n",
    "pd.options.display.max_rows = 100\n",
    "\n",
    "df = pd.read_csv('CR_FC_PREP_0522.csv')\n",
    "\n",
    "df.head()\n",
    "df.info()\n",
    "print(f'Dataset size: {df.shape}')"
   ]
  },
  {
   "cell_type": "code",
   "execution_count": 2,
   "metadata": {},
   "outputs": [
    {
     "name": "stdout",
     "output_type": "stream",
     "text": [
      "<class 'pandas.core.frame.DataFrame'>\n",
      "RangeIndex: 6375 entries, 0 to 6374\n",
      "Data columns (total 2 columns):\n",
      " #   Column  Non-Null Count  Dtype         \n",
      "---  ------  --------------  -----         \n",
      " 0   POD     6375 non-null   datetime64[ns]\n",
      " 1   RATE    6375 non-null   float64       \n",
      "dtypes: datetime64[ns](1), float64(1)\n",
      "memory usage: 99.7 KB\n"
     ]
    }
   ],
   "source": [
    "df['POD'] = pd.to_datetime(df['POD'])\n",
    "df.info()"
   ]
  },
  {
   "cell_type": "code",
   "execution_count": 3,
   "metadata": {},
   "outputs": [
    {
     "name": "stdout",
     "output_type": "stream",
     "text": [
      "Skewness of RATE column:  2.661237498037452\n",
      "The RATE column is positively skewed\n"
     ]
    }
   ],
   "source": [
    "from scipy.stats import skew\n",
    "skewness = skew(df['RATE'])\n",
    "\n",
    "# print the skewness value\n",
    "print(\"Skewness of RATE column: \", skewness)\n",
    "\n",
    "# check if the skewness is positive or negative\n",
    "if skewness > 0:\n",
    "    print(\"The RATE column is positively skewed\")\n",
    "elif skewness < 0:\n",
    "    print(\"The RATE column is negatively skewed\")\n",
    "else:\n",
    "    print(\"The RATE column is symmetric\")"
   ]
  },
  {
   "attachments": {},
   "cell_type": "markdown",
   "metadata": {},
   "source": [
    "Rate is positively skewed, it means that there are more values towards the lower end of the distribution, and fewer values towards the higher end."
   ]
  },
  {
   "cell_type": "code",
   "execution_count": 4,
   "metadata": {},
   "outputs": [],
   "source": [
    "from sklearn.linear_model import LinearRegression\n",
    "from sklearn.metrics import mean_squared_error, r2_score,accuracy_score\n",
    "\n",
    "# Linear Regression \n",
    "def findLR(X_train, X_test, y_train, y_test):\n",
    "    # Create a linear regression model\n",
    "    model = LinearRegression()\n",
    "\n",
    "    # Fit the model on the training data\n",
    "    model.fit(X_train, y_train)\n",
    "\n",
    "    # Make predictions on the testing data\n",
    "    y_pred = model.predict(X_test)\n",
    "\n",
    "    # Calculate the root mean squared error\n",
    "    rmse = np.sqrt(mean_squared_error(y_test, y_pred))\n",
    "\n",
    "    # Calculate the R-squared value\n",
    "    r2 = r2_score(y_test, y_pred)\n",
    "\n",
    "    # Calculate accuracy of your model in percentage\n",
    "    accuracy = r2 * 100\n",
    "    \n",
    "    # Print the results\n",
    "    print('Root Mean Squared Error:', round(rmse, 3))\n",
    "    print('R-squared:', round(r2, 3))\n",
    "    print(f\"Accuracy: {accuracy:.2f}%\")"
   ]
  },
  {
   "attachments": {},
   "cell_type": "markdown",
   "metadata": {},
   "source": [
    "<p>The script for linear regression is using R-squared as the metric to calculate the accuracy of the model. R-squared measures the proportion of the variance in the dependent variable that is explained by the independent variable(s) in the model. It ranges from 0 to 1, with 1 indicating a perfect fit of the model to the data. Therefore, to convert the R-squared value to a percentage, we multiply it by 100.</p>"
   ]
  },
  {
   "cell_type": "code",
   "execution_count": 5,
   "metadata": {},
   "outputs": [],
   "source": [
    "from sklearn.tree import DecisionTreeRegressor\n",
    "\n",
    "def findDT(X_train, X_test, y_train, y_test):\n",
    "    # Train the model\n",
    "    model = DecisionTreeRegressor()\n",
    "    model.fit(X_train, y_train)\n",
    "\n",
    "    # Make predictions on test data\n",
    "    predictions = model.predict(X_test)\n",
    "\n",
    "    # Calculate mean squared error between actual and predicted values\n",
    "    mse = mean_squared_error(y_test, predictions)\n",
    "\n",
    "    # Calculate root mean squared error\n",
    "    rmse = np.sqrt(mse)\n",
    "\n",
    "    # Calculate R-squared value\n",
    "    r2 = r2_score(y_test, predictions)\n",
    "\n",
    "    # Calculate mean value of your actual data\n",
    "    mean = np.mean(y_test)\n",
    "\n",
    "    # Calculate accuracy of your model in percentage\n",
    "    accuracy = (1 - rmse/mean) * 100\n",
    "\n",
    "    print('Root Mean Squared Error:', round(rmse, 3))\n",
    "    print('R-squared:', round(r2, 3))\n",
    "    print(f\"Accuracy: {accuracy:.2f}%\")"
   ]
  },
  {
   "attachments": {},
   "cell_type": "markdown",
   "metadata": {},
   "source": [
    "<p>The script for decision trees is using RMSE (root mean squared error) to calculate the accuracy of the model. RMSE is a measure of the differences between predicted and actual values, and it is expressed in the same units as the dependent variable. To convert RMSE to a percentage, we use the formula (1 - RMSE/mean) * 100. This formula calculates the percentage of variance in the dependent variable that is explained by the model.</p>"
   ]
  },
  {
   "cell_type": "code",
   "execution_count": 6,
   "metadata": {},
   "outputs": [],
   "source": [
    "from sklearn.ensemble import RandomForestRegressor\n",
    "\n",
    "def findRF(X_train, X_test, y_train, y_test):\n",
    "    # Build the random forest model\n",
    "    rf_model = RandomForestRegressor(n_estimators=100, random_state=42)\n",
    "    rf_model.fit(X_train, y_train)\n",
    "\n",
    "    # Predict the test data\n",
    "    y_pred = rf_model.predict(X_test)\n",
    "\n",
    "    # Calculate the root mean squared error\n",
    "    rmse = mean_squared_error(y_test, y_pred, squared=False)\n",
    "    \n",
    "    # Calculate the R-squared value\n",
    "    r2 = r2_score(y_test, y_pred)\n",
    "\n",
    "    # Calculate the accuracy score in percentage\n",
    "    mean = y_test.mean()\n",
    "    accuracy = (1 - rmse/mean) * 100\n",
    "\n",
    "    print(\"Root Mean Squared Error:\", round(rmse, 3))\n",
    "    print(\"R-squared Value:\", round(r2, 3))\n",
    "    print(\"Accuracy Score:\", round(accuracy, 2), \"%\")"
   ]
  },
  {
   "cell_type": "code",
   "execution_count": 7,
   "metadata": {},
   "outputs": [],
   "source": [
    "from sklearn.svm import SVR\n",
    "def findSVM(X_train, X_test, y_train, y_test):\n",
    "    # Create and train SVM model\n",
    "    model = SVR(kernel='linear')\n",
    "    model.fit(X_train, y_train)\n",
    "\n",
    "    # Make predictions on test data\n",
    "    y_pred = model.predict(X_test)\n",
    "\n",
    "    # Calculate root mean squared error and r-squared value\n",
    "    rmse = np.sqrt(mean_squared_error(y_test, y_pred))\n",
    "    r2 = r2_score(y_test, y_pred)\n",
    "\n",
    "    # Calculate mean value of your actual data\n",
    "    mean = np.mean(y_test)\n",
    "\n",
    "    # Calculate accuracy of your model in percentage\n",
    "    accuracy = (1 - rmse/mean) * 100\n",
    "\n",
    "    # Print results\n",
    "    print(f\"Root Mean Squared Error: {rmse:.3f}\")\n",
    "    print(f\"R-Squared Value: {r2:.3f}\")\n",
    "    print(f\"Accuracy: {accuracy:.2f}%\")"
   ]
  },
  {
   "cell_type": "code",
   "execution_count": 8,
   "metadata": {},
   "outputs": [],
   "source": [
    "from tensorflow.keras.models import Sequential\n",
    "from tensorflow.keras.layers import Dense\n",
    "\n",
    "def findNN(X_train, X_test, y_train, y_test):\n",
    "    # Define the model architecture\n",
    "    model = Sequential()\n",
    "    model.add(Dense(64, activation='relu', input_dim=X_train.shape[1]))\n",
    "    model.add(Dense(32, activation='relu'))\n",
    "    model.add(Dense(1, activation='linear'))\n",
    "\n",
    "    # Compile the model\n",
    "    model.compile(loss='mean_squared_error', optimizer='adam')\n",
    "\n",
    "    # Fit the model\n",
    "    history = model.fit(X_train, y_train, epochs=100, batch_size=32, validation_split=0.2)\n",
    "\n",
    "    # Make predictions on test set\n",
    "    y_pred = model.predict(X_test)\n",
    "\n",
    "    # Calculate root mean squared error and r-squared value\n",
    "    rmse = np.sqrt(mean_squared_error(y_test, y_pred))\n",
    "    r2 = r2_score(y_test, y_pred)\n",
    "\n",
    "    # Calculate mean value of your actual data\n",
    "    mean = np.mean(y_test)\n",
    "\n",
    "    # Calculate accuracy of your model in percentage\n",
    "    accuracy = (1 - rmse/mean) * 100\n",
    "\n",
    "    # Print results\n",
    "    print(f\"Root Mean Squared Error: {rmse:.3f}\")\n",
    "    print(f\"R-Squared Value: {r2:.3f}\")\n",
    "    print(f\"Accuracy: {accuracy:.2f}%\")"
   ]
  },
  {
   "cell_type": "code",
   "execution_count": 9,
   "metadata": {},
   "outputs": [],
   "source": [
    "from tensorflow.keras.models import Sequential\n",
    "from tensorflow.keras.layers import LSTM\n",
    "import numpy as np\n",
    "\n",
    "def findLSTM(X_train, X_test, y_train, y_test):\n",
    "    # Reshape the data to fit LSTM model\n",
    "    X_train = np.reshape(X_train, (X_train.shape[0], 1, X_train.shape[1]))\n",
    "    X_test = np.reshape(X_test, (X_test.shape[0], 1, X_test.shape[1]))\n",
    "    \n",
    "    # Create and fit the LSTM model\n",
    "    model = Sequential()\n",
    "    model.add(LSTM(64, input_shape=(1, X_train.shape[2])))\n",
    "    model.add(Dense(1))\n",
    "    model.compile(loss='mean_squared_error', optimizer='adam')\n",
    "    model.fit(X_train, y_train, epochs=50, batch_size=16, verbose=0)\n",
    "    \n",
    "    # Make predictions on test set\n",
    "    y_pred = model.predict(X_test)\n",
    "    \n",
    "    # Calculate root mean squared error\n",
    "    mse = mean_squared_error(y_test, y_pred)\n",
    "    rmse = np.sqrt(mse)\n",
    "    \n",
    "    # Calculate R-squared value\n",
    "    r2 = r2_score(y_test, y_pred)\n",
    "    \n",
    "    # Calculate accuracy of your model in percentage\n",
    "    accuracy = (1 - rmse/np.mean(y_test)) * 100\n",
    "    \n",
    "    # Print the results\n",
    "    print(\"Root Mean Squared Error (RMSE): {:.3f}\".format(rmse))\n",
    "    print(\"R-Squared Value: {:.3f}\".format(r2))\n",
    "    print(\"Accuracy: {:.2f}%\".format(accuracy))\n"
   ]
  },
  {
   "attachments": {},
   "cell_type": "markdown",
   "metadata": {},
   "source": [
    "<p>LSTM (Long Short-Term Memory): This is a type of recurrent neural network that is well-suited for time series data. It is capable of capturing long-term dependencies in the data, which makes it a good choice for forecasting cost rates.</p>"
   ]
  },
  {
   "attachments": {},
   "cell_type": "markdown",
   "metadata": {},
   "source": [
    "<h3>Testing Algo</h3>"
   ]
  },
  {
   "cell_type": "code",
   "execution_count": 10,
   "metadata": {},
   "outputs": [],
   "source": [
    "from sklearn.preprocessing import StandardScaler\n",
    "from sklearn.model_selection import train_test_split\n",
    "\n",
    "# Y is the target\n",
    "Y = df.pop('RATE') \n",
    "X = df\n",
    "\n",
    "#normalise\n",
    "sc = StandardScaler()\n",
    "X = sc.fit_transform(X)\n",
    "X_train, X_test, y_train, y_test = train_test_split(X, Y, test_size=0.3)"
   ]
  },
  {
   "cell_type": "code",
   "execution_count": 17,
   "metadata": {},
   "outputs": [
    {
     "name": "stdout",
     "output_type": "stream",
     "text": [
      "Root Mean Squared Error: 1843.724\n",
      "R-squared: 0.16\n",
      "Accuracy: 15.99%\n"
     ]
    }
   ],
   "source": [
    "# Linear Regression\n",
    "findLR(X_train, X_test, y_train, y_test)"
   ]
  },
  {
   "cell_type": "code",
   "execution_count": 12,
   "metadata": {},
   "outputs": [
    {
     "name": "stdout",
     "output_type": "stream",
     "text": [
      "Decision Tree Model Results:\n",
      "Root Mean Squared Error: 114.507\n",
      "R-squared: 0.997\n",
      "Accuracy: 92.88%\n"
     ]
    }
   ],
   "source": [
    "# Decision Tree Regressor\n",
    "print(\"Decision Tree Model Results:\")\n",
    "findDT(X_train, X_test, y_train, y_test)"
   ]
  },
  {
   "cell_type": "code",
   "execution_count": 13,
   "metadata": {},
   "outputs": [
    {
     "name": "stdout",
     "output_type": "stream",
     "text": [
      "Random Forest Model Results:\n",
      "Root Mean Squared Error: 98.977\n",
      "R-squared Value: 0.998\n",
      "Accuracy Score: 93.85 %\n"
     ]
    }
   ],
   "source": [
    "# Random Forest Regressor\n",
    "print(\"Random Forest Model Results:\")\n",
    "findRF(X_train, X_test, y_train, y_test)"
   ]
  },
  {
   "cell_type": "code",
   "execution_count": 14,
   "metadata": {},
   "outputs": [
    {
     "name": "stdout",
     "output_type": "stream",
     "text": [
      "Support Vector Machines(SVM) Model Results:\n",
      "Root Mean Squared Error: 2187.664\n",
      "R-Squared Value: -0.183\n",
      "Accuracy: -36.00%\n"
     ]
    }
   ],
   "source": [
    "# Support Vector Machines(SVM)\n",
    "print(\"Support Vector Machines(SVM) Model Results:\")\n",
    "findSVM(X_train, X_test, y_train, y_test)"
   ]
  },
  {
   "cell_type": "code",
   "execution_count": 15,
   "metadata": {},
   "outputs": [
    {
     "name": "stdout",
     "output_type": "stream",
     "text": [
      "Neural Network Model Results:\n",
      "Epoch 1/100\n",
      "112/112 [==============================] - 1s 2ms/step - loss: 6716912.0000 - val_loss: 6603810.5000\n",
      "Epoch 2/100\n",
      "112/112 [==============================] - 0s 1ms/step - loss: 6615623.5000 - val_loss: 6405801.5000\n",
      "Epoch 3/100\n",
      "112/112 [==============================] - 0s 1ms/step - loss: 6270687.5000 - val_loss: 5915928.0000\n",
      "Epoch 4/100\n",
      "112/112 [==============================] - 0s 996us/step - loss: 5622898.5000 - val_loss: 5177379.0000\n",
      "Epoch 5/100\n",
      "112/112 [==============================] - 0s 968us/step - loss: 4828808.0000 - val_loss: 4429268.0000\n",
      "Epoch 6/100\n",
      "112/112 [==============================] - 0s 1ms/step - loss: 4142016.0000 - val_loss: 3837080.0000\n",
      "Epoch 7/100\n",
      "112/112 [==============================] - 0s 959us/step - loss: 3615236.5000 - val_loss: 3401549.5000\n",
      "Epoch 8/100\n",
      "112/112 [==============================] - 0s 978us/step - loss: 3233952.5000 - val_loss: 3095311.2500\n",
      "Epoch 9/100\n",
      "112/112 [==============================] - 0s 1ms/step - loss: 3002134.2500 - val_loss: 2940285.5000\n",
      "Epoch 10/100\n",
      "112/112 [==============================] - 0s 934us/step - loss: 2883725.2500 - val_loss: 2859024.0000\n",
      "Epoch 11/100\n",
      "112/112 [==============================] - 0s 961us/step - loss: 2826238.0000 - val_loss: 2818849.7500\n",
      "Epoch 12/100\n",
      "112/112 [==============================] - 0s 938us/step - loss: 2793042.0000 - val_loss: 2790815.7500\n",
      "Epoch 13/100\n",
      "112/112 [==============================] - 0s 971us/step - loss: 2767995.7500 - val_loss: 2769408.0000\n",
      "Epoch 14/100\n",
      "112/112 [==============================] - 0s 955us/step - loss: 2745762.5000 - val_loss: 2749305.2500\n",
      "Epoch 15/100\n",
      "112/112 [==============================] - 0s 1ms/step - loss: 2724903.0000 - val_loss: 2729587.2500\n",
      "Epoch 16/100\n",
      "112/112 [==============================] - 0s 987us/step - loss: 2705840.7500 - val_loss: 2712700.5000\n",
      "Epoch 17/100\n",
      "112/112 [==============================] - 0s 1ms/step - loss: 2688675.0000 - val_loss: 2697120.5000\n",
      "Epoch 18/100\n",
      "112/112 [==============================] - 0s 964us/step - loss: 2672911.2500 - val_loss: 2681005.5000\n",
      "Epoch 19/100\n",
      "112/112 [==============================] - 0s 1ms/step - loss: 2656390.7500 - val_loss: 2666263.0000\n",
      "Epoch 20/100\n",
      "112/112 [==============================] - 0s 1ms/step - loss: 2641553.5000 - val_loss: 2651755.2500\n",
      "Epoch 21/100\n",
      "112/112 [==============================] - 0s 1ms/step - loss: 2626525.5000 - val_loss: 2637347.0000\n",
      "Epoch 22/100\n",
      "112/112 [==============================] - 0s 1ms/step - loss: 2610568.5000 - val_loss: 2621034.7500\n",
      "Epoch 23/100\n",
      "112/112 [==============================] - 0s 988us/step - loss: 2594325.7500 - val_loss: 2605296.0000\n",
      "Epoch 24/100\n",
      "112/112 [==============================] - 0s 1ms/step - loss: 2577326.7500 - val_loss: 2588081.7500\n",
      "Epoch 25/100\n",
      "112/112 [==============================] - 0s 1ms/step - loss: 2559875.5000 - val_loss: 2571055.2500\n",
      "Epoch 26/100\n",
      "112/112 [==============================] - 0s 973us/step - loss: 2541467.5000 - val_loss: 2552892.2500\n",
      "Epoch 27/100\n",
      "112/112 [==============================] - 0s 1ms/step - loss: 2523044.2500 - val_loss: 2534894.0000\n",
      "Epoch 28/100\n",
      "112/112 [==============================] - 0s 1ms/step - loss: 2502808.7500 - val_loss: 2515215.0000\n",
      "Epoch 29/100\n",
      "112/112 [==============================] - 0s 975us/step - loss: 2481952.0000 - val_loss: 2494803.5000\n",
      "Epoch 30/100\n",
      "112/112 [==============================] - 0s 962us/step - loss: 2460421.0000 - val_loss: 2473393.5000\n",
      "Epoch 31/100\n",
      "112/112 [==============================] - 0s 1ms/step - loss: 2437614.0000 - val_loss: 2451996.7500\n",
      "Epoch 32/100\n",
      "112/112 [==============================] - 0s 989us/step - loss: 2413948.7500 - val_loss: 2428937.2500\n",
      "Epoch 33/100\n",
      "112/112 [==============================] - 0s 968us/step - loss: 2389758.7500 - val_loss: 2405199.7500\n",
      "Epoch 34/100\n",
      "112/112 [==============================] - 0s 995us/step - loss: 2363967.7500 - val_loss: 2379685.2500\n",
      "Epoch 35/100\n",
      "112/112 [==============================] - 0s 962us/step - loss: 2336213.5000 - val_loss: 2354728.7500\n",
      "Epoch 36/100\n",
      "112/112 [==============================] - 0s 977us/step - loss: 2309695.2500 - val_loss: 2326918.2500\n",
      "Epoch 37/100\n",
      "112/112 [==============================] - 0s 949us/step - loss: 2280561.5000 - val_loss: 2299404.2500\n",
      "Epoch 38/100\n",
      "112/112 [==============================] - 0s 1ms/step - loss: 2251451.2500 - val_loss: 2269992.2500\n",
      "Epoch 39/100\n",
      "112/112 [==============================] - 0s 984us/step - loss: 2221750.5000 - val_loss: 2240994.0000\n",
      "Epoch 40/100\n",
      "112/112 [==============================] - 0s 1ms/step - loss: 2192957.0000 - val_loss: 2211792.7500\n",
      "Epoch 41/100\n",
      "112/112 [==============================] - 0s 1ms/step - loss: 2161081.5000 - val_loss: 2182188.0000\n",
      "Epoch 42/100\n",
      "112/112 [==============================] - 0s 1ms/step - loss: 2131015.2500 - val_loss: 2152089.5000\n",
      "Epoch 43/100\n",
      "112/112 [==============================] - 0s 996us/step - loss: 2100983.5000 - val_loss: 2123048.2500\n",
      "Epoch 44/100\n",
      "112/112 [==============================] - 0s 995us/step - loss: 2070413.0000 - val_loss: 2093891.2500\n",
      "Epoch 45/100\n",
      "112/112 [==============================] - 0s 1ms/step - loss: 2040443.0000 - val_loss: 2064087.3750\n",
      "Epoch 46/100\n",
      "112/112 [==============================] - 0s 1ms/step - loss: 2010524.1250 - val_loss: 2035477.1250\n",
      "Epoch 47/100\n",
      "112/112 [==============================] - 0s 1ms/step - loss: 1979672.0000 - val_loss: 2004731.7500\n",
      "Epoch 48/100\n",
      "112/112 [==============================] - 0s 1ms/step - loss: 1949760.3750 - val_loss: 1976017.1250\n",
      "Epoch 49/100\n",
      "112/112 [==============================] - 0s 1ms/step - loss: 1919353.8750 - val_loss: 1946646.8750\n",
      "Epoch 50/100\n",
      "112/112 [==============================] - 0s 1ms/step - loss: 1888861.2500 - val_loss: 1916695.5000\n",
      "Epoch 51/100\n",
      "112/112 [==============================] - 0s 1ms/step - loss: 1859205.1250 - val_loss: 1887117.0000\n",
      "Epoch 52/100\n",
      "112/112 [==============================] - 0s 1ms/step - loss: 1828480.3750 - val_loss: 1858066.2500\n",
      "Epoch 53/100\n",
      "112/112 [==============================] - 0s 1ms/step - loss: 1797515.7500 - val_loss: 1829422.5000\n",
      "Epoch 54/100\n",
      "112/112 [==============================] - 0s 970us/step - loss: 1768626.3750 - val_loss: 1800583.2500\n",
      "Epoch 55/100\n",
      "112/112 [==============================] - 0s 1ms/step - loss: 1738832.7500 - val_loss: 1772277.2500\n",
      "Epoch 56/100\n",
      "112/112 [==============================] - 0s 1ms/step - loss: 1709379.7500 - val_loss: 1743587.6250\n",
      "Epoch 57/100\n",
      "112/112 [==============================] - 0s 1ms/step - loss: 1679756.6250 - val_loss: 1715672.2500\n",
      "Epoch 58/100\n",
      "112/112 [==============================] - 0s 975us/step - loss: 1651679.3750 - val_loss: 1688489.3750\n",
      "Epoch 59/100\n",
      "112/112 [==============================] - 0s 988us/step - loss: 1623227.2500 - val_loss: 1662005.3750\n",
      "Epoch 60/100\n",
      "112/112 [==============================] - 0s 1ms/step - loss: 1595226.5000 - val_loss: 1635423.5000\n",
      "Epoch 61/100\n",
      "112/112 [==============================] - 0s 1ms/step - loss: 1567387.7500 - val_loss: 1609275.2500\n",
      "Epoch 62/100\n",
      "112/112 [==============================] - 0s 993us/step - loss: 1539834.3750 - val_loss: 1583685.6250\n",
      "Epoch 63/100\n",
      "112/112 [==============================] - 0s 1ms/step - loss: 1513016.5000 - val_loss: 1558261.1250\n",
      "Epoch 64/100\n",
      "112/112 [==============================] - 0s 987us/step - loss: 1487845.8750 - val_loss: 1534137.8750\n",
      "Epoch 65/100\n",
      "112/112 [==============================] - 0s 972us/step - loss: 1461114.0000 - val_loss: 1510290.7500\n",
      "Epoch 66/100\n",
      "112/112 [==============================] - 0s 966us/step - loss: 1437105.5000 - val_loss: 1487631.7500\n",
      "Epoch 67/100\n",
      "112/112 [==============================] - 0s 1ms/step - loss: 1411599.6250 - val_loss: 1464696.0000\n",
      "Epoch 68/100\n",
      "112/112 [==============================] - 0s 1ms/step - loss: 1388977.5000 - val_loss: 1443216.0000\n",
      "Epoch 69/100\n",
      "112/112 [==============================] - 0s 988us/step - loss: 1365741.8750 - val_loss: 1421610.8750\n",
      "Epoch 70/100\n",
      "112/112 [==============================] - 0s 1ms/step - loss: 1342291.2500 - val_loss: 1400974.5000\n",
      "Epoch 71/100\n",
      "112/112 [==============================] - 0s 1ms/step - loss: 1320995.1250 - val_loss: 1380522.7500\n",
      "Epoch 72/100\n",
      "112/112 [==============================] - 0s 986us/step - loss: 1299431.7500 - val_loss: 1361208.8750\n",
      "Epoch 73/100\n",
      "112/112 [==============================] - 0s 1ms/step - loss: 1277725.3750 - val_loss: 1341414.8750\n",
      "Epoch 74/100\n",
      "112/112 [==============================] - 0s 1ms/step - loss: 1256680.7500 - val_loss: 1321538.6250\n",
      "Epoch 75/100\n",
      "112/112 [==============================] - 0s 997us/step - loss: 1236182.7500 - val_loss: 1302753.8750\n",
      "Epoch 76/100\n",
      "112/112 [==============================] - 0s 1ms/step - loss: 1215568.5000 - val_loss: 1285049.2500\n",
      "Epoch 77/100\n",
      "112/112 [==============================] - 0s 1ms/step - loss: 1196403.2500 - val_loss: 1266899.1250\n",
      "Epoch 78/100\n",
      "112/112 [==============================] - 0s 1ms/step - loss: 1177335.8750 - val_loss: 1249285.5000\n",
      "Epoch 79/100\n",
      "112/112 [==============================] - 0s 1ms/step - loss: 1157620.6250 - val_loss: 1231694.5000\n",
      "Epoch 80/100\n",
      "112/112 [==============================] - 0s 953us/step - loss: 1139265.7500 - val_loss: 1215270.7500\n",
      "Epoch 81/100\n",
      "112/112 [==============================] - 0s 997us/step - loss: 1119908.2500 - val_loss: 1198523.7500\n",
      "Epoch 82/100\n",
      "112/112 [==============================] - 0s 1ms/step - loss: 1101936.0000 - val_loss: 1182015.2500\n",
      "Epoch 83/100\n",
      "112/112 [==============================] - 0s 1ms/step - loss: 1084117.1250 - val_loss: 1166565.8750\n",
      "Epoch 84/100\n",
      "112/112 [==============================] - 0s 2ms/step - loss: 1066256.2500 - val_loss: 1151239.8750\n",
      "Epoch 85/100\n",
      "112/112 [==============================] - 0s 2ms/step - loss: 1048677.1250 - val_loss: 1136689.1250\n",
      "Epoch 86/100\n",
      "112/112 [==============================] - 0s 2ms/step - loss: 1033413.3125 - val_loss: 1121783.5000\n",
      "Epoch 87/100\n",
      "112/112 [==============================] - 0s 1ms/step - loss: 1016624.2500 - val_loss: 1107813.8750\n",
      "Epoch 88/100\n",
      "112/112 [==============================] - 0s 978us/step - loss: 1001380.0000 - val_loss: 1094452.7500\n",
      "Epoch 89/100\n",
      "112/112 [==============================] - 0s 984us/step - loss: 985711.4375 - val_loss: 1081006.6250\n",
      "Epoch 90/100\n",
      "112/112 [==============================] - 0s 966us/step - loss: 970348.8125 - val_loss: 1068148.1250\n",
      "Epoch 91/100\n",
      "112/112 [==============================] - 0s 2ms/step - loss: 957007.3125 - val_loss: 1055969.1250\n",
      "Epoch 92/100\n",
      "112/112 [==============================] - 0s 2ms/step - loss: 943056.5000 - val_loss: 1044473.6250\n",
      "Epoch 93/100\n",
      "112/112 [==============================] - 0s 2ms/step - loss: 929828.0625 - val_loss: 1033668.5000\n",
      "Epoch 94/100\n",
      "112/112 [==============================] - 0s 965us/step - loss: 916696.1875 - val_loss: 1023065.0000\n",
      "Epoch 95/100\n",
      "112/112 [==============================] - 0s 2ms/step - loss: 905133.3125 - val_loss: 1013302.8125\n",
      "Epoch 96/100\n",
      "112/112 [==============================] - 0s 1ms/step - loss: 894657.2500 - val_loss: 1002984.6875\n",
      "Epoch 97/100\n",
      "112/112 [==============================] - 0s 1ms/step - loss: 883126.0000 - val_loss: 994697.6250\n",
      "Epoch 98/100\n",
      "112/112 [==============================] - 0s 982us/step - loss: 873249.8750 - val_loss: 986710.3750\n",
      "Epoch 99/100\n",
      "112/112 [==============================] - 0s 979us/step - loss: 862542.8750 - val_loss: 979179.5000\n",
      "Epoch 100/100\n",
      "112/112 [==============================] - 0s 1ms/step - loss: 853402.7500 - val_loss: 971308.3125\n",
      "60/60 [==============================] - 0s 523us/step\n",
      "Root Mean Squared Error: 948.898\n",
      "R-Squared Value: 0.777\n",
      "Accuracy: 41.01%\n"
     ]
    }
   ],
   "source": [
    "# Neural Network\n",
    "print(\"Neural Network Model Results:\")\n",
    "findNN(X_train, X_test, y_train, y_test)"
   ]
  },
  {
   "cell_type": "code",
   "execution_count": 16,
   "metadata": {},
   "outputs": [
    {
     "name": "stdout",
     "output_type": "stream",
     "text": [
      "60/60 [==============================] - 0s 790us/step\n",
      "Root Mean Squared Error (RMSE): 2218.513\n",
      "R-Squared Value: -0.216\n",
      "Accuracy: -37.92%\n"
     ]
    }
   ],
   "source": [
    "findLSTM(X_train, X_test, y_train, y_test)"
   ]
  },
  {
   "attachments": {},
   "cell_type": "markdown",
   "metadata": {},
   "source": [
    "<p>From the above Random Forest has the highest accuracy of 92.90%. While, decision tree also have a high accuracy of 91.75%</p>"
   ]
  }
 ],
 "metadata": {
  "kernelspec": {
   "display_name": "Python 3",
   "language": "python",
   "name": "python3"
  },
  "language_info": {
   "codemirror_mode": {
    "name": "ipython",
    "version": 3
   },
   "file_extension": ".py",
   "mimetype": "text/x-python",
   "name": "python",
   "nbconvert_exporter": "python",
   "pygments_lexer": "ipython3",
   "version": "3.10.9"
  },
  "orig_nbformat": 4
 },
 "nbformat": 4,
 "nbformat_minor": 2
}
