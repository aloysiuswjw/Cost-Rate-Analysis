{
 "cells": [
  {
   "cell_type": "code",
   "execution_count": 13,
   "metadata": {},
   "outputs": [
    {
     "data": {
      "text/html": [
       "<div>\n",
       "<style scoped>\n",
       "    .dataframe tbody tr th:only-of-type {\n",
       "        vertical-align: middle;\n",
       "    }\n",
       "\n",
       "    .dataframe tbody tr th {\n",
       "        vertical-align: top;\n",
       "    }\n",
       "\n",
       "    .dataframe thead th {\n",
       "        text-align: right;\n",
       "    }\n",
       "</style>\n",
       "<table border=\"1\" class=\"dataframe\">\n",
       "  <thead>\n",
       "    <tr style=\"text-align: right;\">\n",
       "      <th></th>\n",
       "      <th>POD</th>\n",
       "      <th>RATE</th>\n",
       "    </tr>\n",
       "  </thead>\n",
       "  <tbody>\n",
       "    <tr>\n",
       "      <th>0</th>\n",
       "      <td>2005-07-19</td>\n",
       "      <td>2200.0</td>\n",
       "    </tr>\n",
       "    <tr>\n",
       "      <th>1</th>\n",
       "      <td>2005-07-20</td>\n",
       "      <td>2250.0</td>\n",
       "    </tr>\n",
       "    <tr>\n",
       "      <th>2</th>\n",
       "      <td>2005-07-21</td>\n",
       "      <td>2300.0</td>\n",
       "    </tr>\n",
       "    <tr>\n",
       "      <th>3</th>\n",
       "      <td>2005-07-22</td>\n",
       "      <td>2280.0</td>\n",
       "    </tr>\n",
       "    <tr>\n",
       "      <th>4</th>\n",
       "      <td>2005-07-23</td>\n",
       "      <td>2260.0</td>\n",
       "    </tr>\n",
       "  </tbody>\n",
       "</table>\n",
       "</div>"
      ],
      "text/plain": [
       "          POD    RATE\n",
       "0  2005-07-19  2200.0\n",
       "1  2005-07-20  2250.0\n",
       "2  2005-07-21  2300.0\n",
       "3  2005-07-22  2280.0\n",
       "4  2005-07-23  2260.0"
      ]
     },
     "execution_count": 13,
     "metadata": {},
     "output_type": "execute_result"
    },
    {
     "name": "stdout",
     "output_type": "stream",
     "text": [
      "<class 'pandas.core.frame.DataFrame'>\n",
      "RangeIndex: 6375 entries, 0 to 6374\n",
      "Data columns (total 2 columns):\n",
      " #   Column  Non-Null Count  Dtype  \n",
      "---  ------  --------------  -----  \n",
      " 0   POD     6375 non-null   object \n",
      " 1   RATE    6375 non-null   float64\n",
      "dtypes: float64(1), object(1)\n",
      "memory usage: 99.7+ KB\n",
      "Dataset size: (6375, 2)\n"
     ]
    }
   ],
   "source": [
    "import numpy as np\n",
    "import pandas as pd\n",
    "import seaborn as sns\n",
    "import matplotlib.pyplot as plt\n",
    "import numpy as np\n",
    "import pandas as pd\n",
    "from IPython.core.interactiveshell import InteractiveShell\n",
    "InteractiveShell.ast_node_interactivity = \"all\"\n",
    "%matplotlib inline\n",
    "sns.set()\n",
    "pd.options.display.max_rows = 100\n",
    "\n",
    "df = pd.read_csv('CR_FC_PREP_0522.csv')\n",
    "\n",
    "df.head()\n",
    "df.info()\n",
    "print(f'Dataset size: {df.shape}')"
   ]
  },
  {
   "cell_type": "code",
   "execution_count": 14,
   "metadata": {},
   "outputs": [
    {
     "name": "stdout",
     "output_type": "stream",
     "text": [
      "<class 'pandas.core.frame.DataFrame'>\n",
      "RangeIndex: 6375 entries, 0 to 6374\n",
      "Data columns (total 2 columns):\n",
      " #   Column  Non-Null Count  Dtype         \n",
      "---  ------  --------------  -----         \n",
      " 0   POD     6375 non-null   datetime64[ns]\n",
      " 1   RATE    6375 non-null   float64       \n",
      "dtypes: datetime64[ns](1), float64(1)\n",
      "memory usage: 99.7 KB\n"
     ]
    }
   ],
   "source": [
    "df['POD'] = pd.to_datetime(df['POD'])\n",
    "df.info()"
   ]
  },
  {
   "cell_type": "code",
   "execution_count": 15,
   "metadata": {},
   "outputs": [
    {
     "name": "stdout",
     "output_type": "stream",
     "text": [
      "Skewness of RATE column:  2.661237498037452\n",
      "The RATE column is positively skewed\n"
     ]
    }
   ],
   "source": [
    "from scipy.stats import skew\n",
    "skewness = skew(df['RATE'])\n",
    "\n",
    "# print the skewness value\n",
    "print(\"Skewness of RATE column: \", skewness)\n",
    "\n",
    "# check if the skewness is positive or negative\n",
    "if skewness > 0:\n",
    "    print(\"The RATE column is positively skewed\")\n",
    "elif skewness < 0:\n",
    "    print(\"The RATE column is negatively skewed\")\n",
    "else:\n",
    "    print(\"The RATE column is symmetric\")"
   ]
  },
  {
   "attachments": {},
   "cell_type": "markdown",
   "metadata": {},
   "source": [
    "Rate is positively skewed, it means that there are more values towards the lower end of the distribution, and fewer values towards the higher end."
   ]
  },
  {
   "cell_type": "code",
   "execution_count": 16,
   "metadata": {},
   "outputs": [],
   "source": [
    "from sklearn.linear_model import LinearRegression\n",
    "from sklearn.metrics import mean_squared_error, r2_score,accuracy_score\n",
    "\n",
    "# Linear Regression \n",
    "def findLR(X_train, X_test, y_train, y_test):\n",
    "    # Create a linear regression model\n",
    "    model = LinearRegression()\n",
    "\n",
    "    # Fit the model on the training data\n",
    "    model.fit(X_train, y_train)\n",
    "\n",
    "    # Make predictions on the testing data\n",
    "    y_pred = model.predict(X_test)\n",
    "\n",
    "    # Calculate the root mean squared error\n",
    "    rmse = np.sqrt(mean_squared_error(y_test, y_pred))\n",
    "\n",
    "    # Calculate the R-squared value\n",
    "    r2 = r2_score(y_test, y_pred)\n",
    "\n",
    "    # Calculate accuracy of your model in percentage\n",
    "    accuracy = r2 * 100\n",
    "    \n",
    "    # Print the results\n",
    "    print('Root Mean Squared Error:', round(rmse, 3))\n",
    "    print('R-squared:', round(r2, 3))\n",
    "    print(f\"Accuracy: {accuracy:.2f}%\")"
   ]
  },
  {
   "attachments": {},
   "cell_type": "markdown",
   "metadata": {},
   "source": [
    "<p>The script for linear regression is using R-squared as the metric to calculate the accuracy of the model. R-squared measures the proportion of the variance in the dependent variable that is explained by the independent variable(s) in the model. It ranges from 0 to 1, with 1 indicating a perfect fit of the model to the data. Therefore, to convert the R-squared value to a percentage, we multiply it by 100.</p>"
   ]
  },
  {
   "cell_type": "code",
   "execution_count": 17,
   "metadata": {},
   "outputs": [],
   "source": [
    "from sklearn.tree import DecisionTreeRegressor\n",
    "\n",
    "def findDT(X_train, X_test, y_train, y_test):\n",
    "    # Train the model\n",
    "    model = DecisionTreeRegressor()\n",
    "    model.fit(X_train, y_train)\n",
    "\n",
    "    # Make predictions on test data\n",
    "    predictions = model.predict(X_test)\n",
    "\n",
    "    # Calculate mean squared error between actual and predicted values\n",
    "    mse = mean_squared_error(y_test, predictions)\n",
    "\n",
    "    # Calculate root mean squared error\n",
    "    rmse = np.sqrt(mse)\n",
    "\n",
    "    # Calculate R-squared value\n",
    "    r2 = r2_score(y_test, predictions)\n",
    "\n",
    "    # Calculate mean value of your actual data\n",
    "    mean = np.mean(y_test)\n",
    "\n",
    "    # Calculate accuracy of your model in percentage\n",
    "    accuracy = (1 - rmse/mean) * 100\n",
    "\n",
    "    print('Root Mean Squared Error:', round(rmse, 3))\n",
    "    print('R-squared:', round(r2, 3))\n",
    "    print(f\"Accuracy: {accuracy:.2f}%\")"
   ]
  },
  {
   "attachments": {},
   "cell_type": "markdown",
   "metadata": {},
   "source": [
    "<p>The script for decision trees is using RMSE (root mean squared error) to calculate the accuracy of the model. RMSE is a measure of the differences between predicted and actual values, and it is expressed in the same units as the dependent variable. To convert RMSE to a percentage, we use the formula (1 - RMSE/mean) * 100. This formula calculates the percentage of variance in the dependent variable that is explained by the model.</p>"
   ]
  },
  {
   "cell_type": "code",
   "execution_count": 18,
   "metadata": {},
   "outputs": [],
   "source": [
    "from sklearn.ensemble import RandomForestRegressor\n",
    "\n",
    "def findRF(X_train, X_test, y_train, y_test):\n",
    "    # Build the random forest model\n",
    "    rf_model = RandomForestRegressor(n_estimators=100, random_state=42)\n",
    "    rf_model.fit(X_train, y_train)\n",
    "\n",
    "    # Predict the test data\n",
    "    y_pred = rf_model.predict(X_test)\n",
    "\n",
    "    # Calculate the root mean squared error\n",
    "    rmse = mean_squared_error(y_test, y_pred, squared=False)\n",
    "    \n",
    "    # Calculate the R-squared value\n",
    "    r2 = r2_score(y_test, y_pred)\n",
    "\n",
    "    # Calculate the accuracy score in percentage\n",
    "    mean = y_test.mean()\n",
    "    accuracy = (1 - rmse/mean) * 100\n",
    "\n",
    "    print(\"Root Mean Squared Error:\", round(rmse, 3))\n",
    "    print(\"R-squared Value:\", round(r2, 3))\n",
    "    print(\"Accuracy Score:\", round(accuracy, 2), \"%\")"
   ]
  },
  {
   "cell_type": "code",
   "execution_count": 19,
   "metadata": {},
   "outputs": [],
   "source": [
    "from sklearn.svm import SVR\n",
    "def findSVM(X_train, X_test, y_train, y_test):\n",
    "    # Create and train SVM model\n",
    "    model = SVR(kernel='linear')\n",
    "    model.fit(X_train, y_train)\n",
    "\n",
    "    # Make predictions on test data\n",
    "    y_pred = model.predict(X_test)\n",
    "\n",
    "    # Calculate root mean squared error and r-squared value\n",
    "    rmse = np.sqrt(mean_squared_error(y_test, y_pred))\n",
    "    r2 = r2_score(y_test, y_pred)\n",
    "\n",
    "    # Calculate mean value of your actual data\n",
    "    mean = np.mean(y_test)\n",
    "\n",
    "    # Calculate accuracy of your model in percentage\n",
    "    accuracy = (1 - rmse/mean) * 100\n",
    "\n",
    "    # Print results\n",
    "    print(f\"Root Mean Squared Error: {rmse:.3f}\")\n",
    "    print(f\"R-Squared Value: {r2:.3f}\")\n",
    "    print(f\"Accuracy: {accuracy:.2f}%\")"
   ]
  },
  {
   "cell_type": "code",
   "execution_count": 20,
   "metadata": {},
   "outputs": [],
   "source": [
    "from tensorflow.keras.models import Sequential\n",
    "from tensorflow.keras.layers import Dense\n",
    "\n",
    "def findNN(X_train, X_test, y_train, y_test):\n",
    "    # Define the model architecture\n",
    "    model = Sequential()\n",
    "    model.add(Dense(64, activation='relu', input_dim=X_train.shape[1]))\n",
    "    model.add(Dense(32, activation='relu'))\n",
    "    model.add(Dense(1, activation='linear'))\n",
    "\n",
    "    # Compile the model\n",
    "    model.compile(loss='mean_squared_error', optimizer='adam')\n",
    "\n",
    "    # Fit the model\n",
    "    history = model.fit(X_train, y_train, epochs=100, batch_size=32, validation_split=0.2)\n",
    "\n",
    "    # Make predictions on test set\n",
    "    y_pred = model.predict(X_test)\n",
    "\n",
    "    # Calculate root mean squared error and r-squared value\n",
    "    rmse = np.sqrt(mean_squared_error(y_test, y_pred))\n",
    "    r2 = r2_score(y_test, y_pred)\n",
    "\n",
    "    # Calculate mean value of your actual data\n",
    "    mean = np.mean(y_test)\n",
    "\n",
    "    # Calculate accuracy of your model in percentage\n",
    "    accuracy = (1 - rmse/mean) * 100\n",
    "\n",
    "    # Print results\n",
    "    print(f\"Root Mean Squared Error: {rmse:.3f}\")\n",
    "    print(f\"R-Squared Value: {r2:.3f}\")\n",
    "    print(f\"Accuracy: {accuracy:.2f}%\")"
   ]
  },
  {
   "cell_type": "code",
   "execution_count": 21,
   "metadata": {},
   "outputs": [],
   "source": [
    "from tensorflow.keras.models import Sequential\n",
    "from tensorflow.keras.layers import LSTM\n",
    "import numpy as np\n",
    "\n",
    "def findLSTM(X_train, X_test, y_train, y_test):\n",
    "    # Reshape the data to fit LSTM model\n",
    "    X_train = np.reshape(X_train, (X_train.shape[0], 1, X_train.shape[1]))\n",
    "    X_test = np.reshape(X_test, (X_test.shape[0], 1, X_test.shape[1]))\n",
    "    \n",
    "    # Create and fit the LSTM model\n",
    "    model = Sequential()\n",
    "    model.add(LSTM(64, input_shape=(1, X_train.shape[2])))\n",
    "    model.add(Dense(1))\n",
    "    model.compile(loss='mean_squared_error', optimizer='adam')\n",
    "    model.fit(X_train, y_train, epochs=50, batch_size=16, verbose=0)\n",
    "    \n",
    "    # Make predictions on test set\n",
    "    y_pred = model.predict(X_test)\n",
    "    \n",
    "    # Calculate root mean squared error\n",
    "    mse = mean_squared_error(y_test, y_pred)\n",
    "    rmse = np.sqrt(mse)\n",
    "    \n",
    "    # Calculate R-squared value\n",
    "    r2 = r2_score(y_test, y_pred)\n",
    "    \n",
    "    # Calculate accuracy of your model in percentage\n",
    "    accuracy = (1 - rmse/np.mean(y_test)) * 100\n",
    "    \n",
    "    # Print the results\n",
    "    print(\"Root Mean Squared Error (RMSE): {:.3f}\".format(rmse))\n",
    "    print(\"R-Squared Value: {:.3f}\".format(r2))\n",
    "    print(\"Accuracy: {:.2f}%\".format(accuracy))\n"
   ]
  },
  {
   "attachments": {},
   "cell_type": "markdown",
   "metadata": {},
   "source": [
    "<p>LSTM (Long Short-Term Memory): This is a type of recurrent neural network that is well-suited for time series data. It is capable of capturing long-term dependencies in the data, which makes it a good choice for forecasting cost rates.</p>"
   ]
  },
  {
   "attachments": {},
   "cell_type": "markdown",
   "metadata": {},
   "source": [
    "<h3>Testing Algo</h3>"
   ]
  },
  {
   "cell_type": "code",
   "execution_count": 22,
   "metadata": {},
   "outputs": [
    {
     "name": "stdout",
     "output_type": "stream",
     "text": [
      "X_train shape: (4462, 1)\n",
      "y_train shape: (4462,)\n",
      "X_test shape: (1913, 1)\n",
      "y_test shape: (1913,)\n"
     ]
    }
   ],
   "source": [
    "from sklearn.preprocessing import StandardScaler\n",
    "from sklearn.model_selection import train_test_split\n",
    "\n",
    "# Y is the target\n",
    "Y = df.pop('RATE') \n",
    "X = df\n",
    "\n",
    "#normalise\n",
    "sc = StandardScaler()\n",
    "X = sc.fit_transform(X)\n",
    "X_train, X_test, y_train, y_test = train_test_split(X, Y, test_size=0.3)\n",
    "\n",
    "\n",
    "print(\"X_train shape:\", X_train.shape)\n",
    "print(\"y_train shape:\", y_train.shape)\n",
    "print(\"X_test shape:\", X_test.shape)\n",
    "print(\"y_test shape:\", y_test.shape)"
   ]
  },
  {
   "cell_type": "code",
   "execution_count": 23,
   "metadata": {},
   "outputs": [
    {
     "name": "stdout",
     "output_type": "stream",
     "text": [
      "Root Mean Squared Error: 1857.947\n",
      "R-squared: 0.173\n",
      "Accuracy: 17.34%\n"
     ]
    }
   ],
   "source": [
    "# Linear Regression\n",
    "findLR(X_train, X_test, y_train, y_test)"
   ]
  },
  {
   "cell_type": "code",
   "execution_count": 24,
   "metadata": {},
   "outputs": [
    {
     "name": "stdout",
     "output_type": "stream",
     "text": [
      "Decision Tree Model Results:\n",
      "Root Mean Squared Error: 111.351\n",
      "R-squared: 0.997\n",
      "Accuracy: 93.42%\n"
     ]
    }
   ],
   "source": [
    "# Decision Tree Regressor\n",
    "print(\"Decision Tree Model Results:\")\n",
    "findDT(X_train, X_test, y_train, y_test)"
   ]
  },
  {
   "cell_type": "code",
   "execution_count": 25,
   "metadata": {},
   "outputs": [
    {
     "name": "stdout",
     "output_type": "stream",
     "text": [
      "Random Forest Model Results:\n",
      "Root Mean Squared Error: 89.357\n",
      "R-squared Value: 0.998\n",
      "Accuracy Score: 94.72 %\n"
     ]
    }
   ],
   "source": [
    "# Random Forest Regressor\n",
    "print(\"Random Forest Model Results:\")\n",
    "findRF(X_train, X_test, y_train, y_test)"
   ]
  },
  {
   "cell_type": "code",
   "execution_count": 26,
   "metadata": {},
   "outputs": [
    {
     "name": "stdout",
     "output_type": "stream",
     "text": [
      "Support Vector Machines(SVM) Model Results:\n",
      "Root Mean Squared Error: 2255.392\n",
      "R-Squared Value: -0.218\n",
      "Accuracy: -33.35%\n"
     ]
    }
   ],
   "source": [
    "# Support Vector Machines(SVM)\n",
    "print(\"Support Vector Machines(SVM) Model Results:\")\n",
    "findSVM(X_train, X_test, y_train, y_test)"
   ]
  },
  {
   "cell_type": "code",
   "execution_count": 27,
   "metadata": {},
   "outputs": [
    {
     "name": "stdout",
     "output_type": "stream",
     "text": [
      "Neural Network Model Results:\n",
      "Epoch 1/100\n",
      "112/112 [==============================] - 1s 3ms/step - loss: 6347069.0000 - val_loss: 7227704.0000\n",
      "Epoch 2/100\n",
      "112/112 [==============================] - 0s 2ms/step - loss: 6271845.5000 - val_loss: 7063985.0000\n",
      "Epoch 3/100\n",
      "112/112 [==============================] - 0s 1ms/step - loss: 5988574.0000 - val_loss: 6606003.5000\n",
      "Epoch 4/100\n",
      "112/112 [==============================] - 0s 1ms/step - loss: 5421809.5000 - val_loss: 5861422.5000\n",
      "Epoch 5/100\n",
      "112/112 [==============================] - 0s 2ms/step - loss: 4687577.5000 - val_loss: 5053272.5000\n",
      "Epoch 6/100\n",
      "112/112 [==============================] - 0s 1ms/step - loss: 4015196.0000 - val_loss: 4376089.0000\n",
      "Epoch 7/100\n",
      "112/112 [==============================] - 0s 1ms/step - loss: 3520445.7500 - val_loss: 3874123.0000\n",
      "Epoch 8/100\n",
      "112/112 [==============================] - 0s 2ms/step - loss: 3170018.2500 - val_loss: 3529040.0000\n",
      "Epoch 9/100\n",
      "112/112 [==============================] - 0s 1ms/step - loss: 2949603.0000 - val_loss: 3310119.5000\n",
      "Epoch 10/100\n",
      "112/112 [==============================] - 0s 1ms/step - loss: 2825742.2500 - val_loss: 3199529.2500\n",
      "Epoch 11/100\n",
      "112/112 [==============================] - 0s 1ms/step - loss: 2766001.5000 - val_loss: 3138881.0000\n",
      "Epoch 12/100\n",
      "112/112 [==============================] - 0s 1ms/step - loss: 2730988.0000 - val_loss: 3095806.2500\n",
      "Epoch 13/100\n",
      "112/112 [==============================] - 0s 1ms/step - loss: 2706110.2500 - val_loss: 3059872.7500\n",
      "Epoch 14/100\n",
      "112/112 [==============================] - 0s 1ms/step - loss: 2684792.2500 - val_loss: 3035483.2500\n",
      "Epoch 15/100\n",
      "112/112 [==============================] - 0s 2ms/step - loss: 2666624.2500 - val_loss: 3007902.7500\n",
      "Epoch 16/100\n",
      "112/112 [==============================] - 0s 1ms/step - loss: 2649377.0000 - val_loss: 2987813.2500\n",
      "Epoch 17/100\n",
      "112/112 [==============================] - 0s 1ms/step - loss: 2631402.5000 - val_loss: 2964121.2500\n",
      "Epoch 18/100\n",
      "112/112 [==============================] - 0s 1ms/step - loss: 2615678.0000 - val_loss: 2942581.7500\n",
      "Epoch 19/100\n",
      "112/112 [==============================] - 0s 1ms/step - loss: 2602167.0000 - val_loss: 2923663.0000\n",
      "Epoch 20/100\n",
      "112/112 [==============================] - 0s 2ms/step - loss: 2587294.2500 - val_loss: 2904123.2500\n",
      "Epoch 21/100\n",
      "112/112 [==============================] - 0s 1ms/step - loss: 2573980.5000 - val_loss: 2886320.5000\n",
      "Epoch 22/100\n",
      "112/112 [==============================] - 0s 1ms/step - loss: 2560849.2500 - val_loss: 2867599.2500\n",
      "Epoch 23/100\n",
      "112/112 [==============================] - 0s 2ms/step - loss: 2546048.5000 - val_loss: 2847628.0000\n",
      "Epoch 24/100\n",
      "112/112 [==============================] - 0s 1ms/step - loss: 2531165.5000 - val_loss: 2827012.5000\n",
      "Epoch 25/100\n",
      "112/112 [==============================] - 0s 1ms/step - loss: 2516315.7500 - val_loss: 2807417.0000\n",
      "Epoch 26/100\n",
      "112/112 [==============================] - 0s 1ms/step - loss: 2499728.0000 - val_loss: 2786984.5000\n",
      "Epoch 27/100\n",
      "112/112 [==============================] - 0s 1ms/step - loss: 2482712.2500 - val_loss: 2765865.2500\n",
      "Epoch 28/100\n",
      "112/112 [==============================] - 0s 1ms/step - loss: 2464822.2500 - val_loss: 2742313.5000\n",
      "Epoch 29/100\n",
      "112/112 [==============================] - 0s 1ms/step - loss: 2446314.5000 - val_loss: 2719805.0000\n",
      "Epoch 30/100\n",
      "112/112 [==============================] - 0s 2ms/step - loss: 2426744.5000 - val_loss: 2696337.2500\n",
      "Epoch 31/100\n",
      "112/112 [==============================] - 0s 1ms/step - loss: 2406023.7500 - val_loss: 2670444.0000\n",
      "Epoch 32/100\n",
      "112/112 [==============================] - 0s 1ms/step - loss: 2384028.2500 - val_loss: 2644692.7500\n",
      "Epoch 33/100\n",
      "112/112 [==============================] - 0s 1ms/step - loss: 2360818.0000 - val_loss: 2617067.0000\n",
      "Epoch 34/100\n",
      "112/112 [==============================] - 0s 1ms/step - loss: 2336404.5000 - val_loss: 2590571.7500\n",
      "Epoch 35/100\n",
      "112/112 [==============================] - 0s 1ms/step - loss: 2311598.7500 - val_loss: 2562889.0000\n",
      "Epoch 36/100\n",
      "112/112 [==============================] - 0s 1ms/step - loss: 2288187.7500 - val_loss: 2532708.5000\n",
      "Epoch 37/100\n",
      "112/112 [==============================] - 0s 2ms/step - loss: 2261054.5000 - val_loss: 2505296.2500\n",
      "Epoch 38/100\n",
      "112/112 [==============================] - 0s 2ms/step - loss: 2234251.0000 - val_loss: 2472775.5000\n",
      "Epoch 39/100\n",
      "112/112 [==============================] - 0s 1ms/step - loss: 2206755.5000 - val_loss: 2439605.7500\n",
      "Epoch 40/100\n",
      "112/112 [==============================] - 0s 1ms/step - loss: 2179391.0000 - val_loss: 2408477.0000\n",
      "Epoch 41/100\n",
      "112/112 [==============================] - 0s 1ms/step - loss: 2150736.5000 - val_loss: 2373103.0000\n",
      "Epoch 42/100\n",
      "112/112 [==============================] - 0s 1ms/step - loss: 2121683.5000 - val_loss: 2341299.0000\n",
      "Epoch 43/100\n",
      "112/112 [==============================] - 0s 1ms/step - loss: 2092407.1250 - val_loss: 2307599.7500\n",
      "Epoch 44/100\n",
      "112/112 [==============================] - 0s 1ms/step - loss: 2063813.5000 - val_loss: 2274224.0000\n",
      "Epoch 45/100\n",
      "112/112 [==============================] - 0s 1ms/step - loss: 2034844.7500 - val_loss: 2238942.0000\n",
      "Epoch 46/100\n",
      "112/112 [==============================] - 0s 2ms/step - loss: 2004338.7500 - val_loss: 2207997.0000\n",
      "Epoch 47/100\n",
      "112/112 [==============================] - 0s 1ms/step - loss: 1974685.1250 - val_loss: 2172866.2500\n",
      "Epoch 48/100\n",
      "112/112 [==============================] - 0s 1ms/step - loss: 1944888.1250 - val_loss: 2139994.0000\n",
      "Epoch 49/100\n",
      "112/112 [==============================] - 0s 2ms/step - loss: 1914843.1250 - val_loss: 2105993.0000\n",
      "Epoch 50/100\n",
      "112/112 [==============================] - 0s 1ms/step - loss: 1885046.6250 - val_loss: 2072669.7500\n",
      "Epoch 51/100\n",
      "112/112 [==============================] - 0s 1ms/step - loss: 1855995.0000 - val_loss: 2040194.1250\n",
      "Epoch 52/100\n",
      "112/112 [==============================] - 0s 1ms/step - loss: 1826673.5000 - val_loss: 2004660.8750\n",
      "Epoch 53/100\n",
      "112/112 [==============================] - 0s 1ms/step - loss: 1797565.3750 - val_loss: 1973225.8750\n",
      "Epoch 54/100\n",
      "112/112 [==============================] - 0s 2ms/step - loss: 1770272.3750 - val_loss: 1938813.8750\n",
      "Epoch 55/100\n",
      "112/112 [==============================] - 0s 1ms/step - loss: 1741788.6250 - val_loss: 1907245.5000\n",
      "Epoch 56/100\n",
      "112/112 [==============================] - 0s 1ms/step - loss: 1713864.7500 - val_loss: 1877439.1250\n",
      "Epoch 57/100\n",
      "112/112 [==============================] - 0s 1ms/step - loss: 1685682.6250 - val_loss: 1846565.5000\n",
      "Epoch 58/100\n",
      "112/112 [==============================] - 0s 1ms/step - loss: 1657569.6250 - val_loss: 1815895.7500\n",
      "Epoch 59/100\n",
      "112/112 [==============================] - 0s 1ms/step - loss: 1631216.3750 - val_loss: 1785774.5000\n",
      "Epoch 60/100\n",
      "112/112 [==============================] - 0s 1ms/step - loss: 1604117.6250 - val_loss: 1755563.0000\n",
      "Epoch 61/100\n",
      "112/112 [==============================] - 0s 2ms/step - loss: 1578284.3750 - val_loss: 1728921.5000\n",
      "Epoch 62/100\n",
      "112/112 [==============================] - 0s 2ms/step - loss: 1552039.0000 - val_loss: 1698892.8750\n",
      "Epoch 63/100\n",
      "112/112 [==============================] - 0s 1ms/step - loss: 1527413.6250 - val_loss: 1672475.3750\n",
      "Epoch 64/100\n",
      "112/112 [==============================] - 0s 1ms/step - loss: 1502401.1250 - val_loss: 1644993.5000\n",
      "Epoch 65/100\n",
      "112/112 [==============================] - 0s 1ms/step - loss: 1477361.0000 - val_loss: 1617560.1250\n",
      "Epoch 66/100\n",
      "112/112 [==============================] - 0s 1ms/step - loss: 1453414.7500 - val_loss: 1592197.0000\n",
      "Epoch 67/100\n",
      "112/112 [==============================] - 0s 1ms/step - loss: 1430185.0000 - val_loss: 1565314.1250\n",
      "Epoch 68/100\n",
      "112/112 [==============================] - 0s 2ms/step - loss: 1406826.3750 - val_loss: 1539936.7500\n",
      "Epoch 69/100\n",
      "112/112 [==============================] - 0s 2ms/step - loss: 1385315.5000 - val_loss: 1516313.2500\n",
      "Epoch 70/100\n",
      "112/112 [==============================] - 0s 1ms/step - loss: 1362605.7500 - val_loss: 1492101.6250\n",
      "Epoch 71/100\n",
      "112/112 [==============================] - 0s 1ms/step - loss: 1340265.2500 - val_loss: 1467721.0000\n",
      "Epoch 72/100\n",
      "112/112 [==============================] - 0s 1ms/step - loss: 1318860.6250 - val_loss: 1445456.7500\n",
      "Epoch 73/100\n",
      "112/112 [==============================] - 0s 1ms/step - loss: 1297323.5000 - val_loss: 1421068.5000\n",
      "Epoch 74/100\n",
      "112/112 [==============================] - 0s 1ms/step - loss: 1276811.3750 - val_loss: 1398885.7500\n",
      "Epoch 75/100\n",
      "112/112 [==============================] - 0s 2ms/step - loss: 1256662.5000 - val_loss: 1378137.8750\n",
      "Epoch 76/100\n",
      "112/112 [==============================] - 0s 1ms/step - loss: 1236107.2500 - val_loss: 1355660.3750\n",
      "Epoch 77/100\n",
      "112/112 [==============================] - 0s 1ms/step - loss: 1216344.5000 - val_loss: 1335015.7500\n",
      "Epoch 78/100\n",
      "112/112 [==============================] - 0s 1ms/step - loss: 1196212.7500 - val_loss: 1315884.6250\n",
      "Epoch 79/100\n",
      "112/112 [==============================] - 0s 1ms/step - loss: 1176816.0000 - val_loss: 1294833.0000\n",
      "Epoch 80/100\n",
      "112/112 [==============================] - 0s 1ms/step - loss: 1157789.1250 - val_loss: 1275190.6250\n",
      "Epoch 81/100\n",
      "112/112 [==============================] - 0s 1ms/step - loss: 1139208.2500 - val_loss: 1254670.2500\n",
      "Epoch 82/100\n",
      "112/112 [==============================] - 0s 1ms/step - loss: 1120451.0000 - val_loss: 1235845.7500\n",
      "Epoch 83/100\n",
      "112/112 [==============================] - 0s 2ms/step - loss: 1100756.1250 - val_loss: 1218418.6250\n",
      "Epoch 84/100\n",
      "112/112 [==============================] - 0s 1ms/step - loss: 1082029.3750 - val_loss: 1199553.6250\n",
      "Epoch 85/100\n",
      "112/112 [==============================] - 0s 1ms/step - loss: 1065024.5000 - val_loss: 1183031.5000\n",
      "Epoch 86/100\n",
      "112/112 [==============================] - 0s 2ms/step - loss: 1048538.1250 - val_loss: 1165867.7500\n",
      "Epoch 87/100\n",
      "112/112 [==============================] - 0s 1ms/step - loss: 1030913.5625 - val_loss: 1149259.3750\n",
      "Epoch 88/100\n",
      "112/112 [==============================] - 0s 1ms/step - loss: 1013920.0000 - val_loss: 1133370.1250\n",
      "Epoch 89/100\n",
      "112/112 [==============================] - 0s 1ms/step - loss: 998352.0000 - val_loss: 1118356.6250\n",
      "Epoch 90/100\n",
      "112/112 [==============================] - 0s 1ms/step - loss: 983827.0000 - val_loss: 1103773.2500\n",
      "Epoch 91/100\n",
      "112/112 [==============================] - 0s 2ms/step - loss: 968642.7500 - val_loss: 1089397.0000\n",
      "Epoch 92/100\n",
      "112/112 [==============================] - 0s 1ms/step - loss: 953140.9375 - val_loss: 1075505.5000\n",
      "Epoch 93/100\n",
      "112/112 [==============================] - 0s 1ms/step - loss: 938408.2500 - val_loss: 1063389.5000\n",
      "Epoch 94/100\n",
      "112/112 [==============================] - 0s 2ms/step - loss: 924222.1250 - val_loss: 1049412.1250\n",
      "Epoch 95/100\n",
      "112/112 [==============================] - 0s 1ms/step - loss: 911038.1250 - val_loss: 1038131.3125\n",
      "Epoch 96/100\n",
      "112/112 [==============================] - 0s 1ms/step - loss: 898836.3125 - val_loss: 1026266.5625\n",
      "Epoch 97/100\n",
      "112/112 [==============================] - 0s 1ms/step - loss: 886489.6875 - val_loss: 1014688.1250\n",
      "Epoch 98/100\n",
      "112/112 [==============================] - 0s 2ms/step - loss: 874029.9375 - val_loss: 1004193.5000\n",
      "Epoch 99/100\n",
      "112/112 [==============================] - 0s 1ms/step - loss: 863261.1875 - val_loss: 994130.5625\n",
      "Epoch 100/100\n",
      "112/112 [==============================] - 0s 1ms/step - loss: 852584.0000 - val_loss: 984317.5625\n",
      "60/60 [==============================] - 0s 864us/step\n",
      "Root Mean Squared Error: 968.629\n",
      "R-Squared Value: 0.775\n",
      "Accuracy: 42.73%\n"
     ]
    }
   ],
   "source": [
    "# Neural Network\n",
    "print(\"Neural Network Model Results:\")\n",
    "findNN(X_train, X_test, y_train, y_test)"
   ]
  },
  {
   "cell_type": "code",
   "execution_count": 28,
   "metadata": {},
   "outputs": [
    {
     "name": "stdout",
     "output_type": "stream",
     "text": [
      "60/60 [==============================] - 0s 1ms/step\n",
      "Root Mean Squared Error (RMSE): 2284.585\n",
      "R-Squared Value: -0.250\n",
      "Accuracy: -35.07%\n"
     ]
    }
   ],
   "source": [
    "findLSTM(X_train, X_test, y_train, y_test)"
   ]
  },
  {
   "attachments": {},
   "cell_type": "markdown",
   "metadata": {},
   "source": [
    "<p>From the above Random Forest has the highest accuracy of 92.90%. While, decision tree also have a high accuracy of 91.75%</p>"
   ]
  }
 ],
 "metadata": {
  "kernelspec": {
   "display_name": "Python 3",
   "language": "python",
   "name": "python3"
  },
  "language_info": {
   "codemirror_mode": {
    "name": "ipython",
    "version": 3
   },
   "file_extension": ".py",
   "mimetype": "text/x-python",
   "name": "python",
   "nbconvert_exporter": "python",
   "pygments_lexer": "ipython3",
   "version": "3.9.13"
  },
  "orig_nbformat": 4
 },
 "nbformat": 4,
 "nbformat_minor": 2
}
