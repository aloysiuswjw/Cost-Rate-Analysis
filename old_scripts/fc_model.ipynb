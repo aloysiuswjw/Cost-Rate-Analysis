{
 "cells": [
  {
   "cell_type": "code",
   "execution_count": 13,
   "metadata": {},
   "outputs": [
    {
     "data": {
      "text/html": [
       "<div>\n",
       "<style scoped>\n",
       "    .dataframe tbody tr th:only-of-type {\n",
       "        vertical-align: middle;\n",
       "    }\n",
       "\n",
       "    .dataframe tbody tr th {\n",
       "        vertical-align: top;\n",
       "    }\n",
       "\n",
       "    .dataframe thead th {\n",
       "        text-align: right;\n",
       "    }\n",
       "</style>\n",
       "<table border=\"1\" class=\"dataframe\">\n",
       "  <thead>\n",
       "    <tr style=\"text-align: right;\">\n",
       "      <th></th>\n",
       "      <th>POD</th>\n",
       "      <th>RATE</th>\n",
       "    </tr>\n",
       "  </thead>\n",
       "  <tbody>\n",
       "    <tr>\n",
       "      <th>0</th>\n",
       "      <td>2005-07-19</td>\n",
       "      <td>2200.0</td>\n",
       "    </tr>\n",
       "    <tr>\n",
       "      <th>1</th>\n",
       "      <td>2005-07-20</td>\n",
       "      <td>2250.0</td>\n",
       "    </tr>\n",
       "    <tr>\n",
       "      <th>2</th>\n",
       "      <td>2005-07-21</td>\n",
       "      <td>2300.0</td>\n",
       "    </tr>\n",
       "    <tr>\n",
       "      <th>3</th>\n",
       "      <td>2005-07-22</td>\n",
       "      <td>2280.0</td>\n",
       "    </tr>\n",
       "    <tr>\n",
       "      <th>4</th>\n",
       "      <td>2005-07-23</td>\n",
       "      <td>2260.0</td>\n",
       "    </tr>\n",
       "  </tbody>\n",
       "</table>\n",
       "</div>"
      ],
      "text/plain": [
       "          POD    RATE\n",
       "0  2005-07-19  2200.0\n",
       "1  2005-07-20  2250.0\n",
       "2  2005-07-21  2300.0\n",
       "3  2005-07-22  2280.0\n",
       "4  2005-07-23  2260.0"
      ]
     },
     "execution_count": 13,
     "metadata": {},
     "output_type": "execute_result"
    },
    {
     "name": "stdout",
     "output_type": "stream",
     "text": [
      "<class 'pandas.core.frame.DataFrame'>\n",
      "RangeIndex: 6375 entries, 0 to 6374\n",
      "Data columns (total 2 columns):\n",
      " #   Column  Non-Null Count  Dtype  \n",
      "---  ------  --------------  -----  \n",
      " 0   POD     6375 non-null   object \n",
      " 1   RATE    6375 non-null   float64\n",
      "dtypes: float64(1), object(1)\n",
      "memory usage: 99.7+ KB\n",
      "Dataset size: (6375, 2)\n"
     ]
    }
   ],
   "source": [
    "import numpy as np\n",
    "import pandas as pd\n",
    "import seaborn as sns\n",
    "import matplotlib.pyplot as plt\n",
    "import numpy as np\n",
    "import pandas as pd\n",
    "from IPython.core.interactiveshell import InteractiveShell\n",
    "InteractiveShell.ast_node_interactivity = \"all\"\n",
    "%matplotlib inline\n",
    "sns.set()\n",
    "pd.options.display.max_rows = 100\n",
    "\n",
    "df = pd.read_csv('CR_FC_PREP_0522.csv')\n",
    "\n",
    "df.head()\n",
    "df.info()\n",
    "print(f'Dataset size: {df.shape}')"
   ]
  },
  {
   "cell_type": "code",
   "execution_count": 14,
   "metadata": {},
   "outputs": [
    {
     "name": "stdout",
     "output_type": "stream",
     "text": [
      "<class 'pandas.core.frame.DataFrame'>\n",
      "RangeIndex: 6375 entries, 0 to 6374\n",
      "Data columns (total 2 columns):\n",
      " #   Column  Non-Null Count  Dtype         \n",
      "---  ------  --------------  -----         \n",
      " 0   POD     6375 non-null   datetime64[ns]\n",
      " 1   RATE    6375 non-null   float64       \n",
      "dtypes: datetime64[ns](1), float64(1)\n",
      "memory usage: 99.7 KB\n"
     ]
    }
   ],
   "source": [
    "df['POD'] = pd.to_datetime(df['POD'])\n",
    "df.info()"
   ]
  },
  {
   "cell_type": "code",
   "execution_count": 15,
   "metadata": {},
   "outputs": [
    {
     "name": "stdout",
     "output_type": "stream",
     "text": [
      "Skewness of RATE column:  2.661237498037452\n",
      "The RATE column is positively skewed\n"
     ]
    }
   ],
   "source": [
    "from scipy.stats import skew\n",
    "skewness = skew(df['RATE'])\n",
    "\n",
    "# print the skewness value\n",
    "print(\"Skewness of RATE column: \", skewness)\n",
    "\n",
    "# check if the skewness is positive or negative\n",
    "if skewness > 0:\n",
    "    print(\"The RATE column is positively skewed\")\n",
    "elif skewness < 0:\n",
    "    print(\"The RATE column is negatively skewed\")\n",
    "else:\n",
    "    print(\"The RATE column is symmetric\")"
   ]
  },
  {
   "attachments": {},
   "cell_type": "markdown",
   "metadata": {},
   "source": [
    "Rate is positively skewed, it means that there are more values towards the lower end of the distribution, and fewer values towards the higher end."
   ]
  },
  {
   "cell_type": "code",
   "execution_count": 16,
   "metadata": {},
   "outputs": [],
   "source": [
    "from sklearn.linear_model import LinearRegression\n",
    "from sklearn.metrics import mean_squared_error, r2_score,accuracy_score\n",
    "\n",
    "# Linear Regression \n",
    "def findLR(X_train, X_test, y_train, y_test):\n",
    "    # Create a linear regression model\n",
    "    model = LinearRegression()\n",
    "\n",
    "    # Fit the model on the training data\n",
    "    model.fit(X_train, y_train)\n",
    "\n",
    "    # Make predictions on the testing data\n",
    "    y_pred = model.predict(X_test)\n",
    "\n",
    "    # Calculate the root mean squared error\n",
    "    rmse = np.sqrt(mean_squared_error(y_test, y_pred))\n",
    "\n",
    "    # Calculate the R-squared value\n",
    "    r2 = r2_score(y_test, y_pred)\n",
    "\n",
    "    # Calculate accuracy of your model in percentage\n",
    "    accuracy = r2 * 100\n",
    "    \n",
    "    # Print the results\n",
    "    print('Root Mean Squared Error:', round(rmse, 3))\n",
    "    print('R-squared:', round(r2, 3))\n",
    "    print(f\"Accuracy: {accuracy:.2f}%\")"
   ]
  },
  {
   "attachments": {},
   "cell_type": "markdown",
   "metadata": {},
   "source": [
    "<p>The script for linear regression is using R-squared as the metric to calculate the accuracy of the model. R-squared measures the proportion of the variance in the dependent variable that is explained by the independent variable(s) in the model. It ranges from 0 to 1, with 1 indicating a perfect fit of the model to the data. Therefore, to convert the R-squared value to a percentage, we multiply it by 100.</p>"
   ]
  },
  {
   "cell_type": "code",
   "execution_count": 17,
   "metadata": {},
   "outputs": [],
   "source": [
    "from sklearn.tree import DecisionTreeRegressor\n",
    "\n",
    "def findDT(X_train, X_test, y_train, y_test):\n",
    "    # Train the model\n",
    "    model = DecisionTreeRegressor()\n",
    "    model.fit(X_train, y_train)\n",
    "\n",
    "    # Make predictions on test data\n",
    "    predictions = model.predict(X_test)\n",
    "\n",
    "    # Calculate mean squared error between actual and predicted values\n",
    "    mse = mean_squared_error(y_test, predictions)\n",
    "\n",
    "    # Calculate root mean squared error\n",
    "    rmse = np.sqrt(mse)\n",
    "\n",
    "    # Calculate R-squared value\n",
    "    r2 = r2_score(y_test, predictions)\n",
    "\n",
    "    # Calculate mean value of your actual data\n",
    "    mean = np.mean(y_test)\n",
    "\n",
    "    # Calculate accuracy of your model in percentage\n",
    "    accuracy = (1 - rmse/mean) * 100\n",
    "\n",
    "    print('Root Mean Squared Error:', round(rmse, 3))\n",
    "    print('R-squared:', round(r2, 3))\n",
    "    print(f\"Accuracy: {accuracy:.2f}%\")"
   ]
  },
  {
   "attachments": {},
   "cell_type": "markdown",
   "metadata": {},
   "source": [
    "<p>The script for decision trees is using RMSE (root mean squared error) to calculate the accuracy of the model. RMSE is a measure of the differences between predicted and actual values, and it is expressed in the same units as the dependent variable. To convert RMSE to a percentage, we use the formula (1 - RMSE/mean) * 100. This formula calculates the percentage of variance in the dependent variable that is explained by the model.</p>"
   ]
  },
  {
   "cell_type": "code",
   "execution_count": 18,
   "metadata": {},
   "outputs": [],
   "source": [
    "from sklearn.ensemble import RandomForestRegressor\n",
    "\n",
    "def findRF(X_train, X_test, y_train, y_test):\n",
    "    # Build the random forest model\n",
    "    rf_model = RandomForestRegressor(n_estimators=100, random_state=42)\n",
    "    rf_model.fit(X_train, y_train)\n",
    "\n",
    "    # Predict the test data\n",
    "    y_pred = rf_model.predict(X_test)\n",
    "\n",
    "    # Calculate the root mean squared error\n",
    "    rmse = mean_squared_error(y_test, y_pred, squared=False)\n",
    "    \n",
    "    # Calculate the R-squared value\n",
    "    r2 = r2_score(y_test, y_pred)\n",
    "\n",
    "    # Calculate the accuracy score in percentage\n",
    "    mean = y_test.mean()\n",
    "    accuracy = (1 - rmse/mean) * 100\n",
    "\n",
    "    print(\"Root Mean Squared Error:\", round(rmse, 3))\n",
    "    print(\"R-squared Value:\", round(r2, 3))\n",
    "    print(\"Accuracy Score:\", round(accuracy, 2), \"%\")"
   ]
  },
  {
   "cell_type": "code",
   "execution_count": 19,
   "metadata": {},
   "outputs": [],
   "source": [
    "from sklearn.svm import SVR\n",
    "def findSVM(X_train, X_test, y_train, y_test):\n",
    "    # Create and train SVM model\n",
    "    model = SVR(kernel='linear')\n",
    "    model.fit(X_train, y_train)\n",
    "\n",
    "    # Make predictions on test data\n",
    "    y_pred = model.predict(X_test)\n",
    "\n",
    "    # Calculate root mean squared error and r-squared value\n",
    "    rmse = np.sqrt(mean_squared_error(y_test, y_pred))\n",
    "    r2 = r2_score(y_test, y_pred)\n",
    "\n",
    "    # Calculate mean value of your actual data\n",
    "    mean = np.mean(y_test)\n",
    "\n",
    "    # Calculate accuracy of your model in percentage\n",
    "    accuracy = (1 - rmse/mean) * 100\n",
    "\n",
    "    # Print results\n",
    "    print(f\"Root Mean Squared Error: {rmse:.3f}\")\n",
    "    print(f\"R-Squared Value: {r2:.3f}\")\n",
    "    print(f\"Accuracy: {accuracy:.2f}%\")"
   ]
  },
  {
   "cell_type": "code",
   "execution_count": 20,
   "metadata": {},
   "outputs": [],
   "source": [
    "from tensorflow.keras.models import Sequential\n",
    "from tensorflow.keras.layers import Dense\n",
    "\n",
    "def findNN(X_train, X_test, y_train, y_test):\n",
    "    # Define the model architecture\n",
    "    model = Sequential()\n",
    "    model.add(Dense(64, activation='relu', input_dim=X_train.shape[1]))\n",
    "    model.add(Dense(32, activation='relu'))\n",
    "    model.add(Dense(1, activation='linear'))\n",
    "\n",
    "    # Compile the model\n",
    "    model.compile(loss='mean_squared_error', optimizer='adam')\n",
    "\n",
    "    # Fit the model\n",
    "    history = model.fit(X_train, y_train, epochs=100, batch_size=32, validation_split=0.2)\n",
    "\n",
    "    # Make predictions on test set\n",
    "    y_pred = model.predict(X_test)\n",
    "\n",
    "    # Calculate root mean squared error and r-squared value\n",
    "    rmse = np.sqrt(mean_squared_error(y_test, y_pred))\n",
    "    r2 = r2_score(y_test, y_pred)\n",
    "\n",
    "    # Calculate mean value of your actual data\n",
    "    mean = np.mean(y_test)\n",
    "\n",
    "    # Calculate accuracy of your model in percentage\n",
    "    accuracy = (1 - rmse/mean) * 100\n",
    "\n",
    "    # Print results\n",
    "    print(f\"Root Mean Squared Error: {rmse:.3f}\")\n",
    "    print(f\"R-Squared Value: {r2:.3f}\")\n",
    "    print(f\"Accuracy: {accuracy:.2f}%\")"
   ]
  },
  {
   "cell_type": "code",
   "execution_count": 21,
   "metadata": {},
   "outputs": [],
   "source": [
    "from tensorflow.keras.models import Sequential\n",
    "from tensorflow.keras.layers import LSTM\n",
    "import numpy as np\n",
    "\n",
    "def findLSTM(X_train, X_test, y_train, y_test):\n",
    "    # Reshape the data to fit LSTM model\n",
    "    X_train = np.reshape(X_train, (X_train.shape[0], 1, X_train.shape[1]))\n",
    "    X_test = np.reshape(X_test, (X_test.shape[0], 1, X_test.shape[1]))\n",
    "    \n",
    "    # Create and fit the LSTM model\n",
    "    model = Sequential()\n",
    "    model.add(LSTM(64, input_shape=(1, X_train.shape[2])))\n",
    "    model.add(Dense(1))\n",
    "    model.compile(loss='mean_squared_error', optimizer='adam')\n",
    "    model.fit(X_train, y_train, epochs=50, batch_size=16, verbose=0)\n",
    "    \n",
    "    # Make predictions on test set\n",
    "    y_pred = model.predict(X_test)\n",
    "    \n",
    "    # Calculate root mean squared error\n",
    "    mse = mean_squared_error(y_test, y_pred)\n",
    "    rmse = np.sqrt(mse)\n",
    "    \n",
    "    # Calculate R-squared value\n",
    "    r2 = r2_score(y_test, y_pred)\n",
    "    \n",
    "    # Calculate accuracy of your model in percentage\n",
    "    accuracy = (1 - rmse/np.mean(y_test)) * 100\n",
    "    \n",
    "    # Print the results\n",
    "    print(\"Root Mean Squared Error (RMSE): {:.3f}\".format(rmse))\n",
    "    print(\"R-Squared Value: {:.3f}\".format(r2))\n",
    "    print(\"Accuracy: {:.2f}%\".format(accuracy))\n"
   ]
  },
  {
   "attachments": {},
   "cell_type": "markdown",
   "metadata": {},
   "source": [
    "<p>LSTM (Long Short-Term Memory): This is a type of recurrent neural network that is well-suited for time series data. It is capable of capturing long-term dependencies in the data, which makes it a good choice for forecasting cost rates.</p>"
   ]
  },
  {
   "attachments": {},
   "cell_type": "markdown",
   "metadata": {},
   "source": [
    "<h3>Testing Algo</h3>"
   ]
  },
  {
   "cell_type": "code",
   "execution_count": 22,
   "metadata": {},
   "outputs": [],
   "source": [
    "from sklearn.preprocessing import StandardScaler\n",
    "from sklearn.model_selection import train_test_split\n",
    "\n",
    "# Y is the target\n",
    "Y = df.pop('RATE') \n",
    "X = df\n",
    "\n",
    "#normalise\n",
    "sc = StandardScaler()\n",
    "X = sc.fit_transform(X)\n",
    "X_train, X_test, y_train, y_test = train_test_split(X, Y, test_size=0.3)"
   ]
  },
  {
   "cell_type": "code",
   "execution_count": 23,
   "metadata": {},
   "outputs": [
    {
     "name": "stdout",
     "output_type": "stream",
     "text": [
      "Root Mean Squared Error: 1874.163\n",
      "R-squared: 0.174\n",
      "Accuracy: 17.35%\n"
     ]
    }
   ],
   "source": [
    "# Linear Regression\n",
    "findLR(X_train, X_test, y_train, y_test)"
   ]
  },
  {
   "cell_type": "code",
   "execution_count": 24,
   "metadata": {},
   "outputs": [
    {
     "name": "stdout",
     "output_type": "stream",
     "text": [
      "Decision Tree Model Results:\n",
      "Root Mean Squared Error: 121.544\n",
      "R-squared: 0.997\n",
      "Accuracy: 92.60%\n"
     ]
    }
   ],
   "source": [
    "# Decision Tree Regressor\n",
    "print(\"Decision Tree Model Results:\")\n",
    "findDT(X_train, X_test, y_train, y_test)"
   ]
  },
  {
   "cell_type": "code",
   "execution_count": 25,
   "metadata": {},
   "outputs": [
    {
     "name": "stdout",
     "output_type": "stream",
     "text": [
      "Random Forest Model Results:\n",
      "Root Mean Squared Error: 101.961\n",
      "R-squared Value: 0.998\n",
      "Accuracy Score: 93.79 %\n"
     ]
    }
   ],
   "source": [
    "# Random Forest Regressor\n",
    "print(\"Random Forest Model Results:\")\n",
    "findRF(X_train, X_test, y_train, y_test)"
   ]
  },
  {
   "cell_type": "code",
   "execution_count": 26,
   "metadata": {},
   "outputs": [
    {
     "name": "stdout",
     "output_type": "stream",
     "text": [
      "Support Vector Machines(SVM) Model Results:\n",
      "Root Mean Squared Error: 2254.588\n",
      "R-Squared Value: -0.196\n",
      "Accuracy: -37.30%\n"
     ]
    }
   ],
   "source": [
    "# Support Vector Machines(SVM)\n",
    "print(\"Support Vector Machines(SVM) Model Results:\")\n",
    "findSVM(X_train, X_test, y_train, y_test)"
   ]
  },
  {
   "cell_type": "code",
   "execution_count": 27,
   "metadata": {},
   "outputs": [
    {
     "name": "stdout",
     "output_type": "stream",
     "text": [
      "Neural Network Model Results:\n",
      "Epoch 1/100\n",
      "112/112 [==============================] - 1s 3ms/step - loss: 6700178.5000 - val_loss: 6005228.5000\n",
      "Epoch 2/100\n",
      "112/112 [==============================] - 0s 1ms/step - loss: 6615121.5000 - val_loss: 5842283.0000\n",
      "Epoch 3/100\n",
      "112/112 [==============================] - 0s 1ms/step - loss: 6319245.0000 - val_loss: 5418829.0000\n",
      "Epoch 4/100\n",
      "112/112 [==============================] - 0s 1ms/step - loss: 5735454.5000 - val_loss: 4726269.0000\n",
      "Epoch 5/100\n",
      "112/112 [==============================] - 0s 1ms/step - loss: 4935757.5000 - val_loss: 3932617.0000\n",
      "Epoch 6/100\n",
      "112/112 [==============================] - 0s 2ms/step - loss: 4147220.2500 - val_loss: 3282300.2500\n",
      "Epoch 7/100\n",
      "112/112 [==============================] - 0s 1ms/step - loss: 3561429.0000 - val_loss: 2879689.5000\n",
      "Epoch 8/100\n",
      "112/112 [==============================] - 0s 1ms/step - loss: 3200648.2500 - val_loss: 2661363.5000\n",
      "Epoch 9/100\n",
      "112/112 [==============================] - 0s 2ms/step - loss: 3005943.2500 - val_loss: 2548486.0000\n",
      "Epoch 10/100\n",
      "112/112 [==============================] - 0s 1ms/step - loss: 2907883.2500 - val_loss: 2500247.2500\n",
      "Epoch 11/100\n",
      "112/112 [==============================] - 0s 1ms/step - loss: 2857698.2500 - val_loss: 2475014.5000\n",
      "Epoch 12/100\n",
      "112/112 [==============================] - 0s 1ms/step - loss: 2823164.7500 - val_loss: 2453753.5000\n",
      "Epoch 13/100\n",
      "112/112 [==============================] - 0s 1ms/step - loss: 2798924.0000 - val_loss: 2436466.7500\n",
      "Epoch 14/100\n",
      "112/112 [==============================] - 0s 1ms/step - loss: 2776210.5000 - val_loss: 2418817.5000\n",
      "Epoch 15/100\n",
      "112/112 [==============================] - 0s 1ms/step - loss: 2755774.5000 - val_loss: 2401250.0000\n",
      "Epoch 16/100\n",
      "112/112 [==============================] - 0s 1ms/step - loss: 2736777.7500 - val_loss: 2387229.0000\n",
      "Epoch 17/100\n",
      "112/112 [==============================] - 0s 1ms/step - loss: 2720092.5000 - val_loss: 2374371.2500\n",
      "Epoch 18/100\n",
      "112/112 [==============================] - 0s 2ms/step - loss: 2703444.0000 - val_loss: 2361090.7500\n",
      "Epoch 19/100\n",
      "112/112 [==============================] - 0s 1ms/step - loss: 2688363.0000 - val_loss: 2349177.7500\n",
      "Epoch 20/100\n",
      "112/112 [==============================] - 0s 1ms/step - loss: 2673485.7500 - val_loss: 2338576.2500\n",
      "Epoch 21/100\n",
      "112/112 [==============================] - 0s 1ms/step - loss: 2657650.5000 - val_loss: 2327147.0000\n",
      "Epoch 22/100\n",
      "112/112 [==============================] - 0s 1ms/step - loss: 2641292.7500 - val_loss: 2313513.7500\n",
      "Epoch 23/100\n",
      "112/112 [==============================] - 0s 1ms/step - loss: 2625493.7500 - val_loss: 2299170.5000\n",
      "Epoch 24/100\n",
      "112/112 [==============================] - 0s 1ms/step - loss: 2608725.7500 - val_loss: 2284042.2500\n",
      "Epoch 25/100\n",
      "112/112 [==============================] - 0s 1ms/step - loss: 2591366.7500 - val_loss: 2269011.7500\n",
      "Epoch 26/100\n",
      "112/112 [==============================] - 0s 2ms/step - loss: 2572834.7500 - val_loss: 2253785.2500\n",
      "Epoch 27/100\n",
      "112/112 [==============================] - 0s 1ms/step - loss: 2553427.7500 - val_loss: 2235405.7500\n",
      "Epoch 28/100\n",
      "112/112 [==============================] - 0s 1ms/step - loss: 2533012.0000 - val_loss: 2218794.2500\n",
      "Epoch 29/100\n",
      "112/112 [==============================] - 0s 1ms/step - loss: 2513760.2500 - val_loss: 2201039.7500\n",
      "Epoch 30/100\n",
      "112/112 [==============================] - 0s 2ms/step - loss: 2490070.2500 - val_loss: 2179853.0000\n",
      "Epoch 31/100\n",
      "112/112 [==============================] - 0s 1ms/step - loss: 2467307.7500 - val_loss: 2159338.7500\n",
      "Epoch 32/100\n",
      "112/112 [==============================] - 0s 1ms/step - loss: 2443578.0000 - val_loss: 2137957.7500\n",
      "Epoch 33/100\n",
      "112/112 [==============================] - 0s 1ms/step - loss: 2418943.7500 - val_loss: 2116607.0000\n",
      "Epoch 34/100\n",
      "112/112 [==============================] - 0s 1ms/step - loss: 2391239.2500 - val_loss: 2094518.3750\n",
      "Epoch 35/100\n",
      "112/112 [==============================] - 0s 2ms/step - loss: 2364354.2500 - val_loss: 2071662.7500\n",
      "Epoch 36/100\n",
      "112/112 [==============================] - 0s 1ms/step - loss: 2336788.0000 - val_loss: 2045858.7500\n",
      "Epoch 37/100\n",
      "112/112 [==============================] - 0s 1ms/step - loss: 2307729.2500 - val_loss: 2021085.6250\n",
      "Epoch 38/100\n",
      "112/112 [==============================] - 0s 1ms/step - loss: 2278773.5000 - val_loss: 1994858.2500\n",
      "Epoch 39/100\n",
      "112/112 [==============================] - 0s 1ms/step - loss: 2248403.2500 - val_loss: 1968447.6250\n",
      "Epoch 40/100\n",
      "112/112 [==============================] - 0s 1ms/step - loss: 2218413.5000 - val_loss: 1941140.1250\n",
      "Epoch 41/100\n",
      "112/112 [==============================] - 0s 1ms/step - loss: 2187327.0000 - val_loss: 1916150.2500\n",
      "Epoch 42/100\n",
      "112/112 [==============================] - 0s 1ms/step - loss: 2158370.5000 - val_loss: 1889369.2500\n",
      "Epoch 43/100\n",
      "112/112 [==============================] - 0s 1ms/step - loss: 2126033.5000 - val_loss: 1861780.2500\n",
      "Epoch 44/100\n",
      "112/112 [==============================] - 0s 2ms/step - loss: 2096314.6250 - val_loss: 1834688.3750\n",
      "Epoch 45/100\n",
      "112/112 [==============================] - 0s 1ms/step - loss: 2065234.8750 - val_loss: 1808288.6250\n",
      "Epoch 46/100\n",
      "112/112 [==============================] - 0s 1ms/step - loss: 2033415.8750 - val_loss: 1781389.7500\n",
      "Epoch 47/100\n",
      "112/112 [==============================] - 0s 1ms/step - loss: 2003047.3750 - val_loss: 1755574.1250\n",
      "Epoch 48/100\n",
      "112/112 [==============================] - 0s 1ms/step - loss: 1972794.8750 - val_loss: 1728657.7500\n",
      "Epoch 49/100\n",
      "112/112 [==============================] - 0s 1ms/step - loss: 1942170.7500 - val_loss: 1703636.8750\n",
      "Epoch 50/100\n",
      "112/112 [==============================] - 0s 1ms/step - loss: 1912196.6250 - val_loss: 1680175.2500\n",
      "Epoch 51/100\n",
      "112/112 [==============================] - 0s 1ms/step - loss: 1884014.2500 - val_loss: 1654106.0000\n",
      "Epoch 52/100\n",
      "112/112 [==============================] - 0s 2ms/step - loss: 1853112.5000 - val_loss: 1629866.0000\n",
      "Epoch 53/100\n",
      "112/112 [==============================] - 0s 2ms/step - loss: 1824066.5000 - val_loss: 1603336.8750\n",
      "Epoch 54/100\n",
      "112/112 [==============================] - 0s 2ms/step - loss: 1795173.8750 - val_loss: 1579423.5000\n",
      "Epoch 55/100\n",
      "112/112 [==============================] - 0s 1ms/step - loss: 1767927.5000 - val_loss: 1551769.6250\n",
      "Epoch 56/100\n",
      "112/112 [==============================] - 0s 1ms/step - loss: 1739274.0000 - val_loss: 1527609.7500\n",
      "Epoch 57/100\n",
      "112/112 [==============================] - 0s 1ms/step - loss: 1711033.0000 - val_loss: 1505661.8750\n",
      "Epoch 58/100\n",
      "112/112 [==============================] - 0s 1ms/step - loss: 1683552.3750 - val_loss: 1482737.2500\n",
      "Epoch 59/100\n",
      "112/112 [==============================] - 0s 1ms/step - loss: 1658132.5000 - val_loss: 1461714.2500\n",
      "Epoch 60/100\n",
      "112/112 [==============================] - 0s 2ms/step - loss: 1631371.5000 - val_loss: 1436294.1250\n",
      "Epoch 61/100\n",
      "112/112 [==============================] - 0s 2ms/step - loss: 1604934.5000 - val_loss: 1415929.8750\n",
      "Epoch 62/100\n",
      "112/112 [==============================] - 0s 1ms/step - loss: 1579620.6250 - val_loss: 1394483.8750\n",
      "Epoch 63/100\n",
      "112/112 [==============================] - 0s 1ms/step - loss: 1553890.2500 - val_loss: 1370723.6250\n",
      "Epoch 64/100\n",
      "112/112 [==============================] - 0s 2ms/step - loss: 1528770.7500 - val_loss: 1350733.7500\n",
      "Epoch 65/100\n",
      "112/112 [==============================] - 0s 2ms/step - loss: 1503833.3750 - val_loss: 1330280.7500\n",
      "Epoch 66/100\n",
      "112/112 [==============================] - 0s 1ms/step - loss: 1480371.7500 - val_loss: 1309779.7500\n",
      "Epoch 67/100\n",
      "112/112 [==============================] - 0s 1ms/step - loss: 1457036.5000 - val_loss: 1288207.2500\n",
      "Epoch 68/100\n",
      "112/112 [==============================] - 0s 2ms/step - loss: 1434783.2500 - val_loss: 1268327.8750\n",
      "Epoch 69/100\n",
      "112/112 [==============================] - 0s 2ms/step - loss: 1414454.7500 - val_loss: 1255922.8750\n",
      "Epoch 70/100\n",
      "112/112 [==============================] - 0s 1ms/step - loss: 1391490.0000 - val_loss: 1235054.3750\n",
      "Epoch 71/100\n",
      "112/112 [==============================] - 0s 2ms/step - loss: 1370352.3750 - val_loss: 1217662.0000\n",
      "Epoch 72/100\n",
      "112/112 [==============================] - 0s 2ms/step - loss: 1351028.7500 - val_loss: 1197337.1250\n",
      "Epoch 73/100\n",
      "112/112 [==============================] - 0s 1ms/step - loss: 1330458.5000 - val_loss: 1185365.3750\n",
      "Epoch 74/100\n",
      "112/112 [==============================] - 0s 1ms/step - loss: 1311093.1250 - val_loss: 1166112.0000\n",
      "Epoch 75/100\n",
      "112/112 [==============================] - 0s 1ms/step - loss: 1290604.3750 - val_loss: 1144881.1250\n",
      "Epoch 76/100\n",
      "112/112 [==============================] - 0s 1ms/step - loss: 1271584.6250 - val_loss: 1129337.8750\n",
      "Epoch 77/100\n",
      "112/112 [==============================] - 0s 2ms/step - loss: 1253962.8750 - val_loss: 1112649.1250\n",
      "Epoch 78/100\n",
      "112/112 [==============================] - 0s 1ms/step - loss: 1233993.8750 - val_loss: 1100891.3750\n",
      "Epoch 79/100\n",
      "112/112 [==============================] - 0s 1ms/step - loss: 1216419.8750 - val_loss: 1080721.8750\n",
      "Epoch 80/100\n",
      "112/112 [==============================] - 0s 1ms/step - loss: 1198508.5000 - val_loss: 1070827.5000\n",
      "Epoch 81/100\n",
      "112/112 [==============================] - 0s 1ms/step - loss: 1180470.5000 - val_loss: 1053807.0000\n",
      "Epoch 82/100\n",
      "112/112 [==============================] - 0s 1ms/step - loss: 1163336.8750 - val_loss: 1039623.7500\n",
      "Epoch 83/100\n",
      "112/112 [==============================] - 0s 1ms/step - loss: 1146687.5000 - val_loss: 1026802.8750\n",
      "Epoch 84/100\n",
      "112/112 [==============================] - 0s 2ms/step - loss: 1131024.8750 - val_loss: 1012635.5625\n",
      "Epoch 85/100\n",
      "112/112 [==============================] - 0s 1ms/step - loss: 1113891.2500 - val_loss: 1009372.7500\n",
      "Epoch 86/100\n",
      "112/112 [==============================] - 0s 2ms/step - loss: 1098472.3750 - val_loss: 990140.5000\n",
      "Epoch 87/100\n",
      "112/112 [==============================] - 0s 1ms/step - loss: 1082006.7500 - val_loss: 975539.8125\n",
      "Epoch 88/100\n",
      "112/112 [==============================] - 0s 1ms/step - loss: 1067122.7500 - val_loss: 969368.8125\n",
      "Epoch 89/100\n",
      "112/112 [==============================] - 0s 1ms/step - loss: 1051462.6250 - val_loss: 952750.0625\n",
      "Epoch 90/100\n",
      "112/112 [==============================] - 0s 1ms/step - loss: 1037578.5625 - val_loss: 941850.3125\n",
      "Epoch 91/100\n",
      "112/112 [==============================] - 0s 1ms/step - loss: 1022832.5000 - val_loss: 934980.3125\n",
      "Epoch 92/100\n",
      "112/112 [==============================] - 0s 1ms/step - loss: 1009289.5000 - val_loss: 921110.0000\n",
      "Epoch 93/100\n",
      "112/112 [==============================] - 0s 1ms/step - loss: 995688.9375 - val_loss: 907487.8125\n",
      "Epoch 94/100\n",
      "112/112 [==============================] - 0s 2ms/step - loss: 983313.5625 - val_loss: 899604.1875\n",
      "Epoch 95/100\n",
      "112/112 [==============================] - 0s 1ms/step - loss: 971411.3750 - val_loss: 892225.8125\n",
      "Epoch 96/100\n",
      "112/112 [==============================] - 0s 1ms/step - loss: 958982.0000 - val_loss: 881076.1250\n",
      "Epoch 97/100\n",
      "112/112 [==============================] - 0s 1ms/step - loss: 948745.0625 - val_loss: 874530.1250\n",
      "Epoch 98/100\n",
      "112/112 [==============================] - 0s 1ms/step - loss: 936528.2500 - val_loss: 868353.8125\n",
      "Epoch 99/100\n",
      "112/112 [==============================] - 0s 1ms/step - loss: 927356.3125 - val_loss: 854855.0000\n",
      "Epoch 100/100\n",
      "112/112 [==============================] - 0s 1ms/step - loss: 918050.8125 - val_loss: 844696.3125\n",
      "60/60 [==============================] - 0s 831us/step\n",
      "Root Mean Squared Error: 928.303\n",
      "R-Squared Value: 0.797\n",
      "Accuracy: 43.47%\n"
     ]
    }
   ],
   "source": [
    "# Neural Network\n",
    "print(\"Neural Network Model Results:\")\n",
    "findNN(X_train, X_test, y_train, y_test)"
   ]
  },
  {
   "cell_type": "code",
   "execution_count": 28,
   "metadata": {},
   "outputs": [
    {
     "name": "stdout",
     "output_type": "stream",
     "text": [
      "60/60 [==============================] - 0s 1ms/step\n",
      "Root Mean Squared Error (RMSE): 2278.600\n",
      "R-Squared Value: -0.222\n",
      "Accuracy: -38.76%\n"
     ]
    }
   ],
   "source": [
    "findLSTM(X_train, X_test, y_train, y_test)"
   ]
  },
  {
   "attachments": {},
   "cell_type": "markdown",
   "metadata": {},
   "source": [
    "<p>From the above Random Forest has the highest accuracy of 92.90%. While, decision tree also have a high accuracy of 91.75%</p>"
   ]
  }
 ],
 "metadata": {
  "kernelspec": {
   "display_name": "Python 3",
   "language": "python",
   "name": "python3"
  },
  "language_info": {
   "codemirror_mode": {
    "name": "ipython",
    "version": 3
   },
   "file_extension": ".py",
   "mimetype": "text/x-python",
   "name": "python",
   "nbconvert_exporter": "python",
   "pygments_lexer": "ipython3",
   "version": "3.9.13"
  },
  "orig_nbformat": 4
 },
 "nbformat": 4,
 "nbformat_minor": 2
}
