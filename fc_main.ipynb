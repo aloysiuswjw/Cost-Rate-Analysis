{
 "cells": [
  {
   "cell_type": "code",
   "execution_count": 305,
   "metadata": {},
   "outputs": [
    {
     "data": {
      "text/html": [
       "<div>\n",
       "<style scoped>\n",
       "    .dataframe tbody tr th:only-of-type {\n",
       "        vertical-align: middle;\n",
       "    }\n",
       "\n",
       "    .dataframe tbody tr th {\n",
       "        vertical-align: top;\n",
       "    }\n",
       "\n",
       "    .dataframe thead th {\n",
       "        text-align: right;\n",
       "    }\n",
       "</style>\n",
       "<table border=\"1\" class=\"dataframe\">\n",
       "  <thead>\n",
       "    <tr style=\"text-align: right;\">\n",
       "      <th></th>\n",
       "      <th>POD</th>\n",
       "      <th>RATE</th>\n",
       "    </tr>\n",
       "  </thead>\n",
       "  <tbody>\n",
       "    <tr>\n",
       "      <th>0</th>\n",
       "      <td>2005-07-19</td>\n",
       "      <td>2200.0</td>\n",
       "    </tr>\n",
       "    <tr>\n",
       "      <th>1</th>\n",
       "      <td>2005-07-20</td>\n",
       "      <td>2250.0</td>\n",
       "    </tr>\n",
       "    <tr>\n",
       "      <th>2</th>\n",
       "      <td>2005-07-21</td>\n",
       "      <td>2300.0</td>\n",
       "    </tr>\n",
       "    <tr>\n",
       "      <th>3</th>\n",
       "      <td>2005-07-22</td>\n",
       "      <td>2280.0</td>\n",
       "    </tr>\n",
       "    <tr>\n",
       "      <th>4</th>\n",
       "      <td>2005-07-23</td>\n",
       "      <td>2260.0</td>\n",
       "    </tr>\n",
       "  </tbody>\n",
       "</table>\n",
       "</div>"
      ],
      "text/plain": [
       "         POD    RATE\n",
       "0 2005-07-19  2200.0\n",
       "1 2005-07-20  2250.0\n",
       "2 2005-07-21  2300.0\n",
       "3 2005-07-22  2280.0\n",
       "4 2005-07-23  2260.0"
      ]
     },
     "execution_count": 305,
     "metadata": {},
     "output_type": "execute_result"
    },
    {
     "data": {
      "text/html": [
       "<div>\n",
       "<style scoped>\n",
       "    .dataframe tbody tr th:only-of-type {\n",
       "        vertical-align: middle;\n",
       "    }\n",
       "\n",
       "    .dataframe tbody tr th {\n",
       "        vertical-align: top;\n",
       "    }\n",
       "\n",
       "    .dataframe thead th {\n",
       "        text-align: right;\n",
       "    }\n",
       "</style>\n",
       "<table border=\"1\" class=\"dataframe\">\n",
       "  <thead>\n",
       "    <tr style=\"text-align: right;\">\n",
       "      <th></th>\n",
       "      <th>POD</th>\n",
       "      <th>RATE</th>\n",
       "    </tr>\n",
       "  </thead>\n",
       "  <tbody>\n",
       "    <tr>\n",
       "      <th>6370</th>\n",
       "      <td>2022-12-27</td>\n",
       "      <td>4121.43</td>\n",
       "    </tr>\n",
       "    <tr>\n",
       "      <th>6371</th>\n",
       "      <td>2022-12-28</td>\n",
       "      <td>4142.86</td>\n",
       "    </tr>\n",
       "    <tr>\n",
       "      <th>6372</th>\n",
       "      <td>2022-12-29</td>\n",
       "      <td>4164.29</td>\n",
       "    </tr>\n",
       "    <tr>\n",
       "      <th>6373</th>\n",
       "      <td>2022-12-30</td>\n",
       "      <td>4185.71</td>\n",
       "    </tr>\n",
       "    <tr>\n",
       "      <th>6374</th>\n",
       "      <td>2022-12-31</td>\n",
       "      <td>4207.14</td>\n",
       "    </tr>\n",
       "  </tbody>\n",
       "</table>\n",
       "</div>"
      ],
      "text/plain": [
       "            POD     RATE\n",
       "6370 2022-12-27  4121.43\n",
       "6371 2022-12-28  4142.86\n",
       "6372 2022-12-29  4164.29\n",
       "6373 2022-12-30  4185.71\n",
       "6374 2022-12-31  4207.14"
      ]
     },
     "execution_count": 305,
     "metadata": {},
     "output_type": "execute_result"
    },
    {
     "name": "stdout",
     "output_type": "stream",
     "text": [
      "<class 'pandas.core.frame.DataFrame'>\n",
      "RangeIndex: 6375 entries, 0 to 6374\n",
      "Data columns (total 2 columns):\n",
      " #   Column  Non-Null Count  Dtype         \n",
      "---  ------  --------------  -----         \n",
      " 0   POD     6375 non-null   datetime64[ns]\n",
      " 1   RATE    6375 non-null   float64       \n",
      "dtypes: datetime64[ns](1), float64(1)\n",
      "memory usage: 99.7 KB\n",
      "Dataset size: (6375, 2)\n"
     ]
    }
   ],
   "source": [
    "import numpy as np\n",
    "import pandas as pd\n",
    "import seaborn as sns\n",
    "import matplotlib.pyplot as plt\n",
    "import numpy as np\n",
    "import pandas as pd\n",
    "from sklearn.preprocessing import StandardScaler\n",
    "from sklearn.model_selection import train_test_split\n",
    "from sklearn.ensemble import RandomForestRegressor\n",
    "from sklearn.metrics import r2_score, mean_squared_error\n",
    "from sklearn.preprocessing import MinMaxScaler\n",
    "from IPython.core.interactiveshell import InteractiveShell\n",
    "from datetime import timedelta\n",
    "InteractiveShell.ast_node_interactivity = \"all\"\n",
    "%matplotlib inline\n",
    "sns.set()\n",
    "pd.options.display.max_rows = 100\n",
    "\n",
    "df_before = pd.read_csv('CR_FC_PREP_0522.csv')\n",
    "df_before['POD'] = pd.to_datetime(df_before['POD'])\n",
    "\n",
    "df_before.head()\n",
    "df_before.tail()\n",
    "df_before.info()\n",
    "print(f'Dataset size: {df_before.shape}')"
   ]
  },
  {
   "cell_type": "code",
   "execution_count": 306,
   "metadata": {},
   "outputs": [
    {
     "name": "stdout",
     "output_type": "stream",
     "text": [
      "Index(['POD', 'RATE'], dtype='object')\n"
     ]
    }
   ],
   "source": [
    "print(df_before.columns)\n"
   ]
  },
  {
   "cell_type": "code",
   "execution_count": 307,
   "metadata": {},
   "outputs": [
    {
     "name": "stdout",
     "output_type": "stream",
     "text": [
      "              RATE\n",
      "POD               \n",
      "2005-07-19  2200.0\n",
      "2005-07-20  2250.0\n",
      "2005-07-21  2300.0\n",
      "2005-07-22  2280.0\n",
      "2005-07-23  2260.0\n",
      "               RATE\n",
      "POD                \n",
      "2022-12-27  4121.43\n",
      "2022-12-28  4142.86\n",
      "2022-12-29  4164.29\n",
      "2022-12-30  4185.71\n",
      "2022-12-31  4207.14\n",
      "<class 'pandas.core.frame.DataFrame'>\n",
      "DatetimeIndex: 6375 entries, 2005-07-19 to 2022-12-31\n",
      "Data columns (total 1 columns):\n",
      " #   Column  Non-Null Count  Dtype  \n",
      "---  ------  --------------  -----  \n",
      " 0   RATE    6375 non-null   float64\n",
      "dtypes: float64(1)\n",
      "memory usage: 99.6 KB\n"
     ]
    }
   ],
   "source": [
    "df_bf_indexed = df_before.set_index('POD')\n",
    "print(df_bf_indexed.head())\n",
    "print(df_bf_indexed.tail())\n",
    "df_bf_indexed.info()"
   ]
  },
  {
   "cell_type": "code",
   "execution_count": 308,
   "metadata": {},
   "outputs": [],
   "source": [
    "# Y is the target\n",
    "Y = df_before.pop('RATE') \n",
    "X = df_before\n",
    "\n",
    "#normalise\n",
    "sc = StandardScaler()\n",
    "X = sc.fit_transform(X)\n",
    "X_train, X_test, y_train, y_test = train_test_split(X, Y, test_size=0.3)"
   ]
  },
  {
   "cell_type": "code",
   "execution_count": 309,
   "metadata": {},
   "outputs": [],
   "source": [
    "def findRF(X_train, X_test, y_train, y_test):\n",
    "    # Build the random forest model\n",
    "    rf_model = RandomForestRegressor()\n",
    "    rf_model.fit(X_train, y_train)\n",
    "\n",
    "    # Predict the test data\n",
    "    y_pred = rf_model.predict(X_test)\n",
    "\n",
    "    # Calculate the root mean squared error\n",
    "    rmse = mean_squared_error(y_test, y_pred, squared=False)\n",
    "    \n",
    "    # Calculate the R-squared value\n",
    "    r2 = r2_score(y_test, y_pred)\n",
    "\n",
    "    # Calculate the accuracy score in percentage\n",
    "    mean = y_test.mean()\n",
    "    accuracy = (1 - rmse/mean) * 100\n",
    "\n",
    "    print(\"Root Mean Squared Error:\", round(rmse, 3))\n",
    "    print(\"R-squared Value:\", round(r2, 3))\n",
    "    print(\"Accuracy Score:\", round(accuracy, 2), \"%\")\n",
    "\n",
    "    return y_pred\n"
   ]
  },
  {
   "cell_type": "code",
   "execution_count": 310,
   "metadata": {},
   "outputs": [
    {
     "name": "stdout",
     "output_type": "stream",
     "text": [
      "Root Mean Squared Error: 103.474\n",
      "R-squared Value: 0.997\n",
      "Accuracy Score: 93.5 %\n",
      "[ 507.1839  700.     1375.7    1168.093   755.     1361.1428 8811.6\n",
      "  568.3487 2248.4    8150.      207.65    900.     9987.1836  400.\n",
      "  752.6317  941.3143 1609.8816  700.      600.      473.623  1200.\n",
      " 1208.335   900.      534.4743  900.      900.     1200.     1496.4543\n",
      " 1547.4996 1221.15    526.      342.      625.     1214.4004  499.7143\n",
      "  755.     6798.8214  500.9999 1339.0692  752.7445 1684.3     400.\n",
      " 9600.      846.5727  625.     2200.      500.5004  430.     7968.2935\n",
      "  400.     1451.6574  370.365 ]\n"
     ]
    }
   ],
   "source": [
    "n_periods = 52\n",
    "y_pred_last_52 = findRF(X_train, X_test, y_train, y_test)[-n_periods:]\n",
    "print(y_pred_last_52)"
   ]
  },
  {
   "cell_type": "code",
   "execution_count": 311,
   "metadata": {},
   "outputs": [
    {
     "name": "stdout",
     "output_type": "stream",
     "text": [
      "2023-01-01 00:00:00\n",
      "                 RATE\n",
      "POD                  \n",
      "2023-01-01   507.1839\n",
      "2023-01-02   700.0000\n",
      "2023-01-03  1375.7000\n",
      "2023-01-04  1168.0930\n",
      "2023-01-05   755.0000\n",
      "2023-01-06  1361.1428\n",
      "2023-01-07  8811.6000\n",
      "2023-01-08   568.3487\n",
      "2023-01-09  2248.4000\n",
      "2023-01-10  8150.0000\n",
      "2023-01-11   207.6500\n",
      "2023-01-12   900.0000\n",
      "2023-01-13  9987.1836\n",
      "2023-01-14   400.0000\n",
      "2023-01-15   752.6317\n",
      "2023-01-16   941.3143\n",
      "2023-01-17  1609.8816\n",
      "2023-01-18   700.0000\n",
      "2023-01-19   600.0000\n",
      "2023-01-20   473.6230\n",
      "2023-01-21  1200.0000\n",
      "2023-01-22  1208.3350\n",
      "2023-01-23   900.0000\n",
      "2023-01-24   534.4743\n",
      "2023-01-25   900.0000\n",
      "2023-01-26   900.0000\n",
      "2023-01-27  1200.0000\n",
      "2023-01-28  1496.4543\n",
      "2023-01-29  1547.4996\n",
      "2023-01-30  1221.1500\n",
      "2023-01-31   526.0000\n",
      "2023-02-01   342.0000\n",
      "2023-02-02   625.0000\n",
      "2023-02-03  1214.4004\n",
      "2023-02-04   499.7143\n",
      "2023-02-05   755.0000\n",
      "2023-02-06  6798.8214\n",
      "2023-02-07   500.9999\n",
      "2023-02-08  1339.0692\n",
      "2023-02-09   752.7445\n",
      "2023-02-10  1684.3000\n",
      "2023-02-11   400.0000\n",
      "2023-02-12  9600.0000\n",
      "2023-02-13   846.5727\n",
      "2023-02-14   625.0000\n",
      "2023-02-15  2200.0000\n",
      "2023-02-16   500.5004\n",
      "2023-02-17   430.0000\n",
      "2023-02-18  7968.2935\n",
      "2023-02-19   400.0000\n",
      "2023-02-20  1451.6574\n",
      "2023-02-21   370.3650\n",
      "<class 'pandas.core.frame.DataFrame'>\n",
      "DatetimeIndex: 52 entries, 2023-01-01 to 2023-02-21\n",
      "Data columns (total 1 columns):\n",
      " #   Column  Non-Null Count  Dtype  \n",
      "---  ------  --------------  -----  \n",
      " 0   RATE    52 non-null     float64\n",
      "dtypes: float64(1)\n",
      "memory usage: 832.0 bytes\n"
     ]
    }
   ],
   "source": [
    "last_date = df_bf_indexed.index[-1]\n",
    "start_date = last_date + timedelta(days=1)\n",
    "\n",
    "print(start_date)\n",
    "\n",
    "# Create a date range for the next 52 days\n",
    "next_52_days = pd.date_range(start=start_date, periods=52, freq='D')\n",
    "\n",
    "# Create a dataframe with the predicted values and dates\n",
    "forecast_df = pd.DataFrame({'POD': next_52_days, 'RATE': y_pred_last_52})\n",
    "\n",
    "# Set the index of the dataframe to be the date column\n",
    "forecast_df.set_index('POD', inplace=True)\n",
    "\n",
    "# Print the dataframe\n",
    "print(forecast_df)\n",
    "forecast_df.info()"
   ]
  },
  {
   "cell_type": "code",
   "execution_count": 312,
   "metadata": {},
   "outputs": [
    {
     "data": {
      "text/plain": [
       "<Figure size 3000x800 with 0 Axes>"
      ]
     },
     "execution_count": 312,
     "metadata": {},
     "output_type": "execute_result"
    },
    {
     "data": {
      "text/plain": [
       "[<matplotlib.lines.Line2D at 0x22bac65ed40>]"
      ]
     },
     "execution_count": 312,
     "metadata": {},
     "output_type": "execute_result"
    },
    {
     "data": {
      "text/plain": [
       "[<matplotlib.lines.Line2D at 0x22bac6ac970>]"
      ]
     },
     "execution_count": 312,
     "metadata": {},
     "output_type": "execute_result"
    },
    {
     "data": {
      "text/plain": [
       "Text(0.5, 1.0, 'Final Forecast of COST_RATE')"
      ]
     },
     "execution_count": 312,
     "metadata": {},
     "output_type": "execute_result"
    },
    {
     "data": {
      "image/png": "[encoded data removed]",
      "text/plain": [
       "<Figure size 3000x800 with 1 Axes>"
      ]
     },
     "metadata": {},
     "output_type": "display_data"
    }
   ],
   "source": [
    "# Plot the forecast with current dataset\n",
    "plt.figure(figsize=(30, 8))\n",
    "plt.plot(df_bf_indexed)\n",
    "plt.plot(forecast_df, color='darkgreen')\n",
    "plt.title(\"Final Forecast of COST_RATE\")\n",
    "plt.show()"
   ]
  },
  {
   "attachments": {},
   "cell_type": "markdown",
   "metadata": {},
   "source": [
    "<h3>Comparing predicted with actual to check accuracy rate</h3>"
   ]
  },
  {
   "cell_type": "code",
   "execution_count": 313,
   "metadata": {},
   "outputs": [
    {
     "data": {
      "text/html": [
       "<div>\n",
       "<style scoped>\n",
       "    .dataframe tbody tr th:only-of-type {\n",
       "        vertical-align: middle;\n",
       "    }\n",
       "\n",
       "    .dataframe tbody tr th {\n",
       "        vertical-align: top;\n",
       "    }\n",
       "\n",
       "    .dataframe thead th {\n",
       "        text-align: right;\n",
       "    }\n",
       "</style>\n",
       "<table border=\"1\" class=\"dataframe\">\n",
       "  <thead>\n",
       "    <tr style=\"text-align: right;\">\n",
       "      <th></th>\n",
       "      <th>RATE</th>\n",
       "    </tr>\n",
       "    <tr>\n",
       "      <th>POD</th>\n",
       "      <th></th>\n",
       "    </tr>\n",
       "  </thead>\n",
       "  <tbody>\n",
       "    <tr>\n",
       "      <th>2023-01-01</th>\n",
       "      <td>4228.57</td>\n",
       "    </tr>\n",
       "    <tr>\n",
       "      <th>2023-01-02</th>\n",
       "      <td>4250.00</td>\n",
       "    </tr>\n",
       "    <tr>\n",
       "      <th>2023-01-03</th>\n",
       "      <td>2800.00</td>\n",
       "    </tr>\n",
       "    <tr>\n",
       "      <th>2023-01-04</th>\n",
       "      <td>2800.00</td>\n",
       "    </tr>\n",
       "    <tr>\n",
       "      <th>2023-01-05</th>\n",
       "      <td>2800.00</td>\n",
       "    </tr>\n",
       "  </tbody>\n",
       "</table>\n",
       "</div>"
      ],
      "text/plain": [
       "               RATE\n",
       "POD                \n",
       "2023-01-01  4228.57\n",
       "2023-01-02  4250.00\n",
       "2023-01-03  2800.00\n",
       "2023-01-04  2800.00\n",
       "2023-01-05  2800.00"
      ]
     },
     "execution_count": 313,
     "metadata": {},
     "output_type": "execute_result"
    },
    {
     "data": {
      "text/html": [
       "<div>\n",
       "<style scoped>\n",
       "    .dataframe tbody tr th:only-of-type {\n",
       "        vertical-align: middle;\n",
       "    }\n",
       "\n",
       "    .dataframe tbody tr th {\n",
       "        vertical-align: top;\n",
       "    }\n",
       "\n",
       "    .dataframe thead th {\n",
       "        text-align: right;\n",
       "    }\n",
       "</style>\n",
       "<table border=\"1\" class=\"dataframe\">\n",
       "  <thead>\n",
       "    <tr style=\"text-align: right;\">\n",
       "      <th></th>\n",
       "      <th>RATE</th>\n",
       "    </tr>\n",
       "    <tr>\n",
       "      <th>POD</th>\n",
       "      <th></th>\n",
       "    </tr>\n",
       "  </thead>\n",
       "  <tbody>\n",
       "    <tr>\n",
       "      <th>2023-02-17</th>\n",
       "      <td>1500.0</td>\n",
       "    </tr>\n",
       "    <tr>\n",
       "      <th>2023-02-18</th>\n",
       "      <td>1500.0</td>\n",
       "    </tr>\n",
       "    <tr>\n",
       "      <th>2023-02-19</th>\n",
       "      <td>1500.0</td>\n",
       "    </tr>\n",
       "    <tr>\n",
       "      <th>2023-02-20</th>\n",
       "      <td>1500.0</td>\n",
       "    </tr>\n",
       "    <tr>\n",
       "      <th>2023-02-21</th>\n",
       "      <td>1500.0</td>\n",
       "    </tr>\n",
       "  </tbody>\n",
       "</table>\n",
       "</div>"
      ],
      "text/plain": [
       "              RATE\n",
       "POD               \n",
       "2023-02-17  1500.0\n",
       "2023-02-18  1500.0\n",
       "2023-02-19  1500.0\n",
       "2023-02-20  1500.0\n",
       "2023-02-21  1500.0"
      ]
     },
     "execution_count": 313,
     "metadata": {},
     "output_type": "execute_result"
    },
    {
     "name": "stdout",
     "output_type": "stream",
     "text": [
      "<class 'pandas.core.frame.DataFrame'>\n",
      "DatetimeIndex: 52 entries, 2023-01-01 to 2023-02-21\n",
      "Data columns (total 1 columns):\n",
      " #   Column  Non-Null Count  Dtype  \n",
      "---  ------  --------------  -----  \n",
      " 0   RATE    52 non-null     float64\n",
      "dtypes: float64(1)\n",
      "memory usage: 832.0 bytes\n",
      "Dataset size: (52, 1)\n"
     ]
    }
   ],
   "source": [
    "# After 2023 data to compare accuracy of forecast\n",
    "df_after = pd.read_csv('CR_FC_PREP_23.csv')\n",
    "df_after['POD'] = pd.to_datetime(df_after['POD'])\n",
    "\n",
    "df_after.set_index('POD',inplace=True)\n",
    "\n",
    "df_after.head()\n",
    "df_after.tail()\n",
    "df_after.info()\n",
    "print(f'Dataset size: {df_after.shape}')"
   ]
  },
  {
   "cell_type": "code",
   "execution_count": 315,
   "metadata": {},
   "outputs": [
    {
     "name": "stdout",
     "output_type": "stream",
     "text": [
      "[3721.386099999999, 3550.0, 1424.3, 1631.9070000000006, 2045.0, 1438.8572, 6011.6, 2231.6513, 551.5999999999999, 5387.5, 2517.35, 1787.5, 7337.183599999986, 2212.5, 1822.368300000001, 1596.1857000000005, 890.1184000000003, 1907.8200000000002, 2115.64, 2349.8269999999993, 1731.27, 1830.7550000000008, 2246.91, 2720.2557000000006, 2462.55, 2570.36, 2378.18, 2189.5456999999983, 1409.8304, 1007.52, 974.0, 1158.0, 875.0, 285.5996000000007, 1000.2857, 745.0, 5298.8214, 999.0001, 160.93080000000077, 747.2554999999994, 184.29999999999995, 1100.0, 8100.0, 653.4272999999994, 875.0, 700.0, 999.4995999999999, 1070.0, 6468.293499999989, 1100.0, 48.34260000000063, 1129.635]\n"
     ]
    }
   ],
   "source": [
    "import numpy as np\n",
    "\n",
    "act_rate_arr = []\n",
    "pred_rate_arr = []\n",
    "\n",
    "for act_rate in df_after['RATE']:\n",
    "    act_rate_arr.append(act_rate)\n",
    "\n",
    "for pred_rate in y_pred_last_52:\n",
    "    pred_rate_arr.append(pred_rate)\n",
    "\n",
    "abs_diff_arr = [abs(act_rate_arr[i] - pred_rate_arr[i]) for i in range(len(act_rate_arr))]\n",
    "print(abs_diff_arr)"
   ]
  }
 ],
 "metadata": {
  "kernelspec": {
   "display_name": "Python 3",
   "language": "python",
   "name": "python3"
  },
  "language_info": {
   "codemirror_mode": {
    "name": "ipython",
    "version": 3
   },
   "file_extension": ".py",
   "mimetype": "text/x-python",
   "name": "python",
   "nbconvert_exporter": "python",
   "pygments_lexer": "ipython3",
   "version": "3.10.9"
  },
  "orig_nbformat": 4
 },
 "nbformat": 4,
 "nbformat_minor": 2
}
