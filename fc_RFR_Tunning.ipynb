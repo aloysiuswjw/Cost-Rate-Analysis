{
 "cells": [
  {
   "cell_type": "code",
   "execution_count": 49,
   "metadata": {},
   "outputs": [
    {
     "data": {
      "text/html": [
       "<div>\n",
       "<style scoped>\n",
       "    .dataframe tbody tr th:only-of-type {\n",
       "        vertical-align: middle;\n",
       "    }\n",
       "\n",
       "    .dataframe tbody tr th {\n",
       "        vertical-align: top;\n",
       "    }\n",
       "\n",
       "    .dataframe thead th {\n",
       "        text-align: right;\n",
       "    }\n",
       "</style>\n",
       "<table border=\"1\" class=\"dataframe\">\n",
       "  <thead>\n",
       "    <tr style=\"text-align: right;\">\n",
       "      <th></th>\n",
       "      <th>POD</th>\n",
       "      <th>RATE</th>\n",
       "    </tr>\n",
       "  </thead>\n",
       "  <tbody>\n",
       "    <tr>\n",
       "      <th>0</th>\n",
       "      <td>2005-07-19</td>\n",
       "      <td>2200.0</td>\n",
       "    </tr>\n",
       "    <tr>\n",
       "      <th>1</th>\n",
       "      <td>2005-07-20</td>\n",
       "      <td>2250.0</td>\n",
       "    </tr>\n",
       "    <tr>\n",
       "      <th>2</th>\n",
       "      <td>2005-07-21</td>\n",
       "      <td>2300.0</td>\n",
       "    </tr>\n",
       "    <tr>\n",
       "      <th>3</th>\n",
       "      <td>2005-07-22</td>\n",
       "      <td>2280.0</td>\n",
       "    </tr>\n",
       "    <tr>\n",
       "      <th>4</th>\n",
       "      <td>2005-07-23</td>\n",
       "      <td>2260.0</td>\n",
       "    </tr>\n",
       "  </tbody>\n",
       "</table>\n",
       "</div>"
      ],
      "text/plain": [
       "          POD    RATE\n",
       "0  2005-07-19  2200.0\n",
       "1  2005-07-20  2250.0\n",
       "2  2005-07-21  2300.0\n",
       "3  2005-07-22  2280.0\n",
       "4  2005-07-23  2260.0"
      ]
     },
     "execution_count": 49,
     "metadata": {},
     "output_type": "execute_result"
    },
    {
     "name": "stdout",
     "output_type": "stream",
     "text": [
      "<class 'pandas.core.frame.DataFrame'>\n",
      "RangeIndex: 6375 entries, 0 to 6374\n",
      "Data columns (total 2 columns):\n",
      " #   Column  Non-Null Count  Dtype  \n",
      "---  ------  --------------  -----  \n",
      " 0   POD     6375 non-null   object \n",
      " 1   RATE    6375 non-null   float64\n",
      "dtypes: float64(1), object(1)\n",
      "memory usage: 99.7+ KB\n",
      "Dataset size: (6375, 2)\n"
     ]
    }
   ],
   "source": [
    "import numpy as np\n",
    "import pandas as pd\n",
    "import seaborn as sns\n",
    "import matplotlib.pyplot as plt\n",
    "import numpy as np\n",
    "import pandas as pd\n",
    "from IPython.core.interactiveshell import InteractiveShell\n",
    "InteractiveShell.ast_node_interactivity = \"all\"\n",
    "%matplotlib inline\n",
    "sns.set()\n",
    "pd.options.display.max_rows = 100\n",
    "\n",
    "df = pd.read_csv('CR_FC_PREP_0522.csv')\n",
    "\n",
    "df.head()\n",
    "df.info()\n",
    "print(f'Dataset size: {df.shape}')"
   ]
  },
  {
   "cell_type": "code",
   "execution_count": 50,
   "metadata": {},
   "outputs": [
    {
     "name": "stdout",
     "output_type": "stream",
     "text": [
      "<class 'pandas.core.frame.DataFrame'>\n",
      "RangeIndex: 6375 entries, 0 to 6374\n",
      "Data columns (total 2 columns):\n",
      " #   Column  Non-Null Count  Dtype         \n",
      "---  ------  --------------  -----         \n",
      " 0   POD     6375 non-null   datetime64[ns]\n",
      " 1   RATE    6375 non-null   float64       \n",
      "dtypes: datetime64[ns](1), float64(1)\n",
      "memory usage: 99.7 KB\n"
     ]
    }
   ],
   "source": [
    "df['POD'] = pd.to_datetime(df['POD'])\n",
    "df.info()"
   ]
  },
  {
   "attachments": {},
   "cell_type": "markdown",
   "metadata": {},
   "source": [
    "<h3>Improving Accuracy Scores<h3>"
   ]
  },
  {
   "attachments": {},
   "cell_type": "markdown",
   "metadata": {},
   "source": [
    "Tunning Random Forest </br>\n",
    "\n",
    "<ol>\n",
    "    <li>Grid search: To evaluate the performance of your model with different max_depth values. Train and evaluate your model with max_depth values ranging from 1 to 20 and select the one that gives you the best performance.</li>\n",
    "    <li>Randomized search: Instead of trying every possible max_depth value, randomly sample a subset of values and evaluate the performance of your model with them.</li>\n",
    "    <li>Out-of-bag (OOB) error: In a random forest model, each tree is trained on a subset of the data (known as the bootstrap sample) and uses the remaining data as out-of-bag (OOB) samples. Using OOB samples to estimate the performance of your model for different max_depth values.</li>\n",
    "    <li>Visualization: Plot the performance of your model (e.g., accuracy or AUC) against different max_depth values to see if there is a clear maximum</li>\n",
    "</ol>\n"
   ]
  },
  {
   "cell_type": "code",
   "execution_count": 51,
   "metadata": {},
   "outputs": [
    {
     "data": {
      "text/html": [
       "<style>#sk-container-id-5 {color: black;background-color: white;}#sk-container-id-5 pre{padding: 0;}#sk-container-id-5 div.sk-toggleable {background-color: white;}#sk-container-id-5 label.sk-toggleable__label {cursor: pointer;display: block;width: 100%;margin-bottom: 0;padding: 0.3em;box-sizing: border-box;text-align: center;}#sk-container-id-5 label.sk-toggleable__label-arrow:before {content: \"▸\";float: left;margin-right: 0.25em;color: #696969;}#sk-container-id-5 label.sk-toggleable__label-arrow:hover:before {color: black;}#sk-container-id-5 div.sk-estimator:hover label.sk-toggleable__label-arrow:before {color: black;}#sk-container-id-5 div.sk-toggleable__content {max-height: 0;max-width: 0;overflow: hidden;text-align: left;background-color: #f0f8ff;}#sk-container-id-5 div.sk-toggleable__content pre {margin: 0.2em;color: black;border-radius: 0.25em;background-color: #f0f8ff;}#sk-container-id-5 input.sk-toggleable__control:checked~div.sk-toggleable__content {max-height: 200px;max-width: 100%;overflow: auto;}#sk-container-id-5 input.sk-toggleable__control:checked~label.sk-toggleable__label-arrow:before {content: \"▾\";}#sk-container-id-5 div.sk-estimator input.sk-toggleable__control:checked~label.sk-toggleable__label {background-color: #d4ebff;}#sk-container-id-5 div.sk-label input.sk-toggleable__control:checked~label.sk-toggleable__label {background-color: #d4ebff;}#sk-container-id-5 input.sk-hidden--visually {border: 0;clip: rect(1px 1px 1px 1px);clip: rect(1px, 1px, 1px, 1px);height: 1px;margin: -1px;overflow: hidden;padding: 0;position: absolute;width: 1px;}#sk-container-id-5 div.sk-estimator {font-family: monospace;background-color: #f0f8ff;border: 1px dotted black;border-radius: 0.25em;box-sizing: border-box;margin-bottom: 0.5em;}#sk-container-id-5 div.sk-estimator:hover {background-color: #d4ebff;}#sk-container-id-5 div.sk-parallel-item::after {content: \"\";width: 100%;border-bottom: 1px solid gray;flex-grow: 1;}#sk-container-id-5 div.sk-label:hover label.sk-toggleable__label {background-color: #d4ebff;}#sk-container-id-5 div.sk-serial::before {content: \"\";position: absolute;border-left: 1px solid gray;box-sizing: border-box;top: 0;bottom: 0;left: 50%;z-index: 0;}#sk-container-id-5 div.sk-serial {display: flex;flex-direction: column;align-items: center;background-color: white;padding-right: 0.2em;padding-left: 0.2em;position: relative;}#sk-container-id-5 div.sk-item {position: relative;z-index: 1;}#sk-container-id-5 div.sk-parallel {display: flex;align-items: stretch;justify-content: center;background-color: white;position: relative;}#sk-container-id-5 div.sk-item::before, #sk-container-id-5 div.sk-parallel-item::before {content: \"\";position: absolute;border-left: 1px solid gray;box-sizing: border-box;top: 0;bottom: 0;left: 50%;z-index: -1;}#sk-container-id-5 div.sk-parallel-item {display: flex;flex-direction: column;z-index: 1;position: relative;background-color: white;}#sk-container-id-5 div.sk-parallel-item:first-child::after {align-self: flex-end;width: 50%;}#sk-container-id-5 div.sk-parallel-item:last-child::after {align-self: flex-start;width: 50%;}#sk-container-id-5 div.sk-parallel-item:only-child::after {width: 0;}#sk-container-id-5 div.sk-dashed-wrapped {border: 1px dashed gray;margin: 0 0.4em 0.5em 0.4em;box-sizing: border-box;padding-bottom: 0.4em;background-color: white;}#sk-container-id-5 div.sk-label label {font-family: monospace;font-weight: bold;display: inline-block;line-height: 1.2em;}#sk-container-id-5 div.sk-label-container {text-align: center;}#sk-container-id-5 div.sk-container {/* jupyter's `normalize.less` sets `[hidden] { display: none; }` but bootstrap.min.css set `[hidden] { display: none !important; }` so we also need the `!important` here to be able to override the default hidden behavior on the sphinx rendered scikit-learn.org. See: https://github.com/scikit-learn/scikit-learn/issues/21755 */display: inline-block !important;position: relative;}#sk-container-id-5 div.sk-text-repr-fallback {display: none;}</style><div id=\"sk-container-id-5\" class=\"sk-top-container\"><div class=\"sk-text-repr-fallback\"><pre>GridSearchCV(cv=5, estimator=RandomForestRegressor(random_state=42),\n",
       "             param_grid={&#x27;max_depth&#x27;: [3, 5, 7, 10, 15],\n",
       "                         &#x27;n_estimators&#x27;: [50, 100, 200, 500]})</pre><b>In a Jupyter environment, please rerun this cell to show the HTML representation or trust the notebook. <br />On GitHub, the HTML representation is unable to render, please try loading this page with nbviewer.org.</b></div><div class=\"sk-container\" hidden><div class=\"sk-item sk-dashed-wrapped\"><div class=\"sk-label-container\"><div class=\"sk-label sk-toggleable\"><input class=\"sk-toggleable__control sk-hidden--visually\" id=\"sk-estimator-id-13\" type=\"checkbox\" ><label for=\"sk-estimator-id-13\" class=\"sk-toggleable__label sk-toggleable__label-arrow\">GridSearchCV</label><div class=\"sk-toggleable__content\"><pre>GridSearchCV(cv=5, estimator=RandomForestRegressor(random_state=42),\n",
       "             param_grid={&#x27;max_depth&#x27;: [3, 5, 7, 10, 15],\n",
       "                         &#x27;n_estimators&#x27;: [50, 100, 200, 500]})</pre></div></div></div><div class=\"sk-parallel\"><div class=\"sk-parallel-item\"><div class=\"sk-item\"><div class=\"sk-label-container\"><div class=\"sk-label sk-toggleable\"><input class=\"sk-toggleable__control sk-hidden--visually\" id=\"sk-estimator-id-14\" type=\"checkbox\" ><label for=\"sk-estimator-id-14\" class=\"sk-toggleable__label sk-toggleable__label-arrow\">estimator: RandomForestRegressor</label><div class=\"sk-toggleable__content\"><pre>RandomForestRegressor(random_state=42)</pre></div></div></div><div class=\"sk-serial\"><div class=\"sk-item\"><div class=\"sk-estimator sk-toggleable\"><input class=\"sk-toggleable__control sk-hidden--visually\" id=\"sk-estimator-id-15\" type=\"checkbox\" ><label for=\"sk-estimator-id-15\" class=\"sk-toggleable__label sk-toggleable__label-arrow\">RandomForestRegressor</label><div class=\"sk-toggleable__content\"><pre>RandomForestRegressor(random_state=42)</pre></div></div></div></div></div></div></div></div></div></div>"
      ],
      "text/plain": [
       "GridSearchCV(cv=5, estimator=RandomForestRegressor(random_state=42),\n",
       "             param_grid={'max_depth': [3, 5, 7, 10, 15],\n",
       "                         'n_estimators': [50, 100, 200, 500]})"
      ]
     },
     "execution_count": 51,
     "metadata": {},
     "output_type": "execute_result"
    },
    {
     "name": "stdout",
     "output_type": "stream",
     "text": [
      "Best hyperparameters:  {'max_depth': 15, 'n_estimators': 200}\n",
      "Best score:  0.9970191790586451\n"
     ]
    }
   ],
   "source": [
    "# Grid Search for Random Forest\n",
    "from sklearn.ensemble import RandomForestRegressor\n",
    "from sklearn.model_selection import GridSearchCV\n",
    "from sklearn.preprocessing import StandardScaler\n",
    "from sklearn.model_selection import train_test_split\n",
    "\n",
    "# Y is the target\n",
    "Y = df.pop('RATE') \n",
    "X = df\n",
    "\n",
    "# Normalise and split the data into training and testing sets\n",
    "sc = StandardScaler()\n",
    "X = sc.fit_transform(X)\n",
    "X_train, X_test, y_train, y_test = train_test_split(X, Y, test_size=0.3, random_state=42)\n",
    "\n",
    "# Define the parameter grid to search over\n",
    "param_grid = {\n",
    "    'max_depth': [3, 5, 7, 10, 15],\n",
    "    'n_estimators': [50, 100, 200, 500]\n",
    "}\n",
    "\n",
    "# Create a random forest regressor\n",
    "rf = RandomForestRegressor(random_state=42)\n",
    "\n",
    "# Perform grid search to find the best hyperparameters\n",
    "grid_search = GridSearchCV(estimator=rf, param_grid=param_grid, cv=5)\n",
    "grid_search.fit(X_train, y_train)\n",
    "\n",
    "# Print the best hyperparameters and their performance\n",
    "print(\"Best hyperparameters: \", grid_search.best_params_)\n",
    "print(\"Best score: \", grid_search.best_score_)"
   ]
  },
  {
   "cell_type": "code",
   "execution_count": 52,
   "metadata": {},
   "outputs": [],
   "source": [
    "# Attempt to use the hyperparameters to perform Random Forest Regression\n",
    "\n",
    "from sklearn.ensemble import RandomForestRegressor\n",
    "from sklearn.metrics import mean_squared_error, r2_score, accuracy_score\n",
    "\n",
    "def evaluate_rf(X_train, X_test, y_train, y_test, best_n, best_depth):\n",
    "    # Create a random forest regressor with the best hyperparameters\n",
    "    rf = RandomForestRegressor(n_estimators= best_n, \n",
    "                                max_depth= best_depth, \n",
    "                                random_state=42)\n",
    "    \n",
    "    # Fit the model on the entire training dataset\n",
    "    rf.fit(X_train, y_train)\n",
    "    \n",
    "    # Make predictions on the test data\n",
    "    y_pred = rf.predict(X_test)\n",
    "    \n",
    "    # Calculate root mean square error, R-squared value, and accuracy\n",
    "    rmse = mean_squared_error(y_test, y_pred, squared=False)\n",
    "    r2 = r2_score(y_test, y_pred)\n",
    "    mean = y_test.mean()\n",
    "    acc = (1 - rmse/mean) * 100\n",
    "    \n",
    "    # Print the results\n",
    "    print(\"Root mean squared error: {:.3f}\".format(rmse))\n",
    "    print(\"R-squared value: {:.3f}\".format(r2))\n",
    "    print(\"Accuracy: {:.2f}%\".format(acc))"
   ]
  },
  {
   "attachments": {},
   "cell_type": "markdown",
   "metadata": {},
   "source": [
    "Grid search is a hyperparameter tuning technique used to find the best set of hyperparameters for a given machine learning model. The random forest regressor is a machine learning model that uses an ensemble of decision trees to make predictions.\n",
    "\n",
    "During grid search for a random forest regressor, a grid of possible hyperparameter combinations is created, and the model is trained and evaluated using each combination. The hyperparameters that are typically tuned during grid search for a random forest regressor include:\n",
    "\n",
    "n_estimators: the number of decision trees in the random forest\n",
    "max_features: the maximum number of features considered for splitting a node\n",
    "max_depth: the maximum depth of the decision trees in the random forest\n",
    "min_samples_split: the minimum number of samples required to split an internal node\n",
    "min_samples_leaf: the minimum number of samples required to be at a leaf node\n",
    "For each combination of hyperparameters, the model is trained using the training data and evaluated using a validation set. The performance of the model is measured using a metric such as mean squared error (MSE) or R-squared (R2). The combination of hyperparameters that results in the best performance on the validation set is selected as the optimal set of hyperparameters for the random forest regressor."
   ]
  },
  {
   "cell_type": "code",
   "execution_count": 53,
   "metadata": {},
   "outputs": [],
   "source": [
    "def train_ev_RFR(X_train, X_test, y_train, y_test):\n",
    "    # Create an instance of the random forest regressor\n",
    "    rf_regressor = RandomForestRegressor()\n",
    "\n",
    "    # Train the model on the training data\n",
    "    train_acc = []\n",
    "    for i in range(50):\n",
    "        rf_regressor.fit(X_train, y_train)\n",
    "        y_pred = rf_regressor.predict(X_train)\n",
    "        train_acc.append(r2_score(y_train, y_pred))\n",
    "\n",
    "    # Evaluate the model on the testing data\n",
    "    test_acc = []\n",
    "    best_acc = float('-inf')\n",
    "    best_iter = None\n",
    "    for i in range(len(train_acc)):\n",
    "        rf_regressor.fit(X_train, y_train)\n",
    "        y_pred = rf_regressor.predict(X_test)\n",
    "        acc = r2_score(y_test, y_pred)\n",
    "        test_acc.append(acc)\n",
    "        if acc > best_acc:\n",
    "            best_acc = acc\n",
    "            best_iter = i\n",
    "\n",
    "    # Plot the training and testing accuracy as line graphs\n",
    "    x_vals = range(len(train_acc))\n",
    "    plt.plot(x_vals, train_acc, label='Training Accuracy')\n",
    "    plt.plot(x_vals, test_acc, label='Testing Accuracy')\n",
    "    plt.xlabel('Number of Training Iterations')\n",
    "    plt.ylabel('Accuracy')\n",
    "    plt.title('Training and Testing Accuracy of Random Forest Regressor')\n",
    "    plt.legend()\n",
    "    plt.show()\n",
    "\n",
    "    print('Best Testing accuracy:', best_acc, 'at iteration', best_iter)\n",
    "    # return train_acc, test_acc, best_acc, best_iter"
   ]
  },
  {
   "cell_type": "code",
   "execution_count": 54,
   "metadata": {},
   "outputs": [
    {
     "data": {
      "image/png": "[encoded data removed]",
      "text/plain": [
       "<Figure size 640x480 with 1 Axes>"
      ]
     },
     "metadata": {},
     "output_type": "display_data"
    },
    {
     "name": "stdout",
     "output_type": "stream",
     "text": [
      "Best Testing accuracy: 0.9977740029771208 at iteration 48\n"
     ]
    }
   ],
   "source": [
    "train_ev_RFR(X_train, X_test, y_train, y_test)"
   ]
  },
  {
   "cell_type": "code",
   "execution_count": 55,
   "metadata": {},
   "outputs": [],
   "source": [
    "# Attempt to use the hyperparameters to perform Random Forest Regression\n",
    "\n",
    "from sklearn.ensemble import RandomForestRegressor\n",
    "from sklearn.metrics import mean_squared_error, r2_score\n",
    "\n",
    "def evaluate_rf(X_train, X_test, y_train, y_test, best_n, best_depth, sample):\n",
    "    # Create a random forest regressor with the best hyperparameters\n",
    "    rf = RandomForestRegressor(n_estimators= best_n, \n",
    "                                max_depth= best_depth, \n",
    "                                random_state= sample)\n",
    "    \n",
    "    # Fit the model on the entire training dataset\n",
    "    rf.fit(X_train, y_train)\n",
    "    \n",
    "    # Make predictions on the test data\n",
    "    y_pred = rf.predict(X_test)\n",
    "    \n",
    "    # Calculate root mean square error, R-squared value, and accuracy\n",
    "    rmse = mean_squared_error(y_test, y_pred, squared=False)\n",
    "    r2 = r2_score(y_test, y_pred)\n",
    "    mean = y_test.mean()\n",
    "    acc = (1 - rmse/mean) * 100\n",
    "    \n",
    "    # Print the results\n",
    "    print(\"Root mean squared error: {:.3f}\".format(rmse))\n",
    "    print(\"R-squared value: {:.3f}\".format(r2))\n",
    "    print(\"Accuracy: {:.2f}%\".format(acc))"
   ]
  },
  {
   "cell_type": "code",
   "execution_count": 56,
   "metadata": {},
   "outputs": [
    {
     "name": "stdout",
     "output_type": "stream",
     "text": [
      "Root mean squared error: 98.159\n",
      "R-squared value: 0.998\n",
      "Accuracy: 93.87%\n"
     ]
    }
   ],
   "source": [
    "evaluate_rf(X_train, X_test, y_train, y_test, 200, 15, 19)"
   ]
  }
 ],
 "metadata": {
  "kernelspec": {
   "display_name": "Python 3",
   "language": "python",
   "name": "python3"
  },
  "language_info": {
   "codemirror_mode": {
    "name": "ipython",
    "version": 3
   },
   "file_extension": ".py",
   "mimetype": "text/x-python",
   "name": "python",
   "nbconvert_exporter": "python",
   "pygments_lexer": "ipython3",
   "version": "3.10.9"
  },
  "orig_nbformat": 4
 },
 "nbformat": 4,
 "nbformat_minor": 2
}
