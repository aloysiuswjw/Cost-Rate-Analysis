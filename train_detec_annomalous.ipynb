{
 "cells": [
  {
   "cell_type": "code",
   "execution_count": 30,
   "metadata": {},
   "outputs": [
    {
     "data": {
      "text/html": [
       "<div>\n",
       "<style scoped>\n",
       "    .dataframe tbody tr th:only-of-type {\n",
       "        vertical-align: middle;\n",
       "    }\n",
       "\n",
       "    .dataframe tbody tr th {\n",
       "        vertical-align: top;\n",
       "    }\n",
       "\n",
       "    .dataframe thead th {\n",
       "        text-align: right;\n",
       "    }\n",
       "</style>\n",
       "<table border=\"1\" class=\"dataframe\">\n",
       "  <thead>\n",
       "    <tr style=\"text-align: right;\">\n",
       "      <th></th>\n",
       "      <th>POD</th>\n",
       "      <th>RATE</th>\n",
       "    </tr>\n",
       "  </thead>\n",
       "  <tbody>\n",
       "    <tr>\n",
       "      <th>0</th>\n",
       "      <td>2005-07-19</td>\n",
       "      <td>2200.0</td>\n",
       "    </tr>\n",
       "    <tr>\n",
       "      <th>1</th>\n",
       "      <td>2005-07-20</td>\n",
       "      <td>2250.0</td>\n",
       "    </tr>\n",
       "    <tr>\n",
       "      <th>2</th>\n",
       "      <td>2005-07-21</td>\n",
       "      <td>2300.0</td>\n",
       "    </tr>\n",
       "    <tr>\n",
       "      <th>3</th>\n",
       "      <td>2005-07-22</td>\n",
       "      <td>2280.0</td>\n",
       "    </tr>\n",
       "    <tr>\n",
       "      <th>4</th>\n",
       "      <td>2005-07-23</td>\n",
       "      <td>2260.0</td>\n",
       "    </tr>\n",
       "  </tbody>\n",
       "</table>\n",
       "</div>"
      ],
      "text/plain": [
       "         POD    RATE\n",
       "0 2005-07-19  2200.0\n",
       "1 2005-07-20  2250.0\n",
       "2 2005-07-21  2300.0\n",
       "3 2005-07-22  2280.0\n",
       "4 2005-07-23  2260.0"
      ]
     },
     "execution_count": 30,
     "metadata": {},
     "output_type": "execute_result"
    },
    {
     "name": "stdout",
     "output_type": "stream",
     "text": [
      "<class 'pandas.core.frame.DataFrame'>\n",
      "RangeIndex: 6375 entries, 0 to 6374\n",
      "Data columns (total 2 columns):\n",
      " #   Column  Non-Null Count  Dtype         \n",
      "---  ------  --------------  -----         \n",
      " 0   POD     6375 non-null   datetime64[ns]\n",
      " 1   RATE    6375 non-null   float64       \n",
      "dtypes: datetime64[ns](1), float64(1)\n",
      "memory usage: 99.7 KB\n",
      "Dataset size: (6375, 2)\n"
     ]
    }
   ],
   "source": [
    "import pandas as pd\n",
    "import numpy as np\n",
    "import seaborn as sns\n",
    "from sklearn.ensemble import IsolationForest\n",
    "from sklearn.preprocessing import StandardScaler\n",
    "import matplotlib.pyplot as plt\n",
    "\n",
    "from IPython.core.interactiveshell import InteractiveShell\n",
    "InteractiveShell.ast_node_interactivity = \"all\"\n",
    "%matplotlib inline\n",
    "sns.set()\n",
    "pd.options.display.max_rows = 100\n",
    "\n",
    "df = pd.read_csv('CR_FC_PREP_0522.csv')\n",
    "df['POD'] = pd.to_datetime(df['POD'])\n",
    "\n",
    "df.head()\n",
    "df.info()\n",
    "print(f'Dataset size: {df.shape}')"
   ]
  },
  {
   "cell_type": "code",
   "execution_count": 31,
   "metadata": {},
   "outputs": [
    {
     "data": {
      "text/html": [
       "<div>\n",
       "<style scoped>\n",
       "    .dataframe tbody tr th:only-of-type {\n",
       "        vertical-align: middle;\n",
       "    }\n",
       "\n",
       "    .dataframe tbody tr th {\n",
       "        vertical-align: top;\n",
       "    }\n",
       "\n",
       "    .dataframe thead th {\n",
       "        text-align: right;\n",
       "    }\n",
       "</style>\n",
       "<table border=\"1\" class=\"dataframe\">\n",
       "  <thead>\n",
       "    <tr style=\"text-align: right;\">\n",
       "      <th></th>\n",
       "      <th>POD</th>\n",
       "      <th>RATE</th>\n",
       "    </tr>\n",
       "  </thead>\n",
       "  <tbody>\n",
       "    <tr>\n",
       "      <th>0</th>\n",
       "      <td>2023-01-01</td>\n",
       "      <td>4228.57</td>\n",
       "    </tr>\n",
       "    <tr>\n",
       "      <th>1</th>\n",
       "      <td>2023-01-02</td>\n",
       "      <td>4250.00</td>\n",
       "    </tr>\n",
       "    <tr>\n",
       "      <th>2</th>\n",
       "      <td>2023-01-03</td>\n",
       "      <td>2800.00</td>\n",
       "    </tr>\n",
       "    <tr>\n",
       "      <th>3</th>\n",
       "      <td>2023-01-04</td>\n",
       "      <td>2800.00</td>\n",
       "    </tr>\n",
       "    <tr>\n",
       "      <th>4</th>\n",
       "      <td>2023-01-05</td>\n",
       "      <td>2800.00</td>\n",
       "    </tr>\n",
       "  </tbody>\n",
       "</table>\n",
       "</div>"
      ],
      "text/plain": [
       "         POD     RATE\n",
       "0 2023-01-01  4228.57\n",
       "1 2023-01-02  4250.00\n",
       "2 2023-01-03  2800.00\n",
       "3 2023-01-04  2800.00\n",
       "4 2023-01-05  2800.00"
      ]
     },
     "execution_count": 31,
     "metadata": {},
     "output_type": "execute_result"
    },
    {
     "name": "stdout",
     "output_type": "stream",
     "text": [
      "<class 'pandas.core.frame.DataFrame'>\n",
      "RangeIndex: 52 entries, 0 to 51\n",
      "Data columns (total 2 columns):\n",
      " #   Column  Non-Null Count  Dtype         \n",
      "---  ------  --------------  -----         \n",
      " 0   POD     52 non-null     datetime64[ns]\n",
      " 1   RATE    52 non-null     float64       \n",
      "dtypes: datetime64[ns](1), float64(1)\n",
      "memory usage: 960.0 bytes\n",
      "Dataset size: (52, 2)\n"
     ]
    }
   ],
   "source": [
    "df_after = pd.read_csv('CR_FC_PREP_23.csv')\n",
    "df_after ['POD'] = pd.to_datetime(df_after ['POD'])\n",
    "\n",
    "df_after .head()\n",
    "df_after .info()\n",
    "print(f'Dataset size: {df_after .shape}')"
   ]
  },
  {
   "cell_type": "code",
   "execution_count": 32,
   "metadata": {},
   "outputs": [],
   "source": [
    "def FindANOMALY(df, df_after):\n",
    "    # # Normalize the data using StandardScaler\n",
    "    # scaler = StandardScaler()\n",
    "    # df['RATE'] = scaler.fit_transform(df[['RATE']])\n",
    "\n",
    "    # Isolation Forest Algo\n",
    "    clf = IsolationForest(n_estimators=100, max_samples='auto', contamination=0.1, random_state=42)\n",
    "\n",
    "    # Train the algorithm\n",
    "    clf.fit(df[['RATE']])\n",
    "\n",
    "    # Predict anomalies\n",
    "    df['ANOMALY'] = clf.predict(df[['RATE']])\n",
    "\n",
    "    # Create a new dataframe for the anomalies\n",
    "    is_anomaly = df[df['ANOMALY'] == -1].reset_index(drop=True)\n",
    "\n",
    "    # Plot the data\n",
    "    plt.plot(df['POD'], df['RATE'], color='blue', label='All Rates')\n",
    "    plt.plot(is_anomaly['POD'], is_anomaly['RATE'], color='red', label='Anomaly Rates')\n",
    "    plt.plot(df_after['POD'], df_after['RATE'], color='green', label='Current Rates')\n",
    "\n",
    "    # Add axis labels and legend\n",
    "    plt.xlabel('Date')\n",
    "    plt.ylabel('Rate')\n",
    "    plt.legend()\n",
    "\n",
    "    # Show the plot\n",
    "    plt.show()\n",
    "\n",
    "    # Print values\n",
    "    print(df)\n",
    "    print(is_anomaly)"
   ]
  },
  {
   "cell_type": "code",
   "execution_count": 33,
   "metadata": {},
   "outputs": [
    {
     "name": "stderr",
     "output_type": "stream",
     "text": [
      "c:\\Users\\it1\\AppData\\Local\\Programs\\Python\\Python310\\lib\\site-packages\\sklearn\\base.py:439: UserWarning: X does not have valid feature names, but IsolationForest was fitted with feature names\n",
      "  warnings.warn(\n"
     ]
    },
    {
     "data": {
      "image/png": "[encoded data removed]",
      "text/plain": [
       "<Figure size 640x480 with 1 Axes>"
      ]
     },
     "metadata": {},
     "output_type": "display_data"
    },
    {
     "name": "stdout",
     "output_type": "stream",
     "text": [
      "            POD     RATE  ANOMALY\n",
      "0    2005-07-19  2200.00        1\n",
      "1    2005-07-20  2250.00        1\n",
      "2    2005-07-21  2300.00        1\n",
      "3    2005-07-22  2280.00        1\n",
      "4    2005-07-23  2260.00        1\n",
      "...         ...      ...      ...\n",
      "6370 2022-12-27  4121.43       -1\n",
      "6371 2022-12-28  4142.86       -1\n",
      "6372 2022-12-29  4164.29       -1\n",
      "6373 2022-12-30  4185.71       -1\n",
      "6374 2022-12-31  4207.14       -1\n",
      "\n",
      "[6375 rows x 3 columns]\n",
      "           POD     RATE  ANOMALY\n",
      "0   2009-07-19   158.46       -1\n",
      "1   2009-07-20   129.23       -1\n",
      "2   2009-07-21   100.00       -1\n",
      "3   2009-07-22   100.00       -1\n",
      "4   2009-07-23   100.00       -1\n",
      "..         ...      ...      ...\n",
      "626 2022-12-27  4121.43       -1\n",
      "627 2022-12-28  4142.86       -1\n",
      "628 2022-12-29  4164.29       -1\n",
      "629 2022-12-30  4185.71       -1\n",
      "630 2022-12-31  4207.14       -1\n",
      "\n",
      "[631 rows x 3 columns]\n"
     ]
    }
   ],
   "source": [
    "FindANOMALY(df, df_after)"
   ]
  }
 ],
 "metadata": {
  "kernelspec": {
   "display_name": "Python 3",
   "language": "python",
   "name": "python3"
  },
  "language_info": {
   "codemirror_mode": {
    "name": "ipython",
    "version": 3
   },
   "file_extension": ".py",
   "mimetype": "text/x-python",
   "name": "python",
   "nbconvert_exporter": "python",
   "pygments_lexer": "ipython3",
   "version": "3.10.9"
  },
  "orig_nbformat": 4
 },
 "nbformat": 4,
 "nbformat_minor": 2
}
