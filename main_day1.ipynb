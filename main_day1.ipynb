{
 "cells": [
  {
   "attachments": {},
   "cell_type": "markdown",
   "metadata": {},
   "source": [
    "<h1>Actual Forecasting</h1>"
   ]
  },
  {
   "cell_type": "code",
   "execution_count": 25,
   "metadata": {},
   "outputs": [],
   "source": [
    "import numpy as np\n",
    "import pandas as pd\n",
    "import seaborn as sns\n",
    "import matplotlib.pyplot as plt\n",
    "from sklearn.preprocessing import StandardScaler\n",
    "from sklearn.model_selection import train_test_split\n",
    "from tensorflow.keras.layers import LSTM, Dense\n",
    "from sklearn.metrics import mean_squared_error\n",
    "from tensorflow.keras.models import Sequential\n",
    "from IPython.core.interactiveshell import InteractiveShell\n",
    "from sklearn.model_selection import KFold\n",
    "InteractiveShell.ast_node_interactivity = \"all\"\n",
    "%matplotlib inline\n",
    "sns.set()\n",
    "pd.options.display.max_rows = 100"
   ]
  },
  {
   "attachments": {},
   "cell_type": "markdown",
   "metadata": {},
   "source": [
    "<h4>Importing Datasets</h4>"
   ]
  },
  {
   "cell_type": "code",
   "execution_count": 26,
   "metadata": {},
   "outputs": [],
   "source": [
    "# Import dataset and clean, ready as a dataframe for creating keys\n",
    "def createDF(datasets):\n",
    "    df = pd.read_csv(datasets, converters={'PARTY_ID': str, 'COM_ID': str, 'CNTR_SIZE': str})\n",
    "\n",
    "    # Formating to type and remove NaN values\n",
    "    df['POD'] = pd.to_datetime(df['POD'])\n",
    "    df['ENCODED_TYPE'] = df['ENCODED_TYPE'].fillna(-1).astype(int)\n",
    "    df = df.dropna(subset=['ENCODED_TYPE'])\n",
    "    df['RATE'] = df['RATE'].fillna(-1).astype(float)\n",
    "    df = df.dropna(subset=['RATE'])\n",
    "    df['ENCODED_TYPE'] = df['ENCODED_TYPE'].astype(int)\n",
    "    df_clean= df.dropna().reset_index(drop=True)\n",
    "\n",
    "    # Selecting and rearranging columns\n",
    "    sel_col = ['CSL_ID', 'CNTR_ID','POD_ID','ETD_POL_D','PARTY_ID',\n",
    "            'PARTY_NAME','POD','CNTR_SIZE','CNTR_TYPE','RATE']\n",
    "    df_fc = df_clean[sel_col]\n",
    "\n",
    "    # Removing years we do not want to process in our models\n",
    "    df_filtered = df_fc[df_fc['POD'].dt.year != 2002]\n",
    "\n",
    "    # Sorting the dates\n",
    "    df_filtered = df_filtered.sort_values(by='POD').reset_index(drop=True)\n",
    "    \n",
    "    return df_filtered"
   ]
  },
  {
   "cell_type": "code",
   "execution_count": 27,
   "metadata": {},
   "outputs": [],
   "source": [
    "# Create Dataframes for old and new\n",
    "old_data = '.\\Datasets\\CR_COST_FC.csv'\n",
    "df1 = createDF(old_data)\n",
    "\n",
    "new_data = '.\\Datasets\\CR_COST_FC_new.csv'\n",
    "df2 = createDF(new_data)"
   ]
  },
  {
   "attachments": {},
   "cell_type": "markdown",
   "metadata": {},
   "source": [
    "<h4>Creating Dictionary Keys</h4>"
   ]
  },
  {
   "cell_type": "code",
   "execution_count": 28,
   "metadata": {},
   "outputs": [],
   "source": [
    "def filter_dataframe(df):\n",
    "    filtered_dataframes = {}\n",
    "\n",
    "    for (port, size, ctype, party_id), group in df.groupby(['POD_ID', 'CNTR_SIZE', 'CNTR_TYPE', 'PARTY_ID']):\n",
    "        group = group.reset_index(drop=True).sort_values(by='POD')\n",
    "        df_id = f\"Port_{port}_Size_{size}_Type_{ctype}_PartyID_{party_id}\"\n",
    "        filtered_dataframes[df_id] = group\n",
    "\n",
    "    return filtered_dataframes"
   ]
  },
  {
   "cell_type": "code",
   "execution_count": 29,
   "metadata": {},
   "outputs": [
    {
     "name": "stdout",
     "output_type": "stream",
     "text": [
      "Old Data keys:\n",
      "['Port_(CONSTANZA)_Size_40_Type_GP_PartyID_010007816', 'Port_(CONSTANZA)_Size_40_Type_HC_PartyID_010007816', 'Port_AARHUS_Size_20_Type_GP_PartyID_01000043', 'Port_AARHUS_Size_20_Type_GP_PartyID_0100027830', 'Port_AARHUS_Size_20_Type_GP_PartyID_010006666', 'Port_AARHUS_Size_40_Type_GP_PartyID_01000043', 'Port_AARHUS_Size_40_Type_HC_PartyID_01000043', 'Port_AARHUS_Size_40_Type_HC_PartyID_0100027830', 'Port_AARHUS_Size_40_Type_HC_PartyID_0100028193', 'Port_AARHUS_Size_40_Type_HC_PartyID_010006666', 'Port_ABIDJAN_Size_20_Type_GP_PartyID_0100027878', 'Port_ABIDJAN_Size_40_Type_HC_PartyID_010021097', 'Port_ADELAIDE_Size_20_Type_GP_PartyID_01002775', 'Port_ADELAIDE_Size_40_Type_GP_PartyID_01002775', 'Port_ADELAIDE_Size_40_Type_HC_PartyID_01002775', 'Port_ADELAIDE_Size_40_Type_HC_PartyID_01005078', 'Port_ADELAIDE_Size_40_Type_HC NOR_PartyID_01002775', 'Port_ADELAIDE(AU)_Size_20_Type_GP_PartyID_01002775', 'Port_ADELAIDE(AU)_Size_40_Type_HC_PartyID_01002775', 'Port_ADELAIDE(AU)_Size_40_Type_HC NOR_PartyID_01002775', 'Port_ALEXANDRIA (EL DEKHELA PORT)_Size_40_Type_HC_PartyID_010004995', 'Port_ALEXANDRIA (OLD PORT)_Size_20_Type_GP_PartyID_010004995', 'Port_ALEXANDRIA (OLD PORT)_Size_40_Type_HC_PartyID_010004995', 'Port_ALEXANDRIA(OLD PORT)_Size_20_Type_GP_PartyID_010004995', 'Port_ALEXANDRIA(OLD PORT)_Size_40_Type_HC_PartyID_010004995', 'Port_ALEXANDRIA(OLD PORT)_Size_40_Type_HC NOR_PartyID_010004995', 'Port_ALGECIRAS_Size_20_Type_GP_PartyID_01008306', 'Port_ALGECIRAS_Size_40_Type_GP_PartyID_01008306', 'Port_ALGECIRAS_Size_40_Type_HC_PartyID_01008306', 'Port_ALGECIRAS_Size_40_Type_HC NOR_PartyID_01008306', 'Port_ALIAGA_Size_20_Type_GP_PartyID_01008316', 'Port_ALIAGA_Size_40_Type_HC_PartyID_01008316', 'Port_ALIAGA PORT (IZMIR)_Size_40_Type_HC_PartyID_01008316', 'Port_ANTWERP_Size_20_Type_GP_PartyID_01001449', 'Port_ANTWERP_Size_40_Type_GP_PartyID_01001449', 'Port_ANTWERP_Size_40_Type_HC_PartyID_01001449', 'Port_ANTWERP_Size_40_Type_HC NOR_PartyID_01001449', 'Port_AQABA_Size_20_Type_GP_PartyID_010006618', 'Port_AQABA_Size_20_Type_GP_PartyID_010021081', 'Port_AQABA_Size_40_Type_HC_PartyID_010006618', 'Port_AQABA_Size_40_Type_HC_PartyID_010021081', 'Port_ASHDOD_Size_20_Type_GP_PartyID_010008035', 'Port_ASHDOD_Size_40_Type_GP_PartyID_010008035', 'Port_ASHDOD_Size_40_Type_GP_PartyID_01008417', 'Port_ASHDOD_Size_40_Type_HC_PartyID_010008035', 'Port_ASHDOD_Size_40_Type_HC_PartyID_01008417', 'Port_AUCKLAND_Size_20_Type_GP_PartyID_01005136', 'Port_AUCKLAND_Size_20_Type_GP (DG)_PartyID_01005136', 'Port_AUCKLAND_Size_40_Type_GP_PartyID_01005136', 'Port_AUCKLAND_Size_40_Type_HC_PartyID_01005136', 'Port_AUCKLAND_Size_40_Type_HC (DG)_PartyID_01005136', 'Port_AUCKLAND_Size_40_Type_HC NOR_PartyID_01005136', 'Port_BANGKOK_Size_20_Type_GP_PartyID_010021593', 'Port_BANGKOK_Size_20_Type_GP_PartyID_01002799', 'Port_BANGKOK_Size_20_Type_GP (DG)_PartyID_01002799', 'Port_BANGKOK_Size_40_Type_GP_PartyID_01002799', 'Port_BANGKOK_Size_40_Type_HC_PartyID_010021593', 'Port_BANGKOK_Size_40_Type_HC_PartyID_01002799', 'Port_BANGKOK_Size_40_Type_HC (DG)_PartyID_010021593', 'Port_BANGKOK_Size_40_Type_HC (DG)_PartyID_01002799', 'Port_BANGKOK_Size_40_Type_HC (SOC)_PartyID_01002799', 'Port_BANGKOK ( TPT )_Size_20_Type_GP_PartyID_010021593', 'Port_BANGKOK ( TPT )_Size_20_Type_GP_PartyID_01002799', 'Port_BANGKOK ( TPT )_Size_40_Type_HC_PartyID_010021593', 'Port_BANGKOK ( TPT )_Size_40_Type_HC_PartyID_01002799', 'Port_BANGKOK (TST)_Size_20_Type_GP_PartyID_010021593', 'Port_BANGKOK (TST)_Size_40_Type_HC_PartyID_010021593', 'Port_BARCELONA_Size_20_Type_GP_PartyID_01008305', 'Port_BARCELONA_Size_40_Type_GP_PartyID_01008305', 'Port_BARCELONA_Size_40_Type_HC_PartyID_01008305', 'Port_BARCELONA_Size_40_Type_HC NOR_PartyID_01008305', 'Port_BEIRUT_Size_20_Type_GP_PartyID_010003651', 'Port_BEIRUT_Size_40_Type_GP_PartyID_010003651', 'Port_BEIRUT_Size_40_Type_HC_PartyID_010003651', 'Port_BEIRUT FREE ZONE_Size_20_Type_GP_PartyID_010003651', 'Port_BEIRUT FREE ZONE_Size_40_Type_HC_PartyID_010003651', 'Port_BEIRUT FREE ZONE_Size_45_Type_HC_PartyID_010003651', 'Port_BELAWAN_Size_20_Type_GP_PartyID_010008921', 'Port_BELAWAN_Size_20_Type_GP_PartyID_01006254', 'Port_BELAWAN_Size_40_Type_GP_PartyID_01006254', 'Port_BELAWAN_Size_40_Type_HC_PartyID_010008921', 'Port_BELAWAN_Size_40_Type_HC_PartyID_01006254', 'Port_BRATISLAVA_Size_20_Type_GP_PartyID_010007864', 'Port_BRATISLAVA_Size_20_Type_GP_PartyID_01003062', 'Port_BRATISLAVA_Size_40_Type_GP_PartyID_01000054', 'Port_BRATISLAVA_Size_40_Type_GP_PartyID_010005269', 'Port_BRATISLAVA_Size_40_Type_GP_PartyID_01003062', 'Port_BRATISLAVA_Size_40_Type_HC_PartyID_01000054', 'Port_BRATISLAVA_Size_40_Type_HC_PartyID_010005269', 'Port_BRATISLAVA_Size_40_Type_HC_PartyID_01003062', 'Port_BRISBANE_Size_20_Type_GP_PartyID_01002776', 'Port_BRISBANE_Size_20_Type_GP_PartyID_01002778', 'Port_BRISBANE_Size_20_Type_GP_PartyID_01002779', 'Port_BRISBANE_Size_20_Type_GP NOR_PartyID_01002776', 'Port_BRISBANE_Size_40_Type_GP_PartyID_01002776', 'Port_BRISBANE_Size_40_Type_HC_PartyID_01002776', 'Port_BRISBANE_Size_40_Type_HC_PartyID_01002778', 'Port_BRISBANE_Size_40_Type_HC NOR_PartyID_01002776', 'Port_BRISBANE_Size_40_Type_HC NOR_PartyID_01002779', 'Port_BUDAPEST_Size_20_Type_GP_PartyID_010007829', 'Port_BUDAPEST_Size_40_Type_GP_PartyID_010007829', 'Port_BUDAPEST_Size_40_Type_HC_PartyID_010007829', 'Port_BUENAVENTURA ,SPR_Size_20_Type_GP_PartyID_010006728', 'Port_BUENAVENTURA ,SPR_Size_40_Type_HC NOR_PartyID_010006728', 'Port_BUENAVENTURA ,SPR_Size_40_Type_HC NOR_PartyID_01001485', 'Port_BUENAVENTURA(COLOMBIA)_Size_20_Type_GP_PartyID_010006728', 'Port_BUENAVENTURA(COLOMBIA)_Size_20_Type_GP_PartyID_01001485', 'Port_BUENAVENTURA(COLOMBIA)_Size_40_Type_GP_PartyID_010006728', 'Port_BUENAVENTURA(COLOMBIA)_Size_40_Type_GP_PartyID_01001485', 'Port_BUENAVENTURA(COLOMBIA)_Size_40_Type_HC_PartyID_010006728', 'Port_BUENAVENTURA(COLOMBIA)_Size_40_Type_HC_PartyID_01001485', 'Port_BUENAVENTURA(COLOMBIA)_Size_40_Type_HC NOR_PartyID_01001485', 'Port_BUENOS AIRES_Size_20_Type_GP_PartyID_01006063', 'Port_BUENOS AIRES_Size_40_Type_HC_PartyID_010006300', 'Port_BUENOS AIRES_Size_40_Type_HC_PartyID_010021498', 'Port_BUENOS AIRES_Size_40_Type_HC_PartyID_01006063', 'Port_BUENOS AIRES_Size_40_Type_HC NOR_PartyID_010006300', 'Port_BUENOS AIRES_Size_40_Type_HC NOR_PartyID_010021498', 'Port_BUENOS AIRES_Size_40_Type_HC NOR_PartyID_01006063', 'Port_BUSAN_Size_20_Type_GP_PartyID_010004286', 'Port_BUSAN_Size_20_Type_GP_PartyID_01001867', 'Port_BUSAN_Size_40_Type_HC_PartyID_010004286', 'Port_BUSAN_Size_40_Type_HC_PartyID_01001867', 'Port_BUSAN_Size_40_Type_HC (SOC)_PartyID_010004286', 'Port_BUSAN_Size_40_Type_HC NOR_PartyID_010017867', 'Port_CALCUTTA_Size_20_Type_GP_PartyID_010006978', 'Port_CALCUTTA_Size_40_Type_HC_PartyID_010006978', 'Port_CALLAO_Size_20_Type_GP_PartyID_01002621', 'Port_CALLAO_Size_20_Type_GP_PartyID_010026711', 'Port_CALLAO_Size_40_Type_GP_PartyID_01002621', 'Port_CALLAO_Size_40_Type_HC_PartyID_01002621', 'Port_CALLAO_Size_40_Type_HC_PartyID_010026711', 'Port_CALLAO_Size_40_Type_HC NOR_PartyID_01002621', 'Port_CALLAO_Size_40_Type_HC NOR_PartyID_010026711', 'Port_CAPE TOWN_Size_20_Type_GP_PartyID_010007917', 'Port_CAPE TOWN_Size_40_Type_HC_PartyID_010007917', 'Port_CAPE TOWN_Size_40_Type_HC NOR_PartyID_010007917', 'Port_CAPETOWN_Size_20_Type_GP_PartyID_010007917', 'Port_CAPETOWN_Size_20_Type_GP_PartyID_01007272', 'Port_CAPETOWN_Size_40_Type_GP_PartyID_010007917', 'Port_CAPETOWN_Size_40_Type_GP_PartyID_01007272', 'Port_CAPETOWN_Size_40_Type_HC_PartyID_010007917', 'Port_CAPETOWN_Size_40_Type_HC_PartyID_01007272', 'Port_CASABLANCA_Size_20_Type_GP_PartyID_010006336', 'Port_CASABLANCA_Size_40_Type_GP_PartyID_010006336', 'Port_CASABLANCA_Size_40_Type_HC_PartyID_010006336', 'Port_CAT LAI (HO CHI MINH)_Size_20_Type_GP_PartyID_010005256', 'Port_CAT LAI (HO CHI MINH)_Size_20_Type_GP_PartyID_01004649', 'Port_CAT LAI (HO CHI MINH)_Size_40_Type_GP_PartyID_010005256', 'Port_CAT LAI (HO CHI MINH)_Size_40_Type_HC_PartyID_010005256', 'Port_CAT LAI (HO CHI MINH)_Size_40_Type_HC_PartyID_01004649', 'Port_CAT LAI (HO CHI MINH)_Size_40_Type_HC_PartyID_01005854', 'Port_CAT LAI (HO CHI MINH)_Size_40_Type_HC NOR_PartyID_010005256', 'Port_CAT LAI (HO CHI MINH)_Size_45_Type_HC_PartyID_010005256', 'Port_CAT LAI (HOCHIMINH)_Size_20_Type_GP_PartyID_010005256', 'Port_CAT LAI (HOCHIMINH)_Size_20_Type_GP (DG)_PartyID_010005256', 'Port_CAT LAI (HOCHIMINH)_Size_40_Type_HC_PartyID_010005256', 'Port_CAT LAI PORT_Size_20_Type_GP_PartyID_010005256', 'Port_CAT LAI PORT_Size_20_Type_GP (DG)_PartyID_010005256', 'Port_CAT LAI PORT_Size_40_Type_HC_PartyID_010005256', 'Port_CAT LAI PORT_Size_40_Type_HC (DG)_PartyID_010005256', 'Port_CEBU_Size_20_Type_GP_PartyID_010020487', 'Port_CEBU_Size_20_Type_GP_PartyID_010021735', 'Port_CEBU_Size_20_Type_GP_PartyID_01004970', 'Port_CEBU_Size_40_Type_HC_PartyID_010020487', 'Port_CEBU_Size_40_Type_HC_PartyID_010021735', 'Port_CEBU_Size_40_Type_HC_PartyID_01004970', 'Port_CHATTOGRAM (CHITTAGONG)_Size_20_Type_GP_PartyID_010021463', 'Port_CHATTOGRAM (CHITTAGONG)_Size_40_Type_HC_PartyID_010021463', 'Port_CHENNAI_Size_20_Type_GP_PartyID_010006979', 'Port_CHENNAI_Size_40_Type_HC_PartyID_010006979', 'Port_CHITTAGONG_Size_20_Type_GP_PartyID_010007693', 'Port_COCHIN_Size_20_Type_GP_PartyID_010006980', 'Port_COCHIN_Size_20_Type_GP_PartyID_01008782', 'Port_COCHIN_Size_40_Type_HC_PartyID_010006980', 'Port_COCHIN_Size_40_Type_HC_PartyID_01008782', 'Port_COLOMBO_Size_20_Type_GP_PartyID_01001668', 'Port_COLOMBO_Size_40_Type_GP_PartyID_01001668', 'Port_COLOMBO_Size_40_Type_HC_PartyID_01001668', 'Port_COLOMBO_Size_40_Type_HC_PartyID_01004906', 'Port_COLOMBO_Size_45_Type_HC_PartyID_01001668', 'Port_COLON FREE ZONE_Size_20_Type_GP_PartyID_010006741', 'Port_COLON FREE ZONE_Size_40_Type_HC_PartyID_010006741', 'Port_COLON FREE ZONE_Size_40_Type_HC_PartyID_010019558', 'Port_COLON FREE ZONE_Size_40_Type_HC NOR_PartyID_010006741', 'Port_CONSTANTA_Size_20_Type_GP_PartyID_010007816', 'Port_CONSTANTA_Size_20_Type_GP_PartyID_010009323', 'Port_CONSTANTA_Size_40_Type_GP_PartyID_010007816', 'Port_CONSTANTA_Size_40_Type_HC_PartyID_010007816', 'Port_CONSTANTA_Size_40_Type_HC_PartyID_010009323', 'Port_CONSTANTA CFS_Size_20_Type_GP_PartyID_010009323', 'Port_CONSTANTA CFS_Size_40_Type_GP_PartyID_010009323', 'Port_CONSTANTA CFS_Size_40_Type_HC_PartyID_010009323', 'Port_CONSTANZA_Size_20_Type_GP_PartyID_010007816', 'Port_CONSTANZA_Size_40_Type_GP_PartyID_010007816', 'Port_CONSTANZA_Size_40_Type_HC_PartyID_010007816', 'Port_COPENHAGEN_Size_20_Type_GP_PartyID_01000043', 'Port_COPENHAGEN_Size_20_Type_GP_PartyID_0100027830', 'Port_COPENHAGEN_Size_20_Type_GP_PartyID_010006666', 'Port_COPENHAGEN_Size_20_Type_GP_PartyID_010006669', 'Port_COPENHAGEN_Size_40_Type_GP_PartyID_01000043', 'Port_COPENHAGEN_Size_40_Type_HC_PartyID_01000043', 'Port_COPENHAGEN_Size_40_Type_HC_PartyID_0100027830', 'Port_COPENHAGEN_Size_40_Type_HC_PartyID_010006669', 'Port_COPENHAGEN_Size_40_Type_HC NOR_PartyID_010006669', 'Port_DALIAN_Size_20_Type_GP_PartyID_010007376', 'Port_DALIAN_Size_40_Type_HC_PartyID_010007376', 'Port_DANANG_Size_20_Type_GP_PartyID_010005257', 'Port_DANANG_Size_40_Type_HC_PartyID_010005257', 'Port_DAR ES SALAAM(TANZANIA)_Size_20_Type_GP_PartyID_010020396', 'Port_DAR ES SALAAM(TANZANIA)_Size_20_Type_GP_PartyID_010020400', 'Port_DAR ES SALAAM(TANZANIA)_Size_20_Type_GP_PartyID_01003047', 'Port_DAR ES SALAAM(TANZANIA)_Size_40_Type_HC_PartyID_010020396', 'Port_DAR ES SALAAM(TANZANIA)_Size_40_Type_HC_PartyID_010020400', 'Port_DUBAI (JEBEL ALI)_Size_20_Type_GP_PartyID_01002788', 'Port_DUBAI (JEBEL ALI)_Size_40_Type_GP (SOC)_PartyID_01002788', 'Port_DUBAI (JEBEL ALI)_Size_40_Type_HC_PartyID_01002788', 'Port_DUBLIN_Size_20_Type_GP_PartyID_010009104', 'Port_DUBLIN_Size_20_Type_GP_PartyID_010027322', 'Port_DUBLIN_Size_20_Type_GP_PartyID_01003442', 'Port_DUBLIN_Size_40_Type_GP_PartyID_010009104', 'Port_DUBLIN_Size_40_Type_GP_PartyID_01003442', 'Port_DUBLIN_Size_40_Type_HC_PartyID_010009104', 'Port_DUBLIN_Size_40_Type_HC_PartyID_010027322', 'Port_DUBLIN_Size_40_Type_HC_PartyID_01003442', 'Port_DUBLIN_Size_40_Type_HC NOR_PartyID_010009104', 'Port_DUBLIN_Size_40_Type_HC NOR_PartyID_010027322', 'Port_DURBAN_Size_20_Type_GP_PartyID_010007911', 'Port_DURBAN_Size_20_Type_GP_PartyID_01007273', 'Port_DURBAN_Size_40_Type_GP_PartyID_010007911', 'Port_DURBAN_Size_40_Type_GP_PartyID_01007273', 'Port_DURBAN_Size_40_Type_GP (SOC)_PartyID_01007273', 'Port_DURBAN_Size_40_Type_HC_PartyID_010007911', 'Port_DURBAN_Size_40_Type_HC_PartyID_01007273', 'Port_DURBAN_Size_40_Type_HC (SOC)_PartyID_01007273', 'Port_DURBAN_Size_40_Type_HC NOR_PartyID_010007911', 'Port_DURBAN_Size_40_Type_HC NOR (SOC)_PartyID_010007911', 'Port_EVYAP TERMINAL IZMIT_Size_20_Type_GP_PartyID_01008316', 'Port_FELIXSTOWE_Size_20_Type_GP_PartyID_01002303', 'Port_FELIXSTOWE_Size_40_Type_GP_PartyID_01002303', 'Port_FELIXSTOWE_Size_40_Type_HC_PartyID_01002303', 'Port_FELIXSTOWE_Size_40_Type_HC NOR_PartyID_01002303', 'Port_FOS SUR MER_Size_20_Type_GP_PartyID_010019364', 'Port_FOS SUR MER_Size_40_Type_GP_PartyID_010019364', 'Port_FOS SUR MER_Size_40_Type_HC_PartyID_010019364', 'Port_FOS SUR MER_Size_40_Type_HC NOR_PartyID_010019364', 'Port_FOS SUR MER-MARSEILLE_Size_20_Type_GP_PartyID_010019364', 'Port_FOS SUR MER-MARSEILLE_Size_40_Type_GP_PartyID_010019364', 'Port_FOS SUR MER-MARSEILLE_Size_40_Type_HC_PartyID_010019364', 'Port_FREDERICIA / AARHUS_Size_20_Type_GP_PartyID_010006666', 'Port_FREDERICIA / AARHUS_Size_40_Type_HC_PartyID_010006666', 'Port_FREDERICIA / AARHUS_Size_40_Type_HC NOR_PartyID_010006666', 'Port_FREMANTLE_Size_20_Type_GP_PartyID_01002777', 'Port_FREMANTLE_Size_40_Type_GP_PartyID_01002777', 'Port_FREMANTLE_Size_40_Type_HC_PartyID_01002777', 'Port_FREMANTLE_Size_40_Type_HC NOR_PartyID_01002777', 'Port_FREMANTLE (PERTH)_Size_20_Type_GP_PartyID_01002777', 'Port_FREMANTLE (PERTH)_Size_40_Type_HC_PartyID_01002777', 'Port_FREMANTLE (PERTH)_Size_40_Type_HC NOR_PartyID_01002777', 'Port_GDANSK_Size_20_Type_GP_PartyID_010008275', 'Port_GDANSK_Size_40_Type_HC_PartyID_010008275', 'Port_GDYNIA_Size_20_Type_GP_PartyID_010008275', 'Port_GDYNIA_Size_40_Type_GP_PartyID_010008275', 'Port_GDYNIA_Size_40_Type_HC_PartyID_010008275', 'Port_GDYNIA_Size_40_Type_HC NOR_PartyID_010008275', 'Port_GENOA_Size_20_Type_GP_PartyID_01001496', 'Port_GENOA_Size_40_Type_GP_PartyID_01001496', 'Port_GENOA_Size_40_Type_HC_PartyID_01001496', 'Port_GENOA_Size_40_Type_HC NOR_PartyID_01001496', 'Port_GENOVA_Size_40_Type_HC_PartyID_01001496', 'Port_GOTHENBURG_Size_20_Type_GP_PartyID_0100027831', 'Port_GOTHENBURG_Size_20_Type_GP_PartyID_010006668', 'Port_GOTHENBURG_Size_20_Type_GP_PartyID_01002876', 'Port_GOTHENBURG_Size_40_Type_HC_PartyID_0100027831', 'Port_GOTHENBURG_Size_40_Type_HC_PartyID_010006668', 'Port_GOTHENBURG_Size_40_Type_HC NOR_PartyID_010006668', 'Port_HAIPHONG_Size_20_Type_GP_PartyID_010005255', 'Port_HAIPHONG_Size_40_Type_GP_PartyID_010005255', 'Port_HAIPHONG_Size_40_Type_HC_PartyID_010005255', 'Port_HAMAD PORT_Size_20_Type_GP_PartyID_010020089', 'Port_HAMAD PORT_Size_40_Type_HC_PartyID_010020089', 'Port_HAMAD PORT (QATAR)_Size_40_Type_HC_PartyID_010020089', 'Port_HAMBURG_Size_20_Type_GP_PartyID_01002294', 'Port_HAMBURG_Size_40_Type_GP_PartyID_01002294', 'Port_HAMBURG_Size_40_Type_HC_PartyID_01002294', 'Port_HAMBURG_Size_40_Type_HC NOR_PartyID_01002294', 'Port_HAYDARPASA_Size_40_Type_HC_PartyID_01008316', 'Port_HELSINKI_Size_20_Type_GP_PartyID_0100027832', 'Port_HELSINKI_Size_20_Type_GP_PartyID_010003678', 'Port_HELSINKI_Size_20_Type_GP_PartyID_010006667', 'Port_HELSINKI_Size_40_Type_GP_PartyID_010003678', 'Port_HELSINKI_Size_40_Type_GP_PartyID_010006667', 'Port_HELSINKI_Size_40_Type_HC_PartyID_0100027832', 'Port_HELSINKI_Size_40_Type_HC_PartyID_0100028191', 'Port_HELSINKI_Size_40_Type_HC_PartyID_010003678', 'Port_HELSINKI_Size_40_Type_HC_PartyID_010006667', 'Port_HO CHI MINH_Size_20_Type_GP_PartyID_010005256', 'Port_HO CHI MINH_Size_40_Type_HC_PartyID_010005256', 'Port_HO CHI MINH_Size_40_Type_HC (SOC)_PartyID_010005256', 'Port_HOCHIMINH ( CAT LAI )_Size_20_Type_GP_PartyID_010005256', 'Port_HOCHIMINH ( CAT LAI )_Size_40_Type_HC_PartyID_010005256', 'Port_HOCHIMINH CAT LAI,VIETNAM_Size_20_Type_GP_PartyID_010005256', 'Port_HOCHIMINH CAT LAI,VIETNAM_Size_40_Type_GP_PartyID_010005256', 'Port_HOCHIMINH CAT LAI,VIETNAM_Size_40_Type_HC_PartyID_010005256', 'Port_HOCHIMINH CAT LAI,VIETNAM_Size_40_Type_HC (DG)_PartyID_010005256', 'Port_HOCHIMINH CITY ( TAN CANG )_Size_40_Type_HC_PartyID_01004649', 'Port_HONG KONG_Size_20_Type_GP_PartyID_01004594', 'Port_HONG KONG_Size_40_Type_GP_PartyID_01004594', 'Port_HONG KONG_Size_40_Type_HC_PartyID_010009070', 'Port_HONG KONG_Size_40_Type_HC_PartyID_01004594', 'Port_ICD BANGALORE_Size_20_Type_GP_PartyID_010007237', 'Port_ICD BANGALORE_Size_40_Type_HC_PartyID_010007237', 'Port_ICD PATPARGANJ_Size_20_Type_GP_PartyID_01002787', 'Port_ICD PATPARGANJ_Size_40_Type_GP_PartyID_01002787', 'Port_ICD PATPARGANJ_Size_40_Type_HC_PartyID_01002787', 'Port_ICD PATPARGANJ_Size_40_Type_HC_PartyID_01008782', 'Port_ICD PHUOC LONG 3_Size_40_Type_HC_PartyID_010005256', 'Port_ILYCHEVSK_Size_20_Type_GP_PartyID_010019008', 'Port_ILYCHEVSK_Size_20_Type_GP_PartyID_010019966', 'Port_ILYCHEVSK_Size_40_Type_HC_PartyID_010019008', 'Port_ISTANBUL (HAYDARPASA)_Size_20_Type_GP_PartyID_01008316', 'Port_ISTANBUL (HAYDARPASA)_Size_40_Type_HC_PartyID_01008316', 'Port_ISTANBUL (MARPORT)_Size_40_Type_HC_PartyID_01008316', 'Port_ISTANBUL(AMBARLI)_Size_40_Type_GP_PartyID_01008316', 'Port_ISTANBUL(AMBARLI)_Size_40_Type_HC_PartyID_01008316', 'Port_ISTANBUL(AMBARLI)_Size_40_Type_HC NOR_PartyID_01008316', 'Port_ISTANBUL(AMBARLI)-KUMPORT_Size_20_Type_GP_PartyID_01008316', 'Port_ISTANBUL(AMBARLI)-KUMPORT_Size_40_Type_HC_PartyID_01008316', 'Port_ISTANBUL(AMBARLI)-MARPORT_Size_20_Type_GP_PartyID_01008316', 'Port_ISTANBUL(AMBARLI)-MARPORT_Size_40_Type_HC_PartyID_01008316', 'Port_ISTANBUL(HAYDARPASA)_Size_20_Type_GP_PartyID_01008316', 'Port_ISTANBUL(HAYDARPASA)_Size_40_Type_GP_PartyID_01008316', 'Port_ISTANBUL(HAYDARPASA)_Size_40_Type_GP_PartyID_01008827', 'Port_ISTANBUL(HAYDARPASA)_Size_40_Type_HC_PartyID_01008316', 'Port_ISTANBUL/KUMPORT (AMBARLI)_Size_20_Type_GP_PartyID_01008316', 'Port_ISTANBUL/KUMPORT (AMBARLI)_Size_40_Type_HC_PartyID_01008316', 'Port_ISTANBUL/MARPORT (AMBARLI)_Size_20_Type_GP_PartyID_01008316', 'Port_ISTANBUL/MARPORT (AMBARLI)_Size_40_Type_HC_PartyID_01008316', 'Port_ITAJAI_Size_20_Type_GP_PartyID_010006079', 'Port_IZMIR_Size_20_Type_GP_PartyID_01008316', 'Port_IZMIR_Size_40_Type_GP_PartyID_01008316', 'Port_IZMIR_Size_40_Type_HC_PartyID_01008316', 'Port_JAKARTA_Size_20_Type_GP_PartyID_010008969', 'Port_JAKARTA_Size_20_Type_GP_PartyID_01006255', 'Port_JAKARTA_Size_20_Type_GP (DG)_PartyID_010008969', 'Port_JAKARTA_Size_40_Type_GP_PartyID_010008969', 'Port_JAKARTA_Size_40_Type_GP_PartyID_01006255', 'Port_JAKARTA_Size_40_Type_HC_PartyID_010008969', 'Port_JAKARTA_Size_40_Type_HC_PartyID_01006255', 'Port_JOHANNESBURG_Size_20_Type_GP_PartyID_010007918', 'Port_JOHANNESBURG_Size_20_Type_GP_PartyID_01007274', 'Port_JOHANNESBURG_Size_40_Type_GP_PartyID_01007274', 'Port_JOHANNESBURG_Size_40_Type_GP (SOC)_PartyID_010007918', 'Port_JOHANNESBURG_Size_40_Type_GP (SOC)_PartyID_01007274', 'Port_JOHANNESBURG_Size_40_Type_HC_PartyID_010007918', 'Port_JOHANNESBURG_Size_40_Type_HC_PartyID_01007274', 'Port_JOHANNESBURG_Size_40_Type_HC NOR_PartyID_010007918', 'Port_KARACHI_Size_20_Type_GP_PartyID_01002783', 'Port_KARACHI_Size_40_Type_HC_PartyID_01002783', 'Port_KARACHI (KICT)_Size_20_Type_GP_PartyID_01002783', 'Port_KARACHI (KICT)_Size_40_Type_HC_PartyID_01002783', 'Port_KEELUNG_Size_20_Type_GP_PartyID_01005822', 'Port_KEELUNG_Size_40_Type_HC_PartyID_010020534', 'Port_KLAIPEDA_Size_20_Type_GP_PartyID_010017977', 'Port_KLAIPEDA_Size_40_Type_GP_PartyID_010017977', 'Port_KLAIPEDA_Size_40_Type_HC_PartyID_010017977', 'Port_KOBE_Size_20_Type_GP_PartyID_01005564', 'Port_KOBE_Size_20_Type_GP_PartyID_01008573', 'Port_KOBE_Size_40_Type_HC_PartyID_01005564', 'Port_KOLKATA_Size_20_Type_GP_PartyID_010006978', 'Port_KOLKATA_Size_40_Type_HC_PartyID_010006978', 'Port_KOPER_Size_20_Type_GP_PartyID_01000055', 'Port_KOPER_Size_20_Type_GP_PartyID_010008166', 'Port_KOPER_Size_20_Type_GP_PartyID_010009052', 'Port_KOPER_Size_40_Type_GP_PartyID_01000055', 'Port_KOPER_Size_40_Type_GP_PartyID_010008166', 'Port_KOPER_Size_40_Type_GP_PartyID_010009052', 'Port_KOPER_Size_40_Type_HC_PartyID_01000055', 'Port_KOPER_Size_40_Type_HC_PartyID_010008166', 'Port_KOPER_Size_40_Type_HC_PartyID_010009052', 'Port_KOPER_Size_40_Type_HC NOR_PartyID_010009052', 'Port_KOTA KINABALU_Size_20_Type_GP_PartyID_01004179', 'Port_KUMPORT_Size_40_Type_GP_PartyID_01008316', 'Port_KUMPORT_Size_40_Type_HC_PartyID_01008316', 'Port_LAEM CHABANG_Size_20_Type_GP_PartyID_010021593', 'Port_LAEM CHABANG_Size_20_Type_GP_PartyID_01002799', 'Port_LAEM CHABANG_Size_20_Type_GP (DG)_PartyID_01002799', 'Port_LAEM CHABANG_Size_40_Type_GP_PartyID_01002799', 'Port_LAEM CHABANG_Size_40_Type_HC_PartyID_010021593', 'Port_LAEM CHABANG_Size_40_Type_HC_PartyID_01002799', 'Port_LAGOS_Size_20_Type_GP_PartyID_010008774', 'Port_LAGOS_Size_40_Type_HC_PartyID_010008774', 'Port_LAT KRABANG_Size_40_Type_HC_PartyID_010021593', 'Port_LATKRABANG_Size_20_Type_GP_PartyID_010021593', 'Port_LATKRABANG_Size_20_Type_GP_PartyID_01002799', 'Port_LATKRABANG_Size_40_Type_GP_PartyID_01002799', 'Port_LATKRABANG_Size_40_Type_HC_PartyID_010021593', 'Port_LATKRABANG_Size_40_Type_HC_PartyID_01002799', 'Port_LAUTOKA_Size_20_Type_GP_PartyID_010008152', 'Port_LAUTOKA_Size_40_Type_HC_PartyID_010008152', 'Port_LE HAVRE_Size_20_Type_GP_PartyID_01001088', 'Port_LE HAVRE_Size_20_Type_GP_PartyID_010019363', 'Port_LE HAVRE_Size_40_Type_GP_PartyID_01001088', 'Port_LE HAVRE_Size_40_Type_GP_PartyID_010019363', 'Port_LE HAVRE_Size_40_Type_HC_PartyID_01001088', 'Port_LE HAVRE_Size_40_Type_HC_PartyID_010019363', 'Port_LE HAVRE_Size_40_Type_HC NOR_PartyID_01001088', 'Port_LE HAVRE_Size_40_Type_HC NOR_PartyID_010019363', 'Port_LEIXOES_Size_20_Type_GP_PartyID_010008857', 'Port_LEIXOES_Size_20_Type_GP_PartyID_01008132', 'Port_LEIXOES_Size_20_Type_GP_PartyID_01008133', 'Port_LEIXOES_Size_40_Type_GP_PartyID_010008857', 'Port_LEIXOES_Size_40_Type_GP_PartyID_010019569', 'Port_LEIXOES_Size_40_Type_GP_PartyID_01008132', 'Port_LEIXOES_Size_40_Type_GP_PartyID_01008133', 'Port_LEIXOES_Size_40_Type_HC_PartyID_010008857', 'Port_LEIXOES_Size_40_Type_HC_PartyID_01008132', 'Port_LIMASSOL_Size_20_Type_GP_PartyID_010007769', 'Port_LIMASSOL_Size_20_Type_GP_PartyID_01001096', 'Port_LIMASSOL_Size_20_Type_GP_PartyID_01002518', 'Port_LIMASSOL_Size_40_Type_GP_PartyID_010007769', 'Port_LIMASSOL_Size_40_Type_GP_PartyID_01001096', 'Port_LIMASSOL_Size_40_Type_GP_PartyID_01002518', 'Port_LIMASSOL_Size_40_Type_HC_PartyID_010007769', 'Port_LIMASSOL_Size_40_Type_HC_PartyID_01001096', 'Port_LIMASSOL_Size_40_Type_HC_PartyID_01002518', 'Port_LISBOA_Size_20_Type_GP_PartyID_010008857', 'Port_LISBOA_Size_20_Type_GP_PartyID_010019569', 'Port_LISBOA_Size_20_Type_GP_PartyID_01008133', 'Port_LISBOA_Size_40_Type_GP_PartyID_010019569', 'Port_LISBOA_Size_40_Type_GP_PartyID_01008133', 'Port_LISBOA_Size_40_Type_HC_PartyID_010008857', 'Port_LISBOA_Size_40_Type_HC_PartyID_010019569', 'Port_LISBOA_Size_40_Type_HC_PartyID_01008133', 'Port_LISBOA_Size_40_Type_HC NOR_PartyID_010019569', 'Port_LOS ANGELES_Size_20_Type_GP_PartyID_01005857', 'Port_LOS ANGELES_Size_40_Type_GP_PartyID_01005857', 'Port_LOS ANGELES_Size_40_Type_HC_PartyID_01005857', 'Port_LOS ANGELES_Size_40_Type_HC NOR_PartyID_01005857', 'Port_LOS ANGELES_Size_45_Type_HC_PartyID_01005857', 'Port_LOS ANGELES (US)_Size_20_Type_GP_PartyID_01005857', 'Port_LOS ANGELES (US)_Size_40_Type_GP_PartyID_01005857', 'Port_LOS ANGELES (US)_Size_40_Type_HC_PartyID_01005857', 'Port_LOS ANGELES (US)_Size_40_Type_HC NOR_PartyID_01005857', 'Port_LOS ANGELES (US)_Size_45_Type_HC_PartyID_01005857', 'Port_LYTTELTON_Size_20_Type_GP_PartyID_01005136', 'Port_LYTTELTON_Size_40_Type_GP_PartyID_01005136', 'Port_LYTTELTON_Size_40_Type_HC_PartyID_01005136', 'Port_LYTTELTON_Size_40_Type_HC NOR_PartyID_01005136', 'Port_MADRAS_Size_20_Type_GP_PartyID_010006979', 'Port_MADRAS_Size_20_Type_GP_PartyID_01008779', 'Port_MADRAS_Size_40_Type_HC_PartyID_010006979', 'Port_MADRAS_Size_40_Type_HC_PartyID_01008779', 'Port_MADRAS/CHENNAI_Size_20_Type_GP_PartyID_010006979', 'Port_MADRAS/CHENNAI_Size_20_Type_GP (DG)_PartyID_010006979', 'Port_MADRAS/CHENNAI_Size_40_Type_GP_PartyID_010006979', 'Port_MADRAS/CHENNAI_Size_40_Type_HC_PartyID_010006979', 'Port_MALTA (FREE PORT)_Size_20_Type_GP_PartyID_010007469', 'Port_MALTA (FREE PORT)_Size_20_Type_GP_PartyID_010008325', 'Port_MALTA (FREE PORT)_Size_20_Type_GP_PartyID_010018998', 'Port_MALTA (FREE PORT)_Size_40_Type_HC_PartyID_010007469', 'Port_MALTA (FREE PORT)_Size_40_Type_HC_PartyID_010008325', 'Port_MALTA (FREE PORT)_Size_40_Type_HC_PartyID_010018998', 'Port_MANILA (NORTH HARBOUR)_Size_20_Type_GP_PartyID_010020486', 'Port_MANILA (NORTH HARBOUR)_Size_20_Type_GP_PartyID_010021727', 'Port_MANILA (NORTH HARBOUR)_Size_20_Type_GP_PartyID_01004969', 'Port_MANILA (NORTH HARBOUR)_Size_20_Type_GP (DG)_PartyID_01004969', 'Port_MANILA (NORTH HARBOUR)_Size_40_Type_GP_PartyID_01004969', 'Port_MANILA (NORTH HARBOUR)_Size_40_Type_HC_PartyID_010020486', 'Port_MANILA (NORTH HARBOUR)_Size_40_Type_HC_PartyID_010021727', 'Port_MANILA (NORTH HARBOUR)_Size_40_Type_HC_PartyID_01004969', 'Port_MANILA (NORTH HARBOUR)_Size_40_Type_HC (DG)_PartyID_010020486', 'Port_MANILA (SOUTH HARBOUR)_Size_20_Type_GP_PartyID_010020486', 'Port_MANILA (SOUTH HARBOUR)_Size_20_Type_GP_PartyID_010021727', 'Port_MANILA (SOUTH HARBOUR)_Size_20_Type_GP_PartyID_01004969', 'Port_MANILA (SOUTH HARBOUR)_Size_40_Type_HC_PartyID_010020486', 'Port_MANILA (SOUTH HARBOUR)_Size_40_Type_HC_PartyID_010021727', 'Port_MANILA (SOUTH HARBOUR)_Size_40_Type_HC_PartyID_01004969', 'Port_MANILA(SOUTH HARBOUR)_Size_20_Type_GP_PartyID_01004969', 'Port_MANILA(SOUTH HARBOUR)_Size_20_Type_GP_PartyID_01005114', 'Port_MANILA(SOUTH HARBOUR)_Size_40_Type_HC_PartyID_01004969', 'Port_MANZANILLO , MEXICO_Size_20_Type_GP_PartyID_010004319', 'Port_MANZANILLO , MEXICO_Size_20_Type_GP_PartyID_010017866', 'Port_MANZANILLO , MEXICO_Size_20_Type_GP_PartyID_01008144', 'Port_MANZANILLO , MEXICO_Size_40_Type_GP_PartyID_010004319', 'Port_MANZANILLO , MEXICO_Size_40_Type_GP_PartyID_010006338', 'Port_MANZANILLO , MEXICO_Size_40_Type_GP_PartyID_010017866', 'Port_MANZANILLO , MEXICO_Size_40_Type_GP_PartyID_01008144', 'Port_MANZANILLO , MEXICO_Size_40_Type_HC_PartyID_010004319', 'Port_MANZANILLO , MEXICO_Size_40_Type_HC_PartyID_010006338', 'Port_MANZANILLO , MEXICO_Size_40_Type_HC_PartyID_010017866', 'Port_MANZANILLO , MEXICO_Size_40_Type_HC_PartyID_01008144', 'Port_MANZANILLO , MEXICO_Size_40_Type_HC NOR_PartyID_010004319', 'Port_MANZANILLO , MEXICO_Size_40_Type_HC NOR_PartyID_010017866', 'Port_MANZANILLO, MEXICO_Size_20_Type_GP_PartyID_010017866', 'Port_MANZANILLO, MEXICO_Size_20_Type_GP_PartyID_010017867', 'Port_MANZANILLO, MEXICO_Size_40_Type_GP_PartyID_010017866', 'Port_MANZANILLO, MEXICO_Size_40_Type_HC_PartyID_010017866', 'Port_MANZANILLO, MEXICO_Size_40_Type_HC_PartyID_010017867', 'Port_MANZANILLO, MEXICO_Size_40_Type_HC NOR_PartyID_010017866', 'Port_MANZANILLO, MEXICO_Size_40_Type_HC NOR_PartyID_010017867', 'Port_MARSAXLOKK( MALTA )_Size_20_Type_GP_PartyID_010008325', 'Port_MARSAXLOKK( MALTA )_Size_20_Type_GP_PartyID_010018998', 'Port_MARSAXLOKK( MALTA )_Size_40_Type_GP_PartyID_010008325', 'Port_MARSAXLOKK( MALTA )_Size_40_Type_GP_PartyID_010018998', 'Port_MARSAXLOKK( MALTA )_Size_40_Type_HC_PartyID_010008325', 'Port_MARSAXLOKK( MALTA )_Size_40_Type_HC_PartyID_010018998', 'Port_MARSAXLOKK( MALTA )_Size_40_Type_HC NOR_PartyID_010018998', 'Port_MARSEILLE_Size_20_Type_GP_PartyID_01001088', 'Port_MARSEILLE_Size_20_Type_GP_PartyID_010019364', 'Port_MARSEILLE_Size_40_Type_GP_PartyID_01001088', 'Port_MARSEILLE_Size_40_Type_HC_PartyID_01001088', 'Port_MARSEILLE_Size_40_Type_HC_PartyID_010019364', 'Port_MARSEILLE_Size_40_Type_HC NOR_PartyID_01001088', 'Port_MARSEILLE_Size_40_Type_HC NOR_PartyID_010019364', 'Port_MELBOURNE_Size_20_Type_GP_PartyID_01002778', 'Port_MELBOURNE_Size_20_Type_GP_PartyID_01005078', 'Port_MELBOURNE_Size_40_Type_GP_PartyID_01002778', 'Port_MELBOURNE_Size_40_Type_HC_PartyID_01002778', 'Port_MELBOURNE_Size_40_Type_HC_PartyID_01002779', 'Port_MELBOURNE_Size_40_Type_HC NOR_PartyID_01002778', 'Port_MERSIN_Size_20_Type_GP_PartyID_01008316', 'Port_MERSIN_Size_40_Type_GP_PartyID_01008316', 'Port_MERSIN_Size_40_Type_HC_PartyID_01008316', 'Port_MIAMI_Size_20_Type_GP_PartyID_010008022', 'Port_MIAMI_Size_40_Type_GP_PartyID_010008022', 'Port_MIAMI_Size_40_Type_GP_PartyID_01001993', 'Port_MIAMI_Size_40_Type_HC_PartyID_010008022', 'Port_MIAMI_Size_40_Type_HC_PartyID_01001993', 'Port_MIAMI_Size_40_Type_HC NOR_PartyID_010008022', 'Port_MIAMI_Size_40_Type_HC NOR_PartyID_01001993', 'Port_MIAMI_Size_45_Type_GP_PartyID_01001993', 'Port_MOMBASA_Size_20_Type_GP_PartyID_01001963', 'Port_MOMBASA_Size_20_Type_GP_PartyID_010020691', 'Port_MOMBASA_Size_40_Type_GP_PartyID_01001963', 'Port_MOMBASA_Size_40_Type_HC_PartyID_01001963', 'Port_MOMBASA_Size_40_Type_HC_PartyID_010020691', 'Port_MOMBASA_Size_40_Type_HC NOR_PartyID_01001963', 'Port_MONTEVIDEO_Size_20_Type_GP_PartyID_01006065', 'Port_MONTEVIDEO_Size_40_Type_HC_PartyID_010021385', 'Port_MONTEVIDEO_Size_40_Type_HC_PartyID_01006065', 'Port_MONTEVIDEO_Size_40_Type_HC NOR_PartyID_010021385', 'Port_MONTEVIDEO_Size_40_Type_HC NOR_PartyID_010021505', 'Port_MONTEVIDEO_Size_40_Type_HC NOR_PartyID_01006065', 'Port_MUMBAI_Size_20_Type_GP_PartyID_01002787', 'Port_MUMBAI_Size_40_Type_GP_PartyID_01002787', 'Port_MUMBAI_Size_40_Type_HC_PartyID_01002787', 'Port_NAGOYA_Size_20_Type_GP_PartyID_010008038', 'Port_NAGOYA_Size_20_Type_GP_PartyID_01005565', 'Port_NAGOYA_Size_20_Type_GP_PartyID_01008573', 'Port_NAGOYA_Size_40_Type_HC_PartyID_010008038', 'Port_NEW DELHI_Size_20_Type_GP_PartyID_010003632', 'Port_NEW DELHI_Size_40_Type_HC_PartyID_010003632', 'Port_NEW DELHI (VIA NHAVA SHEVA)_Size_20_Type_GP_PartyID_010003632', 'Port_NEW DELHI (VIA NHAVA SHEVA)_Size_40_Type_HC_PartyID_010003632', 'Port_NEW YORK_Size_20_Type_GP_PartyID_01005886', 'Port_NEW YORK_Size_40_Type_GP_PartyID_01005886', 'Port_NEW YORK_Size_40_Type_HC_PartyID_01005857', 'Port_NEW YORK_Size_40_Type_HC_PartyID_01005886', 'Port_NEW YORK_Size_40_Type_HC NOR_PartyID_01005886', 'Port_NEW YORK_Size_45_Type_HC_PartyID_01005886', 'Port_NHAVA SHEVA_Size_20_Type_GP_PartyID_01002787', 'Port_NHAVA SHEVA_Size_40_Type_HC_PartyID_01002787', 'Port_NHAVA SHEVA_Size_40_Type_HC (DG)_PartyID_01002787', 'Port_NHAVA SHEVA ( JNPT )_Size_20_Type_GP_PartyID_01002787', 'Port_NHAVA SHEVA ( JNPT )_Size_40_Type_GP_PartyID_01002787', 'Port_NHAVA SHEVA ( JNPT )_Size_40_Type_HC_PartyID_01002787', 'Port_NHAVA SHEVA, INDIA_Size_40_Type_HC_PartyID_01002787', 'Port_NHAVA SHEVA/NEW DELHI_Size_20_Type_GP_PartyID_010003632', 'Port_NHAVA SHEVA/NEW DELHI_Size_40_Type_HC_PartyID_010003632', 'Port_NINGBO_Size_20_Type_GP_PartyID_01001667', 'Port_NINGBO_Size_40_Type_HC_PartyID_01001667', 'Port_ODESSA_Size_20_Type_GP_PartyID_010019008', 'Port_ODESSA_Size_20_Type_GP_PartyID_010019966', 'Port_ODESSA_Size_40_Type_GP_PartyID_010019966', 'Port_ODESSA_Size_40_Type_HC_PartyID_010019008', 'Port_ODESSA_Size_40_Type_HC_PartyID_010019966', 'Port_OSAKA_Size_20_Type_GP_PartyID_01005564', 'Port_OSAKA_Size_40_Type_HC_PartyID_01005564', 'Port_OSAKA_Size_40_Type_HC_PartyID_01008573', 'Port_OSLO_Size_20_Type_GP_PartyID_0100027829', 'Port_OSLO_Size_20_Type_GP_PartyID_010006665', 'Port_OSLO_Size_40_Type_HC_PartyID_0100027829', 'Port_OSLO_Size_40_Type_HC_PartyID_010006665', 'Port_OSLO_Size_40_Type_HC NOR_PartyID_0100027829', 'Port_OSLO_Size_40_Type_HC NOR_PartyID_010006665', 'Port_PASIR GUDANG_Size_20_Type_GP_PartyID_010016702', 'Port_PASIR GUDANG_Size_20_Type_GP_PartyID_01002767', 'Port_PASIR GUDANG_Size_20_Type_GP (SOC)_PartyID_010016702', 'Port_PASIR GUDANG_Size_20_Type_GP (SOC)_PartyID_01002767', 'Port_PASIR GUDANG_Size_40_Type_GP_PartyID_01002767', 'Port_PASIR GUDANG_Size_40_Type_HC_PartyID_010016702', 'Port_PASIR GUDANG_Size_40_Type_HC_PartyID_01002767', 'Port_PASIR GUDANG_Size_40_Type_HC (SOC)_PartyID_01002767', 'Port_PENANG_Size_20_Type_GP_PartyID_010007888', 'Port_PENANG_Size_20_Type_GP_PartyID_01002765', 'Port_PENANG_Size_40_Type_HC_PartyID_010007888', 'Port_PENANG_Size_40_Type_HC_PartyID_01002765', 'Port_PHNOM PENH_Size_40_Type_HC_PartyID_010021748', 'Port_PIRAEUS_Size_20_Type_GP_PartyID_010006369', 'Port_PIRAEUS_Size_40_Type_GP_PartyID_010006369', 'Port_PIRAEUS_Size_40_Type_HC_PartyID_010006369', 'Port_POINTE DES GALETS_Size_20_Type_GP_PartyID_010007778', 'Port_POINTE DES GALETS_Size_40_Type_HC_PartyID_010007778', 'Port_POINTE DES GALETS/REUNION_Size_20_Type_GP_PartyID_010007778', 'Port_POINTE DES GALETS/REUNION_Size_20_Type_GP_PartyID_010026749', 'Port_POINTE DES GALETS/REUNION_Size_40_Type_GP_PartyID_010007778', 'Port_POINTE DES GALETS/REUNION_Size_40_Type_HC_PartyID_010007778', 'Port_POINTE DES GALETS/REUNION_Size_40_Type_HC_PartyID_010026749', 'Port_PORT ELIZABETH_Size_20_Type_GP_PartyID_010007919', 'Port_PORT ELIZABETH_Size_40_Type_GP_PartyID_010007919', 'Port_PORT ELIZABETH_Size_40_Type_HC_PartyID_010007919', 'Port_PORT ELIZABETH_Size_40_Type_HC NOR_PartyID_010007919', 'Port_PORT KELANG_Size_20_Type_GP_PartyID_01002769', 'Port_PORT KELANG_Size_40_Type_HC_PartyID_01002769', 'Port_PORT KLANG_Size_20_Type_GP_PartyID_01002769', 'Port_PORT KLANG_Size_20_Type_GP (DG)_PartyID_01002769', 'Port_PORT KLANG_Size_40_Type_HC_PartyID_01002769', 'Port_PORT KLANG (NORTH PORT)_Size_20_Type_GP_PartyID_01002769', 'Port_PORT KLANG (NORTH PORT)_Size_40_Type_HC_PartyID_01002769', 'Port_PORT KLANG (WEST PORT)_Size_20_Type_GP_PartyID_01002769', 'Port_PORT LOUIS_Size_20_Type_GP_PartyID_01000083', 'Port_PORT LOUIS_Size_20_Type_GP_PartyID_010007778', 'Port_PORT LOUIS_Size_20_Type_GP_PartyID_010009137', 'Port_PORT LOUIS_Size_20_Type_GP_PartyID_010026749', 'Port_PORT LOUIS_Size_40_Type_GP_PartyID_01000083', 'Port_PORT LOUIS_Size_40_Type_GP_PartyID_010007778', 'Port_PORT LOUIS_Size_40_Type_GP_PartyID_010009137', 'Port_PORT LOUIS_Size_40_Type_GP_PartyID_010026749', 'Port_PORT LOUIS_Size_40_Type_HC_PartyID_01000083', 'Port_PORT LOUIS_Size_40_Type_HC_PartyID_010007778', 'Port_PORT LOUIS_Size_40_Type_HC_PartyID_010007877', 'Port_PORT LOUIS_Size_40_Type_HC_PartyID_010009137', 'Port_PORT LOUIS_Size_40_Type_HC_PartyID_010026749', 'Port_PORT LOUIS_Size_40_Type_HC NOR_PartyID_010026749', 'Port_PORT MORESBY_Size_40_Type_GP_PartyID_01007594', 'Port_PORT SAID_Size_20_Type_GP_PartyID_010004995', 'Port_PORT SAID_Size_40_Type_GP_PartyID_010004995', 'Port_PORT SAID_Size_40_Type_HC_PartyID_010004995', 'Port_PORT SAID (WEST)_Size_20_Type_GP_PartyID_010004995', 'Port_PORT SAID (WEST)_Size_40_Type_HC_PartyID_010004995', 'Port_PORT TANGIER MEDITERRANEE (TANGIER PORT)_Size_20_Type_GP_PartyID_010006336', 'Port_PORT TANGIER MEDITERRANEE (TANGIER PORT)_Size_40_Type_HC_PartyID_010006336', 'Port_PORTO (LEIXOES)_Size_20_Type_GP_PartyID_010008857', 'Port_PORTO (LEIXOES)_Size_20_Type_GP NOR_PartyID_010008857', 'Port_PORTO (LEIXOES)_Size_40_Type_GP_PartyID_010008857', 'Port_PORTO (LEIXOES)_Size_40_Type_HC_PartyID_010008857', 'Port_PORTO (LEIXOES)_Size_40_Type_HC NOR_PartyID_010008857', 'Port_POTI_Size_20_Type_GP_PartyID_010020790', 'Port_POTI_Size_20_Type_GP_PartyID_010021426', 'Port_POTI_Size_20_Type_GP_PartyID_010021486', 'Port_POTI_Size_40_Type_HC_PartyID_010020790', 'Port_POTI_Size_40_Type_HC_PartyID_010021426', 'Port_PRAGUE_Size_20_Type_GP_PartyID_010007758', 'Port_PRAGUE_Size_40_Type_GP_PartyID_010007758', 'Port_PRAGUE_Size_40_Type_HC_PartyID_010007758', 'Port_PRAGUE_Size_40_Type_HC (SOC)_PartyID_010007758', 'Port_PRAGUE / PRAHA_Size_20_Type_GP_PartyID_010007758', 'Port_PRAGUE / PRAHA_Size_40_Type_GP_PartyID_010007758', 'Port_PRAGUE / PRAHA_Size_40_Type_HC_PartyID_010007758', 'Port_PRAGUE / PRAHA_Size_40_Type_HC (SOC)_PartyID_010007758', 'Port_QINGDAO_Size_20_Type_GP_PartyID_010007376', 'Port_QINGDAO_Size_40_Type_HC_PartyID_010007376', 'Port_QINGDAO_Size_40_Type_HC_PartyID_01001118', 'Port_QINGDAO_Size_40_Type_HC (SOC)_PartyID_01005854', 'Port_RIJEKA_Size_20_Type_GP_PartyID_010005276', 'Port_RIJEKA_Size_20_Type_GP_PartyID_010008166', 'Port_RIJEKA_Size_40_Type_GP_PartyID_010008166', 'Port_RIJEKA_Size_40_Type_HC_PartyID_010005276', 'Port_RIJEKA_Size_40_Type_HC_PartyID_010008166', 'Port_RIO DE JANEIRO_Size_40_Type_HC NOR_PartyID_01001602', 'Port_RIO GRANDE (BRAZIL)_Size_40_Type_HC NOR_PartyID_01001602', 'Port_ROSARIO_Size_20_Type_GP_PartyID_010006613', 'Port_ROSARIO_Size_40_Type_HC_PartyID_010006613', 'Port_ROTTERDAM_Size_20_Type_GP_PartyID_01001448', 'Port_ROTTERDAM_Size_40_Type_HC_PartyID_01001448', 'Port_ROTTERDAM_Size_40_Type_HC NOR_PartyID_01001448', 'Port_ROTTERDAM_Size_40_Type_HC NOR_PartyID_01008827', 'Port_SAN JOSE_Size_20_Type_GP_PartyID_010017587', 'Port_SAN JOSE_Size_40_Type_HC_PartyID_010017587', 'Port_SAN JOSE_Size_40_Type_HC NOR_PartyID_010017587', 'Port_SEMARANG_Size_20_Type_GP_PartyID_010007418', 'Port_SEMARANG_Size_20_Type_GP_PartyID_010008923', 'Port_SEMARANG_Size_20_Type_GP_PartyID_01006256', 'Port_SEMARANG_Size_40_Type_GP_PartyID_01006256', 'Port_SEMARANG_Size_40_Type_HC_PartyID_010007418', 'Port_SEMARANG_Size_40_Type_HC_PartyID_010008923', 'Port_SEMARANG_Size_40_Type_HC_PartyID_01006256', 'Port_SHANGHAI_Size_40_Type_HC_PartyID_010007376', 'Port_SHANGHAI_Size_40_Type_HC_PartyID_01005130', 'Port_SIHANOUKVILLE_Size_20_Type_GP_PartyID_010021748', 'Port_SIHANOUKVILLE_Size_20_Type_GP_PartyID_010027696', 'Port_SIHANOUKVILLE_Size_40_Type_HC_PartyID_010021748', 'Port_SIHANOUKVILLE_Size_40_Type_HC_PartyID_010027696', 'Port_SINES_Size_20_Type_GP_PartyID_010008857', 'Port_SINES_Size_40_Type_GP_PartyID_010008857', 'Port_SINES_Size_40_Type_HC_PartyID_010008857', 'Port_SINES (PORTUGAL)_Size_40_Type_HC_PartyID_010008857', 'Port_SOUTHAMPTON_Size_20_Type_GP_PartyID_01002303', 'Port_SURABAYA_Size_20_Type_GP_PartyID_010008922', 'Port_SURABAYA_Size_20_Type_GP_PartyID_01006257', 'Port_SURABAYA_Size_20_Type_GP (DG)_PartyID_010008922', 'Port_SURABAYA_Size_40_Type_GP_PartyID_01006257', 'Port_SURABAYA_Size_40_Type_HC_PartyID_010008922', 'Port_SURABAYA_Size_40_Type_HC_PartyID_01005114', 'Port_SURABAYA_Size_40_Type_HC_PartyID_01006257', 'Port_SUVA_Size_20_Type_GP_PartyID_01008681', 'Port_SUVA_Size_40_Type_GP_PartyID_01008681', 'Port_SUVA_Size_40_Type_HC_PartyID_01008681', 'Port_SYDNEY_Size_20_Type_GP_PartyID_01002779', 'Port_SYDNEY_Size_40_Type_GP_PartyID_01002779', 'Port_SYDNEY_Size_40_Type_HC_PartyID_01002779', 'Port_SYDNEY_Size_40_Type_HC_PartyID_01005078', 'Port_SYDNEY_Size_40_Type_HC NOR_PartyID_01002779', 'Port_SYDNEY(AU)_Size_20_Type_GP_PartyID_01002779', 'Port_SYDNEY(AU)_Size_40_Type_HC_PartyID_01002779', 'Port_SYDNEY(AU)_Size_40_Type_HC NOR_PartyID_01002779', 'Port_TALLINN_Size_20_Type_GP_PartyID_010018747', 'Port_TALLINN_Size_40_Type_GP_PartyID_010018747', 'Port_TALLINN_Size_40_Type_HC_PartyID_010018747', 'Port_TAMATAVE (TOAMASINA)_Size_20_Type_GP_PartyID_010007778', 'Port_TAMATAVE (TOAMASINA)_Size_20_Type_GP_PartyID_010026749', 'Port_TAMATAVE (TOAMASINA)_Size_40_Type_HC_PartyID_010007778', 'Port_TAMATAVE (TOAMASINA)_Size_40_Type_HC_PartyID_010026749', 'Port_TAMATAVE (TOMASINA)_Size_20_Type_GP_PartyID_010007778', 'Port_TAMATAVE (TOMASINA)_Size_20_Type_GP_PartyID_010008880', 'Port_TAMATAVE (TOMASINA)_Size_40_Type_GP_PartyID_010008880', 'Port_TAMATAVE (TOMASINA)_Size_40_Type_HC_PartyID_010007778', 'Port_TAMATAVE (TOMASINA)_Size_40_Type_HC_PartyID_010008880', 'Port_TAN CANG (NEW PORT)_Size_20_Type_GP_PartyID_010005256', 'Port_TAN CANG (NEW PORT)_Size_40_Type_HC_PartyID_010005256', 'Port_TANGIER PORT_Size_40_Type_HC_PartyID_010006336', 'Port_TEMA_Size_40_Type_HC_PartyID_010008832', 'Port_THESSALONIKI_Size_20_Type_GP_PartyID_010006487', 'Port_THESSALONIKI_Size_40_Type_GP_PartyID_010006487', 'Port_THESSALONIKI_Size_40_Type_HC_PartyID_010006487', 'Port_TOKYO_Size_20_Type_GP_PartyID_01005565', 'Port_TOKYO_Size_40_Type_HC_PartyID_01005552', 'Port_TOKYO_Size_40_Type_HC_PartyID_01005565', 'Port_TORONTO_Size_40_Type_HC NOR_PartyID_01002807', 'Port_TRIPOLI_Size_20_Type_GP_PartyID_010003651', 'Port_TRIPOLI_Size_40_Type_HC_PartyID_010003651', 'Port_TRIPOLI (LEBANON)_Size_20_Type_GP_PartyID_010003651', 'Port_VALENCIA_Size_20_Type_GP_PartyID_01008306', 'Port_VALENCIA_Size_40_Type_GP_PartyID_01008306', 'Port_VALENCIA_Size_40_Type_HC_PartyID_01008306', 'Port_VALENCIA_Size_40_Type_HC NOR_PartyID_01008306', 'Port_VALPARAISO_Size_20_Type_GP_PartyID_010006350', 'Port_VALPARAISO_Size_20_Type_GP_PartyID_01008304', 'Port_VALPARAISO_Size_40_Type_GP_PartyID_010006350', 'Port_VALPARAISO_Size_40_Type_GP_PartyID_01008304', 'Port_VALPARAISO_Size_40_Type_HC_PartyID_010006350', 'Port_VALPARAISO_Size_40_Type_HC_PartyID_01008304', 'Port_VALPARAISO_Size_40_Type_HC NOR_PartyID_010006350', 'Port_VALPARAISO_Size_40_Type_HC NOR_PartyID_01008304', 'Port_VANCOUVER_Size_40_Type_GP_PartyID_01002807', 'Port_VANCOUVER_Size_40_Type_HC_PartyID_010007790', 'Port_VANCOUVER_Size_40_Type_HC_PartyID_01002807', 'Port_VANCOUVER_Size_40_Type_HC NOR_PartyID_010007790', 'Port_VANCOUVER_Size_40_Type_HC NOR_PartyID_01002807', 'Port_VANCOUVER_Size_45_Type_GP_PartyID_01002807', 'Port_VANCOUVER_Size_45_Type_HC_PartyID_010007790', 'Port_VANCOUVER_Size_45_Type_HC_PartyID_01002807', 'Port_VARNA ( BULGARIA )_Size_20_Type_GP_PartyID_010007870', 'Port_VARNA ( BULGARIA )_Size_20_Type_GP_PartyID_010019070', 'Port_VARNA ( BULGARIA )_Size_40_Type_GP_PartyID_010007870', 'Port_VARNA ( BULGARIA )_Size_40_Type_HC_PartyID_010007870', 'Port_VARNA ( BULGARIA )_Size_40_Type_HC_PartyID_010019070', 'Port_VIENNA_Size_20_Type_GP_PartyID_010005265', 'Port_XIAMEN_Size_20_Type_GP_PartyID_01001667', 'Port_XIAMEN_Size_40_Type_HC_PartyID_01000498', 'Port_XIAMEN_Size_40_Type_HC_PartyID_01001667', 'Port_XINGANG_Size_20_Type_GP_PartyID_010007376', 'Port_XINGANG_Size_20_Type_GP (SOC)_PartyID_010007376', 'Port_XINGANG_Size_40_Type_GP_PartyID_01001118', 'Port_XINGANG_Size_40_Type_HC (SOC)_PartyID_010007376', 'Port_YANGON_Size_40_Type_HC_PartyID_010003639', 'Port_YANGON (AWPT)_Size_20_Type_GP_PartyID_010003639', 'Port_YANGON (AWPT)_Size_40_Type_GP_PartyID_010003639', 'Port_YANGON (AWPT)_Size_40_Type_HC_PartyID_010003639', 'Port_YANGON (AWT)_Size_20_Type_GP_PartyID_010003639', 'Port_YANGON (AWT)_Size_20_Type_GP NOR_PartyID_010003639', 'Port_YANGON (AWT)_Size_40_Type_HC_PartyID_010003639', 'Port_YANGON (AWT)_Size_40_Type_HC NOR_PartyID_010003639', 'Port_YANGON (BSW)_Size_40_Type_HC NOR_PartyID_010003639', 'Port_YANGON (MIP)_Size_20_Type_GP_PartyID_010003639', 'Port_YANGON (MIP)_Size_40_Type_HC_PartyID_010003639', 'Port_YOKOHAMA_Size_20_Type_GP_PartyID_01005565', 'Port_YOKOHAMA_Size_40_Type_HC_PartyID_01005565']\n",
      "789\n",
      "\n",
      "New Data keys:\n",
      "['Port_(CONSTANZA)_Size_40_Type_GP_PartyID_010007816', 'Port_(CONSTANZA)_Size_40_Type_HC_PartyID_010007816', 'Port_AARHUS_Size_20_Type_GP_PartyID_01000043', 'Port_AARHUS_Size_20_Type_GP_PartyID_0100027830', 'Port_AARHUS_Size_20_Type_GP_PartyID_0100028193', 'Port_AARHUS_Size_20_Type_GP_PartyID_010006666', 'Port_AARHUS_Size_40_Type_GP_PartyID_01000043', 'Port_AARHUS_Size_40_Type_HC_PartyID_01000043', 'Port_AARHUS_Size_40_Type_HC_PartyID_0100027830', 'Port_AARHUS_Size_40_Type_HC_PartyID_0100028193', 'Port_AARHUS_Size_40_Type_HC_PartyID_010006666', 'Port_ABIDJAN_Size_20_Type_GP_PartyID_0100027878', 'Port_ABIDJAN_Size_40_Type_HC_PartyID_010021097', 'Port_ADELAIDE_Size_20_Type_GP_PartyID_01002775', 'Port_ADELAIDE_Size_40_Type_GP_PartyID_01002775', 'Port_ADELAIDE_Size_40_Type_HC_PartyID_01002775', 'Port_ADELAIDE_Size_40_Type_HC_PartyID_01005078', 'Port_ADELAIDE_Size_40_Type_HC NOR_PartyID_01002775', 'Port_ADELAIDE(AU)_Size_20_Type_GP_PartyID_01002775', 'Port_ADELAIDE(AU)_Size_40_Type_HC_PartyID_01002775', 'Port_ADELAIDE(AU)_Size_40_Type_HC NOR_PartyID_01002775', 'Port_ALEXANDRIA (EL DEKHELA PORT)_Size_40_Type_HC_PartyID_010004995', 'Port_ALEXANDRIA (OLD PORT)_Size_20_Type_GP_PartyID_010004995', 'Port_ALEXANDRIA (OLD PORT)_Size_40_Type_HC_PartyID_010004995', 'Port_ALEXANDRIA(OLD PORT)_Size_20_Type_GP_PartyID_010004995', 'Port_ALEXANDRIA(OLD PORT)_Size_40_Type_HC_PartyID_010004995', 'Port_ALEXANDRIA(OLD PORT)_Size_40_Type_HC NOR_PartyID_010004995', 'Port_ALGECIRAS_Size_20_Type_GP_PartyID_01008306', 'Port_ALGECIRAS_Size_40_Type_GP_PartyID_01008306', 'Port_ALGECIRAS_Size_40_Type_HC_PartyID_01008306', 'Port_ALGECIRAS_Size_40_Type_HC NOR_PartyID_01008306', 'Port_ALIAGA_Size_20_Type_GP_PartyID_01008316', 'Port_ALIAGA_Size_40_Type_HC_PartyID_01008316', 'Port_ALIAGA PORT (IZMIR)_Size_40_Type_HC_PartyID_01008316', 'Port_ANTWERP_Size_20_Type_GP_PartyID_01001449', 'Port_ANTWERP_Size_40_Type_GP_PartyID_01001449', 'Port_ANTWERP_Size_40_Type_HC_PartyID_01001449', 'Port_ANTWERP_Size_40_Type_HC NOR_PartyID_01001449', 'Port_AQABA_Size_20_Type_GP_PartyID_010006618', 'Port_AQABA_Size_20_Type_GP_PartyID_010021081', 'Port_AQABA_Size_40_Type_HC_PartyID_010006618', 'Port_AQABA_Size_40_Type_HC_PartyID_010021081', 'Port_ASHDOD_Size_20_Type_GP_PartyID_010008035', 'Port_ASHDOD_Size_40_Type_GP_PartyID_010008035', 'Port_ASHDOD_Size_40_Type_GP_PartyID_01008417', 'Port_ASHDOD_Size_40_Type_HC_PartyID_010008035', 'Port_ASHDOD_Size_40_Type_HC_PartyID_01008417', 'Port_AUCKLAND_Size_20_Type_GP_PartyID_01005136', 'Port_AUCKLAND_Size_20_Type_GP (DG)_PartyID_01005136', 'Port_AUCKLAND_Size_40_Type_GP_PartyID_01005136', 'Port_AUCKLAND_Size_40_Type_HC_PartyID_01005136', 'Port_AUCKLAND_Size_40_Type_HC (DG)_PartyID_01005136', 'Port_AUCKLAND_Size_40_Type_HC NOR_PartyID_01005136', 'Port_BANGKOK_Size_20_Type_GP_PartyID_010021593', 'Port_BANGKOK_Size_20_Type_GP_PartyID_01002799', 'Port_BANGKOK_Size_20_Type_GP (DG)_PartyID_01002799', 'Port_BANGKOK_Size_40_Type_GP_PartyID_01002799', 'Port_BANGKOK_Size_40_Type_HC_PartyID_010021593', 'Port_BANGKOK_Size_40_Type_HC_PartyID_01002799', 'Port_BANGKOK_Size_40_Type_HC (DG)_PartyID_010021593', 'Port_BANGKOK_Size_40_Type_HC (DG)_PartyID_01002799', 'Port_BANGKOK_Size_40_Type_HC (SOC)_PartyID_01002799', 'Port_BANGKOK ( TPT )_Size_20_Type_GP_PartyID_010021593', 'Port_BANGKOK ( TPT )_Size_20_Type_GP_PartyID_01002799', 'Port_BANGKOK ( TPT )_Size_40_Type_HC_PartyID_010021593', 'Port_BANGKOK ( TPT )_Size_40_Type_HC_PartyID_01002799', 'Port_BANGKOK (TST)_Size_20_Type_GP_PartyID_010021593', 'Port_BANGKOK (TST)_Size_40_Type_HC_PartyID_010021593', 'Port_BARCELONA_Size_20_Type_GP_PartyID_01008305', 'Port_BARCELONA_Size_40_Type_GP_PartyID_01008305', 'Port_BARCELONA_Size_40_Type_HC_PartyID_01008305', 'Port_BARCELONA_Size_40_Type_HC NOR_PartyID_01008305', 'Port_BEIRUT_Size_20_Type_GP_PartyID_010003651', 'Port_BEIRUT_Size_40_Type_GP_PartyID_010003651', 'Port_BEIRUT_Size_40_Type_HC_PartyID_010003651', 'Port_BEIRUT FREE ZONE_Size_20_Type_GP_PartyID_010003651', 'Port_BEIRUT FREE ZONE_Size_40_Type_HC_PartyID_010003651', 'Port_BEIRUT FREE ZONE_Size_45_Type_HC_PartyID_010003651', 'Port_BELAWAN_Size_20_Type_GP_PartyID_010008921', 'Port_BELAWAN_Size_20_Type_GP_PartyID_01006254', 'Port_BELAWAN_Size_40_Type_GP_PartyID_01006254', 'Port_BELAWAN_Size_40_Type_HC_PartyID_010008921', 'Port_BELAWAN_Size_40_Type_HC_PartyID_01006254', 'Port_BRATISLAVA_Size_20_Type_GP_PartyID_010007864', 'Port_BRATISLAVA_Size_20_Type_GP_PartyID_01003062', 'Port_BRATISLAVA_Size_40_Type_GP_PartyID_01000054', 'Port_BRATISLAVA_Size_40_Type_GP_PartyID_010005269', 'Port_BRATISLAVA_Size_40_Type_GP_PartyID_01003062', 'Port_BRATISLAVA_Size_40_Type_HC_PartyID_01000054', 'Port_BRATISLAVA_Size_40_Type_HC_PartyID_010005269', 'Port_BRATISLAVA_Size_40_Type_HC_PartyID_01003062', 'Port_BRISBANE_Size_20_Type_GP_PartyID_01002776', 'Port_BRISBANE_Size_20_Type_GP_PartyID_01002778', 'Port_BRISBANE_Size_20_Type_GP_PartyID_01002779', 'Port_BRISBANE_Size_20_Type_GP NOR_PartyID_01002776', 'Port_BRISBANE_Size_40_Type_GP_PartyID_01002776', 'Port_BRISBANE_Size_40_Type_HC_PartyID_01002776', 'Port_BRISBANE_Size_40_Type_HC_PartyID_01002778', 'Port_BRISBANE_Size_40_Type_HC NOR_PartyID_01002776', 'Port_BRISBANE_Size_40_Type_HC NOR_PartyID_01002779', 'Port_BUDAPEST_Size_20_Type_GP_PartyID_010007829', 'Port_BUDAPEST_Size_40_Type_GP_PartyID_010007829', 'Port_BUDAPEST_Size_40_Type_HC_PartyID_010007829', 'Port_BUENAVENTURA ,SPR_Size_20_Type_GP_PartyID_010006728', 'Port_BUENAVENTURA ,SPR_Size_40_Type_HC NOR_PartyID_010006728', 'Port_BUENAVENTURA ,SPR_Size_40_Type_HC NOR_PartyID_01001485', 'Port_BUENAVENTURA(COLOMBIA)_Size_20_Type_GP_PartyID_010006728', 'Port_BUENAVENTURA(COLOMBIA)_Size_20_Type_GP_PartyID_01001485', 'Port_BUENAVENTURA(COLOMBIA)_Size_40_Type_GP_PartyID_010006728', 'Port_BUENAVENTURA(COLOMBIA)_Size_40_Type_GP_PartyID_01001485', 'Port_BUENAVENTURA(COLOMBIA)_Size_40_Type_HC_PartyID_010006728', 'Port_BUENAVENTURA(COLOMBIA)_Size_40_Type_HC_PartyID_01001485', 'Port_BUENAVENTURA(COLOMBIA)_Size_40_Type_HC NOR_PartyID_01001485', 'Port_BUENOS AIRES_Size_20_Type_GP_PartyID_01006063', 'Port_BUENOS AIRES_Size_40_Type_HC_PartyID_010006300', 'Port_BUENOS AIRES_Size_40_Type_HC_PartyID_010021498', 'Port_BUENOS AIRES_Size_40_Type_HC_PartyID_01006063', 'Port_BUENOS AIRES_Size_40_Type_HC NOR_PartyID_010006300', 'Port_BUENOS AIRES_Size_40_Type_HC NOR_PartyID_010021498', 'Port_BUENOS AIRES_Size_40_Type_HC NOR_PartyID_01006063', 'Port_BUSAN_Size_20_Type_GP_PartyID_010004286', 'Port_BUSAN_Size_20_Type_GP_PartyID_01001867', 'Port_BUSAN_Size_40_Type_HC_PartyID_010004286', 'Port_BUSAN_Size_40_Type_HC_PartyID_01001867', 'Port_BUSAN_Size_40_Type_HC (SOC)_PartyID_010004286', 'Port_BUSAN_Size_40_Type_HC NOR_PartyID_010017867', 'Port_CALCUTTA_Size_20_Type_GP_PartyID_010006978', 'Port_CALCUTTA_Size_40_Type_HC_PartyID_010006978', 'Port_CALLAO_Size_20_Type_GP_PartyID_01002621', 'Port_CALLAO_Size_20_Type_GP_PartyID_010026711', 'Port_CALLAO_Size_40_Type_GP_PartyID_01002621', 'Port_CALLAO_Size_40_Type_HC_PartyID_01002621', 'Port_CALLAO_Size_40_Type_HC_PartyID_010026711', 'Port_CALLAO_Size_40_Type_HC NOR_PartyID_01002621', 'Port_CALLAO_Size_40_Type_HC NOR_PartyID_010026711', 'Port_CAPE TOWN_Size_20_Type_GP_PartyID_010007917', 'Port_CAPE TOWN_Size_40_Type_HC_PartyID_010007917', 'Port_CAPE TOWN_Size_40_Type_HC NOR_PartyID_010007917', 'Port_CAPETOWN_Size_20_Type_GP_PartyID_010007917', 'Port_CAPETOWN_Size_20_Type_GP_PartyID_01007272', 'Port_CAPETOWN_Size_40_Type_GP_PartyID_010007917', 'Port_CAPETOWN_Size_40_Type_GP_PartyID_01007272', 'Port_CAPETOWN_Size_40_Type_HC_PartyID_010007917', 'Port_CAPETOWN_Size_40_Type_HC_PartyID_01007272', 'Port_CASABLANCA_Size_20_Type_GP_PartyID_010006336', 'Port_CASABLANCA_Size_40_Type_GP_PartyID_010006336', 'Port_CASABLANCA_Size_40_Type_HC_PartyID_010006336', 'Port_CAT LAI (HO CHI MINH)_Size_20_Type_GP_PartyID_010005256', 'Port_CAT LAI (HO CHI MINH)_Size_20_Type_GP_PartyID_01004649', 'Port_CAT LAI (HO CHI MINH)_Size_40_Type_GP_PartyID_010005256', 'Port_CAT LAI (HO CHI MINH)_Size_40_Type_HC_PartyID_010005256', 'Port_CAT LAI (HO CHI MINH)_Size_40_Type_HC_PartyID_01004649', 'Port_CAT LAI (HO CHI MINH)_Size_40_Type_HC_PartyID_01005854', 'Port_CAT LAI (HO CHI MINH)_Size_40_Type_HC NOR_PartyID_010005256', 'Port_CAT LAI (HO CHI MINH)_Size_45_Type_HC_PartyID_010005256', 'Port_CAT LAI (HOCHIMINH)_Size_20_Type_GP_PartyID_010005256', 'Port_CAT LAI (HOCHIMINH)_Size_20_Type_GP (DG)_PartyID_010005256', 'Port_CAT LAI (HOCHIMINH)_Size_40_Type_HC_PartyID_010005256', 'Port_CAT LAI PORT_Size_20_Type_GP_PartyID_010005256', 'Port_CAT LAI PORT_Size_20_Type_GP (DG)_PartyID_010005256', 'Port_CAT LAI PORT_Size_40_Type_HC_PartyID_010005256', 'Port_CAT LAI PORT_Size_40_Type_HC (DG)_PartyID_010005256', 'Port_CEBU_Size_20_Type_GP_PartyID_010020487', 'Port_CEBU_Size_20_Type_GP_PartyID_010021735', 'Port_CEBU_Size_20_Type_GP_PartyID_01004970', 'Port_CEBU_Size_40_Type_HC_PartyID_010020487', 'Port_CEBU_Size_40_Type_HC_PartyID_010021735', 'Port_CEBU_Size_40_Type_HC_PartyID_01004970', 'Port_CHATTOGRAM (CHITTAGONG)_Size_20_Type_GP_PartyID_010021463', 'Port_CHATTOGRAM (CHITTAGONG)_Size_40_Type_HC_PartyID_010021463', 'Port_CHENNAI_Size_20_Type_GP_PartyID_010006979', 'Port_CHENNAI_Size_40_Type_HC_PartyID_010006979', 'Port_CHITTAGONG_Size_20_Type_GP_PartyID_010007693', 'Port_COCHIN_Size_20_Type_GP_PartyID_010006980', 'Port_COCHIN_Size_20_Type_GP_PartyID_01008782', 'Port_COCHIN_Size_40_Type_HC_PartyID_010006980', 'Port_COCHIN_Size_40_Type_HC_PartyID_01008782', 'Port_COLOMBO_Size_20_Type_GP_PartyID_01001668', 'Port_COLOMBO_Size_40_Type_GP_PartyID_01001668', 'Port_COLOMBO_Size_40_Type_HC_PartyID_01001668', 'Port_COLOMBO_Size_40_Type_HC_PartyID_01004906', 'Port_COLOMBO_Size_45_Type_HC_PartyID_01001668', 'Port_COLON FREE ZONE_Size_20_Type_GP_PartyID_010006741', 'Port_COLON FREE ZONE_Size_40_Type_HC_PartyID_010006741', 'Port_COLON FREE ZONE_Size_40_Type_HC_PartyID_010019558', 'Port_COLON FREE ZONE_Size_40_Type_HC NOR_PartyID_010006741', 'Port_CONSTANTA_Size_20_Type_GP_PartyID_010007816', 'Port_CONSTANTA_Size_20_Type_GP_PartyID_010009323', 'Port_CONSTANTA_Size_40_Type_GP_PartyID_010007816', 'Port_CONSTANTA_Size_40_Type_HC_PartyID_010007816', 'Port_CONSTANTA_Size_40_Type_HC_PartyID_010009323', 'Port_CONSTANTA CFS_Size_20_Type_GP_PartyID_010009323', 'Port_CONSTANTA CFS_Size_40_Type_GP_PartyID_010009323', 'Port_CONSTANTA CFS_Size_40_Type_HC_PartyID_010009323', 'Port_CONSTANZA_Size_20_Type_GP_PartyID_010007816', 'Port_CONSTANZA_Size_40_Type_GP_PartyID_010007816', 'Port_CONSTANZA_Size_40_Type_HC_PartyID_010007816', 'Port_COPENHAGEN_Size_20_Type_GP_PartyID_01000043', 'Port_COPENHAGEN_Size_20_Type_GP_PartyID_0100027830', 'Port_COPENHAGEN_Size_20_Type_GP_PartyID_010006666', 'Port_COPENHAGEN_Size_20_Type_GP_PartyID_010006669', 'Port_COPENHAGEN_Size_40_Type_GP_PartyID_01000043', 'Port_COPENHAGEN_Size_40_Type_HC_PartyID_01000043', 'Port_COPENHAGEN_Size_40_Type_HC_PartyID_0100027830', 'Port_COPENHAGEN_Size_40_Type_HC_PartyID_010006669', 'Port_COPENHAGEN_Size_40_Type_HC NOR_PartyID_010006669', 'Port_DALIAN_Size_20_Type_GP_PartyID_010007376', 'Port_DALIAN_Size_40_Type_HC_PartyID_010007376', 'Port_DANANG_Size_20_Type_GP_PartyID_010005257', 'Port_DANANG_Size_40_Type_HC_PartyID_010005257', 'Port_DAR ES SALAAM(TANZANIA)_Size_20_Type_GP_PartyID_010020396', 'Port_DAR ES SALAAM(TANZANIA)_Size_20_Type_GP_PartyID_010020400', 'Port_DAR ES SALAAM(TANZANIA)_Size_20_Type_GP_PartyID_01003047', 'Port_DAR ES SALAAM(TANZANIA)_Size_40_Type_HC_PartyID_010020396', 'Port_DAR ES SALAAM(TANZANIA)_Size_40_Type_HC_PartyID_010020400', 'Port_DUBAI (JEBEL ALI)_Size_20_Type_GP_PartyID_01002788', 'Port_DUBAI (JEBEL ALI)_Size_40_Type_GP (SOC)_PartyID_01002788', 'Port_DUBAI (JEBEL ALI)_Size_40_Type_HC_PartyID_01002788', 'Port_DUBLIN_Size_20_Type_GP_PartyID_010009104', 'Port_DUBLIN_Size_20_Type_GP_PartyID_010027322', 'Port_DUBLIN_Size_20_Type_GP_PartyID_01003442', 'Port_DUBLIN_Size_40_Type_GP_PartyID_010009104', 'Port_DUBLIN_Size_40_Type_GP_PartyID_01003442', 'Port_DUBLIN_Size_40_Type_HC_PartyID_010009104', 'Port_DUBLIN_Size_40_Type_HC_PartyID_010027322', 'Port_DUBLIN_Size_40_Type_HC_PartyID_01003442', 'Port_DUBLIN_Size_40_Type_HC NOR_PartyID_010009104', 'Port_DUBLIN_Size_40_Type_HC NOR_PartyID_010027322', 'Port_DURBAN_Size_20_Type_GP_PartyID_010007911', 'Port_DURBAN_Size_20_Type_GP_PartyID_01007273', 'Port_DURBAN_Size_40_Type_GP_PartyID_010007911', 'Port_DURBAN_Size_40_Type_GP_PartyID_01007273', 'Port_DURBAN_Size_40_Type_GP (SOC)_PartyID_01007273', 'Port_DURBAN_Size_40_Type_HC_PartyID_010007911', 'Port_DURBAN_Size_40_Type_HC_PartyID_01007273', 'Port_DURBAN_Size_40_Type_HC (SOC)_PartyID_01007273', 'Port_DURBAN_Size_40_Type_HC NOR_PartyID_010007911', 'Port_DURBAN_Size_40_Type_HC NOR (SOC)_PartyID_010007911', 'Port_EVYAP TERMINAL IZMIT_Size_20_Type_GP_PartyID_01008316', 'Port_FELIXSTOWE_Size_20_Type_GP_PartyID_01002303', 'Port_FELIXSTOWE_Size_40_Type_GP_PartyID_01002303', 'Port_FELIXSTOWE_Size_40_Type_HC_PartyID_01002303', 'Port_FELIXSTOWE_Size_40_Type_HC NOR_PartyID_01002303', 'Port_FOS SUR MER_Size_20_Type_GP_PartyID_010019364', 'Port_FOS SUR MER_Size_40_Type_GP_PartyID_010019364', 'Port_FOS SUR MER_Size_40_Type_HC_PartyID_010019364', 'Port_FOS SUR MER_Size_40_Type_HC NOR_PartyID_010019364', 'Port_FOS SUR MER-MARSEILLE_Size_20_Type_GP_PartyID_010019364', 'Port_FOS SUR MER-MARSEILLE_Size_40_Type_GP_PartyID_010019364', 'Port_FOS SUR MER-MARSEILLE_Size_40_Type_HC_PartyID_010019364', 'Port_FREDERICIA / AARHUS_Size_20_Type_GP_PartyID_010006666', 'Port_FREDERICIA / AARHUS_Size_40_Type_HC_PartyID_010006666', 'Port_FREDERICIA / AARHUS_Size_40_Type_HC NOR_PartyID_010006666', 'Port_FREMANTLE_Size_20_Type_GP_PartyID_01002777', 'Port_FREMANTLE_Size_40_Type_GP_PartyID_01002777', 'Port_FREMANTLE_Size_40_Type_HC_PartyID_01002777', 'Port_FREMANTLE_Size_40_Type_HC NOR_PartyID_01002777', 'Port_FREMANTLE (PERTH)_Size_20_Type_GP_PartyID_01002777', 'Port_FREMANTLE (PERTH)_Size_40_Type_HC_PartyID_01002777', 'Port_FREMANTLE (PERTH)_Size_40_Type_HC NOR_PartyID_01002777', 'Port_GDANSK_Size_20_Type_GP_PartyID_010008275', 'Port_GDANSK_Size_40_Type_HC_PartyID_010008275', 'Port_GDYNIA_Size_20_Type_GP_PartyID_010008275', 'Port_GDYNIA_Size_40_Type_GP_PartyID_010008275', 'Port_GDYNIA_Size_40_Type_HC_PartyID_010008275', 'Port_GDYNIA_Size_40_Type_HC NOR_PartyID_010008275', 'Port_GENOA_Size_20_Type_GP_PartyID_01001496', 'Port_GENOA_Size_40_Type_GP_PartyID_01001496', 'Port_GENOA_Size_40_Type_HC_PartyID_01001496', 'Port_GENOA_Size_40_Type_HC NOR_PartyID_01001496', 'Port_GENOVA_Size_40_Type_HC_PartyID_01001496', 'Port_GOTHENBURG_Size_20_Type_GP_PartyID_0100027831', 'Port_GOTHENBURG_Size_20_Type_GP_PartyID_0100028190', 'Port_GOTHENBURG_Size_20_Type_GP_PartyID_010006668', 'Port_GOTHENBURG_Size_20_Type_GP_PartyID_01002876', 'Port_GOTHENBURG_Size_40_Type_HC_PartyID_0100027831', 'Port_GOTHENBURG_Size_40_Type_HC_PartyID_0100028190', 'Port_GOTHENBURG_Size_40_Type_HC_PartyID_010006668', 'Port_GOTHENBURG_Size_40_Type_HC NOR_PartyID_010006668', 'Port_HAIPHONG_Size_20_Type_GP_PartyID_010005255', 'Port_HAIPHONG_Size_40_Type_GP_PartyID_010005255', 'Port_HAIPHONG_Size_40_Type_HC_PartyID_010005255', 'Port_HAMAD PORT_Size_20_Type_GP_PartyID_010020089', 'Port_HAMAD PORT_Size_40_Type_HC_PartyID_010020089', 'Port_HAMAD PORT (QATAR)_Size_40_Type_HC_PartyID_010020089', 'Port_HAMBURG_Size_20_Type_GP_PartyID_01002294', 'Port_HAMBURG_Size_40_Type_GP_PartyID_01002294', 'Port_HAMBURG_Size_40_Type_HC_PartyID_01002294', 'Port_HAMBURG_Size_40_Type_HC NOR_PartyID_01002294', 'Port_HAYDARPASA_Size_20_Type_GP_PartyID_01008316', 'Port_HAYDARPASA_Size_40_Type_HC_PartyID_01008316', 'Port_HELSINKI_Size_20_Type_GP_PartyID_0100027832', 'Port_HELSINKI_Size_20_Type_GP_PartyID_0100028191', 'Port_HELSINKI_Size_20_Type_GP_PartyID_010003678', 'Port_HELSINKI_Size_20_Type_GP_PartyID_010006667', 'Port_HELSINKI_Size_40_Type_GP_PartyID_010003678', 'Port_HELSINKI_Size_40_Type_GP_PartyID_010006667', 'Port_HELSINKI_Size_40_Type_HC_PartyID_0100027832', 'Port_HELSINKI_Size_40_Type_HC_PartyID_0100028191', 'Port_HELSINKI_Size_40_Type_HC_PartyID_010003678', 'Port_HELSINKI_Size_40_Type_HC_PartyID_010006667', 'Port_HO CHI MINH_Size_20_Type_GP_PartyID_010005256', 'Port_HO CHI MINH_Size_40_Type_HC_PartyID_010005256', 'Port_HO CHI MINH_Size_40_Type_HC (SOC)_PartyID_010005256', 'Port_HOCHIMINH ( CAT LAI )_Size_20_Type_GP_PartyID_010005256', 'Port_HOCHIMINH ( CAT LAI )_Size_40_Type_HC_PartyID_010005256', 'Port_HOCHIMINH CAT LAI,VIETNAM_Size_20_Type_GP_PartyID_010005256', 'Port_HOCHIMINH CAT LAI,VIETNAM_Size_40_Type_GP_PartyID_010005256', 'Port_HOCHIMINH CAT LAI,VIETNAM_Size_40_Type_HC_PartyID_010005256', 'Port_HOCHIMINH CAT LAI,VIETNAM_Size_40_Type_HC (DG)_PartyID_010005256', 'Port_HOCHIMINH CITY ( TAN CANG )_Size_40_Type_HC_PartyID_01004649', 'Port_HONG KONG_Size_20_Type_GP_PartyID_01004594', 'Port_HONG KONG_Size_40_Type_GP_PartyID_01004594', 'Port_HONG KONG_Size_40_Type_HC_PartyID_010009070', 'Port_HONG KONG_Size_40_Type_HC_PartyID_01004594', 'Port_ICD BANGALORE_Size_20_Type_GP_PartyID_010007237', 'Port_ICD BANGALORE_Size_40_Type_HC_PartyID_010007237', 'Port_ICD PATPARGANJ_Size_20_Type_GP_PartyID_01002787', 'Port_ICD PATPARGANJ_Size_40_Type_GP_PartyID_01002787', 'Port_ICD PATPARGANJ_Size_40_Type_HC_PartyID_01002787', 'Port_ICD PATPARGANJ_Size_40_Type_HC_PartyID_01008782', 'Port_ICD PHUOC LONG 3_Size_40_Type_HC_PartyID_010005256', 'Port_ILYCHEVSK_Size_20_Type_GP_PartyID_010019008', 'Port_ILYCHEVSK_Size_20_Type_GP_PartyID_010019966', 'Port_ILYCHEVSK_Size_40_Type_HC_PartyID_010019008', 'Port_ISTANBUL (HAYDARPASA)_Size_20_Type_GP_PartyID_01008316', 'Port_ISTANBUL (HAYDARPASA)_Size_40_Type_HC_PartyID_01008316', 'Port_ISTANBUL (MARPORT)_Size_40_Type_HC_PartyID_01008316', 'Port_ISTANBUL(AMBARLI)_Size_40_Type_GP_PartyID_01008316', 'Port_ISTANBUL(AMBARLI)_Size_40_Type_HC_PartyID_01008316', 'Port_ISTANBUL(AMBARLI)_Size_40_Type_HC NOR_PartyID_01008316', 'Port_ISTANBUL(AMBARLI)-KUMPORT_Size_20_Type_GP_PartyID_01008316', 'Port_ISTANBUL(AMBARLI)-KUMPORT_Size_40_Type_HC_PartyID_01008316', 'Port_ISTANBUL(AMBARLI)-MARPORT_Size_20_Type_GP_PartyID_01008316', 'Port_ISTANBUL(AMBARLI)-MARPORT_Size_40_Type_HC_PartyID_01008316', 'Port_ISTANBUL(HAYDARPASA)_Size_20_Type_GP_PartyID_01008316', 'Port_ISTANBUL(HAYDARPASA)_Size_40_Type_GP_PartyID_01008316', 'Port_ISTANBUL(HAYDARPASA)_Size_40_Type_GP_PartyID_01008827', 'Port_ISTANBUL(HAYDARPASA)_Size_40_Type_HC_PartyID_01008316', 'Port_ISTANBUL/KUMPORT (AMBARLI)_Size_20_Type_GP_PartyID_01008316', 'Port_ISTANBUL/KUMPORT (AMBARLI)_Size_40_Type_HC_PartyID_01008316', 'Port_ISTANBUL/MARPORT (AMBARLI)_Size_20_Type_GP_PartyID_01008316', 'Port_ISTANBUL/MARPORT (AMBARLI)_Size_40_Type_HC_PartyID_01008316', 'Port_ITAJAI_Size_20_Type_GP_PartyID_010006079', 'Port_IZMIR_Size_20_Type_GP_PartyID_01008316', 'Port_IZMIR_Size_40_Type_GP_PartyID_01008316', 'Port_IZMIR_Size_40_Type_HC_PartyID_01008316', 'Port_JAKARTA_Size_20_Type_GP_PartyID_010008969', 'Port_JAKARTA_Size_20_Type_GP_PartyID_01006255', 'Port_JAKARTA_Size_20_Type_GP (DG)_PartyID_010008969', 'Port_JAKARTA_Size_40_Type_GP_PartyID_010008969', 'Port_JAKARTA_Size_40_Type_GP_PartyID_01006255', 'Port_JAKARTA_Size_40_Type_HC_PartyID_010008969', 'Port_JAKARTA_Size_40_Type_HC_PartyID_01006255', 'Port_JOHANNESBURG_Size_20_Type_GP_PartyID_010007918', 'Port_JOHANNESBURG_Size_20_Type_GP_PartyID_01007274', 'Port_JOHANNESBURG_Size_40_Type_GP_PartyID_01007274', 'Port_JOHANNESBURG_Size_40_Type_GP (SOC)_PartyID_010007918', 'Port_JOHANNESBURG_Size_40_Type_GP (SOC)_PartyID_01007274', 'Port_JOHANNESBURG_Size_40_Type_HC_PartyID_010007918', 'Port_JOHANNESBURG_Size_40_Type_HC_PartyID_01007274', 'Port_JOHANNESBURG_Size_40_Type_HC NOR_PartyID_010007918', 'Port_KARACHI_Size_20_Type_GP_PartyID_01002783', 'Port_KARACHI_Size_40_Type_HC_PartyID_01002783', 'Port_KARACHI (KICT)_Size_20_Type_GP_PartyID_01002783', 'Port_KARACHI (KICT)_Size_40_Type_HC_PartyID_01002783', 'Port_KEELUNG_Size_20_Type_GP_PartyID_01005822', 'Port_KEELUNG_Size_40_Type_HC_PartyID_010020534', 'Port_KLAIPEDA_Size_20_Type_GP_PartyID_010017977', 'Port_KLAIPEDA_Size_40_Type_GP_PartyID_010017977', 'Port_KLAIPEDA_Size_40_Type_HC_PartyID_010017977', 'Port_KOBE_Size_20_Type_GP_PartyID_01005564', 'Port_KOBE_Size_20_Type_GP_PartyID_01008573', 'Port_KOBE_Size_40_Type_HC_PartyID_01005564', 'Port_KOLKATA_Size_20_Type_GP_PartyID_010006978', 'Port_KOLKATA_Size_40_Type_HC_PartyID_010006978', 'Port_KOPER_Size_20_Type_GP_PartyID_01000055', 'Port_KOPER_Size_20_Type_GP_PartyID_010008166', 'Port_KOPER_Size_20_Type_GP_PartyID_010009052', 'Port_KOPER_Size_40_Type_GP_PartyID_01000055', 'Port_KOPER_Size_40_Type_GP_PartyID_010008166', 'Port_KOPER_Size_40_Type_GP_PartyID_010009052', 'Port_KOPER_Size_40_Type_HC_PartyID_01000055', 'Port_KOPER_Size_40_Type_HC_PartyID_010008166', 'Port_KOPER_Size_40_Type_HC_PartyID_010009052', 'Port_KOPER_Size_40_Type_HC NOR_PartyID_010009052', 'Port_KOTA KINABALU_Size_20_Type_GP_PartyID_01004179', 'Port_KUMPORT_Size_40_Type_GP_PartyID_01008316', 'Port_KUMPORT_Size_40_Type_HC_PartyID_01008316', 'Port_LAEM CHABANG_Size_20_Type_GP_PartyID_010021593', 'Port_LAEM CHABANG_Size_20_Type_GP_PartyID_01002799', 'Port_LAEM CHABANG_Size_20_Type_GP (DG)_PartyID_01002799', 'Port_LAEM CHABANG_Size_40_Type_GP_PartyID_01002799', 'Port_LAEM CHABANG_Size_40_Type_HC_PartyID_010021593', 'Port_LAEM CHABANG_Size_40_Type_HC_PartyID_01002799', 'Port_LAGOS_Size_20_Type_GP_PartyID_010008774', 'Port_LAGOS_Size_40_Type_HC_PartyID_010008774', 'Port_LAT KRABANG_Size_40_Type_HC_PartyID_010021593', 'Port_LATKRABANG_Size_20_Type_GP_PartyID_010021593', 'Port_LATKRABANG_Size_20_Type_GP_PartyID_01002799', 'Port_LATKRABANG_Size_40_Type_GP_PartyID_01002799', 'Port_LATKRABANG_Size_40_Type_HC_PartyID_010021593', 'Port_LATKRABANG_Size_40_Type_HC_PartyID_01002799', 'Port_LAUTOKA_Size_20_Type_GP_PartyID_010008152', 'Port_LAUTOKA_Size_40_Type_HC_PartyID_010008152', 'Port_LE HAVRE_Size_20_Type_GP_PartyID_01001088', 'Port_LE HAVRE_Size_20_Type_GP_PartyID_010019363', 'Port_LE HAVRE_Size_40_Type_GP_PartyID_01001088', 'Port_LE HAVRE_Size_40_Type_GP_PartyID_010019363', 'Port_LE HAVRE_Size_40_Type_HC_PartyID_01001088', 'Port_LE HAVRE_Size_40_Type_HC_PartyID_010019363', 'Port_LE HAVRE_Size_40_Type_HC NOR_PartyID_01001088', 'Port_LE HAVRE_Size_40_Type_HC NOR_PartyID_010019363', 'Port_LEIXOES_Size_20_Type_GP_PartyID_010008857', 'Port_LEIXOES_Size_20_Type_GP_PartyID_01008132', 'Port_LEIXOES_Size_20_Type_GP_PartyID_01008133', 'Port_LEIXOES_Size_40_Type_GP_PartyID_010008857', 'Port_LEIXOES_Size_40_Type_GP_PartyID_010019569', 'Port_LEIXOES_Size_40_Type_GP_PartyID_01008132', 'Port_LEIXOES_Size_40_Type_GP_PartyID_01008133', 'Port_LEIXOES_Size_40_Type_HC_PartyID_010008857', 'Port_LEIXOES_Size_40_Type_HC_PartyID_01008132', 'Port_LIMASSOL_Size_20_Type_GP_PartyID_010007769', 'Port_LIMASSOL_Size_20_Type_GP_PartyID_01001096', 'Port_LIMASSOL_Size_20_Type_GP_PartyID_01002518', 'Port_LIMASSOL_Size_40_Type_GP_PartyID_010007769', 'Port_LIMASSOL_Size_40_Type_GP_PartyID_01001096', 'Port_LIMASSOL_Size_40_Type_GP_PartyID_01002518', 'Port_LIMASSOL_Size_40_Type_HC_PartyID_010007769', 'Port_LIMASSOL_Size_40_Type_HC_PartyID_01001096', 'Port_LIMASSOL_Size_40_Type_HC_PartyID_01002518', 'Port_LISBOA_Size_20_Type_GP_PartyID_010008857', 'Port_LISBOA_Size_20_Type_GP_PartyID_010019569', 'Port_LISBOA_Size_20_Type_GP_PartyID_01008133', 'Port_LISBOA_Size_40_Type_GP_PartyID_010019569', 'Port_LISBOA_Size_40_Type_GP_PartyID_01008133', 'Port_LISBOA_Size_40_Type_HC_PartyID_010008857', 'Port_LISBOA_Size_40_Type_HC_PartyID_010019569', 'Port_LISBOA_Size_40_Type_HC_PartyID_01008133', 'Port_LISBOA_Size_40_Type_HC NOR_PartyID_010019569', 'Port_LOS ANGELES_Size_20_Type_GP_PartyID_01005857', 'Port_LOS ANGELES_Size_40_Type_GP_PartyID_01005857', 'Port_LOS ANGELES_Size_40_Type_HC_PartyID_01005857', 'Port_LOS ANGELES_Size_40_Type_HC NOR_PartyID_01005857', 'Port_LOS ANGELES_Size_45_Type_HC_PartyID_01005857', 'Port_LOS ANGELES (US)_Size_20_Type_GP_PartyID_01005857', 'Port_LOS ANGELES (US)_Size_40_Type_GP_PartyID_01005857', 'Port_LOS ANGELES (US)_Size_40_Type_HC_PartyID_01005857', 'Port_LOS ANGELES (US)_Size_40_Type_HC_PartyID_01008827', 'Port_LOS ANGELES (US)_Size_40_Type_HC NOR_PartyID_01005857', 'Port_LOS ANGELES (US)_Size_45_Type_HC_PartyID_01005857', 'Port_LYTTELTON_Size_20_Type_GP_PartyID_01005136', 'Port_LYTTELTON_Size_40_Type_GP_PartyID_01005136', 'Port_LYTTELTON_Size_40_Type_HC_PartyID_01005136', 'Port_LYTTELTON_Size_40_Type_HC NOR_PartyID_01005136', 'Port_MADRAS_Size_20_Type_GP_PartyID_010006979', 'Port_MADRAS_Size_20_Type_GP_PartyID_01008779', 'Port_MADRAS_Size_40_Type_HC_PartyID_010006979', 'Port_MADRAS_Size_40_Type_HC_PartyID_01008779', 'Port_MADRAS/CHENNAI_Size_20_Type_GP_PartyID_010006979', 'Port_MADRAS/CHENNAI_Size_20_Type_GP (DG)_PartyID_010006979', 'Port_MADRAS/CHENNAI_Size_40_Type_GP_PartyID_010006979', 'Port_MADRAS/CHENNAI_Size_40_Type_HC_PartyID_010006979', 'Port_MALTA (FREE PORT)_Size_20_Type_GP_PartyID_010007469', 'Port_MALTA (FREE PORT)_Size_20_Type_GP_PartyID_010008325', 'Port_MALTA (FREE PORT)_Size_20_Type_GP_PartyID_010018998', 'Port_MALTA (FREE PORT)_Size_40_Type_HC_PartyID_010007469', 'Port_MALTA (FREE PORT)_Size_40_Type_HC_PartyID_010008325', 'Port_MALTA (FREE PORT)_Size_40_Type_HC_PartyID_010018998', 'Port_MANILA (NORTH HARBOUR)_Size_20_Type_GP_PartyID_010020486', 'Port_MANILA (NORTH HARBOUR)_Size_20_Type_GP_PartyID_010021727', 'Port_MANILA (NORTH HARBOUR)_Size_20_Type_GP_PartyID_01004969', 'Port_MANILA (NORTH HARBOUR)_Size_20_Type_GP (DG)_PartyID_01004969', 'Port_MANILA (NORTH HARBOUR)_Size_40_Type_GP_PartyID_01004969', 'Port_MANILA (NORTH HARBOUR)_Size_40_Type_HC_PartyID_010020486', 'Port_MANILA (NORTH HARBOUR)_Size_40_Type_HC_PartyID_010021727', 'Port_MANILA (NORTH HARBOUR)_Size_40_Type_HC_PartyID_01004969', 'Port_MANILA (NORTH HARBOUR)_Size_40_Type_HC (DG)_PartyID_010020486', 'Port_MANILA (SOUTH HARBOUR)_Size_20_Type_GP_PartyID_010020486', 'Port_MANILA (SOUTH HARBOUR)_Size_20_Type_GP_PartyID_010021727', 'Port_MANILA (SOUTH HARBOUR)_Size_20_Type_GP_PartyID_01004969', 'Port_MANILA (SOUTH HARBOUR)_Size_40_Type_HC_PartyID_010020486', 'Port_MANILA (SOUTH HARBOUR)_Size_40_Type_HC_PartyID_010021727', 'Port_MANILA (SOUTH HARBOUR)_Size_40_Type_HC_PartyID_01004969', 'Port_MANILA(SOUTH HARBOUR)_Size_20_Type_GP_PartyID_01004969', 'Port_MANILA(SOUTH HARBOUR)_Size_20_Type_GP_PartyID_01005114', 'Port_MANILA(SOUTH HARBOUR)_Size_40_Type_HC_PartyID_01004969', 'Port_MANZANILLO , MEXICO_Size_20_Type_GP_PartyID_010004319', 'Port_MANZANILLO , MEXICO_Size_20_Type_GP_PartyID_010017866', 'Port_MANZANILLO , MEXICO_Size_20_Type_GP_PartyID_01008144', 'Port_MANZANILLO , MEXICO_Size_40_Type_GP_PartyID_010004319', 'Port_MANZANILLO , MEXICO_Size_40_Type_GP_PartyID_010006338', 'Port_MANZANILLO , MEXICO_Size_40_Type_GP_PartyID_010017866', 'Port_MANZANILLO , MEXICO_Size_40_Type_GP_PartyID_01008144', 'Port_MANZANILLO , MEXICO_Size_40_Type_HC_PartyID_010004319', 'Port_MANZANILLO , MEXICO_Size_40_Type_HC_PartyID_010006338', 'Port_MANZANILLO , MEXICO_Size_40_Type_HC_PartyID_010017866', 'Port_MANZANILLO , MEXICO_Size_40_Type_HC_PartyID_01008144', 'Port_MANZANILLO , MEXICO_Size_40_Type_HC NOR_PartyID_010004319', 'Port_MANZANILLO , MEXICO_Size_40_Type_HC NOR_PartyID_010017866', 'Port_MANZANILLO, MEXICO_Size_20_Type_GP_PartyID_010017866', 'Port_MANZANILLO, MEXICO_Size_20_Type_GP_PartyID_010017867', 'Port_MANZANILLO, MEXICO_Size_40_Type_GP_PartyID_010017866', 'Port_MANZANILLO, MEXICO_Size_40_Type_HC_PartyID_010017866', 'Port_MANZANILLO, MEXICO_Size_40_Type_HC_PartyID_010017867', 'Port_MANZANILLO, MEXICO_Size_40_Type_HC NOR_PartyID_010017866', 'Port_MANZANILLO, MEXICO_Size_40_Type_HC NOR_PartyID_010017867', 'Port_MARSAXLOKK( MALTA )_Size_20_Type_GP_PartyID_010008325', 'Port_MARSAXLOKK( MALTA )_Size_20_Type_GP_PartyID_010018998', 'Port_MARSAXLOKK( MALTA )_Size_40_Type_GP_PartyID_010008325', 'Port_MARSAXLOKK( MALTA )_Size_40_Type_GP_PartyID_010018998', 'Port_MARSAXLOKK( MALTA )_Size_40_Type_HC_PartyID_010008325', 'Port_MARSAXLOKK( MALTA )_Size_40_Type_HC_PartyID_010018998', 'Port_MARSAXLOKK( MALTA )_Size_40_Type_HC NOR_PartyID_010018998', 'Port_MARSEILLE_Size_20_Type_GP_PartyID_01001088', 'Port_MARSEILLE_Size_20_Type_GP_PartyID_010019364', 'Port_MARSEILLE_Size_40_Type_GP_PartyID_01001088', 'Port_MARSEILLE_Size_40_Type_HC_PartyID_01001088', 'Port_MARSEILLE_Size_40_Type_HC_PartyID_010019364', 'Port_MARSEILLE_Size_40_Type_HC NOR_PartyID_01001088', 'Port_MARSEILLE_Size_40_Type_HC NOR_PartyID_010019364', 'Port_MELBOURNE_Size_20_Type_GP_PartyID_01002778', 'Port_MELBOURNE_Size_20_Type_GP_PartyID_01005078', 'Port_MELBOURNE_Size_40_Type_GP_PartyID_01002778', 'Port_MELBOURNE_Size_40_Type_HC_PartyID_01002778', 'Port_MELBOURNE_Size_40_Type_HC_PartyID_01002779', 'Port_MELBOURNE_Size_40_Type_HC NOR_PartyID_01002778', 'Port_MERSIN_Size_20_Type_GP_PartyID_01008316', 'Port_MERSIN_Size_40_Type_GP_PartyID_01008316', 'Port_MERSIN_Size_40_Type_HC_PartyID_01008316', 'Port_MIAMI_Size_20_Type_GP_PartyID_010008022', 'Port_MIAMI_Size_40_Type_GP_PartyID_010008022', 'Port_MIAMI_Size_40_Type_GP_PartyID_01001993', 'Port_MIAMI_Size_40_Type_HC_PartyID_010008022', 'Port_MIAMI_Size_40_Type_HC_PartyID_01001993', 'Port_MIAMI_Size_40_Type_HC NOR_PartyID_010008022', 'Port_MIAMI_Size_40_Type_HC NOR_PartyID_01001993', 'Port_MIAMI_Size_45_Type_GP_PartyID_01001993', 'Port_MOMBASA_Size_20_Type_GP_PartyID_01001963', 'Port_MOMBASA_Size_20_Type_GP_PartyID_010020691', 'Port_MOMBASA_Size_40_Type_GP_PartyID_01001963', 'Port_MOMBASA_Size_40_Type_HC_PartyID_01001963', 'Port_MOMBASA_Size_40_Type_HC_PartyID_010020691', 'Port_MOMBASA_Size_40_Type_HC NOR_PartyID_01001963', 'Port_MONTEVIDEO_Size_20_Type_GP_PartyID_01006065', 'Port_MONTEVIDEO_Size_40_Type_HC_PartyID_010021385', 'Port_MONTEVIDEO_Size_40_Type_HC_PartyID_01006065', 'Port_MONTEVIDEO_Size_40_Type_HC NOR_PartyID_010021385', 'Port_MONTEVIDEO_Size_40_Type_HC NOR_PartyID_010021505', 'Port_MONTEVIDEO_Size_40_Type_HC NOR_PartyID_01006065', 'Port_MUMBAI_Size_20_Type_GP_PartyID_01002787', 'Port_MUMBAI_Size_40_Type_GP_PartyID_01002787', 'Port_MUMBAI_Size_40_Type_HC_PartyID_01002787', 'Port_NAGOYA_Size_20_Type_GP_PartyID_010008038', 'Port_NAGOYA_Size_20_Type_GP_PartyID_01005565', 'Port_NAGOYA_Size_20_Type_GP_PartyID_01008573', 'Port_NAGOYA_Size_40_Type_HC_PartyID_010008038', 'Port_NEW DELHI_Size_20_Type_GP_PartyID_010003632', 'Port_NEW DELHI_Size_40_Type_HC_PartyID_010003632', 'Port_NEW DELHI (VIA NHAVA SHEVA)_Size_20_Type_GP_PartyID_010003632', 'Port_NEW DELHI (VIA NHAVA SHEVA)_Size_40_Type_HC_PartyID_010003632', 'Port_NEW YORK_Size_20_Type_GP_PartyID_01005886', 'Port_NEW YORK_Size_40_Type_GP_PartyID_01005886', 'Port_NEW YORK_Size_40_Type_HC_PartyID_0100028123', 'Port_NEW YORK_Size_40_Type_HC_PartyID_01005857', 'Port_NEW YORK_Size_40_Type_HC_PartyID_01005886', 'Port_NEW YORK_Size_40_Type_HC NOR_PartyID_01005886', 'Port_NEW YORK_Size_45_Type_HC_PartyID_01005886', 'Port_NHAVA SHEVA_Size_20_Type_GP_PartyID_01002787', 'Port_NHAVA SHEVA_Size_40_Type_HC_PartyID_01002787', 'Port_NHAVA SHEVA_Size_40_Type_HC (DG)_PartyID_01002787', 'Port_NHAVA SHEVA ( JNPT )_Size_20_Type_GP_PartyID_01002787', 'Port_NHAVA SHEVA ( JNPT )_Size_40_Type_GP_PartyID_01002787', 'Port_NHAVA SHEVA ( JNPT )_Size_40_Type_HC_PartyID_01002787', 'Port_NHAVA SHEVA, INDIA_Size_40_Type_HC_PartyID_01002787', 'Port_NHAVA SHEVA/NEW DELHI_Size_20_Type_GP_PartyID_010003632', 'Port_NHAVA SHEVA/NEW DELHI_Size_40_Type_HC_PartyID_010003632', 'Port_NINGBO_Size_20_Type_GP_PartyID_01001667', 'Port_NINGBO_Size_40_Type_HC_PartyID_01001667', 'Port_ODESSA_Size_20_Type_GP_PartyID_010019008', 'Port_ODESSA_Size_20_Type_GP_PartyID_010019966', 'Port_ODESSA_Size_40_Type_GP_PartyID_010019966', 'Port_ODESSA_Size_40_Type_HC_PartyID_010019008', 'Port_ODESSA_Size_40_Type_HC_PartyID_010019966', 'Port_OSAKA_Size_20_Type_GP_PartyID_01005564', 'Port_OSAKA_Size_40_Type_HC_PartyID_01005564', 'Port_OSAKA_Size_40_Type_HC_PartyID_01008573', 'Port_OSLO_Size_20_Type_GP_PartyID_0100027829', 'Port_OSLO_Size_20_Type_GP_PartyID_0100028192', 'Port_OSLO_Size_20_Type_GP_PartyID_010006665', 'Port_OSLO_Size_40_Type_HC_PartyID_0100027829', 'Port_OSLO_Size_40_Type_HC_PartyID_0100028192', 'Port_OSLO_Size_40_Type_HC_PartyID_010006665', 'Port_OSLO_Size_40_Type_HC NOR_PartyID_0100027829', 'Port_OSLO_Size_40_Type_HC NOR_PartyID_010006665', 'Port_PASIR GUDANG_Size_20_Type_GP_PartyID_010016702', 'Port_PASIR GUDANG_Size_20_Type_GP_PartyID_01002767', 'Port_PASIR GUDANG_Size_20_Type_GP (SOC)_PartyID_010016702', 'Port_PASIR GUDANG_Size_20_Type_GP (SOC)_PartyID_01002767', 'Port_PASIR GUDANG_Size_40_Type_GP_PartyID_01002767', 'Port_PASIR GUDANG_Size_40_Type_HC_PartyID_010016702', 'Port_PASIR GUDANG_Size_40_Type_HC_PartyID_01002767', 'Port_PASIR GUDANG_Size_40_Type_HC (SOC)_PartyID_01002767', 'Port_PENANG_Size_20_Type_GP_PartyID_010007888', 'Port_PENANG_Size_20_Type_GP_PartyID_01002765', 'Port_PENANG_Size_40_Type_HC_PartyID_010007888', 'Port_PENANG_Size_40_Type_HC_PartyID_01002765', 'Port_PHNOM PENH_Size_40_Type_HC_PartyID_010021748', 'Port_PIRAEUS_Size_20_Type_GP_PartyID_010006369', 'Port_PIRAEUS_Size_40_Type_GP_PartyID_010006369', 'Port_PIRAEUS_Size_40_Type_HC_PartyID_010006369', 'Port_PIRAEUS_Size_40_Type_HC NOR_PartyID_010006369', 'Port_POINTE DES GALETS_Size_20_Type_GP_PartyID_010007778', 'Port_POINTE DES GALETS_Size_40_Type_HC_PartyID_010007778', 'Port_POINTE DES GALETS/REUNION_Size_20_Type_GP_PartyID_010007778', 'Port_POINTE DES GALETS/REUNION_Size_20_Type_GP_PartyID_010026749', 'Port_POINTE DES GALETS/REUNION_Size_40_Type_GP_PartyID_010007778', 'Port_POINTE DES GALETS/REUNION_Size_40_Type_HC_PartyID_010007778', 'Port_POINTE DES GALETS/REUNION_Size_40_Type_HC_PartyID_010026749', 'Port_PORT ELIZABETH_Size_20_Type_GP_PartyID_010007919', 'Port_PORT ELIZABETH_Size_40_Type_GP_PartyID_010007919', 'Port_PORT ELIZABETH_Size_40_Type_HC_PartyID_010007919', 'Port_PORT ELIZABETH_Size_40_Type_HC NOR_PartyID_010007919', 'Port_PORT KELANG_Size_20_Type_GP_PartyID_01002769', 'Port_PORT KELANG_Size_40_Type_HC_PartyID_01002769', 'Port_PORT KLANG_Size_20_Type_GP_PartyID_01002769', 'Port_PORT KLANG_Size_20_Type_GP (DG)_PartyID_01002769', 'Port_PORT KLANG_Size_40_Type_HC_PartyID_01002769', 'Port_PORT KLANG (NORTH PORT)_Size_20_Type_GP_PartyID_01002769', 'Port_PORT KLANG (NORTH PORT)_Size_40_Type_HC_PartyID_01002769', 'Port_PORT KLANG (WEST PORT)_Size_20_Type_GP_PartyID_01002769', 'Port_PORT LOUIS_Size_20_Type_GP_PartyID_01000083', 'Port_PORT LOUIS_Size_20_Type_GP_PartyID_010007778', 'Port_PORT LOUIS_Size_20_Type_GP_PartyID_010009137', 'Port_PORT LOUIS_Size_20_Type_GP_PartyID_010026749', 'Port_PORT LOUIS_Size_40_Type_GP_PartyID_01000083', 'Port_PORT LOUIS_Size_40_Type_GP_PartyID_010007778', 'Port_PORT LOUIS_Size_40_Type_GP_PartyID_010009137', 'Port_PORT LOUIS_Size_40_Type_GP_PartyID_010026749', 'Port_PORT LOUIS_Size_40_Type_HC_PartyID_01000083', 'Port_PORT LOUIS_Size_40_Type_HC_PartyID_010007778', 'Port_PORT LOUIS_Size_40_Type_HC_PartyID_010007877', 'Port_PORT LOUIS_Size_40_Type_HC_PartyID_010009137', 'Port_PORT LOUIS_Size_40_Type_HC_PartyID_010026749', 'Port_PORT LOUIS_Size_40_Type_HC NOR_PartyID_010026749', 'Port_PORT MORESBY_Size_40_Type_GP_PartyID_01007594', 'Port_PORT SAID_Size_20_Type_GP_PartyID_010004995', 'Port_PORT SAID_Size_40_Type_GP_PartyID_010004995', 'Port_PORT SAID_Size_40_Type_HC_PartyID_010004995', 'Port_PORT SAID (WEST)_Size_20_Type_GP_PartyID_010004995', 'Port_PORT SAID (WEST)_Size_40_Type_HC_PartyID_010004995', 'Port_PORT TANGIER MEDITERRANEE (TANGIER PORT)_Size_20_Type_GP_PartyID_010006336', 'Port_PORT TANGIER MEDITERRANEE (TANGIER PORT)_Size_40_Type_HC_PartyID_010006336', 'Port_PORTO (LEIXOES)_Size_20_Type_GP_PartyID_010008857', 'Port_PORTO (LEIXOES)_Size_20_Type_GP NOR_PartyID_010008857', 'Port_PORTO (LEIXOES)_Size_40_Type_GP_PartyID_010008857', 'Port_PORTO (LEIXOES)_Size_40_Type_HC_PartyID_010008857', 'Port_PORTO (LEIXOES)_Size_40_Type_HC NOR_PartyID_010008857', 'Port_POTI_Size_20_Type_GP_PartyID_010020790', 'Port_POTI_Size_20_Type_GP_PartyID_010021426', 'Port_POTI_Size_20_Type_GP_PartyID_010021486', 'Port_POTI_Size_40_Type_HC_PartyID_010020790', 'Port_POTI_Size_40_Type_HC_PartyID_010021426', 'Port_PRAGUE_Size_20_Type_GP_PartyID_010007758', 'Port_PRAGUE_Size_40_Type_GP_PartyID_010007758', 'Port_PRAGUE_Size_40_Type_HC_PartyID_010007758', 'Port_PRAGUE_Size_40_Type_HC (SOC)_PartyID_010007758', 'Port_PRAGUE / PRAHA_Size_20_Type_GP_PartyID_010007758', 'Port_PRAGUE / PRAHA_Size_40_Type_GP_PartyID_010007758', 'Port_PRAGUE / PRAHA_Size_40_Type_HC_PartyID_010007758', 'Port_PRAGUE / PRAHA_Size_40_Type_HC (SOC)_PartyID_010007758', 'Port_QINGDAO_Size_20_Type_GP_PartyID_010007376', 'Port_QINGDAO_Size_40_Type_HC_PartyID_010007376', 'Port_QINGDAO_Size_40_Type_HC_PartyID_01001118', 'Port_QINGDAO_Size_40_Type_HC (SOC)_PartyID_01005854', 'Port_RIJEKA_Size_20_Type_GP_PartyID_010005276', 'Port_RIJEKA_Size_20_Type_GP_PartyID_010008166', 'Port_RIJEKA_Size_40_Type_GP_PartyID_010008166', 'Port_RIJEKA_Size_40_Type_HC_PartyID_010005276', 'Port_RIJEKA_Size_40_Type_HC_PartyID_010008166', 'Port_RIO DE JANEIRO_Size_40_Type_HC NOR_PartyID_01001602', 'Port_RIO GRANDE (BRAZIL)_Size_40_Type_HC NOR_PartyID_01001602', 'Port_ROSARIO_Size_20_Type_GP_PartyID_010006613', 'Port_ROSARIO_Size_40_Type_HC_PartyID_010006613', 'Port_ROTTERDAM_Size_20_Type_GP_PartyID_01001448', 'Port_ROTTERDAM_Size_40_Type_HC_PartyID_01001448', 'Port_ROTTERDAM_Size_40_Type_HC NOR_PartyID_01001448', 'Port_ROTTERDAM_Size_40_Type_HC NOR_PartyID_01008827', 'Port_SAN JOSE_Size_20_Type_GP_PartyID_010017587', 'Port_SAN JOSE_Size_40_Type_HC_PartyID_010017587', 'Port_SAN JOSE_Size_40_Type_HC NOR_PartyID_010017587', 'Port_SEMARANG_Size_20_Type_GP_PartyID_010007418', 'Port_SEMARANG_Size_20_Type_GP_PartyID_010008923', 'Port_SEMARANG_Size_20_Type_GP_PartyID_01006256', 'Port_SEMARANG_Size_40_Type_GP_PartyID_01006256', 'Port_SEMARANG_Size_40_Type_HC_PartyID_010007418', 'Port_SEMARANG_Size_40_Type_HC_PartyID_010008923', 'Port_SEMARANG_Size_40_Type_HC_PartyID_01006256', 'Port_SHANGHAI_Size_40_Type_HC_PartyID_010007376', 'Port_SHANGHAI_Size_40_Type_HC_PartyID_01005130', 'Port_SIHANOUKVILLE_Size_20_Type_GP_PartyID_010021748', 'Port_SIHANOUKVILLE_Size_20_Type_GP_PartyID_010027696', 'Port_SIHANOUKVILLE_Size_40_Type_HC_PartyID_010021748', 'Port_SIHANOUKVILLE_Size_40_Type_HC_PartyID_010027696', 'Port_SINES_Size_20_Type_GP_PartyID_010008857', 'Port_SINES_Size_40_Type_GP_PartyID_010008857', 'Port_SINES_Size_40_Type_HC_PartyID_010008857', 'Port_SINES (PORTUGAL)_Size_40_Type_HC_PartyID_010008857', 'Port_SOUTHAMPTON_Size_20_Type_GP_PartyID_01002303', 'Port_SURABAYA_Size_20_Type_GP_PartyID_010008922', 'Port_SURABAYA_Size_20_Type_GP_PartyID_01006257', 'Port_SURABAYA_Size_20_Type_GP (DG)_PartyID_010008922', 'Port_SURABAYA_Size_40_Type_GP_PartyID_01006257', 'Port_SURABAYA_Size_40_Type_HC_PartyID_010008922', 'Port_SURABAYA_Size_40_Type_HC_PartyID_01005114', 'Port_SURABAYA_Size_40_Type_HC_PartyID_01006257', 'Port_SUVA_Size_20_Type_GP_PartyID_01008681', 'Port_SUVA_Size_40_Type_GP_PartyID_01008681', 'Port_SUVA_Size_40_Type_HC_PartyID_01008681', 'Port_SYDNEY_Size_20_Type_GP_PartyID_01002779', 'Port_SYDNEY_Size_40_Type_GP_PartyID_01002779', 'Port_SYDNEY_Size_40_Type_HC_PartyID_01002779', 'Port_SYDNEY_Size_40_Type_HC_PartyID_01005078', 'Port_SYDNEY_Size_40_Type_HC NOR_PartyID_01002779', 'Port_SYDNEY(AU)_Size_20_Type_GP_PartyID_01002779', 'Port_SYDNEY(AU)_Size_40_Type_HC_PartyID_01002779', 'Port_SYDNEY(AU)_Size_40_Type_HC NOR_PartyID_01002779', 'Port_TALLINN_Size_20_Type_GP_PartyID_010018747', 'Port_TALLINN_Size_40_Type_GP_PartyID_010018747', 'Port_TALLINN_Size_40_Type_HC_PartyID_010018747', 'Port_TAMATAVE (TOAMASINA)_Size_20_Type_GP_PartyID_010007778', 'Port_TAMATAVE (TOAMASINA)_Size_20_Type_GP_PartyID_010026749', 'Port_TAMATAVE (TOAMASINA)_Size_40_Type_HC_PartyID_010007778', 'Port_TAMATAVE (TOAMASINA)_Size_40_Type_HC_PartyID_010026749', 'Port_TAMATAVE (TOMASINA)_Size_20_Type_GP_PartyID_010007778', 'Port_TAMATAVE (TOMASINA)_Size_20_Type_GP_PartyID_010008880', 'Port_TAMATAVE (TOMASINA)_Size_40_Type_GP_PartyID_010008880', 'Port_TAMATAVE (TOMASINA)_Size_40_Type_HC_PartyID_010007778', 'Port_TAMATAVE (TOMASINA)_Size_40_Type_HC_PartyID_010008880', 'Port_TAN CANG (NEW PORT)_Size_20_Type_GP_PartyID_010005256', 'Port_TAN CANG (NEW PORT)_Size_40_Type_HC_PartyID_010005256', 'Port_TANGIER PORT_Size_40_Type_HC_PartyID_010006336', 'Port_TEMA_Size_40_Type_HC_PartyID_010008832', 'Port_THESSALONIKI_Size_20_Type_GP_PartyID_010006487', 'Port_THESSALONIKI_Size_40_Type_GP_PartyID_010006487', 'Port_THESSALONIKI_Size_40_Type_HC_PartyID_010006487', 'Port_TOKYO_Size_20_Type_GP_PartyID_01005565', 'Port_TOKYO_Size_40_Type_HC_PartyID_01005552', 'Port_TOKYO_Size_40_Type_HC_PartyID_01005565', 'Port_TORONTO_Size_40_Type_HC NOR_PartyID_01002807', 'Port_TRIPOLI_Size_20_Type_GP_PartyID_010003651', 'Port_TRIPOLI_Size_40_Type_HC_PartyID_010003651', 'Port_TRIPOLI (LEBANON)_Size_20_Type_GP_PartyID_010003651', 'Port_VALENCIA_Size_20_Type_GP_PartyID_01008306', 'Port_VALENCIA_Size_40_Type_GP_PartyID_01008306', 'Port_VALENCIA_Size_40_Type_HC_PartyID_01008306', 'Port_VALENCIA_Size_40_Type_HC NOR_PartyID_01008306', 'Port_VALPARAISO_Size_20_Type_GP_PartyID_010006350', 'Port_VALPARAISO_Size_20_Type_GP_PartyID_01008304', 'Port_VALPARAISO_Size_40_Type_GP_PartyID_010006350', 'Port_VALPARAISO_Size_40_Type_GP_PartyID_01008304', 'Port_VALPARAISO_Size_40_Type_HC_PartyID_010006350', 'Port_VALPARAISO_Size_40_Type_HC_PartyID_01008304', 'Port_VALPARAISO_Size_40_Type_HC NOR_PartyID_010006350', 'Port_VALPARAISO_Size_40_Type_HC NOR_PartyID_01008304', 'Port_VANCOUVER_Size_40_Type_GP_PartyID_01002807', 'Port_VANCOUVER_Size_40_Type_HC_PartyID_010007790', 'Port_VANCOUVER_Size_40_Type_HC_PartyID_01002807', 'Port_VANCOUVER_Size_40_Type_HC NOR_PartyID_010007790', 'Port_VANCOUVER_Size_40_Type_HC NOR_PartyID_01002807', 'Port_VANCOUVER_Size_45_Type_GP_PartyID_01002807', 'Port_VANCOUVER_Size_45_Type_HC_PartyID_010007790', 'Port_VANCOUVER_Size_45_Type_HC_PartyID_01002807', 'Port_VARNA ( BULGARIA )_Size_20_Type_GP_PartyID_010007870', 'Port_VARNA ( BULGARIA )_Size_20_Type_GP_PartyID_010019070', 'Port_VARNA ( BULGARIA )_Size_40_Type_GP_PartyID_010007870', 'Port_VARNA ( BULGARIA )_Size_40_Type_HC_PartyID_010007870', 'Port_VARNA ( BULGARIA )_Size_40_Type_HC_PartyID_010019070', 'Port_VIENNA_Size_20_Type_GP_PartyID_010005265', 'Port_XIAMEN_Size_20_Type_GP_PartyID_01001667', 'Port_XIAMEN_Size_40_Type_HC_PartyID_01000498', 'Port_XIAMEN_Size_40_Type_HC_PartyID_01001667', 'Port_XINGANG_Size_20_Type_GP_PartyID_010007376', 'Port_XINGANG_Size_20_Type_GP (SOC)_PartyID_010007376', 'Port_XINGANG_Size_40_Type_GP_PartyID_01001118', 'Port_XINGANG_Size_40_Type_HC (SOC)_PartyID_010007376', 'Port_YANGON_Size_40_Type_HC_PartyID_010003639', 'Port_YANGON (AWPT)_Size_20_Type_GP_PartyID_010003639', 'Port_YANGON (AWPT)_Size_40_Type_GP_PartyID_010003639', 'Port_YANGON (AWPT)_Size_40_Type_HC_PartyID_010003639', 'Port_YANGON (AWT)_Size_20_Type_GP_PartyID_010003639', 'Port_YANGON (AWT)_Size_20_Type_GP NOR_PartyID_010003639', 'Port_YANGON (AWT)_Size_40_Type_HC_PartyID_010003639', 'Port_YANGON (AWT)_Size_40_Type_HC NOR_PartyID_010003639', 'Port_YANGON (BSW)_Size_40_Type_HC NOR_PartyID_010003639', 'Port_YANGON (MIP)_Size_20_Type_GP_PartyID_010003639', 'Port_YANGON (MIP)_Size_40_Type_HC_PartyID_010003639', 'Port_YOKOHAMA_Size_20_Type_GP_PartyID_01005565', 'Port_YOKOHAMA_Size_40_Type_HC_PartyID_01005565']\n",
      "799\n"
     ]
    }
   ],
   "source": [
    "# Creating keys from data\n",
    "print(\"Old Data keys:\")\n",
    "filtered_dataframe1 = filter_dataframe(df1)\n",
    "df_ids1 = list(filtered_dataframe1.keys())\n",
    "print(list(df_ids1))\n",
    "print(len(list(df_ids1)))\n",
    "\n",
    "print(\"\\nNew Data keys:\")\n",
    "filtered_dataframe2 = filter_dataframe(df2)\n",
    "df_ids2 = list(filtered_dataframe2.keys())\n",
    "print(list(df_ids2))\n",
    "print(len(list(df_ids2)))"
   ]
  },
  {
   "attachments": {},
   "cell_type": "markdown",
   "metadata": {},
   "source": [
    "<h4>Getting Top 5 ports keys</h4>"
   ]
  },
  {
   "attachments": {},
   "cell_type": "markdown",
   "metadata": {},
   "source": [
    "Getting only the top 5 ports as there are substantial data for training, testing and forecasting. I named it as keybunch as there are many keys for one dataset."
   ]
  },
  {
   "cell_type": "code",
   "execution_count": 30,
   "metadata": {},
   "outputs": [],
   "source": [
    "def getTop5Ports(keybunch):\n",
    "    keybunch_pouch = []\n",
    "    \n",
    "    # Get a dictionary with key and number of rows for each dataframe in filtered_dataframes\n",
    "    key_row_counts = {key: len(keybunch[key]) for key in keybunch}\n",
    "\n",
    "    # Sort the key_row_counts dictionary by value (number of rows) in descending order\n",
    "    sorted_key_row_counts = sorted(key_row_counts.items(), key=lambda item: item[1], reverse=True)\n",
    "\n",
    "    # Get the top 5 keys with the most rows\n",
    "    top_5_keys_tuple = sorted_key_row_counts[:5]\n",
    "\n",
    "    # Create a dictionary with the top 5 keys and their corresponding dataframes (with up to 5 rows per dataframe)\n",
    "    keybunch_subset = {}\n",
    "\n",
    "    for key, row_count in top_5_keys_tuple:\n",
    "        keybunch_subset[key] = keybunch[key][:5]\n",
    "        print(f\"Number of rows in {key}: {row_count}\")\n",
    "        keybunch_pouch.append(key)\n",
    "    \n",
    "    # Return array of keys\n",
    "    return keybunch_pouch\n"
   ]
  },
  {
   "cell_type": "code",
   "execution_count": 31,
   "metadata": {},
   "outputs": [
    {
     "name": "stdout",
     "output_type": "stream",
     "text": [
      "Old Dataset Keybunch:\n",
      "Number of rows in Port_BUSAN_Size_40_Type_HC_PartyID_010004286: 1689\n",
      "Number of rows in Port_AUCKLAND_Size_40_Type_HC_PartyID_01005136: 1688\n",
      "Number of rows in Port_MELBOURNE_Size_40_Type_HC_PartyID_01002778: 1325\n",
      "Number of rows in Port_SYDNEY_Size_40_Type_HC_PartyID_01002779: 1300\n",
      "Number of rows in Port_DUBAI (JEBEL ALI)_Size_40_Type_HC_PartyID_01002788: 1052\n",
      "\n",
      "\n",
      "New Dataset Keybunch:\n",
      "Number of rows in Port_BUSAN_Size_40_Type_HC_PartyID_010004286: 1712\n",
      "Number of rows in Port_AUCKLAND_Size_40_Type_HC_PartyID_01005136: 1704\n",
      "Number of rows in Port_MELBOURNE_Size_40_Type_HC_PartyID_01002778: 1341\n",
      "Number of rows in Port_SYDNEY_Size_40_Type_HC_PartyID_01002779: 1308\n",
      "Number of rows in Port_DUBAI (JEBEL ALI)_Size_40_Type_HC_PartyID_01002788: 1070\n"
     ]
    }
   ],
   "source": [
    "print('Old Dataset Keybunch:')\n",
    "old_df = getTop5Ports(filtered_dataframe1)\n",
    "print('\\n')\n",
    "\n",
    "print('New Dataset Keybunch:')\n",
    "new_df = getTop5Ports(filtered_dataframe2)"
   ]
  },
  {
   "cell_type": "code",
   "execution_count": 32,
   "metadata": {},
   "outputs": [
    {
     "name": "stdout",
     "output_type": "stream",
     "text": [
      "<class 'pandas.core.frame.DataFrame'>\n",
      "Int64Index: 1689 entries, 0 to 1688\n",
      "Data columns (total 10 columns):\n",
      " #   Column      Non-Null Count  Dtype         \n",
      "---  ------      --------------  -----         \n",
      " 0   CSL_ID      1689 non-null   object        \n",
      " 1   CNTR_ID     1689 non-null   object        \n",
      " 2   POD_ID      1689 non-null   object        \n",
      " 3   ETD_POL_D   1689 non-null   object        \n",
      " 4   PARTY_ID    1689 non-null   object        \n",
      " 5   PARTY_NAME  1689 non-null   object        \n",
      " 6   POD         1689 non-null   datetime64[ns]\n",
      " 7   CNTR_SIZE   1689 non-null   object        \n",
      " 8   CNTR_TYPE   1689 non-null   object        \n",
      " 9   RATE        1689 non-null   float64       \n",
      "dtypes: datetime64[ns](1), float64(1), object(8)\n",
      "memory usage: 145.1+ KB\n",
      "\n",
      "\n",
      "<class 'pandas.core.frame.DataFrame'>\n",
      "Int64Index: 1712 entries, 0 to 1711\n",
      "Data columns (total 10 columns):\n",
      " #   Column      Non-Null Count  Dtype         \n",
      "---  ------      --------------  -----         \n",
      " 0   CSL_ID      1712 non-null   object        \n",
      " 1   CNTR_ID     1712 non-null   object        \n",
      " 2   POD_ID      1712 non-null   object        \n",
      " 3   ETD_POL_D   1712 non-null   object        \n",
      " 4   PARTY_ID    1712 non-null   object        \n",
      " 5   PARTY_NAME  1712 non-null   object        \n",
      " 6   POD         1712 non-null   datetime64[ns]\n",
      " 7   CNTR_SIZE   1712 non-null   object        \n",
      " 8   CNTR_TYPE   1712 non-null   object        \n",
      " 9   RATE        1712 non-null   float64       \n",
      "dtypes: datetime64[ns](1), float64(1), object(8)\n",
      "memory usage: 147.1+ KB\n"
     ]
    }
   ],
   "source": [
    "# Accessing the highest count in the each keypouch, new and old.\n",
    "sel_df = filtered_dataframe1[old_df[0]]\n",
    "sel_df.info()\n",
    "print(\"\\n\")\n",
    "\n",
    "latest_sel_df = filtered_dataframe2[new_df[0]]\n",
    "latest_sel_df.info()"
   ]
  },
  {
   "attachments": {},
   "cell_type": "markdown",
   "metadata": {},
   "source": [
    "<h4>Latest datapoints from Latest dataframe for comparing after forecasting (Measure accuracy)</h4>"
   ]
  },
  {
   "cell_type": "code",
   "execution_count": 12,
   "metadata": {},
   "outputs": [
    {
     "data": {
      "text/html": [
       "<div>\n",
       "<style scoped>\n",
       "    .dataframe tbody tr th:only-of-type {\n",
       "        vertical-align: middle;\n",
       "    }\n",
       "\n",
       "    .dataframe tbody tr th {\n",
       "        vertical-align: top;\n",
       "    }\n",
       "\n",
       "    .dataframe thead th {\n",
       "        text-align: right;\n",
       "    }\n",
       "</style>\n",
       "<table border=\"1\" class=\"dataframe\">\n",
       "  <thead>\n",
       "    <tr style=\"text-align: right;\">\n",
       "      <th></th>\n",
       "      <th>CSL_ID</th>\n",
       "      <th>CNTR_ID</th>\n",
       "      <th>POD_ID</th>\n",
       "      <th>ETD_POL_D</th>\n",
       "      <th>PARTY_ID</th>\n",
       "      <th>PARTY_NAME</th>\n",
       "      <th>POD</th>\n",
       "      <th>CNTR_SIZE</th>\n",
       "      <th>CNTR_TYPE</th>\n",
       "      <th>RATE</th>\n",
       "    </tr>\n",
       "  </thead>\n",
       "  <tbody>\n",
       "    <tr>\n",
       "      <th>0</th>\n",
       "      <td>ECS010230200077</td>\n",
       "      <td>010000419950</td>\n",
       "      <td>BUSAN</td>\n",
       "      <td>KRPUS</td>\n",
       "      <td>010004286</td>\n",
       "      <td>GLOBELINK KOREA CO., LTD</td>\n",
       "      <td>2023-03-08</td>\n",
       "      <td>40</td>\n",
       "      <td>HC</td>\n",
       "      <td>260.0</td>\n",
       "    </tr>\n",
       "    <tr>\n",
       "      <th>1</th>\n",
       "      <td>ECS010230200077</td>\n",
       "      <td>010000406570</td>\n",
       "      <td>BUSAN</td>\n",
       "      <td>KRPUS</td>\n",
       "      <td>010004286</td>\n",
       "      <td>GLOBELINK KOREA CO., LTD</td>\n",
       "      <td>2023-03-08</td>\n",
       "      <td>40</td>\n",
       "      <td>HC</td>\n",
       "      <td>260.0</td>\n",
       "    </tr>\n",
       "    <tr>\n",
       "      <th>2</th>\n",
       "      <td>ECS010230200078</td>\n",
       "      <td>010000432251</td>\n",
       "      <td>BUSAN</td>\n",
       "      <td>KRPUS</td>\n",
       "      <td>010004286</td>\n",
       "      <td>GLOBELINK KOREA CO., LTD</td>\n",
       "      <td>2023-03-15</td>\n",
       "      <td>40</td>\n",
       "      <td>HC</td>\n",
       "      <td>260.0</td>\n",
       "    </tr>\n",
       "    <tr>\n",
       "      <th>3</th>\n",
       "      <td>ECS010230200078</td>\n",
       "      <td>010000425766</td>\n",
       "      <td>BUSAN</td>\n",
       "      <td>KRPUS</td>\n",
       "      <td>010004286</td>\n",
       "      <td>GLOBELINK KOREA CO., LTD</td>\n",
       "      <td>2023-03-15</td>\n",
       "      <td>40</td>\n",
       "      <td>HC</td>\n",
       "      <td>260.0</td>\n",
       "    </tr>\n",
       "    <tr>\n",
       "      <th>4</th>\n",
       "      <td>ECS010230200248</td>\n",
       "      <td>010000444765</td>\n",
       "      <td>BUSAN</td>\n",
       "      <td>KRPUS</td>\n",
       "      <td>010004286</td>\n",
       "      <td>GLOBELINK KOREA CO., LTD</td>\n",
       "      <td>2023-03-19</td>\n",
       "      <td>40</td>\n",
       "      <td>HC</td>\n",
       "      <td>300.0</td>\n",
       "    </tr>\n",
       "  </tbody>\n",
       "</table>\n",
       "</div>"
      ],
      "text/plain": [
       "            CSL_ID       CNTR_ID POD_ID ETD_POL_D   PARTY_ID  \\\n",
       "0  ECS010230200077  010000419950  BUSAN     KRPUS  010004286   \n",
       "1  ECS010230200077  010000406570  BUSAN     KRPUS  010004286   \n",
       "2  ECS010230200078  010000432251  BUSAN     KRPUS  010004286   \n",
       "3  ECS010230200078  010000425766  BUSAN     KRPUS  010004286   \n",
       "4  ECS010230200248  010000444765  BUSAN     KRPUS  010004286   \n",
       "\n",
       "                 PARTY_NAME        POD CNTR_SIZE CNTR_TYPE   RATE  \n",
       "0  GLOBELINK KOREA CO., LTD 2023-03-08        40        HC  260.0  \n",
       "1  GLOBELINK KOREA CO., LTD 2023-03-08        40        HC  260.0  \n",
       "2  GLOBELINK KOREA CO., LTD 2023-03-15        40        HC  260.0  \n",
       "3  GLOBELINK KOREA CO., LTD 2023-03-15        40        HC  260.0  \n",
       "4  GLOBELINK KOREA CO., LTD 2023-03-19        40        HC  300.0  "
      ]
     },
     "execution_count": 12,
     "metadata": {},
     "output_type": "execute_result"
    },
    {
     "name": "stdout",
     "output_type": "stream",
     "text": [
      "<class 'pandas.core.frame.DataFrame'>\n",
      "RangeIndex: 23 entries, 0 to 22\n",
      "Data columns (total 10 columns):\n",
      " #   Column      Non-Null Count  Dtype         \n",
      "---  ------      --------------  -----         \n",
      " 0   CSL_ID      23 non-null     object        \n",
      " 1   CNTR_ID     23 non-null     object        \n",
      " 2   POD_ID      23 non-null     object        \n",
      " 3   ETD_POL_D   23 non-null     object        \n",
      " 4   PARTY_ID    23 non-null     object        \n",
      " 5   PARTY_NAME  23 non-null     object        \n",
      " 6   POD         23 non-null     datetime64[ns]\n",
      " 7   CNTR_SIZE   23 non-null     object        \n",
      " 8   CNTR_TYPE   23 non-null     object        \n",
      " 9   RATE        23 non-null     float64       \n",
      "dtypes: datetime64[ns](1), float64(1), object(8)\n",
      "memory usage: 1.9+ KB\n"
     ]
    }
   ],
   "source": [
    "max_date_in_old = sel_df['POD'].max()\n",
    "\n",
    "# Create a new dataframe that only includes rows from the latest dataframe where the date is greater than the maximum date in the old dataframe\n",
    "new_dates_df = latest_sel_df[latest_sel_df['POD'] > max_date_in_old].reset_index(drop=True)\n",
    "\n",
    "# Print the new dataframe\n",
    "new_dates_df.head()\n",
    "new_dates_df.info()"
   ]
  },
  {
   "cell_type": "code",
   "execution_count": 15,
   "metadata": {},
   "outputs": [
    {
     "data": {
      "text/html": [
       "<div>\n",
       "<style scoped>\n",
       "    .dataframe tbody tr th:only-of-type {\n",
       "        vertical-align: middle;\n",
       "    }\n",
       "\n",
       "    .dataframe tbody tr th {\n",
       "        vertical-align: top;\n",
       "    }\n",
       "\n",
       "    .dataframe thead th {\n",
       "        text-align: right;\n",
       "    }\n",
       "</style>\n",
       "<table border=\"1\" class=\"dataframe\">\n",
       "  <thead>\n",
       "    <tr style=\"text-align: right;\">\n",
       "      <th></th>\n",
       "      <th>POD</th>\n",
       "      <th>RATE</th>\n",
       "    </tr>\n",
       "  </thead>\n",
       "  <tbody>\n",
       "    <tr>\n",
       "      <th>0</th>\n",
       "      <td>2005-10-03</td>\n",
       "      <td>390.0</td>\n",
       "    </tr>\n",
       "    <tr>\n",
       "      <th>1</th>\n",
       "      <td>2005-10-04</td>\n",
       "      <td>390.0</td>\n",
       "    </tr>\n",
       "    <tr>\n",
       "      <th>2</th>\n",
       "      <td>2005-10-05</td>\n",
       "      <td>390.0</td>\n",
       "    </tr>\n",
       "    <tr>\n",
       "      <th>3</th>\n",
       "      <td>2005-10-06</td>\n",
       "      <td>390.0</td>\n",
       "    </tr>\n",
       "    <tr>\n",
       "      <th>4</th>\n",
       "      <td>2005-10-07</td>\n",
       "      <td>390.0</td>\n",
       "    </tr>\n",
       "    <tr>\n",
       "      <th>5</th>\n",
       "      <td>2005-10-08</td>\n",
       "      <td>390.0</td>\n",
       "    </tr>\n",
       "    <tr>\n",
       "      <th>6</th>\n",
       "      <td>2005-10-09</td>\n",
       "      <td>390.0</td>\n",
       "    </tr>\n",
       "    <tr>\n",
       "      <th>7</th>\n",
       "      <td>2005-10-10</td>\n",
       "      <td>390.0</td>\n",
       "    </tr>\n",
       "    <tr>\n",
       "      <th>8</th>\n",
       "      <td>2005-10-11</td>\n",
       "      <td>390.0</td>\n",
       "    </tr>\n",
       "    <tr>\n",
       "      <th>9</th>\n",
       "      <td>2005-10-12</td>\n",
       "      <td>390.0</td>\n",
       "    </tr>\n",
       "  </tbody>\n",
       "</table>\n",
       "</div>"
      ],
      "text/plain": [
       "         POD   RATE\n",
       "0 2005-10-03  390.0\n",
       "1 2005-10-04  390.0\n",
       "2 2005-10-05  390.0\n",
       "3 2005-10-06  390.0\n",
       "4 2005-10-07  390.0\n",
       "5 2005-10-08  390.0\n",
       "6 2005-10-09  390.0\n",
       "7 2005-10-10  390.0\n",
       "8 2005-10-11  390.0\n",
       "9 2005-10-12  390.0"
      ]
     },
     "execution_count": 15,
     "metadata": {},
     "output_type": "execute_result"
    },
    {
     "name": "stdout",
     "output_type": "stream",
     "text": [
      "<class 'pandas.core.frame.DataFrame'>\n",
      "Int64Index: 6376 entries, 0 to 6375\n",
      "Data columns (total 2 columns):\n",
      " #   Column  Non-Null Count  Dtype         \n",
      "---  ------  --------------  -----         \n",
      " 0   POD     6376 non-null   datetime64[ns]\n",
      " 1   RATE    6376 non-null   float64       \n",
      "dtypes: datetime64[ns](1), float64(1)\n",
      "memory usage: 149.4 KB\n"
     ]
    }
   ],
   "source": [
    "# Interpolate using spline interpolation\n",
    "\n",
    "# Remove duplicated dates and cost rows\n",
    "sel_df = sel_df.drop_duplicates(subset=['POD', 'RATE']).reset_index(drop=True)\n",
    "\n",
    "# Remove features that are not important\n",
    "sel_feat = ['POD','RATE']\n",
    "sel_df = sel_df[sel_feat]\n",
    "\n",
    "# Create a new dataframe with a date range from min to max date in your dataframe\n",
    "new_df = pd.DataFrame()\n",
    "new_df['POD'] = pd.date_range(start=sel_df['POD'].min(), end=sel_df['POD'].max())\n",
    "\n",
    "# Merge the original dataframe with the new one. Missing dates in the original dataframe will be filled with NaN\n",
    "df_interpolated = pd.merge(new_df, sel_df, on='POD', how='left')\n",
    "\n",
    "# Perform spline interpolation\n",
    "df_interpolated['RATE'] = df_interpolated['RATE'].interpolate(method='spline', order=2)\n",
    "\n",
    "df_interpolated.head(10)\n",
    "df_interpolated.info()"
   ]
  },
  {
   "attachments": {},
   "cell_type": "markdown",
   "metadata": {},
   "source": [
    "<h4>Mean Square Error Evaluation Function</h4>"
   ]
  },
  {
   "cell_type": "code",
   "execution_count": 33,
   "metadata": {},
   "outputs": [],
   "source": [
    "# Mean Square Error Function:\n",
    "def calculate_RMSE(y_true, y_pred):\n",
    "    return np.sqrt(mean_squared_error(y_true, y_pred))"
   ]
  },
  {
   "cell_type": "code",
   "execution_count": 50,
   "metadata": {},
   "outputs": [],
   "source": [
    "# Restructure time series data for LSTM model\n",
    "def create_dataset(dataset, look_back=1):\n",
    "    dataX, dataY = [], []\n",
    "    for i in range(len(dataset) - look_back - 1):\n",
    "        a = dataset[i:(i+look_back), 0]\n",
    "        dataX.append(a)\n",
    "        dataY.append(dataset[i + look_back, 0])\n",
    "    return np.array(dataX), np.array(dataY)\n",
    "\n",
    "def create_LSTM_model(trainX, trainY, testX, testY, epochs):\n",
    "    # LSTM model\n",
    "    model = Sequential()\n",
    "    model.add(LSTM(2, activation='tanh', return_sequences=True, input_shape=(trainX.shape[1], trainX.shape[2])))\n",
    "    model.add(LSTM(2, activation='tanh'))\n",
    "    model.add(Dense(1))\n",
    "    model.compile(loss='mean_squared_error', optimizer='adam')\n",
    "\n",
    "    # Fit the model and store the history\n",
    "    history = model.fit(trainX, trainY, epochs=epochs, batch_size=1, verbose=2, validation_data=(testX, testY))\n",
    "    return model, history\n",
    "\n",
    "# To see if overfitting, underfitting or good fit\n",
    "def plot_train_val_loss(history):\n",
    "    plt.figure(figsize=(10,6))\n",
    "    plt.plot(history.history['loss'], label='Train Loss')\n",
    "    plt.plot(history.history['val_loss'], label='Validation Loss')\n",
    "    plt.title('Model loss progress during training and validation')\n",
    "    plt.xlabel('Epoch')\n",
    "    plt.ylabel('Training and Validation Loss')\n",
    "    plt.legend()\n",
    "    plt.show()"
   ]
  },
  {
   "cell_type": "code",
   "execution_count": 51,
   "metadata": {},
   "outputs": [
    {
     "name": "stdout",
     "output_type": "stream",
     "text": [
      "Training for 30 epochs...\n",
      "Epoch 1/30\n",
      "3823/3823 - 13s - loss: 0.0052 - val_loss: 0.0050 - 13s/epoch - 3ms/step\n",
      "Epoch 2/30\n",
      "3823/3823 - 10s - loss: 3.6352e-04 - val_loss: 9.4637e-04 - 10s/epoch - 3ms/step\n",
      "Epoch 3/30\n",
      "3823/3823 - 10s - loss: 5.3656e-05 - val_loss: 8.8667e-04 - 10s/epoch - 3ms/step\n",
      "Epoch 4/30\n",
      "3823/3823 - 10s - loss: 5.4635e-05 - val_loss: 9.0990e-04 - 10s/epoch - 3ms/step\n",
      "Epoch 5/30\n",
      "3823/3823 - 10s - loss: 5.4316e-05 - val_loss: 8.8857e-04 - 10s/epoch - 3ms/step\n",
      "Epoch 6/30\n",
      "3823/3823 - 10s - loss: 5.2505e-05 - val_loss: 8.9505e-04 - 10s/epoch - 3ms/step\n",
      "Epoch 7/30\n",
      "3823/3823 - 9s - loss: 5.3534e-05 - val_loss: 9.1510e-04 - 9s/epoch - 2ms/step\n",
      "Epoch 8/30\n",
      "3823/3823 - 10s - loss: 5.4865e-05 - val_loss: 9.1612e-04 - 10s/epoch - 3ms/step\n",
      "Epoch 9/30\n",
      "3823/3823 - 9s - loss: 5.3883e-05 - val_loss: 8.7441e-04 - 9s/epoch - 2ms/step\n",
      "Epoch 10/30\n",
      "3823/3823 - 10s - loss: 5.2518e-05 - val_loss: 8.8460e-04 - 10s/epoch - 3ms/step\n",
      "Epoch 11/30\n",
      "3823/3823 - 10s - loss: 5.2324e-05 - val_loss: 8.7837e-04 - 10s/epoch - 3ms/step\n",
      "Epoch 12/30\n",
      "3823/3823 - 10s - loss: 5.3420e-05 - val_loss: 8.7900e-04 - 10s/epoch - 3ms/step\n",
      "Epoch 13/30\n",
      "3823/3823 - 10s - loss: 5.2854e-05 - val_loss: 8.6882e-04 - 10s/epoch - 3ms/step\n",
      "Epoch 14/30\n",
      "3823/3823 - 9s - loss: 5.4741e-05 - val_loss: 8.8821e-04 - 9s/epoch - 2ms/step\n",
      "Epoch 15/30\n",
      "3823/3823 - 10s - loss: 5.2465e-05 - val_loss: 8.8091e-04 - 10s/epoch - 3ms/step\n",
      "Epoch 16/30\n",
      "3823/3823 - 10s - loss: 5.3249e-05 - val_loss: 9.2154e-04 - 10s/epoch - 3ms/step\n",
      "Epoch 17/30\n",
      "3823/3823 - 10s - loss: 5.4060e-05 - val_loss: 8.6988e-04 - 10s/epoch - 3ms/step\n",
      "Epoch 18/30\n",
      "3823/3823 - 10s - loss: 5.3590e-05 - val_loss: 8.9170e-04 - 10s/epoch - 3ms/step\n",
      "Epoch 19/30\n",
      "3823/3823 - 10s - loss: 5.2565e-05 - val_loss: 8.8985e-04 - 10s/epoch - 3ms/step\n",
      "Epoch 20/30\n",
      "3823/3823 - 9s - loss: 5.3506e-05 - val_loss: 8.8679e-04 - 9s/epoch - 2ms/step\n",
      "Epoch 21/30\n",
      "3823/3823 - 9s - loss: 5.2943e-05 - val_loss: 9.0334e-04 - 9s/epoch - 2ms/step\n",
      "Epoch 22/30\n",
      "3823/3823 - 9s - loss: 5.2099e-05 - val_loss: 9.1094e-04 - 9s/epoch - 2ms/step\n",
      "Epoch 23/30\n",
      "3823/3823 - 9s - loss: 5.3051e-05 - val_loss: 9.1140e-04 - 9s/epoch - 2ms/step\n",
      "Epoch 24/30\n",
      "3823/3823 - 9s - loss: 5.3228e-05 - val_loss: 8.9265e-04 - 9s/epoch - 2ms/step\n",
      "Epoch 25/30\n",
      "3823/3823 - 10s - loss: 5.2382e-05 - val_loss: 8.9875e-04 - 10s/epoch - 3ms/step\n",
      "Epoch 26/30\n",
      "3823/3823 - 11s - loss: 5.2405e-05 - val_loss: 9.0649e-04 - 11s/epoch - 3ms/step\n",
      "Epoch 27/30\n",
      "3823/3823 - 10s - loss: 5.2516e-05 - val_loss: 8.8933e-04 - 10s/epoch - 3ms/step\n",
      "Epoch 28/30\n",
      "3823/3823 - 10s - loss: 5.3004e-05 - val_loss: 8.8398e-04 - 10s/epoch - 3ms/step\n",
      "Epoch 29/30\n",
      "3823/3823 - 11s - loss: 5.2974e-05 - val_loss: 8.9685e-04 - 11s/epoch - 3ms/step\n",
      "Epoch 30/30\n",
      "3823/3823 - 9s - loss: 5.4378e-05 - val_loss: 9.0398e-04 - 9s/epoch - 2ms/step\n"
     ]
    },
    {
     "data": {
      "text/plain": [
       "[<matplotlib.lines.Line2D at 0x2171a4d8970>]"
      ]
     },
     "execution_count": 51,
     "metadata": {},
     "output_type": "execute_result"
    },
    {
     "data": {
      "text/plain": [
       "[<matplotlib.lines.Line2D at 0x2171a4d8d30>]"
      ]
     },
     "execution_count": 51,
     "metadata": {},
     "output_type": "execute_result"
    },
    {
     "data": {
      "text/plain": [
       "Text(0.5, 1.0, 'Model loss progress during training and validation')"
      ]
     },
     "execution_count": 51,
     "metadata": {},
     "output_type": "execute_result"
    },
    {
     "data": {
      "text/plain": [
       "Text(0.5, 0, 'Epoch')"
      ]
     },
     "execution_count": 51,
     "metadata": {},
     "output_type": "execute_result"
    },
    {
     "data": {
      "text/plain": [
       "Text(0, 0.5, 'Training and Validation Loss')"
      ]
     },
     "execution_count": 51,
     "metadata": {},
     "output_type": "execute_result"
    },
    {
     "data": {
      "text/plain": [
       "<matplotlib.legend.Legend at 0x2171a4d89d0>"
      ]
     },
     "execution_count": 51,
     "metadata": {},
     "output_type": "execute_result"
    },
    {
     "data": {
      "image/png": "[encoded data removed]",
      "text/plain": [
       "<Figure size 640x480 with 1 Axes>"
      ]
     },
     "metadata": {},
     "output_type": "display_data"
    },
    {
     "name": "stdout",
     "output_type": "stream",
     "text": [
      "120/120 [==============================] - 1s 1ms/step\n",
      "80/80 [==============================] - 0s 1ms/step\n",
      "Train Score: 15.55 RMSE for 30 epochs\n",
      "Test Score: 69.19 RMSE for 30 epochs\n",
      "    Test RMSE  Train RMSE\n",
      "30  69.194359   15.550155\n"
     ]
    }
   ],
   "source": [
    "# Normalize dataset for LSTM\n",
    "from sklearn.preprocessing import MinMaxScaler\n",
    "scaler = MinMaxScaler(feature_range=(0, 1))\n",
    "dataset = scaler.fit_transform(df_interpolated['RATE'].values.reshape(-1,1))\n",
    "\n",
    "# Split into train and test sets\n",
    "train_size = int(len(dataset) * 0.6)\n",
    "test_size = len(dataset) - train_size\n",
    "train, test = dataset[0:train_size,:], dataset[train_size:len(dataset),:]\n",
    "\n",
    "# Reshape into X=t and Y=t+1, timestep  look_back\n",
    "look_back = 1\n",
    "trainX, trainY = create_dataset(train, look_back)\n",
    "testX, testY = create_dataset(test, look_back)\n",
    "\n",
    "# Reshape input to be [samples, time steps, features]\n",
    "trainX = np.reshape(trainX, (trainX.shape[0], 1, trainX.shape[1]))\n",
    "testX = np.reshape(testX, (testX.shape[0], 1, testX.shape[1]))\n",
    "\n",
    "# Number of epochs for training\n",
    "epochs_list = [30]\n",
    "\n",
    "rmse_results = {}\n",
    "\n",
    "for epochs in epochs_list:\n",
    "    print(f'Training for {epochs} epochs...')\n",
    "    model, history = create_LSTM_model(trainX, trainY, testX, testY, epochs)\n",
    "    \n",
    "    # Add the loss for this model to the plot\n",
    "    plt.plot(history.history['loss'], label=f'Train Loss - {epochs} epochs')\n",
    "    plt.plot(history.history['val_loss'], label=f'Validation Loss - {epochs} epochs')\n",
    "\n",
    "    # Configure and show the plot\n",
    "    plt.title('Model loss progress during training and validation')\n",
    "    plt.xlabel('Epoch')\n",
    "    plt.ylabel('Training and Validation Loss')\n",
    "    plt.legend()\n",
    "    plt.show();\n",
    "\n",
    "    # Evalute LSTM Model\n",
    "    trainPredict = model.predict(trainX)\n",
    "    testPredict = model.predict(testX)\n",
    "\n",
    "    # Invert predictions back to prescaled values\n",
    "    trainPredict = scaler.inverse_transform(trainPredict)\n",
    "    trainY_orig = scaler.inverse_transform([trainY])\n",
    "    testPredict = scaler.inverse_transform(testPredict)\n",
    "    testY_orig = scaler.inverse_transform([testY])\n",
    "\n",
    "    # Calculate mean squared error\n",
    "    trainScore = calculate_RMSE(trainY_orig[0], trainPredict[:,0])\n",
    "    print(f'Train Score: {trainScore:.2f} RMSE for {epochs} epochs')\n",
    "    testScore = calculate_RMSE(testY_orig[0], testPredict[:,0])\n",
    "    print(f'Test Score: {testScore:.2f} RMSE for {epochs} epochs')\n",
    "\n",
    "    rmse_results[epochs] = {'Train RMSE': trainScore, 'Test RMSE': testScore}\n",
    "\n",
    "# Convert the dictionary to a DataFrame for easy display\n",
    "rmse_df = pd.DataFrame(rmse_results).T\n",
    "print(rmse_df)\n"
   ]
  }
 ],
 "metadata": {
  "kernelspec": {
   "display_name": "env",
   "language": "python",
   "name": "python3"
  },
  "language_info": {
   "codemirror_mode": {
    "name": "ipython",
    "version": 3
   },
   "file_extension": ".py",
   "mimetype": "text/x-python",
   "name": "python",
   "nbconvert_exporter": "python",
   "pygments_lexer": "ipython3",
   "version": "3.9.13"
  },
  "orig_nbformat": 4
 },
 "nbformat": 4,
 "nbformat_minor": 2
}
